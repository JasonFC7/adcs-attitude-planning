{
 "cells": [
  {
   "cell_type": "markdown",
   "metadata": {},
   "source": [
    "### Fixed Attitude Analysis\n",
    "\n",
    "# Overview\n",
    "\n",
    "Analysis of using fine pointing mode of the ADCS 10m for imaging passes\n",
    "\n",
    "# Next Steps\n",
    "\n",
    "- Update MOI matrix and surface area"
   ]
  },
  {
   "cell_type": "code",
   "execution_count": 1,
   "metadata": {},
   "outputs": [],
   "source": [
    "import sys\n",
    "sys.path.insert(0, '../')"
   ]
  },
  {
   "cell_type": "code",
   "execution_count": 4,
   "metadata": {},
   "outputs": [
    {
     "name": "stdout",
     "output_type": "stream",
     "text": [
      "Progress: 100% [==========]Request failed with status code 500\n",
      "<html>\n",
      "  <head>\n",
      "    <title>Internal Server Error</title>\n",
      "  </head>\n",
      "  <body>\n",
      "    <h1><p>Internal Server Error</p></h1>\n",
      "    \n",
      "  </body>\n",
      "</html>\n",
      "\n"
     ]
    },
    {
     "ename": "NameError",
     "evalue": "name 'exit' is not defined",
     "output_type": "error",
     "traceback": [
      "\u001b[0;31m---------------------------------------------------------------------------\u001b[0m",
      "\u001b[0;31mNameError\u001b[0m                                 Traceback (most recent call last)",
      "Cell \u001b[0;32mIn[4], line 11\u001b[0m\n\u001b[1;32m      9\u001b[0m config\u001b[38;5;241m.\u001b[39mfine_cmd \u001b[38;5;241m=\u001b[39m QUAT\n\u001b[1;32m     10\u001b[0m sim \u001b[38;5;241m=\u001b[39m TensorTechSimulation(config)\n\u001b[0;32m---> 11\u001b[0m \u001b[43msim\u001b[49m\u001b[38;5;241;43m.\u001b[39;49m\u001b[43mrun\u001b[49m\u001b[43m(\u001b[49m\u001b[43m)\u001b[49m\n\u001b[1;32m     12\u001b[0m sim\u001b[38;5;241m.\u001b[39msave(\u001b[38;5;124m\"\u001b[39m\u001b[38;5;124mfine_pointing_june_2024.json\u001b[39m\u001b[38;5;124m\"\u001b[39m)\n",
      "File \u001b[0;32m~/Projects/UTAT/adcs-attitude-planning/analysis/../attitude_planning/tools/simulator.py:180\u001b[0m, in \u001b[0;36mTensorTechSimulation.run\u001b[0;34m(self)\u001b[0m\n\u001b[1;32m    178\u001b[0m \u001b[38;5;28mself\u001b[39m\u001b[38;5;241m.\u001b[39m__init_session()\n\u001b[1;32m    179\u001b[0m \u001b[38;5;28mself\u001b[39m\u001b[38;5;241m.\u001b[39m__wait_until_done()\n\u001b[0;32m--> 180\u001b[0m \u001b[38;5;28;43mself\u001b[39;49m\u001b[38;5;241;43m.\u001b[39;49m\u001b[43m__get_result\u001b[49m\u001b[43m(\u001b[49m\u001b[43m)\u001b[49m\n\u001b[1;32m    181\u001b[0m \u001b[38;5;28mself\u001b[39m\u001b[38;5;241m.\u001b[39m__get_all_orbit_points(\u001b[38;5;28mself\u001b[39m\u001b[38;5;241m.\u001b[39msimulation_config\u001b[38;5;241m.\u001b[39mtle_1, \u001b[38;5;28mself\u001b[39m\u001b[38;5;241m.\u001b[39msimulation_config\u001b[38;5;241m.\u001b[39mtle_2)\n",
      "File \u001b[0;32m~/Projects/UTAT/adcs-attitude-planning/analysis/../attitude_planning/tools/simulator.py:144\u001b[0m, in \u001b[0;36mTensorTechSimulation.__get_result\u001b[0;34m(self)\u001b[0m\n\u001b[1;32m    143\u001b[0m \u001b[38;5;28;01mdef\u001b[39;00m \u001b[38;5;21m__get_result\u001b[39m(\u001b[38;5;28mself\u001b[39m):\n\u001b[0;32m--> 144\u001b[0m     response \u001b[38;5;241m=\u001b[39m \u001b[38;5;28;43mself\u001b[39;49m\u001b[38;5;241;43m.\u001b[39;49m\u001b[43m__make_request\u001b[49m\u001b[43m(\u001b[49m\u001b[38;5;124;43m\"\u001b[39;49m\u001b[38;5;124;43mresult\u001b[39;49m\u001b[38;5;124;43m\"\u001b[39;49m\u001b[43m,\u001b[49m\u001b[43m \u001b[49m\u001b[38;5;124;43m\"\u001b[39;49m\u001b[38;5;124;43mGET\u001b[39;49m\u001b[38;5;124;43m\"\u001b[39;49m\u001b[43m)\u001b[49m\n\u001b[1;32m    145\u001b[0m     dataTypes \u001b[38;5;241m=\u001b[39m [\u001b[38;5;124m\"\u001b[39m\u001b[38;5;124momegaData\u001b[39m\u001b[38;5;124m\"\u001b[39m, \u001b[38;5;124m\"\u001b[39m\u001b[38;5;124mmrpData\u001b[39m\u001b[38;5;124m\"\u001b[39m, \u001b[38;5;124m\"\u001b[39m\u001b[38;5;124mdipoleData\u001b[39m\u001b[38;5;124m\"\u001b[39m, \u001b[38;5;124m\"\u001b[39m\u001b[38;5;124mgimbalAngData\u001b[39m\u001b[38;5;124m\"\u001b[39m, \u001b[38;5;124m\"\u001b[39m\u001b[38;5;124mgimbalVecData\u001b[39m\u001b[38;5;124m\"\u001b[39m, \u001b[38;5;124m\"\u001b[39m\u001b[38;5;124mwheelAccData\u001b[39m\u001b[38;5;124m\"\u001b[39m, \u001b[38;5;124m\"\u001b[39m\u001b[38;5;124mwheelVecData\u001b[39m\u001b[38;5;124m\"\u001b[39m, \u001b[38;5;124m\"\u001b[39m\u001b[38;5;124mattitudeErrorData\u001b[39m\u001b[38;5;124m\"\u001b[39m, \u001b[38;5;124m\"\u001b[39m\u001b[38;5;124mdesiredTorqueData\u001b[39m\u001b[38;5;124m\"\u001b[39m]\n\u001b[1;32m    146\u001b[0m     res \u001b[38;5;241m=\u001b[39m {}\n",
      "File \u001b[0;32m~/Projects/UTAT/adcs-attitude-planning/analysis/../attitude_planning/tools/simulator.py:111\u001b[0m, in \u001b[0;36mTensorTechSimulation.__make_request\u001b[0;34m(self, path, method, payload)\u001b[0m\n\u001b[1;32m    109\u001b[0m     \u001b[38;5;28mprint\u001b[39m(\u001b[38;5;124mf\u001b[39m\u001b[38;5;124m\"\u001b[39m\u001b[38;5;124mRequest failed with status code \u001b[39m\u001b[38;5;132;01m{\u001b[39;00mresponse\u001b[38;5;241m.\u001b[39mstatus_code\u001b[38;5;132;01m}\u001b[39;00m\u001b[38;5;124m\"\u001b[39m)\n\u001b[1;32m    110\u001b[0m     \u001b[38;5;28mprint\u001b[39m(response\u001b[38;5;241m.\u001b[39mtext)\n\u001b[0;32m--> 111\u001b[0m     \u001b[43mexit\u001b[49m(\u001b[38;5;241m1\u001b[39m)\n\u001b[1;32m    113\u001b[0m \u001b[38;5;28;01mreturn\u001b[39;00m response\n",
      "\u001b[0;31mNameError\u001b[0m: name 'exit' is not defined"
     ]
    }
   ],
   "source": [
    "from attitude_planning.tools.simulator import TensorTechSimulation, SimulatonConfig, Maneuver, AlignmentAxis\n",
    "\n",
    "MANEUVER = Maneuver.FINE_POINTING\n",
    "ALIGN = AlignmentAxis.POS_Z\n",
    "SIMULATION_TIME = 30\n",
    "QUAT = [\"0.966\", \"0.259\", \"0.0\", \"0.0\"] # +30 deg on X axis\n",
    "\n",
    "config = SimulatonConfig(\"Fixed Attitude June 2024\", MANEUVER, SIMULATION_TIME, ALIGN)\n",
    "config.fine_cmd = QUAT\n",
    "sim = TensorTechSimulation(config)\n",
    "sim.run()\n",
    "sim.save(\"fine_pointing_june_2024.json\")"
   ]
  },
  {
   "cell_type": "code",
   "execution_count": 2,
   "metadata": {},
   "outputs": [
    {
     "name": "stderr",
     "output_type": "stream",
     "text": [
      "/Users/connorwilson/Projects/UTAT/adcs-attitude-planning/.venv/lib/python3.9/site-packages/urllib3/__init__.py:35: NotOpenSSLWarning: urllib3 v2 only supports OpenSSL 1.1.1+, currently the 'ssl' module is compiled with 'LibreSSL 2.8.3'. See: https://github.com/urllib3/urllib3/issues/3020\n",
      "  warnings.warn(\n"
     ]
    }
   ],
   "source": [
    "from attitude_planning.classes.simulation import Simulation\n",
    "\n",
    "simulation = Simulation.from_tensor_tech_sim(sim)\n",
    "simulation.derive_data()"
   ]
  },
  {
   "cell_type": "code",
   "execution_count": 3,
   "metadata": {},
   "outputs": [
    {
     "data": {
      "application/vnd.plotly.v1+json": {
       "config": {
        "plotlyServerURL": "https://plot.ly"
       },
       "data": [
        {
         "hovertemplate": "date=2022-05-26 21:11:17<br>lat=%{lat}<br>lon=%{lon}<extra></extra>",
         "lat": [
          -3.8827339232921134
         ],
         "legendgroup": "",
         "lon": [
          -151.5263155241411
         ],
         "marker": {
          "color": "fuchsia",
          "size": 12
         },
         "mode": "markers",
         "name": "",
         "showlegend": false,
         "subplot": "mapbox",
         "type": "scattermapbox"
        }
       ],
       "frames": [
        {
         "data": [
          {
           "hovertemplate": "date=2022-05-26 21:11:17<br>lat=%{lat}<br>lon=%{lon}<extra></extra>",
           "lat": [
            -3.8827339232921134
           ],
           "legendgroup": "",
           "lon": [
            -151.5263155241411
           ],
           "marker": {
            "color": "fuchsia"
           },
           "mode": "markers",
           "name": "",
           "showlegend": false,
           "subplot": "mapbox",
           "type": "scattermapbox"
          }
         ],
         "name": "2022-05-26 21:11:17"
        },
        {
         "data": [
          {
           "hovertemplate": "date=2022-05-26 21:11:28<br>lat=%{lat}<br>lon=%{lon}<extra></extra>",
           "lat": [
            -4.704150782210049
           ],
           "legendgroup": "",
           "lon": [
            -157.0711177678612
           ],
           "marker": {
            "color": "fuchsia"
           },
           "mode": "markers",
           "name": "",
           "showlegend": false,
           "subplot": "mapbox",
           "type": "scattermapbox"
          }
         ],
         "name": "2022-05-26 21:11:28"
        },
        {
         "data": [
          {
           "hovertemplate": "date=2022-05-26 21:11:39<br>lat=%{lat}<br>lon=%{lon}<extra></extra>",
           "lat": [
            4.891791578261535
           ],
           "legendgroup": "",
           "lon": [
            -153.81571690366422
           ],
           "marker": {
            "color": "fuchsia"
           },
           "mode": "markers",
           "name": "",
           "showlegend": false,
           "subplot": "mapbox",
           "type": "scattermapbox"
          }
         ],
         "name": "2022-05-26 21:11:39"
        },
        {
         "data": [
          {
           "hovertemplate": "date=2022-05-26 21:11:50<br>lat=%{lat}<br>lon=%{lon}<extra></extra>",
           "lat": [
            10.0800179066079
           ],
           "legendgroup": "",
           "lon": [
            -154.56623633842125
           ],
           "marker": {
            "color": "fuchsia"
           },
           "mode": "markers",
           "name": "",
           "showlegend": false,
           "subplot": "mapbox",
           "type": "scattermapbox"
          }
         ],
         "name": "2022-05-26 21:11:50"
        },
        {
         "data": [
          {
           "hovertemplate": "date=2022-05-26 21:12:12<br>lat=%{lat}<br>lon=%{lon}<extra></extra>",
           "lat": [
            5.8652404963669635
           ],
           "legendgroup": "",
           "lon": [
            -160.74349155396962
           ],
           "marker": {
            "color": "fuchsia"
           },
           "mode": "markers",
           "name": "",
           "showlegend": false,
           "subplot": "mapbox",
           "type": "scattermapbox"
          }
         ],
         "name": "2022-05-26 21:12:12"
        },
        {
         "data": [
          {
           "hovertemplate": "date=2022-05-26 21:12:23<br>lat=%{lat}<br>lon=%{lon}<extra></extra>",
           "lat": [
            3.626159401459081
           ],
           "legendgroup": "",
           "lon": [
            -154.95371428830103
           ],
           "marker": {
            "color": "fuchsia"
           },
           "mode": "markers",
           "name": "",
           "showlegend": false,
           "subplot": "mapbox",
           "type": "scattermapbox"
          }
         ],
         "name": "2022-05-26 21:12:23"
        },
        {
         "data": [
          {
           "hovertemplate": "date=2022-05-26 21:12:34<br>lat=%{lat}<br>lon=%{lon}<extra></extra>",
           "lat": [
            4.245227703723823
           ],
           "legendgroup": "",
           "lon": [
            -152.40278381687554
           ],
           "marker": {
            "color": "fuchsia"
           },
           "mode": "markers",
           "name": "",
           "showlegend": false,
           "subplot": "mapbox",
           "type": "scattermapbox"
          }
         ],
         "name": "2022-05-26 21:12:34"
        },
        {
         "data": [
          {
           "hovertemplate": "date=2022-05-26 21:12:45<br>lat=%{lat}<br>lon=%{lon}<extra></extra>",
           "lat": [
            7.633745355959196
           ],
           "legendgroup": "",
           "lon": [
            -153.7900336842949
           ],
           "marker": {
            "color": "fuchsia"
           },
           "mode": "markers",
           "name": "",
           "showlegend": false,
           "subplot": "mapbox",
           "type": "scattermapbox"
          }
         ],
         "name": "2022-05-26 21:12:45"
        },
        {
         "data": [
          {
           "hovertemplate": "date=2022-05-26 21:12:56<br>lat=%{lat}<br>lon=%{lon}<extra></extra>",
           "lat": [
            12.948595624822069
           ],
           "legendgroup": "",
           "lon": [
            -153.19675842130053
           ],
           "marker": {
            "color": "fuchsia"
           },
           "mode": "markers",
           "name": "",
           "showlegend": false,
           "subplot": "mapbox",
           "type": "scattermapbox"
          }
         ],
         "name": "2022-05-26 21:12:56"
        },
        {
         "data": [
          {
           "hovertemplate": "date=2022-05-26 21:13:07<br>lat=%{lat}<br>lon=%{lon}<extra></extra>",
           "lat": [
            11.31947960306036
           ],
           "legendgroup": "",
           "lon": [
            -155.0897596932603
           ],
           "marker": {
            "color": "fuchsia"
           },
           "mode": "markers",
           "name": "",
           "showlegend": false,
           "subplot": "mapbox",
           "type": "scattermapbox"
          }
         ],
         "name": "2022-05-26 21:13:07"
        },
        {
         "data": [
          {
           "hovertemplate": "date=2022-05-26 21:13:18<br>lat=%{lat}<br>lon=%{lon}<extra></extra>",
           "lat": [
            10.992426746531153
           ],
           "legendgroup": "",
           "lon": [
            -156.12718956617314
           ],
           "marker": {
            "color": "fuchsia"
           },
           "mode": "markers",
           "name": "",
           "showlegend": false,
           "subplot": "mapbox",
           "type": "scattermapbox"
          }
         ],
         "name": "2022-05-26 21:13:18"
        },
        {
         "data": [
          {
           "hovertemplate": "date=2022-05-26 21:13:29<br>lat=%{lat}<br>lon=%{lon}<extra></extra>",
           "lat": [
            10.598813242914616
           ],
           "legendgroup": "",
           "lon": [
            -155.9342125715235
           ],
           "marker": {
            "color": "fuchsia"
           },
           "mode": "markers",
           "name": "",
           "showlegend": false,
           "subplot": "mapbox",
           "type": "scattermapbox"
          }
         ],
         "name": "2022-05-26 21:13:29"
        },
        {
         "data": [
          {
           "hovertemplate": "date=2022-05-26 21:13:40<br>lat=%{lat}<br>lon=%{lon}<extra></extra>",
           "lat": [
            11.094973886463002
           ],
           "legendgroup": "",
           "lon": [
            -155.86523475085255
           ],
           "marker": {
            "color": "fuchsia"
           },
           "mode": "markers",
           "name": "",
           "showlegend": false,
           "subplot": "mapbox",
           "type": "scattermapbox"
          }
         ],
         "name": "2022-05-26 21:13:40"
        },
        {
         "data": [
          {
           "hovertemplate": "date=2022-05-26 21:13:51<br>lat=%{lat}<br>lon=%{lon}<extra></extra>",
           "lat": [
            9.800435056011084
           ],
           "legendgroup": "",
           "lon": [
            -154.29308440565146
           ],
           "marker": {
            "color": "fuchsia"
           },
           "mode": "markers",
           "name": "",
           "showlegend": false,
           "subplot": "mapbox",
           "type": "scattermapbox"
          }
         ],
         "name": "2022-05-26 21:13:51"
        },
        {
         "data": [
          {
           "hovertemplate": "date=2022-05-26 21:14:02<br>lat=%{lat}<br>lon=%{lon}<extra></extra>",
           "lat": [
            8.837731988769542
           ],
           "legendgroup": "",
           "lon": [
            -152.65644864173524
           ],
           "marker": {
            "color": "fuchsia"
           },
           "mode": "markers",
           "name": "",
           "showlegend": false,
           "subplot": "mapbox",
           "type": "scattermapbox"
          }
         ],
         "name": "2022-05-26 21:14:02"
        },
        {
         "data": [
          {
           "hovertemplate": "date=2022-05-26 21:14:13<br>lat=%{lat}<br>lon=%{lon}<extra></extra>",
           "lat": [
            7.625195287308713
           ],
           "legendgroup": "",
           "lon": [
            -153.21885861937702
           ],
           "marker": {
            "color": "fuchsia"
           },
           "mode": "markers",
           "name": "",
           "showlegend": false,
           "subplot": "mapbox",
           "type": "scattermapbox"
          }
         ],
         "name": "2022-05-26 21:14:13"
        },
        {
         "data": [
          {
           "hovertemplate": "date=2022-05-26 21:14:24<br>lat=%{lat}<br>lon=%{lon}<extra></extra>",
           "lat": [
            11.692584210843496
           ],
           "legendgroup": "",
           "lon": [
            -154.68799859546053
           ],
           "marker": {
            "color": "fuchsia"
           },
           "mode": "markers",
           "name": "",
           "showlegend": false,
           "subplot": "mapbox",
           "type": "scattermapbox"
          }
         ],
         "name": "2022-05-26 21:14:24"
        },
        {
         "data": [
          {
           "hovertemplate": "date=2022-05-26 21:14:35<br>lat=%{lat}<br>lon=%{lon}<extra></extra>",
           "lat": [
            14.083851716915612
           ],
           "legendgroup": "",
           "lon": [
            -154.660628236651
           ],
           "marker": {
            "color": "fuchsia"
           },
           "mode": "markers",
           "name": "",
           "showlegend": false,
           "subplot": "mapbox",
           "type": "scattermapbox"
          }
         ],
         "name": "2022-05-26 21:14:35"
        },
        {
         "data": [
          {
           "hovertemplate": "date=2022-05-26 21:14:46<br>lat=%{lat}<br>lon=%{lon}<extra></extra>",
           "lat": [
            15.155077811222597
           ],
           "legendgroup": "",
           "lon": [
            -155.01826897663565
           ],
           "marker": {
            "color": "fuchsia"
           },
           "mode": "markers",
           "name": "",
           "showlegend": false,
           "subplot": "mapbox",
           "type": "scattermapbox"
          }
         ],
         "name": "2022-05-26 21:14:46"
        },
        {
         "data": [
          {
           "hovertemplate": "date=2022-05-26 21:14:57<br>lat=%{lat}<br>lon=%{lon}<extra></extra>",
           "lat": [
            15.214474857577311
           ],
           "legendgroup": "",
           "lon": [
            -155.53493999027313
           ],
           "marker": {
            "color": "fuchsia"
           },
           "mode": "markers",
           "name": "",
           "showlegend": false,
           "subplot": "mapbox",
           "type": "scattermapbox"
          }
         ],
         "name": "2022-05-26 21:14:57"
        },
        {
         "data": [
          {
           "hovertemplate": "date=2022-05-26 21:15:08<br>lat=%{lat}<br>lon=%{lon}<extra></extra>",
           "lat": [
            15.26562454892005
           ],
           "legendgroup": "",
           "lon": [
            -155.59572111681902
           ],
           "marker": {
            "color": "fuchsia"
           },
           "mode": "markers",
           "name": "",
           "showlegend": false,
           "subplot": "mapbox",
           "type": "scattermapbox"
          }
         ],
         "name": "2022-05-26 21:15:08"
        },
        {
         "data": [
          {
           "hovertemplate": "date=2022-05-26 21:15:19<br>lat=%{lat}<br>lon=%{lon}<extra></extra>",
           "lat": [
            15.727863381524346
           ],
           "legendgroup": "",
           "lon": [
            -155.5176890470765
           ],
           "marker": {
            "color": "fuchsia"
           },
           "mode": "markers",
           "name": "",
           "showlegend": false,
           "subplot": "mapbox",
           "type": "scattermapbox"
          }
         ],
         "name": "2022-05-26 21:15:19"
        },
        {
         "data": [
          {
           "hovertemplate": "date=2022-05-26 21:15:30<br>lat=%{lat}<br>lon=%{lon}<extra></extra>",
           "lat": [
            16.15186993575195
           ],
           "legendgroup": "",
           "lon": [
            -155.49382263642462
           ],
           "marker": {
            "color": "fuchsia"
           },
           "mode": "markers",
           "name": "",
           "showlegend": false,
           "subplot": "mapbox",
           "type": "scattermapbox"
          }
         ],
         "name": "2022-05-26 21:15:30"
        },
        {
         "data": [
          {
           "hovertemplate": "date=2022-05-26 21:15:41<br>lat=%{lat}<br>lon=%{lon}<extra></extra>",
           "lat": [
            16.686671824855694
           ],
           "legendgroup": "",
           "lon": [
            -155.62076152233288
           ],
           "marker": {
            "color": "fuchsia"
           },
           "mode": "markers",
           "name": "",
           "showlegend": false,
           "subplot": "mapbox",
           "type": "scattermapbox"
          }
         ],
         "name": "2022-05-26 21:15:41"
        },
        {
         "data": [
          {
           "hovertemplate": "date=2022-05-26 21:15:52<br>lat=%{lat}<br>lon=%{lon}<extra></extra>",
           "lat": [
            17.53031835830014
           ],
           "legendgroup": "",
           "lon": [
            -155.92043948809254
           ],
           "marker": {
            "color": "fuchsia"
           },
           "mode": "markers",
           "name": "",
           "showlegend": false,
           "subplot": "mapbox",
           "type": "scattermapbox"
          }
         ],
         "name": "2022-05-26 21:15:52"
        },
        {
         "data": [
          {
           "hovertemplate": "date=2022-05-26 21:16:03<br>lat=%{lat}<br>lon=%{lon}<extra></extra>",
           "lat": [
            18.513487161567106
           ],
           "legendgroup": "",
           "lon": [
            -156.20899037140447
           ],
           "marker": {
            "color": "fuchsia"
           },
           "mode": "markers",
           "name": "",
           "showlegend": false,
           "subplot": "mapbox",
           "type": "scattermapbox"
          }
         ],
         "name": "2022-05-26 21:16:03"
        },
        {
         "data": [
          {
           "hovertemplate": "date=2022-05-26 21:16:14<br>lat=%{lat}<br>lon=%{lon}<extra></extra>",
           "lat": [
            19.43425462624845
           ],
           "legendgroup": "",
           "lon": [
            -156.35326872833193
           ],
           "marker": {
            "color": "fuchsia"
           },
           "mode": "markers",
           "name": "",
           "showlegend": false,
           "subplot": "mapbox",
           "type": "scattermapbox"
          }
         ],
         "name": "2022-05-26 21:16:14"
        },
        {
         "data": [
          {
           "hovertemplate": "date=2022-05-26 21:16:25<br>lat=%{lat}<br>lon=%{lon}<extra></extra>",
           "lat": [
            20.20667187389448
           ],
           "legendgroup": "",
           "lon": [
            -156.3128028029302
           ],
           "marker": {
            "color": "fuchsia"
           },
           "mode": "markers",
           "name": "",
           "showlegend": false,
           "subplot": "mapbox",
           "type": "scattermapbox"
          }
         ],
         "name": "2022-05-26 21:16:25"
        },
        {
         "data": [
          {
           "hovertemplate": "date=2022-05-26 21:16:36<br>lat=%{lat}<br>lon=%{lon}<extra></extra>",
           "lat": [
            20.85929482593028
           ],
           "legendgroup": "",
           "lon": [
            -156.1235861524576
           ],
           "marker": {
            "color": "fuchsia"
           },
           "mode": "markers",
           "name": "",
           "showlegend": false,
           "subplot": "mapbox",
           "type": "scattermapbox"
          }
         ],
         "name": "2022-05-26 21:16:36"
        },
        {
         "data": [
          {
           "hovertemplate": "date=2022-05-26 21:16:47<br>lat=%{lat}<br>lon=%{lon}<extra></extra>",
           "lat": [
            21.47441721647508
           ],
           "legendgroup": "",
           "lon": [
            -155.927418073691
           ],
           "marker": {
            "color": "fuchsia"
           },
           "mode": "markers",
           "name": "",
           "showlegend": false,
           "subplot": "mapbox",
           "type": "scattermapbox"
          }
         ],
         "name": "2022-05-26 21:16:47"
        },
        {
         "data": [
          {
           "hovertemplate": "date=2022-05-26 21:16:58<br>lat=%{lat}<br>lon=%{lon}<extra></extra>",
           "lat": [
            22.038052781172357
           ],
           "legendgroup": "",
           "lon": [
            -155.81915680967893
           ],
           "marker": {
            "color": "fuchsia"
           },
           "mode": "markers",
           "name": "",
           "showlegend": false,
           "subplot": "mapbox",
           "type": "scattermapbox"
          }
         ],
         "name": "2022-05-26 21:16:58"
        },
        {
         "data": [
          {
           "hovertemplate": "date=2022-05-26 21:17:09<br>lat=%{lat}<br>lon=%{lon}<extra></extra>",
           "lat": [
            22.63847377547325
           ],
           "legendgroup": "",
           "lon": [
            -155.8342089789925
           ],
           "marker": {
            "color": "fuchsia"
           },
           "mode": "markers",
           "name": "",
           "showlegend": false,
           "subplot": "mapbox",
           "type": "scattermapbox"
          }
         ],
         "name": "2022-05-26 21:17:09"
        },
        {
         "data": [
          {
           "hovertemplate": "date=2022-05-26 21:17:20<br>lat=%{lat}<br>lon=%{lon}<extra></extra>",
           "lat": [
            23.342358077822325
           ],
           "legendgroup": "",
           "lon": [
            -155.9969568634471
           ],
           "marker": {
            "color": "fuchsia"
           },
           "mode": "markers",
           "name": "",
           "showlegend": false,
           "subplot": "mapbox",
           "type": "scattermapbox"
          }
         ],
         "name": "2022-05-26 21:17:20"
        },
        {
         "data": [
          {
           "hovertemplate": "date=2022-05-26 21:17:31<br>lat=%{lat}<br>lon=%{lon}<extra></extra>",
           "lat": [
            24.095761216446853
           ],
           "legendgroup": "",
           "lon": [
            -156.29842950413382
           ],
           "marker": {
            "color": "fuchsia"
           },
           "mode": "markers",
           "name": "",
           "showlegend": false,
           "subplot": "mapbox",
           "type": "scattermapbox"
          }
         ],
         "name": "2022-05-26 21:17:31"
        },
        {
         "data": [
          {
           "hovertemplate": "date=2022-05-26 21:17:42<br>lat=%{lat}<br>lon=%{lon}<extra></extra>",
           "lat": [
            24.822781822341682
           ],
           "legendgroup": "",
           "lon": [
            -156.63060746529646
           ],
           "marker": {
            "color": "fuchsia"
           },
           "mode": "markers",
           "name": "",
           "showlegend": false,
           "subplot": "mapbox",
           "type": "scattermapbox"
          }
         ],
         "name": "2022-05-26 21:17:42"
        },
        {
         "data": [
          {
           "hovertemplate": "date=2022-05-26 21:17:53<br>lat=%{lat}<br>lon=%{lon}<extra></extra>",
           "lat": [
            25.54157060930136
           ],
           "legendgroup": "",
           "lon": [
            -156.88404053833918
           ],
           "marker": {
            "color": "fuchsia"
           },
           "mode": "markers",
           "name": "",
           "showlegend": false,
           "subplot": "mapbox",
           "type": "scattermapbox"
          }
         ],
         "name": "2022-05-26 21:17:53"
        },
        {
         "data": [
          {
           "hovertemplate": "date=2022-05-26 21:18:04<br>lat=%{lat}<br>lon=%{lon}<extra></extra>",
           "lat": [
            26.256554162281784
           ],
           "legendgroup": "",
           "lon": [
            -157.0188846452047
           ],
           "marker": {
            "color": "fuchsia"
           },
           "mode": "markers",
           "name": "",
           "showlegend": false,
           "subplot": "mapbox",
           "type": "scattermapbox"
          }
         ],
         "name": "2022-05-26 21:18:04"
        },
        {
         "data": [
          {
           "hovertemplate": "date=2022-05-26 21:18:15<br>lat=%{lat}<br>lon=%{lon}<extra></extra>",
           "lat": [
            26.95350630644463
           ],
           "legendgroup": "",
           "lon": [
            -157.0631518372909
           ],
           "marker": {
            "color": "fuchsia"
           },
           "mode": "markers",
           "name": "",
           "showlegend": false,
           "subplot": "mapbox",
           "type": "scattermapbox"
          }
         ],
         "name": "2022-05-26 21:18:15"
        },
        {
         "data": [
          {
           "hovertemplate": "date=2022-05-26 21:18:26<br>lat=%{lat}<br>lon=%{lon}<extra></extra>",
           "lat": [
            27.63486157121996
           ],
           "legendgroup": "",
           "lon": [
            -157.075558214084
           ],
           "marker": {
            "color": "fuchsia"
           },
           "mode": "markers",
           "name": "",
           "showlegend": false,
           "subplot": "mapbox",
           "type": "scattermapbox"
          }
         ],
         "name": "2022-05-26 21:18:26"
        },
        {
         "data": [
          {
           "hovertemplate": "date=2022-05-26 21:18:37<br>lat=%{lat}<br>lon=%{lon}<extra></extra>",
           "lat": [
            28.311786685028185
           ],
           "legendgroup": "",
           "lon": [
            -157.11104410499863
           ],
           "marker": {
            "color": "fuchsia"
           },
           "mode": "markers",
           "name": "",
           "showlegend": false,
           "subplot": "mapbox",
           "type": "scattermapbox"
          }
         ],
         "name": "2022-05-26 21:18:37"
        },
        {
         "data": [
          {
           "hovertemplate": "date=2022-05-26 21:18:48<br>lat=%{lat}<br>lon=%{lon}<extra></extra>",
           "lat": [
            28.990648613759202
           ],
           "legendgroup": "",
           "lon": [
            -157.19992968382027
           ],
           "marker": {
            "color": "fuchsia"
           },
           "mode": "markers",
           "name": "",
           "showlegend": false,
           "subplot": "mapbox",
           "type": "scattermapbox"
          }
         ],
         "name": "2022-05-26 21:18:48"
        },
        {
         "data": [
          {
           "hovertemplate": "date=2022-05-26 21:18:59<br>lat=%{lat}<br>lon=%{lon}<extra></extra>",
           "lat": [
            29.67821030284234
           ],
           "legendgroup": "",
           "lon": [
            -157.3396051241843
           ],
           "marker": {
            "color": "fuchsia"
           },
           "mode": "markers",
           "name": "",
           "showlegend": false,
           "subplot": "mapbox",
           "type": "scattermapbox"
          }
         ],
         "name": "2022-05-26 21:18:59"
        },
        {
         "data": [
          {
           "hovertemplate": "date=2022-05-26 21:19:10<br>lat=%{lat}<br>lon=%{lon}<extra></extra>",
           "lat": [
            30.371564023099026
           ],
           "legendgroup": "",
           "lon": [
            -157.50797783658066
           ],
           "marker": {
            "color": "fuchsia"
           },
           "mode": "markers",
           "name": "",
           "showlegend": false,
           "subplot": "mapbox",
           "type": "scattermapbox"
          }
         ],
         "name": "2022-05-26 21:19:10"
        },
        {
         "data": [
          {
           "hovertemplate": "date=2022-05-26 21:19:21<br>lat=%{lat}<br>lon=%{lon}<extra></extra>",
           "lat": [
            31.068695999829156
           ],
           "legendgroup": "",
           "lon": [
            -157.67701753373927
           ],
           "marker": {
            "color": "fuchsia"
           },
           "mode": "markers",
           "name": "",
           "showlegend": false,
           "subplot": "mapbox",
           "type": "scattermapbox"
          }
         ],
         "name": "2022-05-26 21:19:21"
        },
        {
         "data": [
          {
           "hovertemplate": "date=2022-05-26 21:19:32<br>lat=%{lat}<br>lon=%{lon}<extra></extra>",
           "lat": [
            31.76715903582481
           ],
           "legendgroup": "",
           "lon": [
            -157.82720418818465
           ],
           "marker": {
            "color": "fuchsia"
           },
           "mode": "markers",
           "name": "",
           "showlegend": false,
           "subplot": "mapbox",
           "type": "scattermapbox"
          }
         ],
         "name": "2022-05-26 21:19:32"
        },
        {
         "data": [
          {
           "hovertemplate": "date=2022-05-26 21:19:43<br>lat=%{lat}<br>lon=%{lon}<extra></extra>",
           "lat": [
            32.46272303894516
           ],
           "legendgroup": "",
           "lon": [
            -157.9541834097813
           ],
           "marker": {
            "color": "fuchsia"
           },
           "mode": "markers",
           "name": "",
           "showlegend": false,
           "subplot": "mapbox",
           "type": "scattermapbox"
          }
         ],
         "name": "2022-05-26 21:19:43"
        },
        {
         "data": [
          {
           "hovertemplate": "date=2022-05-26 21:19:54<br>lat=%{lat}<br>lon=%{lon}<extra></extra>",
           "lat": [
            33.14930365084924
           ],
           "legendgroup": "",
           "lon": [
            -158.06778903344556
           ],
           "marker": {
            "color": "fuchsia"
           },
           "mode": "markers",
           "name": "",
           "showlegend": false,
           "subplot": "mapbox",
           "type": "scattermapbox"
          }
         ],
         "name": "2022-05-26 21:19:54"
        },
        {
         "data": [
          {
           "hovertemplate": "date=2022-05-26 21:20:05<br>lat=%{lat}<br>lon=%{lon}<extra></extra>",
           "lat": [
            33.83601043818963
           ],
           "legendgroup": "",
           "lon": [
            -158.17825701514136
           ],
           "marker": {
            "color": "fuchsia"
           },
           "mode": "markers",
           "name": "",
           "showlegend": false,
           "subplot": "mapbox",
           "type": "scattermapbox"
          }
         ],
         "name": "2022-05-26 21:20:05"
        },
        {
         "data": [
          {
           "hovertemplate": "date=2022-05-26 21:20:16<br>lat=%{lat}<br>lon=%{lon}<extra></extra>",
           "lat": [
            34.52349396905224
           ],
           "legendgroup": "",
           "lon": [
            -158.2969137724004
           ],
           "marker": {
            "color": "fuchsia"
           },
           "mode": "markers",
           "name": "",
           "showlegend": false,
           "subplot": "mapbox",
           "type": "scattermapbox"
          }
         ],
         "name": "2022-05-26 21:20:16"
        },
        {
         "data": [
          {
           "hovertemplate": "date=2022-05-26 21:20:27<br>lat=%{lat}<br>lon=%{lon}<extra></extra>",
           "lat": [
            35.212059333000305
           ],
           "legendgroup": "",
           "lon": [
            -158.4286713718411
           ],
           "marker": {
            "color": "fuchsia"
           },
           "mode": "markers",
           "name": "",
           "showlegend": false,
           "subplot": "mapbox",
           "type": "scattermapbox"
          }
         ],
         "name": "2022-05-26 21:20:27"
        },
        {
         "data": [
          {
           "hovertemplate": "date=2022-05-26 21:20:38<br>lat=%{lat}<br>lon=%{lon}<extra></extra>",
           "lat": [
            35.90182084627085
           ],
           "legendgroup": "",
           "lon": [
            -158.57242224428762
           ],
           "marker": {
            "color": "fuchsia"
           },
           "mode": "markers",
           "name": "",
           "showlegend": false,
           "subplot": "mapbox",
           "type": "scattermapbox"
          }
         ],
         "name": "2022-05-26 21:20:38"
        },
        {
         "data": [
          {
           "hovertemplate": "date=2022-05-26 21:20:49<br>lat=%{lat}<br>lon=%{lon}<extra></extra>",
           "lat": [
            36.58941782106974
           ],
           "legendgroup": "",
           "lon": [
            -158.72407440693425
           ],
           "marker": {
            "color": "fuchsia"
           },
           "mode": "markers",
           "name": "",
           "showlegend": false,
           "subplot": "mapbox",
           "type": "scattermapbox"
          }
         ],
         "name": "2022-05-26 21:20:49"
        },
        {
         "data": [
          {
           "hovertemplate": "date=2022-05-26 21:21:00<br>lat=%{lat}<br>lon=%{lon}<extra></extra>",
           "lat": [
            37.280122408457736
           ],
           "legendgroup": "",
           "lon": [
            -158.87613760742684
           ],
           "marker": {
            "color": "fuchsia"
           },
           "mode": "markers",
           "name": "",
           "showlegend": false,
           "subplot": "mapbox",
           "type": "scattermapbox"
          }
         ],
         "name": "2022-05-26 21:21:00"
        },
        {
         "data": [
          {
           "hovertemplate": "date=2022-05-26 21:21:11<br>lat=%{lat}<br>lon=%{lon}<extra></extra>",
           "lat": [
            37.97269981071729
           ],
           "legendgroup": "",
           "lon": [
            -159.0249507197915
           ],
           "marker": {
            "color": "fuchsia"
           },
           "mode": "markers",
           "name": "",
           "showlegend": false,
           "subplot": "mapbox",
           "type": "scattermapbox"
          }
         ],
         "name": "2022-05-26 21:21:11"
        },
        {
         "data": [
          {
           "hovertemplate": "date=2022-05-26 21:21:22<br>lat=%{lat}<br>lon=%{lon}<extra></extra>",
           "lat": [
            38.66189586758629
           ],
           "legendgroup": "",
           "lon": [
            -159.17190096114138
           ],
           "marker": {
            "color": "fuchsia"
           },
           "mode": "markers",
           "name": "",
           "showlegend": false,
           "subplot": "mapbox",
           "type": "scattermapbox"
          }
         ],
         "name": "2022-05-26 21:21:22"
        },
        {
         "data": [
          {
           "hovertemplate": "date=2022-05-26 21:21:33<br>lat=%{lat}<br>lon=%{lon}<extra></extra>",
           "lat": [
            39.349396288666604
           ],
           "legendgroup": "",
           "lon": [
            -159.31882165027397
           ],
           "marker": {
            "color": "fuchsia"
           },
           "mode": "markers",
           "name": "",
           "showlegend": false,
           "subplot": "mapbox",
           "type": "scattermapbox"
          }
         ],
         "name": "2022-05-26 21:21:33"
        },
        {
         "data": [
          {
           "hovertemplate": "date=2022-05-26 21:21:44<br>lat=%{lat}<br>lon=%{lon}<extra></extra>",
           "lat": [
            40.03519611525746
           ],
           "legendgroup": "",
           "lon": [
            -159.46877232203573
           ],
           "marker": {
            "color": "fuchsia"
           },
           "mode": "markers",
           "name": "",
           "showlegend": false,
           "subplot": "mapbox",
           "type": "scattermapbox"
          }
         ],
         "name": "2022-05-26 21:21:44"
        },
        {
         "data": [
          {
           "hovertemplate": "date=2022-05-26 21:21:55<br>lat=%{lat}<br>lon=%{lon}<extra></extra>",
           "lat": [
            40.71707943173999
           ],
           "legendgroup": "",
           "lon": [
            -159.6252343958232
           ],
           "marker": {
            "color": "fuchsia"
           },
           "mode": "markers",
           "name": "",
           "showlegend": false,
           "subplot": "mapbox",
           "type": "scattermapbox"
          }
         ],
         "name": "2022-05-26 21:21:55"
        },
        {
         "data": [
          {
           "hovertemplate": "date=2022-05-26 21:22:06<br>lat=%{lat}<br>lon=%{lon}<extra></extra>",
           "lat": [
            41.40680406598987
           ],
           "legendgroup": "",
           "lon": [
            -159.78447166974942
           ],
           "marker": {
            "color": "fuchsia"
           },
           "mode": "markers",
           "name": "",
           "showlegend": false,
           "subplot": "mapbox",
           "type": "scattermapbox"
          }
         ],
         "name": "2022-05-26 21:22:06"
        },
        {
         "data": [
          {
           "hovertemplate": "date=2022-05-26 21:22:17<br>lat=%{lat}<br>lon=%{lon}<extra></extra>",
           "lat": [
            42.09499569708733
           ],
           "legendgroup": "",
           "lon": [
            -159.94939293857624
           ],
           "marker": {
            "color": "fuchsia"
           },
           "mode": "markers",
           "name": "",
           "showlegend": false,
           "subplot": "mapbox",
           "type": "scattermapbox"
          }
         ],
         "name": "2022-05-26 21:22:17"
        },
        {
         "data": [
          {
           "hovertemplate": "date=2022-05-26 21:22:28<br>lat=%{lat}<br>lon=%{lon}<extra></extra>",
           "lat": [
            42.78449293710243
           ],
           "legendgroup": "",
           "lon": [
            -160.11777577454993
           ],
           "marker": {
            "color": "fuchsia"
           },
           "mode": "markers",
           "name": "",
           "showlegend": false,
           "subplot": "mapbox",
           "type": "scattermapbox"
          }
         ],
         "name": "2022-05-26 21:22:28"
        },
        {
         "data": [
          {
           "hovertemplate": "date=2022-05-26 21:22:39<br>lat=%{lat}<br>lon=%{lon}<extra></extra>",
           "lat": [
            43.47119999934647
           ],
           "legendgroup": "",
           "lon": [
            -160.29004865671507
           ],
           "marker": {
            "color": "fuchsia"
           },
           "mode": "markers",
           "name": "",
           "showlegend": false,
           "subplot": "mapbox",
           "type": "scattermapbox"
          }
         ],
         "name": "2022-05-26 21:22:39"
        },
        {
         "data": [
          {
           "hovertemplate": "date=2022-05-26 21:22:50<br>lat=%{lat}<br>lon=%{lon}<extra></extra>",
           "lat": [
            44.153912728540625
           ],
           "legendgroup": "",
           "lon": [
            -160.46675568786682
           ],
           "marker": {
            "color": "fuchsia"
           },
           "mode": "markers",
           "name": "",
           "showlegend": false,
           "subplot": "mapbox",
           "type": "scattermapbox"
          }
         ],
         "name": "2022-05-26 21:22:50"
        },
        {
         "data": [
          {
           "hovertemplate": "date=2022-05-26 21:23:01<br>lat=%{lat}<br>lon=%{lon}<extra></extra>",
           "lat": [
            44.83903471990827
           ],
           "legendgroup": "",
           "lon": [
            -160.64553824143715
           ],
           "marker": {
            "color": "fuchsia"
           },
           "mode": "markers",
           "name": "",
           "showlegend": false,
           "subplot": "mapbox",
           "type": "scattermapbox"
          }
         ],
         "name": "2022-05-26 21:23:01"
        },
        {
         "data": [
          {
           "hovertemplate": "date=2022-05-26 21:23:12<br>lat=%{lat}<br>lon=%{lon}<extra></extra>",
           "lat": [
            45.524965403508304
           ],
           "legendgroup": "",
           "lon": [
            -160.8272102304496
           ],
           "marker": {
            "color": "fuchsia"
           },
           "mode": "markers",
           "name": "",
           "showlegend": false,
           "subplot": "mapbox",
           "type": "scattermapbox"
          }
         ],
         "name": "2022-05-26 21:23:12"
        },
        {
         "data": [
          {
           "hovertemplate": "date=2022-05-26 21:23:23<br>lat=%{lat}<br>lon=%{lon}<extra></extra>",
           "lat": [
            46.20953139155967
           ],
           "legendgroup": "",
           "lon": [
            -161.01372814724346
           ],
           "marker": {
            "color": "fuchsia"
           },
           "mode": "markers",
           "name": "",
           "showlegend": false,
           "subplot": "mapbox",
           "type": "scattermapbox"
          }
         ],
         "name": "2022-05-26 21:23:23"
        },
        {
         "data": [
          {
           "hovertemplate": "date=2022-05-26 21:23:34<br>lat=%{lat}<br>lon=%{lon}<extra></extra>",
           "lat": [
            46.891089247316096
           ],
           "legendgroup": "",
           "lon": [
            -161.20651369867315
           ],
           "marker": {
            "color": "fuchsia"
           },
           "mode": "markers",
           "name": "",
           "showlegend": false,
           "subplot": "mapbox",
           "type": "scattermapbox"
          }
         ],
         "name": "2022-05-26 21:23:34"
        },
        {
         "data": [
          {
           "hovertemplate": "date=2022-05-26 21:23:45<br>lat=%{lat}<br>lon=%{lon}<extra></extra>",
           "lat": [
            47.57472958239161
           ],
           "legendgroup": "",
           "lon": [
            -161.4037155587532
           ],
           "marker": {
            "color": "fuchsia"
           },
           "mode": "markers",
           "name": "",
           "showlegend": false,
           "subplot": "mapbox",
           "type": "scattermapbox"
          }
         ],
         "name": "2022-05-26 21:23:45"
        },
        {
         "data": [
          {
           "hovertemplate": "date=2022-05-26 21:23:56<br>lat=%{lat}<br>lon=%{lon}<extra></extra>",
           "lat": [
            48.25910670612494
           ],
           "legendgroup": "",
           "lon": [
            -161.6057270659786
           ],
           "marker": {
            "color": "fuchsia"
           },
           "mode": "markers",
           "name": "",
           "showlegend": false,
           "subplot": "mapbox",
           "type": "scattermapbox"
          }
         ],
         "name": "2022-05-26 21:23:56"
        },
        {
         "data": [
          {
           "hovertemplate": "date=2022-05-26 21:24:07<br>lat=%{lat}<br>lon=%{lon}<extra></extra>",
           "lat": [
            48.94255768558979
           ],
           "legendgroup": "",
           "lon": [
            -161.81342879235717
           ],
           "marker": {
            "color": "fuchsia"
           },
           "mode": "markers",
           "name": "",
           "showlegend": false,
           "subplot": "mapbox",
           "type": "scattermapbox"
          }
         ],
         "name": "2022-05-26 21:24:07"
        },
        {
         "data": [
          {
           "hovertemplate": "date=2022-05-26 21:24:18<br>lat=%{lat}<br>lon=%{lon}<extra></extra>",
           "lat": [
            49.623584272535645
           ],
           "legendgroup": "",
           "lon": [
            -162.0272408624592
           ],
           "marker": {
            "color": "fuchsia"
           },
           "mode": "markers",
           "name": "",
           "showlegend": false,
           "subplot": "mapbox",
           "type": "scattermapbox"
          }
         ],
         "name": "2022-05-26 21:24:18"
        },
        {
         "data": [
          {
           "hovertemplate": "date=2022-05-26 21:24:29<br>lat=%{lat}<br>lon=%{lon}<extra></extra>",
           "lat": [
            50.303960995818635
           ],
           "legendgroup": "",
           "lon": [
            -162.24682451972467
           ],
           "marker": {
            "color": "fuchsia"
           },
           "mode": "markers",
           "name": "",
           "showlegend": false,
           "subplot": "mapbox",
           "type": "scattermapbox"
          }
         ],
         "name": "2022-05-26 21:24:29"
        },
        {
         "data": [
          {
           "hovertemplate": "date=2022-05-26 21:24:40<br>lat=%{lat}<br>lon=%{lon}<extra></extra>",
           "lat": [
            50.98606993114781
           ],
           "legendgroup": "",
           "lon": [
            -162.47162563324383
           ],
           "marker": {
            "color": "fuchsia"
           },
           "mode": "markers",
           "name": "",
           "showlegend": false,
           "subplot": "mapbox",
           "type": "scattermapbox"
          }
         ],
         "name": "2022-05-26 21:24:40"
        },
        {
         "data": [
          {
           "hovertemplate": "date=2022-05-26 21:24:51<br>lat=%{lat}<br>lon=%{lon}<extra></extra>",
           "lat": [
            51.667144615745364
           ],
           "legendgroup": "",
           "lon": [
            -162.70338491635405
           ],
           "marker": {
            "color": "fuchsia"
           },
           "mode": "markers",
           "name": "",
           "showlegend": false,
           "subplot": "mapbox",
           "type": "scattermapbox"
          }
         ],
         "name": "2022-05-26 21:24:51"
        },
        {
         "data": [
          {
           "hovertemplate": "date=2022-05-26 21:25:02<br>lat=%{lat}<br>lon=%{lon}<extra></extra>",
           "lat": [
            52.34885477569835
           ],
           "legendgroup": "",
           "lon": [
            -162.94144102897238
           ],
           "marker": {
            "color": "fuchsia"
           },
           "mode": "markers",
           "name": "",
           "showlegend": false,
           "subplot": "mapbox",
           "type": "scattermapbox"
          }
         ],
         "name": "2022-05-26 21:25:02"
        },
        {
         "data": [
          {
           "hovertemplate": "date=2022-05-26 21:25:13<br>lat=%{lat}<br>lon=%{lon}<extra></extra>",
           "lat": [
            53.02709398293945
           ],
           "legendgroup": "",
           "lon": [
            -163.18842296403778
           ],
           "marker": {
            "color": "fuchsia"
           },
           "mode": "markers",
           "name": "",
           "showlegend": false,
           "subplot": "mapbox",
           "type": "scattermapbox"
          }
         ],
         "name": "2022-05-26 21:25:13"
        },
        {
         "data": [
          {
           "hovertemplate": "date=2022-05-26 21:25:24<br>lat=%{lat}<br>lon=%{lon}<extra></extra>",
           "lat": [
            53.704856053752245
           ],
           "legendgroup": "",
           "lon": [
            -163.44296074278023
           ],
           "marker": {
            "color": "fuchsia"
           },
           "mode": "markers",
           "name": "",
           "showlegend": false,
           "subplot": "mapbox",
           "type": "scattermapbox"
          }
         ],
         "name": "2022-05-26 21:25:24"
        },
        {
         "data": [
          {
           "hovertemplate": "date=2022-05-26 21:25:35<br>lat=%{lat}<br>lon=%{lon}<extra></extra>",
           "lat": [
            54.384229028207095
           ],
           "legendgroup": "",
           "lon": [
            -163.70470649215332
           ],
           "marker": {
            "color": "fuchsia"
           },
           "mode": "markers",
           "name": "",
           "showlegend": false,
           "subplot": "mapbox",
           "type": "scattermapbox"
          }
         ],
         "name": "2022-05-26 21:25:35"
        },
        {
         "data": [
          {
           "hovertemplate": "date=2022-05-26 21:25:46<br>lat=%{lat}<br>lon=%{lon}<extra></extra>",
           "lat": [
            55.06226039915801
           ],
           "legendgroup": "",
           "lon": [
            -163.975580627152
           ],
           "marker": {
            "color": "fuchsia"
           },
           "mode": "markers",
           "name": "",
           "showlegend": false,
           "subplot": "mapbox",
           "type": "scattermapbox"
          }
         ],
         "name": "2022-05-26 21:25:46"
        },
        {
         "data": [
          {
           "hovertemplate": "date=2022-05-26 21:25:57<br>lat=%{lat}<br>lon=%{lon}<extra></extra>",
           "lat": [
            55.73707445059882
           ],
           "legendgroup": "",
           "lon": [
            -164.2567233702284
           ],
           "marker": {
            "color": "fuchsia"
           },
           "mode": "markers",
           "name": "",
           "showlegend": false,
           "subplot": "mapbox",
           "type": "scattermapbox"
          }
         ],
         "name": "2022-05-26 21:25:57"
        },
        {
         "data": [
          {
           "hovertemplate": "date=2022-05-26 21:26:08<br>lat=%{lat}<br>lon=%{lon}<extra></extra>",
           "lat": [
            56.413033331025524
           ],
           "legendgroup": "",
           "lon": [
            -164.54651147899395
           ],
           "marker": {
            "color": "fuchsia"
           },
           "mode": "markers",
           "name": "",
           "showlegend": false,
           "subplot": "mapbox",
           "type": "scattermapbox"
          }
         ],
         "name": "2022-05-26 21:26:08"
        },
        {
         "data": [
          {
           "hovertemplate": "date=2022-05-26 21:26:19<br>lat=%{lat}<br>lon=%{lon}<extra></extra>",
           "lat": [
            57.08922094785069
           ],
           "legendgroup": "",
           "lon": [
            -164.846359966535
           ],
           "marker": {
            "color": "fuchsia"
           },
           "mode": "markers",
           "name": "",
           "showlegend": false,
           "subplot": "mapbox",
           "type": "scattermapbox"
          }
         ],
         "name": "2022-05-26 21:26:19"
        },
        {
         "data": [
          {
           "hovertemplate": "date=2022-05-26 21:26:30<br>lat=%{lat}<br>lon=%{lon}<extra></extra>",
           "lat": [
            57.76575426945697
           ],
           "legendgroup": "",
           "lon": [
            -165.15692057130565
           ],
           "marker": {
            "color": "fuchsia"
           },
           "mode": "markers",
           "name": "",
           "showlegend": false,
           "subplot": "mapbox",
           "type": "scattermapbox"
          }
         ],
         "name": "2022-05-26 21:26:30"
        },
        {
         "data": [
          {
           "hovertemplate": "date=2022-05-26 21:26:41<br>lat=%{lat}<br>lon=%{lon}<extra></extra>",
           "lat": [
            58.43825559155707
           ],
           "legendgroup": "",
           "lon": [
            -165.4810235726097
           ],
           "marker": {
            "color": "fuchsia"
           },
           "mode": "markers",
           "name": "",
           "showlegend": false,
           "subplot": "mapbox",
           "type": "scattermapbox"
          }
         ],
         "name": "2022-05-26 21:26:41"
        },
        {
         "data": [
          {
           "hovertemplate": "date=2022-05-26 21:26:52<br>lat=%{lat}<br>lon=%{lon}<extra></extra>",
           "lat": [
            59.110157428371096
           ],
           "legendgroup": "",
           "lon": [
            -165.81716137762672
           ],
           "marker": {
            "color": "fuchsia"
           },
           "mode": "markers",
           "name": "",
           "showlegend": false,
           "subplot": "mapbox",
           "type": "scattermapbox"
          }
         ],
         "name": "2022-05-26 21:26:52"
        },
        {
         "data": [
          {
           "hovertemplate": "date=2022-05-26 21:27:03<br>lat=%{lat}<br>lon=%{lon}<extra></extra>",
           "lat": [
            59.784164612951294
           ],
           "legendgroup": "",
           "lon": [
            -166.16466804821297
           ],
           "marker": {
            "color": "fuchsia"
           },
           "mode": "markers",
           "name": "",
           "showlegend": false,
           "subplot": "mapbox",
           "type": "scattermapbox"
          }
         ],
         "name": "2022-05-26 21:27:03"
        },
        {
         "data": [
          {
           "hovertemplate": "date=2022-05-26 21:27:14<br>lat=%{lat}<br>lon=%{lon}<extra></extra>",
           "lat": [
            60.45295703141209
           ],
           "legendgroup": "",
           "lon": [
            -166.52840762275466
           ],
           "marker": {
            "color": "fuchsia"
           },
           "mode": "markers",
           "name": "",
           "showlegend": false,
           "subplot": "mapbox",
           "type": "scattermapbox"
          }
         ],
         "name": "2022-05-26 21:27:14"
        },
        {
         "data": [
          {
           "hovertemplate": "date=2022-05-26 21:27:25<br>lat=%{lat}<br>lon=%{lon}<extra></extra>",
           "lat": [
            61.12251900251152
           ],
           "legendgroup": "",
           "lon": [
            -166.9063834247365
           ],
           "marker": {
            "color": "fuchsia"
           },
           "mode": "markers",
           "name": "",
           "showlegend": false,
           "subplot": "mapbox",
           "type": "scattermapbox"
          }
         ],
         "name": "2022-05-26 21:27:25"
        },
        {
         "data": [
          {
           "hovertemplate": "date=2022-05-26 21:27:36<br>lat=%{lat}<br>lon=%{lon}<extra></extra>",
           "lat": [
            61.79202327825736
           ],
           "legendgroup": "",
           "lon": [
            -167.29998032188115
           ],
           "marker": {
            "color": "fuchsia"
           },
           "mode": "markers",
           "name": "",
           "showlegend": false,
           "subplot": "mapbox",
           "type": "scattermapbox"
          }
         ],
         "name": "2022-05-26 21:27:36"
        },
        {
         "data": [
          {
           "hovertemplate": "date=2022-05-26 21:27:47<br>lat=%{lat}<br>lon=%{lon}<extra></extra>",
           "lat": [
            62.45931402535372
           ],
           "legendgroup": "",
           "lon": [
            -167.71149714381517
           ],
           "marker": {
            "color": "fuchsia"
           },
           "mode": "markers",
           "name": "",
           "showlegend": false,
           "subplot": "mapbox",
           "type": "scattermapbox"
          }
         ],
         "name": "2022-05-26 21:27:47"
        },
        {
         "data": [
          {
           "hovertemplate": "date=2022-05-26 21:27:58<br>lat=%{lat}<br>lon=%{lon}<extra></extra>",
           "lat": [
            63.122545811752126
           ],
           "legendgroup": "",
           "lon": [
            -168.14327732920503
           ],
           "marker": {
            "color": "fuchsia"
           },
           "mode": "markers",
           "name": "",
           "showlegend": false,
           "subplot": "mapbox",
           "type": "scattermapbox"
          }
         ],
         "name": "2022-05-26 21:27:58"
        },
        {
         "data": [
          {
           "hovertemplate": "date=2022-05-26 21:28:09<br>lat=%{lat}<br>lon=%{lon}<extra></extra>",
           "lat": [
            63.78622359492549
           ],
           "legendgroup": "",
           "lon": [
            -168.59398714718574
           ],
           "marker": {
            "color": "fuchsia"
           },
           "mode": "markers",
           "name": "",
           "showlegend": false,
           "subplot": "mapbox",
           "type": "scattermapbox"
          }
         ],
         "name": "2022-05-26 21:28:09"
        },
        {
         "data": [
          {
           "hovertemplate": "date=2022-05-26 21:28:20<br>lat=%{lat}<br>lon=%{lon}<extra></extra>",
           "lat": [
            64.44990564759759
           ],
           "legendgroup": "",
           "lon": [
            -169.06600214564955
           ],
           "marker": {
            "color": "fuchsia"
           },
           "mode": "markers",
           "name": "",
           "showlegend": false,
           "subplot": "mapbox",
           "type": "scattermapbox"
          }
         ],
         "name": "2022-05-26 21:28:20"
        },
        {
         "data": [
          {
           "hovertemplate": "date=2022-05-26 21:28:31<br>lat=%{lat}<br>lon=%{lon}<extra></extra>",
           "lat": [
            65.11304841141654
           ],
           "legendgroup": "",
           "lon": [
            -169.5610576528566
           ],
           "marker": {
            "color": "fuchsia"
           },
           "mode": "markers",
           "name": "",
           "showlegend": false,
           "subplot": "mapbox",
           "type": "scattermapbox"
          }
         ],
         "name": "2022-05-26 21:28:31"
        },
        {
         "data": [
          {
           "hovertemplate": "date=2022-05-26 21:28:42<br>lat=%{lat}<br>lon=%{lon}<extra></extra>",
           "lat": [
            65.77210465903443
           ],
           "legendgroup": "",
           "lon": [
            -170.08253006758815
           ],
           "marker": {
            "color": "fuchsia"
           },
           "mode": "markers",
           "name": "",
           "showlegend": false,
           "subplot": "mapbox",
           "type": "scattermapbox"
          }
         ],
         "name": "2022-05-26 21:28:42"
        },
        {
         "data": [
          {
           "hovertemplate": "date=2022-05-26 21:28:53<br>lat=%{lat}<br>lon=%{lon}<extra></extra>",
           "lat": [
            66.42722779356211
           ],
           "legendgroup": "",
           "lon": [
            -170.63132523013888
           ],
           "marker": {
            "color": "fuchsia"
           },
           "mode": "markers",
           "name": "",
           "showlegend": false,
           "subplot": "mapbox",
           "type": "scattermapbox"
          }
         ],
         "name": "2022-05-26 21:28:53"
        },
        {
         "data": [
          {
           "hovertemplate": "date=2022-05-26 21:29:04<br>lat=%{lat}<br>lon=%{lon}<extra></extra>",
           "lat": [
            67.08380467271947
           ],
           "legendgroup": "",
           "lon": [
            -171.20760965753004
           ],
           "marker": {
            "color": "fuchsia"
           },
           "mode": "markers",
           "name": "",
           "showlegend": false,
           "subplot": "mapbox",
           "type": "scattermapbox"
          }
         ],
         "name": "2022-05-26 21:29:04"
        },
        {
         "data": [
          {
           "hovertemplate": "date=2022-05-26 21:29:15<br>lat=%{lat}<br>lon=%{lon}<extra></extra>",
           "lat": [
            67.7369701397131
           ],
           "legendgroup": "",
           "lon": [
            -171.81611071608242
           ],
           "marker": {
            "color": "fuchsia"
           },
           "mode": "markers",
           "name": "",
           "showlegend": false,
           "subplot": "mapbox",
           "type": "scattermapbox"
          }
         ],
         "name": "2022-05-26 21:29:15"
        },
        {
         "data": [
          {
           "hovertemplate": "date=2022-05-26 21:29:26<br>lat=%{lat}<br>lon=%{lon}<extra></extra>",
           "lat": [
            68.38599659676954
           ],
           "legendgroup": "",
           "lon": [
            -172.45963218838457
           ],
           "marker": {
            "color": "fuchsia"
           },
           "mode": "markers",
           "name": "",
           "showlegend": false,
           "subplot": "mapbox",
           "type": "scattermapbox"
          }
         ],
         "name": "2022-05-26 21:29:26"
        },
        {
         "data": [
          {
           "hovertemplate": "date=2022-05-26 21:29:37<br>lat=%{lat}<br>lon=%{lon}<extra></extra>",
           "lat": [
            69.03219109137315
           ],
           "legendgroup": "",
           "lon": [
            -173.14078694743344
           ],
           "marker": {
            "color": "fuchsia"
           },
           "mode": "markers",
           "name": "",
           "showlegend": false,
           "subplot": "mapbox",
           "type": "scattermapbox"
          }
         ],
         "name": "2022-05-26 21:29:37"
        },
        {
         "data": [
          {
           "hovertemplate": "date=2022-05-26 21:29:48<br>lat=%{lat}<br>lon=%{lon}<extra></extra>",
           "lat": [
            69.67758751736224
           ],
           "legendgroup": "",
           "lon": [
            -173.86224954936392
           ],
           "marker": {
            "color": "fuchsia"
           },
           "mode": "markers",
           "name": "",
           "showlegend": false,
           "subplot": "mapbox",
           "type": "scattermapbox"
          }
         ],
         "name": "2022-05-26 21:29:48"
        },
        {
         "data": [
          {
           "hovertemplate": "date=2022-05-26 21:29:59<br>lat=%{lat}<br>lon=%{lon}<extra></extra>",
           "lat": [
            70.32001261574197
           ],
           "legendgroup": "",
           "lon": [
            -174.6293229730168
           ],
           "marker": {
            "color": "fuchsia"
           },
           "mode": "markers",
           "name": "",
           "showlegend": false,
           "subplot": "mapbox",
           "type": "scattermapbox"
          }
         ],
         "name": "2022-05-26 21:29:59"
        },
        {
         "data": [
          {
           "hovertemplate": "date=2022-05-26 21:30:10<br>lat=%{lat}<br>lon=%{lon}<extra></extra>",
           "lat": [
            70.95693342173165
           ],
           "legendgroup": "",
           "lon": [
            -175.4465193955548
           ],
           "marker": {
            "color": "fuchsia"
           },
           "mode": "markers",
           "name": "",
           "showlegend": false,
           "subplot": "mapbox",
           "type": "scattermapbox"
          }
         ],
         "name": "2022-05-26 21:30:10"
        },
        {
         "data": [
          {
           "hovertemplate": "date=2022-05-26 21:30:21<br>lat=%{lat}<br>lon=%{lon}<extra></extra>",
           "lat": [
            71.59237979076599
           ],
           "legendgroup": "",
           "lon": [
            -176.3170504678251
           ],
           "marker": {
            "color": "fuchsia"
           },
           "mode": "markers",
           "name": "",
           "showlegend": false,
           "subplot": "mapbox",
           "type": "scattermapbox"
          }
         ],
         "name": "2022-05-26 21:30:21"
        },
        {
         "data": [
          {
           "hovertemplate": "date=2022-05-26 21:30:32<br>lat=%{lat}<br>lon=%{lon}<extra></extra>",
           "lat": [
            72.22203135874729
           ],
           "legendgroup": "",
           "lon": [
            -177.24760178126178
           ],
           "marker": {
            "color": "fuchsia"
           },
           "mode": "markers",
           "name": "",
           "showlegend": false,
           "subplot": "mapbox",
           "type": "scattermapbox"
          }
         ],
         "name": "2022-05-26 21:30:32"
        },
        {
         "data": [
          {
           "hovertemplate": "date=2022-05-26 21:30:43<br>lat=%{lat}<br>lon=%{lon}<extra></extra>",
           "lat": [
            72.8460069144955
           ],
           "legendgroup": "",
           "lon": [
            -178.24338464353832
           ],
           "marker": {
            "color": "fuchsia"
           },
           "mode": "markers",
           "name": "",
           "showlegend": false,
           "subplot": "mapbox",
           "type": "scattermapbox"
          }
         ],
         "name": "2022-05-26 21:30:43"
        },
        {
         "data": [
          {
           "hovertemplate": "date=2022-05-26 21:30:54<br>lat=%{lat}<br>lon=%{lon}<extra></extra>",
           "lat": [
            73.46656053605673
           ],
           "legendgroup": "",
           "lon": [
            -179.3109378373864
           ],
           "marker": {
            "color": "fuchsia"
           },
           "mode": "markers",
           "name": "",
           "showlegend": false,
           "subplot": "mapbox",
           "type": "scattermapbox"
          }
         ],
         "name": "2022-05-26 21:30:54"
        },
        {
         "data": [
          {
           "hovertemplate": "date=2022-05-26 21:31:05<br>lat=%{lat}<br>lon=%{lon}<extra></extra>",
           "lat": [
            74.08187768868274
           ],
           "legendgroup": "",
           "lon": [
            179.54121933320982
           ],
           "marker": {
            "color": "fuchsia"
           },
           "mode": "markers",
           "name": "",
           "showlegend": false,
           "subplot": "mapbox",
           "type": "scattermapbox"
          }
         ],
         "name": "2022-05-26 21:31:05"
        },
        {
         "data": [
          {
           "hovertemplate": "date=2022-05-26 21:31:16<br>lat=%{lat}<br>lon=%{lon}<extra></extra>",
           "lat": [
            74.68939134265895
           ],
           "legendgroup": "",
           "lon": [
            178.30381126685407
           ],
           "marker": {
            "color": "fuchsia"
           },
           "mode": "markers",
           "name": "",
           "showlegend": false,
           "subplot": "mapbox",
           "type": "scattermapbox"
          }
         ],
         "name": "2022-05-26 21:31:16"
        },
        {
         "data": [
          {
           "hovertemplate": "date=2022-05-26 21:31:27<br>lat=%{lat}<br>lon=%{lon}<extra></extra>",
           "lat": [
            75.28952170408353
           ],
           "legendgroup": "",
           "lon": [
            176.96672121115049
           ],
           "marker": {
            "color": "fuchsia"
           },
           "mode": "markers",
           "name": "",
           "showlegend": false,
           "subplot": "mapbox",
           "type": "scattermapbox"
          }
         ],
         "name": "2022-05-26 21:31:27"
        },
        {
         "data": [
          {
           "hovertemplate": "date=2022-05-26 21:31:38<br>lat=%{lat}<br>lon=%{lon}<extra></extra>",
           "lat": [
            75.87966640155733
           ],
           "legendgroup": "",
           "lon": [
            175.51976482880045
           ],
           "marker": {
            "color": "fuchsia"
           },
           "mode": "markers",
           "name": "",
           "showlegend": false,
           "subplot": "mapbox",
           "type": "scattermapbox"
          }
         ],
         "name": "2022-05-26 21:31:38"
        },
        {
         "data": [
          {
           "hovertemplate": "date=2022-05-26 21:31:49<br>lat=%{lat}<br>lon=%{lon}<extra></extra>",
           "lat": [
            76.46096079414495
           ],
           "legendgroup": "",
           "lon": [
            173.95168913924812
           ],
           "marker": {
            "color": "fuchsia"
           },
           "mode": "markers",
           "name": "",
           "showlegend": false,
           "subplot": "mapbox",
           "type": "scattermapbox"
          }
         ],
         "name": "2022-05-26 21:31:49"
        },
        {
         "data": [
          {
           "hovertemplate": "date=2022-05-26 21:32:00<br>lat=%{lat}<br>lon=%{lon}<extra></extra>",
           "lat": [
            77.03408601714652
           ],
           "legendgroup": "",
           "lon": [
            172.24645222579377
           ],
           "marker": {
            "color": "fuchsia"
           },
           "mode": "markers",
           "name": "",
           "showlegend": false,
           "subplot": "mapbox",
           "type": "scattermapbox"
          }
         ],
         "name": "2022-05-26 21:32:00"
        },
        {
         "data": [
          {
           "hovertemplate": "date=2022-05-26 21:32:11<br>lat=%{lat}<br>lon=%{lon}<extra></extra>",
           "lat": [
            77.5957465913736
           ],
           "legendgroup": "",
           "lon": [
            170.3859316671973
           ],
           "marker": {
            "color": "fuchsia"
           },
           "mode": "markers",
           "name": "",
           "showlegend": false,
           "subplot": "mapbox",
           "type": "scattermapbox"
          }
         ],
         "name": "2022-05-26 21:32:11"
        },
        {
         "data": [
          {
           "hovertemplate": "date=2022-05-26 21:32:22<br>lat=%{lat}<br>lon=%{lon}<extra></extra>",
           "lat": [
            78.13931407859235
           ],
           "legendgroup": "",
           "lon": [
            168.35786389898465
           ],
           "marker": {
            "color": "fuchsia"
           },
           "mode": "markers",
           "name": "",
           "showlegend": false,
           "subplot": "mapbox",
           "type": "scattermapbox"
          }
         ],
         "name": "2022-05-26 21:32:22"
        },
        {
         "data": [
          {
           "hovertemplate": "date=2022-05-26 21:32:33<br>lat=%{lat}<br>lon=%{lon}<extra></extra>",
           "lat": [
            78.66715144417356
           ],
           "legendgroup": "",
           "lon": [
            166.14431825808387
           ],
           "marker": {
            "color": "fuchsia"
           },
           "mode": "markers",
           "name": "",
           "showlegend": false,
           "subplot": "mapbox",
           "type": "scattermapbox"
          }
         ],
         "name": "2022-05-26 21:32:33"
        },
        {
         "data": [
          {
           "hovertemplate": "date=2022-05-26 21:32:44<br>lat=%{lat}<br>lon=%{lon}<extra></extra>",
           "lat": [
            79.18172035355978
           ],
           "legendgroup": "",
           "lon": [
            163.71362200715728
           ],
           "marker": {
            "color": "fuchsia"
           },
           "mode": "markers",
           "name": "",
           "showlegend": false,
           "subplot": "mapbox",
           "type": "scattermapbox"
          }
         ],
         "name": "2022-05-26 21:32:44"
        },
        {
         "data": [
          {
           "hovertemplate": "date=2022-05-26 21:32:55<br>lat=%{lat}<br>lon=%{lon}<extra></extra>",
           "lat": [
            79.67210504982921
           ],
           "legendgroup": "",
           "lon": [
            161.05391156620854
           ],
           "marker": {
            "color": "fuchsia"
           },
           "mode": "markers",
           "name": "",
           "showlegend": false,
           "subplot": "mapbox",
           "type": "scattermapbox"
          }
         ],
         "name": "2022-05-26 21:32:55"
        },
        {
         "data": [
          {
           "hovertemplate": "date=2022-05-26 21:33:06<br>lat=%{lat}<br>lon=%{lon}<extra></extra>",
           "lat": [
            80.13992000089421
           ],
           "legendgroup": "",
           "lon": [
            158.13436152985517
           ],
           "marker": {
            "color": "fuchsia"
           },
           "mode": "markers",
           "name": "",
           "showlegend": false,
           "subplot": "mapbox",
           "type": "scattermapbox"
          }
         ],
         "name": "2022-05-26 21:33:06"
        },
        {
         "data": [
          {
           "hovertemplate": "date=2022-05-26 21:33:17<br>lat=%{lat}<br>lon=%{lon}<extra></extra>",
           "lat": [
            80.57794610588842
           ],
           "legendgroup": "",
           "lon": [
            154.94163699907045
           ],
           "marker": {
            "color": "fuchsia"
           },
           "mode": "markers",
           "name": "",
           "showlegend": false,
           "subplot": "mapbox",
           "type": "scattermapbox"
          }
         ],
         "name": "2022-05-26 21:33:17"
        },
        {
         "data": [
          {
           "hovertemplate": "date=2022-05-26 21:33:28<br>lat=%{lat}<br>lon=%{lon}<extra></extra>",
           "lat": [
            80.984124234895
           ],
           "legendgroup": "",
           "lon": [
            151.4566702353502
           ],
           "marker": {
            "color": "fuchsia"
           },
           "mode": "markers",
           "name": "",
           "showlegend": false,
           "subplot": "mapbox",
           "type": "scattermapbox"
          }
         ],
         "name": "2022-05-26 21:33:28"
        },
        {
         "data": [
          {
           "hovertemplate": "date=2022-05-26 21:33:39<br>lat=%{lat}<br>lon=%{lon}<extra></extra>",
           "lat": [
            81.35670605123376
           ],
           "legendgroup": "",
           "lon": [
            147.65527709867507
           ],
           "marker": {
            "color": "fuchsia"
           },
           "mode": "markers",
           "name": "",
           "showlegend": false,
           "subplot": "mapbox",
           "type": "scattermapbox"
          }
         ],
         "name": "2022-05-26 21:33:39"
        },
        {
         "data": [
          {
           "hovertemplate": "date=2022-05-26 21:33:50<br>lat=%{lat}<br>lon=%{lon}<extra></extra>",
           "lat": [
            81.68943786956552
           ],
           "legendgroup": "",
           "lon": [
            143.5290051101696
           ],
           "marker": {
            "color": "fuchsia"
           },
           "mode": "markers",
           "name": "",
           "showlegend": false,
           "subplot": "mapbox",
           "type": "scattermapbox"
          }
         ],
         "name": "2022-05-26 21:33:50"
        },
        {
         "data": [
          {
           "hovertemplate": "date=2022-05-26 21:34:01<br>lat=%{lat}<br>lon=%{lon}<extra></extra>",
           "lat": [
            81.9740763009668
           ],
           "legendgroup": "",
           "lon": [
            139.09794285348008
           ],
           "marker": {
            "color": "fuchsia"
           },
           "mode": "markers",
           "name": "",
           "showlegend": false,
           "subplot": "mapbox",
           "type": "scattermapbox"
          }
         ],
         "name": "2022-05-26 21:34:01"
        },
        {
         "data": [
          {
           "hovertemplate": "date=2022-05-26 21:34:12<br>lat=%{lat}<br>lon=%{lon}<extra></extra>",
           "lat": [
            82.20934456959658
           ],
           "legendgroup": "",
           "lon": [
            134.36766777128128
           ],
           "marker": {
            "color": "fuchsia"
           },
           "mode": "markers",
           "name": "",
           "showlegend": false,
           "subplot": "mapbox",
           "type": "scattermapbox"
          }
         ],
         "name": "2022-05-26 21:34:12"
        },
        {
         "data": [
          {
           "hovertemplate": "date=2022-05-26 21:34:23<br>lat=%{lat}<br>lon=%{lon}<extra></extra>",
           "lat": [
            82.38911351540192
           ],
           "legendgroup": "",
           "lon": [
            129.37641240278884
           ],
           "marker": {
            "color": "fuchsia"
           },
           "mode": "markers",
           "name": "",
           "showlegend": false,
           "subplot": "mapbox",
           "type": "scattermapbox"
          }
         ],
         "name": "2022-05-26 21:34:23"
        },
        {
         "data": [
          {
           "hovertemplate": "date=2022-05-26 21:34:34<br>lat=%{lat}<br>lon=%{lon}<extra></extra>",
           "lat": [
            82.50891235603787
           ],
           "legendgroup": "",
           "lon": [
            124.18798051709085
           ],
           "marker": {
            "color": "fuchsia"
           },
           "mode": "markers",
           "name": "",
           "showlegend": false,
           "subplot": "mapbox",
           "type": "scattermapbox"
          }
         ],
         "name": "2022-05-26 21:34:34"
        },
        {
         "data": [
          {
           "hovertemplate": "date=2022-05-26 21:34:45<br>lat=%{lat}<br>lon=%{lon}<extra></extra>",
           "lat": [
            82.56574675204537
           ],
           "legendgroup": "",
           "lon": [
            118.88735913997209
           ],
           "marker": {
            "color": "fuchsia"
           },
           "mode": "markers",
           "name": "",
           "showlegend": false,
           "subplot": "mapbox",
           "type": "scattermapbox"
          }
         ],
         "name": "2022-05-26 21:34:45"
        },
        {
         "data": [
          {
           "hovertemplate": "date=2022-05-26 21:34:56<br>lat=%{lat}<br>lon=%{lon}<extra></extra>",
           "lat": [
            82.56004347409146
           ],
           "legendgroup": "",
           "lon": [
            113.52625123237276
           ],
           "marker": {
            "color": "fuchsia"
           },
           "mode": "markers",
           "name": "",
           "showlegend": false,
           "subplot": "mapbox",
           "type": "scattermapbox"
          }
         ],
         "name": "2022-05-26 21:34:56"
        },
        {
         "data": [
          {
           "hovertemplate": "date=2022-05-26 21:35:07<br>lat=%{lat}<br>lon=%{lon}<extra></extra>",
           "lat": [
            82.4897299383467
           ],
           "legendgroup": "",
           "lon": [
            108.23555381220086
           ],
           "marker": {
            "color": "fuchsia"
           },
           "mode": "markers",
           "name": "",
           "showlegend": false,
           "subplot": "mapbox",
           "type": "scattermapbox"
          }
         ],
         "name": "2022-05-26 21:35:07"
        },
        {
         "data": [
          {
           "hovertemplate": "date=2022-05-26 21:35:18<br>lat=%{lat}<br>lon=%{lon}<extra></extra>",
           "lat": [
            82.35785151659246
           ],
           "legendgroup": "",
           "lon": [
            103.09156009777831
           ],
           "marker": {
            "color": "fuchsia"
           },
           "mode": "markers",
           "name": "",
           "showlegend": false,
           "subplot": "mapbox",
           "type": "scattermapbox"
          }
         ],
         "name": "2022-05-26 21:35:18"
        },
        {
         "data": [
          {
           "hovertemplate": "date=2022-05-26 21:35:29<br>lat=%{lat}<br>lon=%{lon}<extra></extra>",
           "lat": [
            82.16759483508034
           ],
           "legendgroup": "",
           "lon": [
            98.14724059883238
           ],
           "marker": {
            "color": "fuchsia"
           },
           "mode": "markers",
           "name": "",
           "showlegend": false,
           "subplot": "mapbox",
           "type": "scattermapbox"
          }
         ],
         "name": "2022-05-26 21:35:29"
        },
        {
         "data": [
          {
           "hovertemplate": "date=2022-05-26 21:35:40<br>lat=%{lat}<br>lon=%{lon}<extra></extra>",
           "lat": [
            81.92281130785854
           ],
           "legendgroup": "",
           "lon": [
            93.4839566936949
           ],
           "marker": {
            "color": "fuchsia"
           },
           "mode": "markers",
           "name": "",
           "showlegend": false,
           "subplot": "mapbox",
           "type": "scattermapbox"
          }
         ],
         "name": "2022-05-26 21:35:40"
        },
        {
         "data": [
          {
           "hovertemplate": "date=2022-05-26 21:35:51<br>lat=%{lat}<br>lon=%{lon}<extra></extra>",
           "lat": [
            81.62888761972783
           ],
           "legendgroup": "",
           "lon": [
            89.1179981781072
           ],
           "marker": {
            "color": "fuchsia"
           },
           "mode": "markers",
           "name": "",
           "showlegend": false,
           "subplot": "mapbox",
           "type": "scattermapbox"
          }
         ],
         "name": "2022-05-26 21:35:51"
        },
        {
         "data": [
          {
           "hovertemplate": "date=2022-05-26 21:36:02<br>lat=%{lat}<br>lon=%{lon}<extra></extra>",
           "lat": [
            81.28960078810837
           ],
           "legendgroup": "",
           "lon": [
            85.03473323568628
           ],
           "marker": {
            "color": "fuchsia"
           },
           "mode": "markers",
           "name": "",
           "showlegend": false,
           "subplot": "mapbox",
           "type": "scattermapbox"
          }
         ],
         "name": "2022-05-26 21:36:02"
        },
        {
         "data": [
          {
           "hovertemplate": "date=2022-05-26 21:36:13<br>lat=%{lat}<br>lon=%{lon}<extra></extra>",
           "lat": [
            80.91021904656678
           ],
           "legendgroup": "",
           "lon": [
            81.2953621131863
           ],
           "marker": {
            "color": "fuchsia"
           },
           "mode": "markers",
           "name": "",
           "showlegend": false,
           "subplot": "mapbox",
           "type": "scattermapbox"
          }
         ],
         "name": "2022-05-26 21:36:13"
        },
        {
         "data": [
          {
           "hovertemplate": "date=2022-05-26 21:36:24<br>lat=%{lat}<br>lon=%{lon}<extra></extra>",
           "lat": [
            80.49539595708028
           ],
           "legendgroup": "",
           "lon": [
            77.86326457949019
           ],
           "marker": {
            "color": "fuchsia"
           },
           "mode": "markers",
           "name": "",
           "showlegend": false,
           "subplot": "mapbox",
           "type": "scattermapbox"
          }
         ],
         "name": "2022-05-26 21:36:24"
        },
        {
         "data": [
          {
           "hovertemplate": "date=2022-05-26 21:36:35<br>lat=%{lat}<br>lon=%{lon}<extra></extra>",
           "lat": [
            80.05018904242216
           ],
           "legendgroup": "",
           "lon": [
            74.73114650252803
           ],
           "marker": {
            "color": "fuchsia"
           },
           "mode": "markers",
           "name": "",
           "showlegend": false,
           "subplot": "mapbox",
           "type": "scattermapbox"
          }
         ],
         "name": "2022-05-26 21:36:35"
        },
        {
         "data": [
          {
           "hovertemplate": "date=2022-05-26 21:36:46<br>lat=%{lat}<br>lon=%{lon}<extra></extra>",
           "lat": [
            79.57778925234103
           ],
           "legendgroup": "",
           "lon": [
            71.86139609825112
           ],
           "marker": {
            "color": "fuchsia"
           },
           "mode": "markers",
           "name": "",
           "showlegend": false,
           "subplot": "mapbox",
           "type": "scattermapbox"
          }
         ],
         "name": "2022-05-26 21:36:46"
        },
        {
         "data": [
          {
           "hovertemplate": "date=2022-05-26 21:36:57<br>lat=%{lat}<br>lon=%{lon}<extra></extra>",
           "lat": [
            79.08260347889507
           ],
           "legendgroup": "",
           "lon": [
            69.24893437012183
           ],
           "marker": {
            "color": "fuchsia"
           },
           "mode": "markers",
           "name": "",
           "showlegend": false,
           "subplot": "mapbox",
           "type": "scattermapbox"
          }
         ],
         "name": "2022-05-26 21:36:57"
        },
        {
         "data": [
          {
           "hovertemplate": "date=2022-05-26 21:37:08<br>lat=%{lat}<br>lon=%{lon}<extra></extra>",
           "lat": [
            78.56838510278662
           ],
           "legendgroup": "",
           "lon": [
            66.8727329274162
           ],
           "marker": {
            "color": "fuchsia"
           },
           "mode": "markers",
           "name": "",
           "showlegend": false,
           "subplot": "mapbox",
           "type": "scattermapbox"
          }
         ],
         "name": "2022-05-26 21:37:08"
        },
        {
         "data": [
          {
           "hovertemplate": "date=2022-05-26 21:37:19<br>lat=%{lat}<br>lon=%{lon}<extra></extra>",
           "lat": [
            78.03636787513139
           ],
           "legendgroup": "",
           "lon": [
            64.6946689722506
           ],
           "marker": {
            "color": "fuchsia"
           },
           "mode": "markers",
           "name": "",
           "showlegend": false,
           "subplot": "mapbox",
           "type": "scattermapbox"
          }
         ],
         "name": "2022-05-26 21:37:19"
        },
        {
         "data": [
          {
           "hovertemplate": "date=2022-05-26 21:37:30<br>lat=%{lat}<br>lon=%{lon}<extra></extra>",
           "lat": [
            77.48876993230085
           ],
           "legendgroup": "",
           "lon": [
            62.69886342378459
           ],
           "marker": {
            "color": "fuchsia"
           },
           "mode": "markers",
           "name": "",
           "showlegend": false,
           "subplot": "mapbox",
           "type": "scattermapbox"
          }
         ],
         "name": "2022-05-26 21:37:30"
        },
        {
         "data": [
          {
           "hovertemplate": "date=2022-05-26 21:37:41<br>lat=%{lat}<br>lon=%{lon}<extra></extra>",
           "lat": [
            76.92694875707113
           ],
           "legendgroup": "",
           "lon": [
            60.86801395486539
           ],
           "marker": {
            "color": "fuchsia"
           },
           "mode": "markers",
           "name": "",
           "showlegend": false,
           "subplot": "mapbox",
           "type": "scattermapbox"
          }
         ],
         "name": "2022-05-26 21:37:41"
        },
        {
         "data": [
          {
           "hovertemplate": "date=2022-05-26 21:37:52<br>lat=%{lat}<br>lon=%{lon}<extra></extra>",
           "lat": [
            76.3535271773584
           ],
           "legendgroup": "",
           "lon": [
            59.19191984120568
           ],
           "marker": {
            "color": "fuchsia"
           },
           "mode": "markers",
           "name": "",
           "showlegend": false,
           "subplot": "mapbox",
           "type": "scattermapbox"
          }
         ],
         "name": "2022-05-26 21:37:52"
        },
        {
         "data": [
          {
           "hovertemplate": "date=2022-05-26 21:38:03<br>lat=%{lat}<br>lon=%{lon}<extra></extra>",
           "lat": [
            75.76938367182332
           ],
           "legendgroup": "",
           "lon": [
            57.6478429305132
           ],
           "marker": {
            "color": "fuchsia"
           },
           "mode": "markers",
           "name": "",
           "showlegend": false,
           "subplot": "mapbox",
           "type": "scattermapbox"
          }
         ],
         "name": "2022-05-26 21:38:03"
        },
        {
         "data": [
          {
           "hovertemplate": "date=2022-05-26 21:38:14<br>lat=%{lat}<br>lon=%{lon}<extra></extra>",
           "lat": [
            75.17616240186885
           ],
           "legendgroup": "",
           "lon": [
            56.22480218324704
           ],
           "marker": {
            "color": "fuchsia"
           },
           "mode": "markers",
           "name": "",
           "showlegend": false,
           "subplot": "mapbox",
           "type": "scattermapbox"
          }
         ],
         "name": "2022-05-26 21:38:14"
        },
        {
         "data": [
          {
           "hovertemplate": "date=2022-05-26 21:38:25<br>lat=%{lat}<br>lon=%{lon}<extra></extra>",
           "lat": [
            74.57589841375149
           ],
           "legendgroup": "",
           "lon": [
            54.9130334399073
           ],
           "marker": {
            "color": "fuchsia"
           },
           "mode": "markers",
           "name": "",
           "showlegend": false,
           "subplot": "mapbox",
           "type": "scattermapbox"
          }
         ],
         "name": "2022-05-26 21:38:25"
        },
        {
         "data": [
          {
           "hovertemplate": "date=2022-05-26 21:38:36<br>lat=%{lat}<br>lon=%{lon}<extra></extra>",
           "lat": [
            73.96803422451568
           ],
           "legendgroup": "",
           "lon": [
            53.69305040405264
           ],
           "marker": {
            "color": "fuchsia"
           },
           "mode": "markers",
           "name": "",
           "showlegend": false,
           "subplot": "mapbox",
           "type": "scattermapbox"
          }
         ],
         "name": "2022-05-26 21:38:36"
        },
        {
         "data": [
          {
           "hovertemplate": "date=2022-05-26 21:38:47<br>lat=%{lat}<br>lon=%{lon}<extra></extra>",
           "lat": [
            73.35440850840385
           ],
           "legendgroup": "",
           "lon": [
            52.562251636170075
           ],
           "marker": {
            "color": "fuchsia"
           },
           "mode": "markers",
           "name": "",
           "showlegend": false,
           "subplot": "mapbox",
           "type": "scattermapbox"
          }
         ],
         "name": "2022-05-26 21:38:47"
        },
        {
         "data": [
          {
           "hovertemplate": "date=2022-05-26 21:38:58<br>lat=%{lat}<br>lon=%{lon}<extra></extra>",
           "lat": [
            72.73500650877232
           ],
           "legendgroup": "",
           "lon": [
            51.51005604834151
           ],
           "marker": {
            "color": "fuchsia"
           },
           "mode": "markers",
           "name": "",
           "showlegend": false,
           "subplot": "mapbox",
           "type": "scattermapbox"
          }
         ],
         "name": "2022-05-26 21:38:58"
        },
        {
         "data": [
          {
           "hovertemplate": "date=2022-05-26 21:39:09<br>lat=%{lat}<br>lon=%{lon}<extra></extra>",
           "lat": [
            72.10819927964087
           ],
           "legendgroup": "",
           "lon": [
            50.52343375884042
           ],
           "marker": {
            "color": "fuchsia"
           },
           "mode": "markers",
           "name": "",
           "showlegend": false,
           "subplot": "mapbox",
           "type": "scattermapbox"
          }
         ],
         "name": "2022-05-26 21:39:09"
        },
        {
         "data": [
          {
           "hovertemplate": "date=2022-05-26 21:39:20<br>lat=%{lat}<br>lon=%{lon}<extra></extra>",
           "lat": [
            71.47770097633708
           ],
           "legendgroup": "",
           "lon": [
            49.608201522916424
           ],
           "marker": {
            "color": "fuchsia"
           },
           "mode": "markers",
           "name": "",
           "showlegend": false,
           "subplot": "mapbox",
           "type": "scattermapbox"
          }
         ],
         "name": "2022-05-26 21:39:20"
        },
        {
         "data": [
          {
           "hovertemplate": "date=2022-05-26 21:39:31<br>lat=%{lat}<br>lon=%{lon}<extra></extra>",
           "lat": [
            70.84495270958858
           ],
           "legendgroup": "",
           "lon": [
            48.755363644210185
           ],
           "marker": {
            "color": "fuchsia"
           },
           "mode": "markers",
           "name": "",
           "showlegend": false,
           "subplot": "mapbox",
           "type": "scattermapbox"
          }
         ],
         "name": "2022-05-26 21:39:31"
        },
        {
         "data": [
          {
           "hovertemplate": "date=2022-05-26 21:39:42<br>lat=%{lat}<br>lon=%{lon}<extra></extra>",
           "lat": [
            70.20518886279959
           ],
           "legendgroup": "",
           "lon": [
            47.94511786727449
           ],
           "marker": {
            "color": "fuchsia"
           },
           "mode": "markers",
           "name": "",
           "showlegend": false,
           "subplot": "mapbox",
           "type": "scattermapbox"
          }
         ],
         "name": "2022-05-26 21:39:42"
        },
        {
         "data": [
          {
           "hovertemplate": "date=2022-05-26 21:39:53<br>lat=%{lat}<br>lon=%{lon}<extra></extra>",
           "lat": [
            69.5645316274742
           ],
           "legendgroup": "",
           "lon": [
            47.189832132813606
           ],
           "marker": {
            "color": "fuchsia"
           },
           "mode": "markers",
           "name": "",
           "showlegend": false,
           "subplot": "mapbox",
           "type": "scattermapbox"
          }
         ],
         "name": "2022-05-26 21:39:53"
        },
        {
         "data": [
          {
           "hovertemplate": "date=2022-05-26 21:40:04<br>lat=%{lat}<br>lon=%{lon}<extra></extra>",
           "lat": [
            68.91913795272984
           ],
           "legendgroup": "",
           "lon": [
            46.47339892123579
           ],
           "marker": {
            "color": "fuchsia"
           },
           "mode": "markers",
           "name": "",
           "showlegend": false,
           "subplot": "mapbox",
           "type": "scattermapbox"
          }
         ],
         "name": "2022-05-26 21:40:04"
        },
        {
         "data": [
          {
           "hovertemplate": "date=2022-05-26 21:40:15<br>lat=%{lat}<br>lon=%{lon}<extra></extra>",
           "lat": [
            68.27248219099793
           ],
           "legendgroup": "",
           "lon": [
            45.80138329503865
           ],
           "marker": {
            "color": "fuchsia"
           },
           "mode": "markers",
           "name": "",
           "showlegend": false,
           "subplot": "mapbox",
           "type": "scattermapbox"
          }
         ],
         "name": "2022-05-26 21:40:15"
        },
        {
         "data": [
          {
           "hovertemplate": "date=2022-05-26 21:40:26<br>lat=%{lat}<br>lon=%{lon}<extra></extra>",
           "lat": [
            67.62287356431676
           ],
           "legendgroup": "",
           "lon": [
            45.164749066959004
           ],
           "marker": {
            "color": "fuchsia"
           },
           "mode": "markers",
           "name": "",
           "showlegend": false,
           "subplot": "mapbox",
           "type": "scattermapbox"
          }
         ],
         "name": "2022-05-26 21:40:26"
        },
        {
         "data": [
          {
           "hovertemplate": "date=2022-05-26 21:40:37<br>lat=%{lat}<br>lon=%{lon}<extra></extra>",
           "lat": [
            66.97062918230746
           ],
           "legendgroup": "",
           "lon": [
            44.56258409759361
           ],
           "marker": {
            "color": "fuchsia"
           },
           "mode": "markers",
           "name": "",
           "showlegend": false,
           "subplot": "mapbox",
           "type": "scattermapbox"
          }
         ],
         "name": "2022-05-26 21:40:37"
        },
        {
         "data": [
          {
           "hovertemplate": "date=2022-05-26 21:40:48<br>lat=%{lat}<br>lon=%{lon}<extra></extra>",
           "lat": [
            66.3168720854334
           ],
           "legendgroup": "",
           "lon": [
            43.99301560358508
           ],
           "marker": {
            "color": "fuchsia"
           },
           "mode": "markers",
           "name": "",
           "showlegend": false,
           "subplot": "mapbox",
           "type": "scattermapbox"
          }
         ],
         "name": "2022-05-26 21:40:48"
        },
        {
         "data": [
          {
           "hovertemplate": "date=2022-05-26 21:40:59<br>lat=%{lat}<br>lon=%{lon}<extra></extra>",
           "lat": [
            65.65964623278457
           ],
           "legendgroup": "",
           "lon": [
            43.45076829574501
           ],
           "marker": {
            "color": "fuchsia"
           },
           "mode": "markers",
           "name": "",
           "showlegend": false,
           "subplot": "mapbox",
           "type": "scattermapbox"
          }
         ],
         "name": "2022-05-26 21:40:59"
        }
       ],
       "layout": {
        "geo": {
         "center": {
          "lat": 51.12422090744251,
          "lon": -72.36863340038008
         }
        },
        "legend": {
         "tracegroupgap": 0
        },
        "mapbox": {
         "center": {
          "lat": 51.12422090744251,
          "lon": -72.36863340038008
         },
         "domain": {
          "x": [
           0,
           1
          ],
          "y": [
           0,
           1
          ]
         },
         "style": "open-street-map",
         "zoom": 3
        },
        "margin": {
         "b": 0,
         "l": 0,
         "r": 0,
         "t": 0
        },
        "sliders": [
         {
          "active": 0,
          "currentvalue": {
           "prefix": "date="
          },
          "len": 0.9,
          "pad": {
           "b": 10,
           "t": 60
          },
          "steps": [
           {
            "args": [
             [
              "2022-05-26 21:11:17"
             ],
             {
              "frame": {
               "duration": 0,
               "redraw": true
              },
              "fromcurrent": true,
              "mode": "immediate",
              "transition": {
               "duration": 0,
               "easing": "linear"
              }
             }
            ],
            "label": "2022-05-26 21:11:17",
            "method": "animate"
           },
           {
            "args": [
             [
              "2022-05-26 21:11:28"
             ],
             {
              "frame": {
               "duration": 0,
               "redraw": true
              },
              "fromcurrent": true,
              "mode": "immediate",
              "transition": {
               "duration": 0,
               "easing": "linear"
              }
             }
            ],
            "label": "2022-05-26 21:11:28",
            "method": "animate"
           },
           {
            "args": [
             [
              "2022-05-26 21:11:39"
             ],
             {
              "frame": {
               "duration": 0,
               "redraw": true
              },
              "fromcurrent": true,
              "mode": "immediate",
              "transition": {
               "duration": 0,
               "easing": "linear"
              }
             }
            ],
            "label": "2022-05-26 21:11:39",
            "method": "animate"
           },
           {
            "args": [
             [
              "2022-05-26 21:11:50"
             ],
             {
              "frame": {
               "duration": 0,
               "redraw": true
              },
              "fromcurrent": true,
              "mode": "immediate",
              "transition": {
               "duration": 0,
               "easing": "linear"
              }
             }
            ],
            "label": "2022-05-26 21:11:50",
            "method": "animate"
           },
           {
            "args": [
             [
              "2022-05-26 21:12:12"
             ],
             {
              "frame": {
               "duration": 0,
               "redraw": true
              },
              "fromcurrent": true,
              "mode": "immediate",
              "transition": {
               "duration": 0,
               "easing": "linear"
              }
             }
            ],
            "label": "2022-05-26 21:12:12",
            "method": "animate"
           },
           {
            "args": [
             [
              "2022-05-26 21:12:23"
             ],
             {
              "frame": {
               "duration": 0,
               "redraw": true
              },
              "fromcurrent": true,
              "mode": "immediate",
              "transition": {
               "duration": 0,
               "easing": "linear"
              }
             }
            ],
            "label": "2022-05-26 21:12:23",
            "method": "animate"
           },
           {
            "args": [
             [
              "2022-05-26 21:12:34"
             ],
             {
              "frame": {
               "duration": 0,
               "redraw": true
              },
              "fromcurrent": true,
              "mode": "immediate",
              "transition": {
               "duration": 0,
               "easing": "linear"
              }
             }
            ],
            "label": "2022-05-26 21:12:34",
            "method": "animate"
           },
           {
            "args": [
             [
              "2022-05-26 21:12:45"
             ],
             {
              "frame": {
               "duration": 0,
               "redraw": true
              },
              "fromcurrent": true,
              "mode": "immediate",
              "transition": {
               "duration": 0,
               "easing": "linear"
              }
             }
            ],
            "label": "2022-05-26 21:12:45",
            "method": "animate"
           },
           {
            "args": [
             [
              "2022-05-26 21:12:56"
             ],
             {
              "frame": {
               "duration": 0,
               "redraw": true
              },
              "fromcurrent": true,
              "mode": "immediate",
              "transition": {
               "duration": 0,
               "easing": "linear"
              }
             }
            ],
            "label": "2022-05-26 21:12:56",
            "method": "animate"
           },
           {
            "args": [
             [
              "2022-05-26 21:13:07"
             ],
             {
              "frame": {
               "duration": 0,
               "redraw": true
              },
              "fromcurrent": true,
              "mode": "immediate",
              "transition": {
               "duration": 0,
               "easing": "linear"
              }
             }
            ],
            "label": "2022-05-26 21:13:07",
            "method": "animate"
           },
           {
            "args": [
             [
              "2022-05-26 21:13:18"
             ],
             {
              "frame": {
               "duration": 0,
               "redraw": true
              },
              "fromcurrent": true,
              "mode": "immediate",
              "transition": {
               "duration": 0,
               "easing": "linear"
              }
             }
            ],
            "label": "2022-05-26 21:13:18",
            "method": "animate"
           },
           {
            "args": [
             [
              "2022-05-26 21:13:29"
             ],
             {
              "frame": {
               "duration": 0,
               "redraw": true
              },
              "fromcurrent": true,
              "mode": "immediate",
              "transition": {
               "duration": 0,
               "easing": "linear"
              }
             }
            ],
            "label": "2022-05-26 21:13:29",
            "method": "animate"
           },
           {
            "args": [
             [
              "2022-05-26 21:13:40"
             ],
             {
              "frame": {
               "duration": 0,
               "redraw": true
              },
              "fromcurrent": true,
              "mode": "immediate",
              "transition": {
               "duration": 0,
               "easing": "linear"
              }
             }
            ],
            "label": "2022-05-26 21:13:40",
            "method": "animate"
           },
           {
            "args": [
             [
              "2022-05-26 21:13:51"
             ],
             {
              "frame": {
               "duration": 0,
               "redraw": true
              },
              "fromcurrent": true,
              "mode": "immediate",
              "transition": {
               "duration": 0,
               "easing": "linear"
              }
             }
            ],
            "label": "2022-05-26 21:13:51",
            "method": "animate"
           },
           {
            "args": [
             [
              "2022-05-26 21:14:02"
             ],
             {
              "frame": {
               "duration": 0,
               "redraw": true
              },
              "fromcurrent": true,
              "mode": "immediate",
              "transition": {
               "duration": 0,
               "easing": "linear"
              }
             }
            ],
            "label": "2022-05-26 21:14:02",
            "method": "animate"
           },
           {
            "args": [
             [
              "2022-05-26 21:14:13"
             ],
             {
              "frame": {
               "duration": 0,
               "redraw": true
              },
              "fromcurrent": true,
              "mode": "immediate",
              "transition": {
               "duration": 0,
               "easing": "linear"
              }
             }
            ],
            "label": "2022-05-26 21:14:13",
            "method": "animate"
           },
           {
            "args": [
             [
              "2022-05-26 21:14:24"
             ],
             {
              "frame": {
               "duration": 0,
               "redraw": true
              },
              "fromcurrent": true,
              "mode": "immediate",
              "transition": {
               "duration": 0,
               "easing": "linear"
              }
             }
            ],
            "label": "2022-05-26 21:14:24",
            "method": "animate"
           },
           {
            "args": [
             [
              "2022-05-26 21:14:35"
             ],
             {
              "frame": {
               "duration": 0,
               "redraw": true
              },
              "fromcurrent": true,
              "mode": "immediate",
              "transition": {
               "duration": 0,
               "easing": "linear"
              }
             }
            ],
            "label": "2022-05-26 21:14:35",
            "method": "animate"
           },
           {
            "args": [
             [
              "2022-05-26 21:14:46"
             ],
             {
              "frame": {
               "duration": 0,
               "redraw": true
              },
              "fromcurrent": true,
              "mode": "immediate",
              "transition": {
               "duration": 0,
               "easing": "linear"
              }
             }
            ],
            "label": "2022-05-26 21:14:46",
            "method": "animate"
           },
           {
            "args": [
             [
              "2022-05-26 21:14:57"
             ],
             {
              "frame": {
               "duration": 0,
               "redraw": true
              },
              "fromcurrent": true,
              "mode": "immediate",
              "transition": {
               "duration": 0,
               "easing": "linear"
              }
             }
            ],
            "label": "2022-05-26 21:14:57",
            "method": "animate"
           },
           {
            "args": [
             [
              "2022-05-26 21:15:08"
             ],
             {
              "frame": {
               "duration": 0,
               "redraw": true
              },
              "fromcurrent": true,
              "mode": "immediate",
              "transition": {
               "duration": 0,
               "easing": "linear"
              }
             }
            ],
            "label": "2022-05-26 21:15:08",
            "method": "animate"
           },
           {
            "args": [
             [
              "2022-05-26 21:15:19"
             ],
             {
              "frame": {
               "duration": 0,
               "redraw": true
              },
              "fromcurrent": true,
              "mode": "immediate",
              "transition": {
               "duration": 0,
               "easing": "linear"
              }
             }
            ],
            "label": "2022-05-26 21:15:19",
            "method": "animate"
           },
           {
            "args": [
             [
              "2022-05-26 21:15:30"
             ],
             {
              "frame": {
               "duration": 0,
               "redraw": true
              },
              "fromcurrent": true,
              "mode": "immediate",
              "transition": {
               "duration": 0,
               "easing": "linear"
              }
             }
            ],
            "label": "2022-05-26 21:15:30",
            "method": "animate"
           },
           {
            "args": [
             [
              "2022-05-26 21:15:41"
             ],
             {
              "frame": {
               "duration": 0,
               "redraw": true
              },
              "fromcurrent": true,
              "mode": "immediate",
              "transition": {
               "duration": 0,
               "easing": "linear"
              }
             }
            ],
            "label": "2022-05-26 21:15:41",
            "method": "animate"
           },
           {
            "args": [
             [
              "2022-05-26 21:15:52"
             ],
             {
              "frame": {
               "duration": 0,
               "redraw": true
              },
              "fromcurrent": true,
              "mode": "immediate",
              "transition": {
               "duration": 0,
               "easing": "linear"
              }
             }
            ],
            "label": "2022-05-26 21:15:52",
            "method": "animate"
           },
           {
            "args": [
             [
              "2022-05-26 21:16:03"
             ],
             {
              "frame": {
               "duration": 0,
               "redraw": true
              },
              "fromcurrent": true,
              "mode": "immediate",
              "transition": {
               "duration": 0,
               "easing": "linear"
              }
             }
            ],
            "label": "2022-05-26 21:16:03",
            "method": "animate"
           },
           {
            "args": [
             [
              "2022-05-26 21:16:14"
             ],
             {
              "frame": {
               "duration": 0,
               "redraw": true
              },
              "fromcurrent": true,
              "mode": "immediate",
              "transition": {
               "duration": 0,
               "easing": "linear"
              }
             }
            ],
            "label": "2022-05-26 21:16:14",
            "method": "animate"
           },
           {
            "args": [
             [
              "2022-05-26 21:16:25"
             ],
             {
              "frame": {
               "duration": 0,
               "redraw": true
              },
              "fromcurrent": true,
              "mode": "immediate",
              "transition": {
               "duration": 0,
               "easing": "linear"
              }
             }
            ],
            "label": "2022-05-26 21:16:25",
            "method": "animate"
           },
           {
            "args": [
             [
              "2022-05-26 21:16:36"
             ],
             {
              "frame": {
               "duration": 0,
               "redraw": true
              },
              "fromcurrent": true,
              "mode": "immediate",
              "transition": {
               "duration": 0,
               "easing": "linear"
              }
             }
            ],
            "label": "2022-05-26 21:16:36",
            "method": "animate"
           },
           {
            "args": [
             [
              "2022-05-26 21:16:47"
             ],
             {
              "frame": {
               "duration": 0,
               "redraw": true
              },
              "fromcurrent": true,
              "mode": "immediate",
              "transition": {
               "duration": 0,
               "easing": "linear"
              }
             }
            ],
            "label": "2022-05-26 21:16:47",
            "method": "animate"
           },
           {
            "args": [
             [
              "2022-05-26 21:16:58"
             ],
             {
              "frame": {
               "duration": 0,
               "redraw": true
              },
              "fromcurrent": true,
              "mode": "immediate",
              "transition": {
               "duration": 0,
               "easing": "linear"
              }
             }
            ],
            "label": "2022-05-26 21:16:58",
            "method": "animate"
           },
           {
            "args": [
             [
              "2022-05-26 21:17:09"
             ],
             {
              "frame": {
               "duration": 0,
               "redraw": true
              },
              "fromcurrent": true,
              "mode": "immediate",
              "transition": {
               "duration": 0,
               "easing": "linear"
              }
             }
            ],
            "label": "2022-05-26 21:17:09",
            "method": "animate"
           },
           {
            "args": [
             [
              "2022-05-26 21:17:20"
             ],
             {
              "frame": {
               "duration": 0,
               "redraw": true
              },
              "fromcurrent": true,
              "mode": "immediate",
              "transition": {
               "duration": 0,
               "easing": "linear"
              }
             }
            ],
            "label": "2022-05-26 21:17:20",
            "method": "animate"
           },
           {
            "args": [
             [
              "2022-05-26 21:17:31"
             ],
             {
              "frame": {
               "duration": 0,
               "redraw": true
              },
              "fromcurrent": true,
              "mode": "immediate",
              "transition": {
               "duration": 0,
               "easing": "linear"
              }
             }
            ],
            "label": "2022-05-26 21:17:31",
            "method": "animate"
           },
           {
            "args": [
             [
              "2022-05-26 21:17:42"
             ],
             {
              "frame": {
               "duration": 0,
               "redraw": true
              },
              "fromcurrent": true,
              "mode": "immediate",
              "transition": {
               "duration": 0,
               "easing": "linear"
              }
             }
            ],
            "label": "2022-05-26 21:17:42",
            "method": "animate"
           },
           {
            "args": [
             [
              "2022-05-26 21:17:53"
             ],
             {
              "frame": {
               "duration": 0,
               "redraw": true
              },
              "fromcurrent": true,
              "mode": "immediate",
              "transition": {
               "duration": 0,
               "easing": "linear"
              }
             }
            ],
            "label": "2022-05-26 21:17:53",
            "method": "animate"
           },
           {
            "args": [
             [
              "2022-05-26 21:18:04"
             ],
             {
              "frame": {
               "duration": 0,
               "redraw": true
              },
              "fromcurrent": true,
              "mode": "immediate",
              "transition": {
               "duration": 0,
               "easing": "linear"
              }
             }
            ],
            "label": "2022-05-26 21:18:04",
            "method": "animate"
           },
           {
            "args": [
             [
              "2022-05-26 21:18:15"
             ],
             {
              "frame": {
               "duration": 0,
               "redraw": true
              },
              "fromcurrent": true,
              "mode": "immediate",
              "transition": {
               "duration": 0,
               "easing": "linear"
              }
             }
            ],
            "label": "2022-05-26 21:18:15",
            "method": "animate"
           },
           {
            "args": [
             [
              "2022-05-26 21:18:26"
             ],
             {
              "frame": {
               "duration": 0,
               "redraw": true
              },
              "fromcurrent": true,
              "mode": "immediate",
              "transition": {
               "duration": 0,
               "easing": "linear"
              }
             }
            ],
            "label": "2022-05-26 21:18:26",
            "method": "animate"
           },
           {
            "args": [
             [
              "2022-05-26 21:18:37"
             ],
             {
              "frame": {
               "duration": 0,
               "redraw": true
              },
              "fromcurrent": true,
              "mode": "immediate",
              "transition": {
               "duration": 0,
               "easing": "linear"
              }
             }
            ],
            "label": "2022-05-26 21:18:37",
            "method": "animate"
           },
           {
            "args": [
             [
              "2022-05-26 21:18:48"
             ],
             {
              "frame": {
               "duration": 0,
               "redraw": true
              },
              "fromcurrent": true,
              "mode": "immediate",
              "transition": {
               "duration": 0,
               "easing": "linear"
              }
             }
            ],
            "label": "2022-05-26 21:18:48",
            "method": "animate"
           },
           {
            "args": [
             [
              "2022-05-26 21:18:59"
             ],
             {
              "frame": {
               "duration": 0,
               "redraw": true
              },
              "fromcurrent": true,
              "mode": "immediate",
              "transition": {
               "duration": 0,
               "easing": "linear"
              }
             }
            ],
            "label": "2022-05-26 21:18:59",
            "method": "animate"
           },
           {
            "args": [
             [
              "2022-05-26 21:19:10"
             ],
             {
              "frame": {
               "duration": 0,
               "redraw": true
              },
              "fromcurrent": true,
              "mode": "immediate",
              "transition": {
               "duration": 0,
               "easing": "linear"
              }
             }
            ],
            "label": "2022-05-26 21:19:10",
            "method": "animate"
           },
           {
            "args": [
             [
              "2022-05-26 21:19:21"
             ],
             {
              "frame": {
               "duration": 0,
               "redraw": true
              },
              "fromcurrent": true,
              "mode": "immediate",
              "transition": {
               "duration": 0,
               "easing": "linear"
              }
             }
            ],
            "label": "2022-05-26 21:19:21",
            "method": "animate"
           },
           {
            "args": [
             [
              "2022-05-26 21:19:32"
             ],
             {
              "frame": {
               "duration": 0,
               "redraw": true
              },
              "fromcurrent": true,
              "mode": "immediate",
              "transition": {
               "duration": 0,
               "easing": "linear"
              }
             }
            ],
            "label": "2022-05-26 21:19:32",
            "method": "animate"
           },
           {
            "args": [
             [
              "2022-05-26 21:19:43"
             ],
             {
              "frame": {
               "duration": 0,
               "redraw": true
              },
              "fromcurrent": true,
              "mode": "immediate",
              "transition": {
               "duration": 0,
               "easing": "linear"
              }
             }
            ],
            "label": "2022-05-26 21:19:43",
            "method": "animate"
           },
           {
            "args": [
             [
              "2022-05-26 21:19:54"
             ],
             {
              "frame": {
               "duration": 0,
               "redraw": true
              },
              "fromcurrent": true,
              "mode": "immediate",
              "transition": {
               "duration": 0,
               "easing": "linear"
              }
             }
            ],
            "label": "2022-05-26 21:19:54",
            "method": "animate"
           },
           {
            "args": [
             [
              "2022-05-26 21:20:05"
             ],
             {
              "frame": {
               "duration": 0,
               "redraw": true
              },
              "fromcurrent": true,
              "mode": "immediate",
              "transition": {
               "duration": 0,
               "easing": "linear"
              }
             }
            ],
            "label": "2022-05-26 21:20:05",
            "method": "animate"
           },
           {
            "args": [
             [
              "2022-05-26 21:20:16"
             ],
             {
              "frame": {
               "duration": 0,
               "redraw": true
              },
              "fromcurrent": true,
              "mode": "immediate",
              "transition": {
               "duration": 0,
               "easing": "linear"
              }
             }
            ],
            "label": "2022-05-26 21:20:16",
            "method": "animate"
           },
           {
            "args": [
             [
              "2022-05-26 21:20:27"
             ],
             {
              "frame": {
               "duration": 0,
               "redraw": true
              },
              "fromcurrent": true,
              "mode": "immediate",
              "transition": {
               "duration": 0,
               "easing": "linear"
              }
             }
            ],
            "label": "2022-05-26 21:20:27",
            "method": "animate"
           },
           {
            "args": [
             [
              "2022-05-26 21:20:38"
             ],
             {
              "frame": {
               "duration": 0,
               "redraw": true
              },
              "fromcurrent": true,
              "mode": "immediate",
              "transition": {
               "duration": 0,
               "easing": "linear"
              }
             }
            ],
            "label": "2022-05-26 21:20:38",
            "method": "animate"
           },
           {
            "args": [
             [
              "2022-05-26 21:20:49"
             ],
             {
              "frame": {
               "duration": 0,
               "redraw": true
              },
              "fromcurrent": true,
              "mode": "immediate",
              "transition": {
               "duration": 0,
               "easing": "linear"
              }
             }
            ],
            "label": "2022-05-26 21:20:49",
            "method": "animate"
           },
           {
            "args": [
             [
              "2022-05-26 21:21:00"
             ],
             {
              "frame": {
               "duration": 0,
               "redraw": true
              },
              "fromcurrent": true,
              "mode": "immediate",
              "transition": {
               "duration": 0,
               "easing": "linear"
              }
             }
            ],
            "label": "2022-05-26 21:21:00",
            "method": "animate"
           },
           {
            "args": [
             [
              "2022-05-26 21:21:11"
             ],
             {
              "frame": {
               "duration": 0,
               "redraw": true
              },
              "fromcurrent": true,
              "mode": "immediate",
              "transition": {
               "duration": 0,
               "easing": "linear"
              }
             }
            ],
            "label": "2022-05-26 21:21:11",
            "method": "animate"
           },
           {
            "args": [
             [
              "2022-05-26 21:21:22"
             ],
             {
              "frame": {
               "duration": 0,
               "redraw": true
              },
              "fromcurrent": true,
              "mode": "immediate",
              "transition": {
               "duration": 0,
               "easing": "linear"
              }
             }
            ],
            "label": "2022-05-26 21:21:22",
            "method": "animate"
           },
           {
            "args": [
             [
              "2022-05-26 21:21:33"
             ],
             {
              "frame": {
               "duration": 0,
               "redraw": true
              },
              "fromcurrent": true,
              "mode": "immediate",
              "transition": {
               "duration": 0,
               "easing": "linear"
              }
             }
            ],
            "label": "2022-05-26 21:21:33",
            "method": "animate"
           },
           {
            "args": [
             [
              "2022-05-26 21:21:44"
             ],
             {
              "frame": {
               "duration": 0,
               "redraw": true
              },
              "fromcurrent": true,
              "mode": "immediate",
              "transition": {
               "duration": 0,
               "easing": "linear"
              }
             }
            ],
            "label": "2022-05-26 21:21:44",
            "method": "animate"
           },
           {
            "args": [
             [
              "2022-05-26 21:21:55"
             ],
             {
              "frame": {
               "duration": 0,
               "redraw": true
              },
              "fromcurrent": true,
              "mode": "immediate",
              "transition": {
               "duration": 0,
               "easing": "linear"
              }
             }
            ],
            "label": "2022-05-26 21:21:55",
            "method": "animate"
           },
           {
            "args": [
             [
              "2022-05-26 21:22:06"
             ],
             {
              "frame": {
               "duration": 0,
               "redraw": true
              },
              "fromcurrent": true,
              "mode": "immediate",
              "transition": {
               "duration": 0,
               "easing": "linear"
              }
             }
            ],
            "label": "2022-05-26 21:22:06",
            "method": "animate"
           },
           {
            "args": [
             [
              "2022-05-26 21:22:17"
             ],
             {
              "frame": {
               "duration": 0,
               "redraw": true
              },
              "fromcurrent": true,
              "mode": "immediate",
              "transition": {
               "duration": 0,
               "easing": "linear"
              }
             }
            ],
            "label": "2022-05-26 21:22:17",
            "method": "animate"
           },
           {
            "args": [
             [
              "2022-05-26 21:22:28"
             ],
             {
              "frame": {
               "duration": 0,
               "redraw": true
              },
              "fromcurrent": true,
              "mode": "immediate",
              "transition": {
               "duration": 0,
               "easing": "linear"
              }
             }
            ],
            "label": "2022-05-26 21:22:28",
            "method": "animate"
           },
           {
            "args": [
             [
              "2022-05-26 21:22:39"
             ],
             {
              "frame": {
               "duration": 0,
               "redraw": true
              },
              "fromcurrent": true,
              "mode": "immediate",
              "transition": {
               "duration": 0,
               "easing": "linear"
              }
             }
            ],
            "label": "2022-05-26 21:22:39",
            "method": "animate"
           },
           {
            "args": [
             [
              "2022-05-26 21:22:50"
             ],
             {
              "frame": {
               "duration": 0,
               "redraw": true
              },
              "fromcurrent": true,
              "mode": "immediate",
              "transition": {
               "duration": 0,
               "easing": "linear"
              }
             }
            ],
            "label": "2022-05-26 21:22:50",
            "method": "animate"
           },
           {
            "args": [
             [
              "2022-05-26 21:23:01"
             ],
             {
              "frame": {
               "duration": 0,
               "redraw": true
              },
              "fromcurrent": true,
              "mode": "immediate",
              "transition": {
               "duration": 0,
               "easing": "linear"
              }
             }
            ],
            "label": "2022-05-26 21:23:01",
            "method": "animate"
           },
           {
            "args": [
             [
              "2022-05-26 21:23:12"
             ],
             {
              "frame": {
               "duration": 0,
               "redraw": true
              },
              "fromcurrent": true,
              "mode": "immediate",
              "transition": {
               "duration": 0,
               "easing": "linear"
              }
             }
            ],
            "label": "2022-05-26 21:23:12",
            "method": "animate"
           },
           {
            "args": [
             [
              "2022-05-26 21:23:23"
             ],
             {
              "frame": {
               "duration": 0,
               "redraw": true
              },
              "fromcurrent": true,
              "mode": "immediate",
              "transition": {
               "duration": 0,
               "easing": "linear"
              }
             }
            ],
            "label": "2022-05-26 21:23:23",
            "method": "animate"
           },
           {
            "args": [
             [
              "2022-05-26 21:23:34"
             ],
             {
              "frame": {
               "duration": 0,
               "redraw": true
              },
              "fromcurrent": true,
              "mode": "immediate",
              "transition": {
               "duration": 0,
               "easing": "linear"
              }
             }
            ],
            "label": "2022-05-26 21:23:34",
            "method": "animate"
           },
           {
            "args": [
             [
              "2022-05-26 21:23:45"
             ],
             {
              "frame": {
               "duration": 0,
               "redraw": true
              },
              "fromcurrent": true,
              "mode": "immediate",
              "transition": {
               "duration": 0,
               "easing": "linear"
              }
             }
            ],
            "label": "2022-05-26 21:23:45",
            "method": "animate"
           },
           {
            "args": [
             [
              "2022-05-26 21:23:56"
             ],
             {
              "frame": {
               "duration": 0,
               "redraw": true
              },
              "fromcurrent": true,
              "mode": "immediate",
              "transition": {
               "duration": 0,
               "easing": "linear"
              }
             }
            ],
            "label": "2022-05-26 21:23:56",
            "method": "animate"
           },
           {
            "args": [
             [
              "2022-05-26 21:24:07"
             ],
             {
              "frame": {
               "duration": 0,
               "redraw": true
              },
              "fromcurrent": true,
              "mode": "immediate",
              "transition": {
               "duration": 0,
               "easing": "linear"
              }
             }
            ],
            "label": "2022-05-26 21:24:07",
            "method": "animate"
           },
           {
            "args": [
             [
              "2022-05-26 21:24:18"
             ],
             {
              "frame": {
               "duration": 0,
               "redraw": true
              },
              "fromcurrent": true,
              "mode": "immediate",
              "transition": {
               "duration": 0,
               "easing": "linear"
              }
             }
            ],
            "label": "2022-05-26 21:24:18",
            "method": "animate"
           },
           {
            "args": [
             [
              "2022-05-26 21:24:29"
             ],
             {
              "frame": {
               "duration": 0,
               "redraw": true
              },
              "fromcurrent": true,
              "mode": "immediate",
              "transition": {
               "duration": 0,
               "easing": "linear"
              }
             }
            ],
            "label": "2022-05-26 21:24:29",
            "method": "animate"
           },
           {
            "args": [
             [
              "2022-05-26 21:24:40"
             ],
             {
              "frame": {
               "duration": 0,
               "redraw": true
              },
              "fromcurrent": true,
              "mode": "immediate",
              "transition": {
               "duration": 0,
               "easing": "linear"
              }
             }
            ],
            "label": "2022-05-26 21:24:40",
            "method": "animate"
           },
           {
            "args": [
             [
              "2022-05-26 21:24:51"
             ],
             {
              "frame": {
               "duration": 0,
               "redraw": true
              },
              "fromcurrent": true,
              "mode": "immediate",
              "transition": {
               "duration": 0,
               "easing": "linear"
              }
             }
            ],
            "label": "2022-05-26 21:24:51",
            "method": "animate"
           },
           {
            "args": [
             [
              "2022-05-26 21:25:02"
             ],
             {
              "frame": {
               "duration": 0,
               "redraw": true
              },
              "fromcurrent": true,
              "mode": "immediate",
              "transition": {
               "duration": 0,
               "easing": "linear"
              }
             }
            ],
            "label": "2022-05-26 21:25:02",
            "method": "animate"
           },
           {
            "args": [
             [
              "2022-05-26 21:25:13"
             ],
             {
              "frame": {
               "duration": 0,
               "redraw": true
              },
              "fromcurrent": true,
              "mode": "immediate",
              "transition": {
               "duration": 0,
               "easing": "linear"
              }
             }
            ],
            "label": "2022-05-26 21:25:13",
            "method": "animate"
           },
           {
            "args": [
             [
              "2022-05-26 21:25:24"
             ],
             {
              "frame": {
               "duration": 0,
               "redraw": true
              },
              "fromcurrent": true,
              "mode": "immediate",
              "transition": {
               "duration": 0,
               "easing": "linear"
              }
             }
            ],
            "label": "2022-05-26 21:25:24",
            "method": "animate"
           },
           {
            "args": [
             [
              "2022-05-26 21:25:35"
             ],
             {
              "frame": {
               "duration": 0,
               "redraw": true
              },
              "fromcurrent": true,
              "mode": "immediate",
              "transition": {
               "duration": 0,
               "easing": "linear"
              }
             }
            ],
            "label": "2022-05-26 21:25:35",
            "method": "animate"
           },
           {
            "args": [
             [
              "2022-05-26 21:25:46"
             ],
             {
              "frame": {
               "duration": 0,
               "redraw": true
              },
              "fromcurrent": true,
              "mode": "immediate",
              "transition": {
               "duration": 0,
               "easing": "linear"
              }
             }
            ],
            "label": "2022-05-26 21:25:46",
            "method": "animate"
           },
           {
            "args": [
             [
              "2022-05-26 21:25:57"
             ],
             {
              "frame": {
               "duration": 0,
               "redraw": true
              },
              "fromcurrent": true,
              "mode": "immediate",
              "transition": {
               "duration": 0,
               "easing": "linear"
              }
             }
            ],
            "label": "2022-05-26 21:25:57",
            "method": "animate"
           },
           {
            "args": [
             [
              "2022-05-26 21:26:08"
             ],
             {
              "frame": {
               "duration": 0,
               "redraw": true
              },
              "fromcurrent": true,
              "mode": "immediate",
              "transition": {
               "duration": 0,
               "easing": "linear"
              }
             }
            ],
            "label": "2022-05-26 21:26:08",
            "method": "animate"
           },
           {
            "args": [
             [
              "2022-05-26 21:26:19"
             ],
             {
              "frame": {
               "duration": 0,
               "redraw": true
              },
              "fromcurrent": true,
              "mode": "immediate",
              "transition": {
               "duration": 0,
               "easing": "linear"
              }
             }
            ],
            "label": "2022-05-26 21:26:19",
            "method": "animate"
           },
           {
            "args": [
             [
              "2022-05-26 21:26:30"
             ],
             {
              "frame": {
               "duration": 0,
               "redraw": true
              },
              "fromcurrent": true,
              "mode": "immediate",
              "transition": {
               "duration": 0,
               "easing": "linear"
              }
             }
            ],
            "label": "2022-05-26 21:26:30",
            "method": "animate"
           },
           {
            "args": [
             [
              "2022-05-26 21:26:41"
             ],
             {
              "frame": {
               "duration": 0,
               "redraw": true
              },
              "fromcurrent": true,
              "mode": "immediate",
              "transition": {
               "duration": 0,
               "easing": "linear"
              }
             }
            ],
            "label": "2022-05-26 21:26:41",
            "method": "animate"
           },
           {
            "args": [
             [
              "2022-05-26 21:26:52"
             ],
             {
              "frame": {
               "duration": 0,
               "redraw": true
              },
              "fromcurrent": true,
              "mode": "immediate",
              "transition": {
               "duration": 0,
               "easing": "linear"
              }
             }
            ],
            "label": "2022-05-26 21:26:52",
            "method": "animate"
           },
           {
            "args": [
             [
              "2022-05-26 21:27:03"
             ],
             {
              "frame": {
               "duration": 0,
               "redraw": true
              },
              "fromcurrent": true,
              "mode": "immediate",
              "transition": {
               "duration": 0,
               "easing": "linear"
              }
             }
            ],
            "label": "2022-05-26 21:27:03",
            "method": "animate"
           },
           {
            "args": [
             [
              "2022-05-26 21:27:14"
             ],
             {
              "frame": {
               "duration": 0,
               "redraw": true
              },
              "fromcurrent": true,
              "mode": "immediate",
              "transition": {
               "duration": 0,
               "easing": "linear"
              }
             }
            ],
            "label": "2022-05-26 21:27:14",
            "method": "animate"
           },
           {
            "args": [
             [
              "2022-05-26 21:27:25"
             ],
             {
              "frame": {
               "duration": 0,
               "redraw": true
              },
              "fromcurrent": true,
              "mode": "immediate",
              "transition": {
               "duration": 0,
               "easing": "linear"
              }
             }
            ],
            "label": "2022-05-26 21:27:25",
            "method": "animate"
           },
           {
            "args": [
             [
              "2022-05-26 21:27:36"
             ],
             {
              "frame": {
               "duration": 0,
               "redraw": true
              },
              "fromcurrent": true,
              "mode": "immediate",
              "transition": {
               "duration": 0,
               "easing": "linear"
              }
             }
            ],
            "label": "2022-05-26 21:27:36",
            "method": "animate"
           },
           {
            "args": [
             [
              "2022-05-26 21:27:47"
             ],
             {
              "frame": {
               "duration": 0,
               "redraw": true
              },
              "fromcurrent": true,
              "mode": "immediate",
              "transition": {
               "duration": 0,
               "easing": "linear"
              }
             }
            ],
            "label": "2022-05-26 21:27:47",
            "method": "animate"
           },
           {
            "args": [
             [
              "2022-05-26 21:27:58"
             ],
             {
              "frame": {
               "duration": 0,
               "redraw": true
              },
              "fromcurrent": true,
              "mode": "immediate",
              "transition": {
               "duration": 0,
               "easing": "linear"
              }
             }
            ],
            "label": "2022-05-26 21:27:58",
            "method": "animate"
           },
           {
            "args": [
             [
              "2022-05-26 21:28:09"
             ],
             {
              "frame": {
               "duration": 0,
               "redraw": true
              },
              "fromcurrent": true,
              "mode": "immediate",
              "transition": {
               "duration": 0,
               "easing": "linear"
              }
             }
            ],
            "label": "2022-05-26 21:28:09",
            "method": "animate"
           },
           {
            "args": [
             [
              "2022-05-26 21:28:20"
             ],
             {
              "frame": {
               "duration": 0,
               "redraw": true
              },
              "fromcurrent": true,
              "mode": "immediate",
              "transition": {
               "duration": 0,
               "easing": "linear"
              }
             }
            ],
            "label": "2022-05-26 21:28:20",
            "method": "animate"
           },
           {
            "args": [
             [
              "2022-05-26 21:28:31"
             ],
             {
              "frame": {
               "duration": 0,
               "redraw": true
              },
              "fromcurrent": true,
              "mode": "immediate",
              "transition": {
               "duration": 0,
               "easing": "linear"
              }
             }
            ],
            "label": "2022-05-26 21:28:31",
            "method": "animate"
           },
           {
            "args": [
             [
              "2022-05-26 21:28:42"
             ],
             {
              "frame": {
               "duration": 0,
               "redraw": true
              },
              "fromcurrent": true,
              "mode": "immediate",
              "transition": {
               "duration": 0,
               "easing": "linear"
              }
             }
            ],
            "label": "2022-05-26 21:28:42",
            "method": "animate"
           },
           {
            "args": [
             [
              "2022-05-26 21:28:53"
             ],
             {
              "frame": {
               "duration": 0,
               "redraw": true
              },
              "fromcurrent": true,
              "mode": "immediate",
              "transition": {
               "duration": 0,
               "easing": "linear"
              }
             }
            ],
            "label": "2022-05-26 21:28:53",
            "method": "animate"
           },
           {
            "args": [
             [
              "2022-05-26 21:29:04"
             ],
             {
              "frame": {
               "duration": 0,
               "redraw": true
              },
              "fromcurrent": true,
              "mode": "immediate",
              "transition": {
               "duration": 0,
               "easing": "linear"
              }
             }
            ],
            "label": "2022-05-26 21:29:04",
            "method": "animate"
           },
           {
            "args": [
             [
              "2022-05-26 21:29:15"
             ],
             {
              "frame": {
               "duration": 0,
               "redraw": true
              },
              "fromcurrent": true,
              "mode": "immediate",
              "transition": {
               "duration": 0,
               "easing": "linear"
              }
             }
            ],
            "label": "2022-05-26 21:29:15",
            "method": "animate"
           },
           {
            "args": [
             [
              "2022-05-26 21:29:26"
             ],
             {
              "frame": {
               "duration": 0,
               "redraw": true
              },
              "fromcurrent": true,
              "mode": "immediate",
              "transition": {
               "duration": 0,
               "easing": "linear"
              }
             }
            ],
            "label": "2022-05-26 21:29:26",
            "method": "animate"
           },
           {
            "args": [
             [
              "2022-05-26 21:29:37"
             ],
             {
              "frame": {
               "duration": 0,
               "redraw": true
              },
              "fromcurrent": true,
              "mode": "immediate",
              "transition": {
               "duration": 0,
               "easing": "linear"
              }
             }
            ],
            "label": "2022-05-26 21:29:37",
            "method": "animate"
           },
           {
            "args": [
             [
              "2022-05-26 21:29:48"
             ],
             {
              "frame": {
               "duration": 0,
               "redraw": true
              },
              "fromcurrent": true,
              "mode": "immediate",
              "transition": {
               "duration": 0,
               "easing": "linear"
              }
             }
            ],
            "label": "2022-05-26 21:29:48",
            "method": "animate"
           },
           {
            "args": [
             [
              "2022-05-26 21:29:59"
             ],
             {
              "frame": {
               "duration": 0,
               "redraw": true
              },
              "fromcurrent": true,
              "mode": "immediate",
              "transition": {
               "duration": 0,
               "easing": "linear"
              }
             }
            ],
            "label": "2022-05-26 21:29:59",
            "method": "animate"
           },
           {
            "args": [
             [
              "2022-05-26 21:30:10"
             ],
             {
              "frame": {
               "duration": 0,
               "redraw": true
              },
              "fromcurrent": true,
              "mode": "immediate",
              "transition": {
               "duration": 0,
               "easing": "linear"
              }
             }
            ],
            "label": "2022-05-26 21:30:10",
            "method": "animate"
           },
           {
            "args": [
             [
              "2022-05-26 21:30:21"
             ],
             {
              "frame": {
               "duration": 0,
               "redraw": true
              },
              "fromcurrent": true,
              "mode": "immediate",
              "transition": {
               "duration": 0,
               "easing": "linear"
              }
             }
            ],
            "label": "2022-05-26 21:30:21",
            "method": "animate"
           },
           {
            "args": [
             [
              "2022-05-26 21:30:32"
             ],
             {
              "frame": {
               "duration": 0,
               "redraw": true
              },
              "fromcurrent": true,
              "mode": "immediate",
              "transition": {
               "duration": 0,
               "easing": "linear"
              }
             }
            ],
            "label": "2022-05-26 21:30:32",
            "method": "animate"
           },
           {
            "args": [
             [
              "2022-05-26 21:30:43"
             ],
             {
              "frame": {
               "duration": 0,
               "redraw": true
              },
              "fromcurrent": true,
              "mode": "immediate",
              "transition": {
               "duration": 0,
               "easing": "linear"
              }
             }
            ],
            "label": "2022-05-26 21:30:43",
            "method": "animate"
           },
           {
            "args": [
             [
              "2022-05-26 21:30:54"
             ],
             {
              "frame": {
               "duration": 0,
               "redraw": true
              },
              "fromcurrent": true,
              "mode": "immediate",
              "transition": {
               "duration": 0,
               "easing": "linear"
              }
             }
            ],
            "label": "2022-05-26 21:30:54",
            "method": "animate"
           },
           {
            "args": [
             [
              "2022-05-26 21:31:05"
             ],
             {
              "frame": {
               "duration": 0,
               "redraw": true
              },
              "fromcurrent": true,
              "mode": "immediate",
              "transition": {
               "duration": 0,
               "easing": "linear"
              }
             }
            ],
            "label": "2022-05-26 21:31:05",
            "method": "animate"
           },
           {
            "args": [
             [
              "2022-05-26 21:31:16"
             ],
             {
              "frame": {
               "duration": 0,
               "redraw": true
              },
              "fromcurrent": true,
              "mode": "immediate",
              "transition": {
               "duration": 0,
               "easing": "linear"
              }
             }
            ],
            "label": "2022-05-26 21:31:16",
            "method": "animate"
           },
           {
            "args": [
             [
              "2022-05-26 21:31:27"
             ],
             {
              "frame": {
               "duration": 0,
               "redraw": true
              },
              "fromcurrent": true,
              "mode": "immediate",
              "transition": {
               "duration": 0,
               "easing": "linear"
              }
             }
            ],
            "label": "2022-05-26 21:31:27",
            "method": "animate"
           },
           {
            "args": [
             [
              "2022-05-26 21:31:38"
             ],
             {
              "frame": {
               "duration": 0,
               "redraw": true
              },
              "fromcurrent": true,
              "mode": "immediate",
              "transition": {
               "duration": 0,
               "easing": "linear"
              }
             }
            ],
            "label": "2022-05-26 21:31:38",
            "method": "animate"
           },
           {
            "args": [
             [
              "2022-05-26 21:31:49"
             ],
             {
              "frame": {
               "duration": 0,
               "redraw": true
              },
              "fromcurrent": true,
              "mode": "immediate",
              "transition": {
               "duration": 0,
               "easing": "linear"
              }
             }
            ],
            "label": "2022-05-26 21:31:49",
            "method": "animate"
           },
           {
            "args": [
             [
              "2022-05-26 21:32:00"
             ],
             {
              "frame": {
               "duration": 0,
               "redraw": true
              },
              "fromcurrent": true,
              "mode": "immediate",
              "transition": {
               "duration": 0,
               "easing": "linear"
              }
             }
            ],
            "label": "2022-05-26 21:32:00",
            "method": "animate"
           },
           {
            "args": [
             [
              "2022-05-26 21:32:11"
             ],
             {
              "frame": {
               "duration": 0,
               "redraw": true
              },
              "fromcurrent": true,
              "mode": "immediate",
              "transition": {
               "duration": 0,
               "easing": "linear"
              }
             }
            ],
            "label": "2022-05-26 21:32:11",
            "method": "animate"
           },
           {
            "args": [
             [
              "2022-05-26 21:32:22"
             ],
             {
              "frame": {
               "duration": 0,
               "redraw": true
              },
              "fromcurrent": true,
              "mode": "immediate",
              "transition": {
               "duration": 0,
               "easing": "linear"
              }
             }
            ],
            "label": "2022-05-26 21:32:22",
            "method": "animate"
           },
           {
            "args": [
             [
              "2022-05-26 21:32:33"
             ],
             {
              "frame": {
               "duration": 0,
               "redraw": true
              },
              "fromcurrent": true,
              "mode": "immediate",
              "transition": {
               "duration": 0,
               "easing": "linear"
              }
             }
            ],
            "label": "2022-05-26 21:32:33",
            "method": "animate"
           },
           {
            "args": [
             [
              "2022-05-26 21:32:44"
             ],
             {
              "frame": {
               "duration": 0,
               "redraw": true
              },
              "fromcurrent": true,
              "mode": "immediate",
              "transition": {
               "duration": 0,
               "easing": "linear"
              }
             }
            ],
            "label": "2022-05-26 21:32:44",
            "method": "animate"
           },
           {
            "args": [
             [
              "2022-05-26 21:32:55"
             ],
             {
              "frame": {
               "duration": 0,
               "redraw": true
              },
              "fromcurrent": true,
              "mode": "immediate",
              "transition": {
               "duration": 0,
               "easing": "linear"
              }
             }
            ],
            "label": "2022-05-26 21:32:55",
            "method": "animate"
           },
           {
            "args": [
             [
              "2022-05-26 21:33:06"
             ],
             {
              "frame": {
               "duration": 0,
               "redraw": true
              },
              "fromcurrent": true,
              "mode": "immediate",
              "transition": {
               "duration": 0,
               "easing": "linear"
              }
             }
            ],
            "label": "2022-05-26 21:33:06",
            "method": "animate"
           },
           {
            "args": [
             [
              "2022-05-26 21:33:17"
             ],
             {
              "frame": {
               "duration": 0,
               "redraw": true
              },
              "fromcurrent": true,
              "mode": "immediate",
              "transition": {
               "duration": 0,
               "easing": "linear"
              }
             }
            ],
            "label": "2022-05-26 21:33:17",
            "method": "animate"
           },
           {
            "args": [
             [
              "2022-05-26 21:33:28"
             ],
             {
              "frame": {
               "duration": 0,
               "redraw": true
              },
              "fromcurrent": true,
              "mode": "immediate",
              "transition": {
               "duration": 0,
               "easing": "linear"
              }
             }
            ],
            "label": "2022-05-26 21:33:28",
            "method": "animate"
           },
           {
            "args": [
             [
              "2022-05-26 21:33:39"
             ],
             {
              "frame": {
               "duration": 0,
               "redraw": true
              },
              "fromcurrent": true,
              "mode": "immediate",
              "transition": {
               "duration": 0,
               "easing": "linear"
              }
             }
            ],
            "label": "2022-05-26 21:33:39",
            "method": "animate"
           },
           {
            "args": [
             [
              "2022-05-26 21:33:50"
             ],
             {
              "frame": {
               "duration": 0,
               "redraw": true
              },
              "fromcurrent": true,
              "mode": "immediate",
              "transition": {
               "duration": 0,
               "easing": "linear"
              }
             }
            ],
            "label": "2022-05-26 21:33:50",
            "method": "animate"
           },
           {
            "args": [
             [
              "2022-05-26 21:34:01"
             ],
             {
              "frame": {
               "duration": 0,
               "redraw": true
              },
              "fromcurrent": true,
              "mode": "immediate",
              "transition": {
               "duration": 0,
               "easing": "linear"
              }
             }
            ],
            "label": "2022-05-26 21:34:01",
            "method": "animate"
           },
           {
            "args": [
             [
              "2022-05-26 21:34:12"
             ],
             {
              "frame": {
               "duration": 0,
               "redraw": true
              },
              "fromcurrent": true,
              "mode": "immediate",
              "transition": {
               "duration": 0,
               "easing": "linear"
              }
             }
            ],
            "label": "2022-05-26 21:34:12",
            "method": "animate"
           },
           {
            "args": [
             [
              "2022-05-26 21:34:23"
             ],
             {
              "frame": {
               "duration": 0,
               "redraw": true
              },
              "fromcurrent": true,
              "mode": "immediate",
              "transition": {
               "duration": 0,
               "easing": "linear"
              }
             }
            ],
            "label": "2022-05-26 21:34:23",
            "method": "animate"
           },
           {
            "args": [
             [
              "2022-05-26 21:34:34"
             ],
             {
              "frame": {
               "duration": 0,
               "redraw": true
              },
              "fromcurrent": true,
              "mode": "immediate",
              "transition": {
               "duration": 0,
               "easing": "linear"
              }
             }
            ],
            "label": "2022-05-26 21:34:34",
            "method": "animate"
           },
           {
            "args": [
             [
              "2022-05-26 21:34:45"
             ],
             {
              "frame": {
               "duration": 0,
               "redraw": true
              },
              "fromcurrent": true,
              "mode": "immediate",
              "transition": {
               "duration": 0,
               "easing": "linear"
              }
             }
            ],
            "label": "2022-05-26 21:34:45",
            "method": "animate"
           },
           {
            "args": [
             [
              "2022-05-26 21:34:56"
             ],
             {
              "frame": {
               "duration": 0,
               "redraw": true
              },
              "fromcurrent": true,
              "mode": "immediate",
              "transition": {
               "duration": 0,
               "easing": "linear"
              }
             }
            ],
            "label": "2022-05-26 21:34:56",
            "method": "animate"
           },
           {
            "args": [
             [
              "2022-05-26 21:35:07"
             ],
             {
              "frame": {
               "duration": 0,
               "redraw": true
              },
              "fromcurrent": true,
              "mode": "immediate",
              "transition": {
               "duration": 0,
               "easing": "linear"
              }
             }
            ],
            "label": "2022-05-26 21:35:07",
            "method": "animate"
           },
           {
            "args": [
             [
              "2022-05-26 21:35:18"
             ],
             {
              "frame": {
               "duration": 0,
               "redraw": true
              },
              "fromcurrent": true,
              "mode": "immediate",
              "transition": {
               "duration": 0,
               "easing": "linear"
              }
             }
            ],
            "label": "2022-05-26 21:35:18",
            "method": "animate"
           },
           {
            "args": [
             [
              "2022-05-26 21:35:29"
             ],
             {
              "frame": {
               "duration": 0,
               "redraw": true
              },
              "fromcurrent": true,
              "mode": "immediate",
              "transition": {
               "duration": 0,
               "easing": "linear"
              }
             }
            ],
            "label": "2022-05-26 21:35:29",
            "method": "animate"
           },
           {
            "args": [
             [
              "2022-05-26 21:35:40"
             ],
             {
              "frame": {
               "duration": 0,
               "redraw": true
              },
              "fromcurrent": true,
              "mode": "immediate",
              "transition": {
               "duration": 0,
               "easing": "linear"
              }
             }
            ],
            "label": "2022-05-26 21:35:40",
            "method": "animate"
           },
           {
            "args": [
             [
              "2022-05-26 21:35:51"
             ],
             {
              "frame": {
               "duration": 0,
               "redraw": true
              },
              "fromcurrent": true,
              "mode": "immediate",
              "transition": {
               "duration": 0,
               "easing": "linear"
              }
             }
            ],
            "label": "2022-05-26 21:35:51",
            "method": "animate"
           },
           {
            "args": [
             [
              "2022-05-26 21:36:02"
             ],
             {
              "frame": {
               "duration": 0,
               "redraw": true
              },
              "fromcurrent": true,
              "mode": "immediate",
              "transition": {
               "duration": 0,
               "easing": "linear"
              }
             }
            ],
            "label": "2022-05-26 21:36:02",
            "method": "animate"
           },
           {
            "args": [
             [
              "2022-05-26 21:36:13"
             ],
             {
              "frame": {
               "duration": 0,
               "redraw": true
              },
              "fromcurrent": true,
              "mode": "immediate",
              "transition": {
               "duration": 0,
               "easing": "linear"
              }
             }
            ],
            "label": "2022-05-26 21:36:13",
            "method": "animate"
           },
           {
            "args": [
             [
              "2022-05-26 21:36:24"
             ],
             {
              "frame": {
               "duration": 0,
               "redraw": true
              },
              "fromcurrent": true,
              "mode": "immediate",
              "transition": {
               "duration": 0,
               "easing": "linear"
              }
             }
            ],
            "label": "2022-05-26 21:36:24",
            "method": "animate"
           },
           {
            "args": [
             [
              "2022-05-26 21:36:35"
             ],
             {
              "frame": {
               "duration": 0,
               "redraw": true
              },
              "fromcurrent": true,
              "mode": "immediate",
              "transition": {
               "duration": 0,
               "easing": "linear"
              }
             }
            ],
            "label": "2022-05-26 21:36:35",
            "method": "animate"
           },
           {
            "args": [
             [
              "2022-05-26 21:36:46"
             ],
             {
              "frame": {
               "duration": 0,
               "redraw": true
              },
              "fromcurrent": true,
              "mode": "immediate",
              "transition": {
               "duration": 0,
               "easing": "linear"
              }
             }
            ],
            "label": "2022-05-26 21:36:46",
            "method": "animate"
           },
           {
            "args": [
             [
              "2022-05-26 21:36:57"
             ],
             {
              "frame": {
               "duration": 0,
               "redraw": true
              },
              "fromcurrent": true,
              "mode": "immediate",
              "transition": {
               "duration": 0,
               "easing": "linear"
              }
             }
            ],
            "label": "2022-05-26 21:36:57",
            "method": "animate"
           },
           {
            "args": [
             [
              "2022-05-26 21:37:08"
             ],
             {
              "frame": {
               "duration": 0,
               "redraw": true
              },
              "fromcurrent": true,
              "mode": "immediate",
              "transition": {
               "duration": 0,
               "easing": "linear"
              }
             }
            ],
            "label": "2022-05-26 21:37:08",
            "method": "animate"
           },
           {
            "args": [
             [
              "2022-05-26 21:37:19"
             ],
             {
              "frame": {
               "duration": 0,
               "redraw": true
              },
              "fromcurrent": true,
              "mode": "immediate",
              "transition": {
               "duration": 0,
               "easing": "linear"
              }
             }
            ],
            "label": "2022-05-26 21:37:19",
            "method": "animate"
           },
           {
            "args": [
             [
              "2022-05-26 21:37:30"
             ],
             {
              "frame": {
               "duration": 0,
               "redraw": true
              },
              "fromcurrent": true,
              "mode": "immediate",
              "transition": {
               "duration": 0,
               "easing": "linear"
              }
             }
            ],
            "label": "2022-05-26 21:37:30",
            "method": "animate"
           },
           {
            "args": [
             [
              "2022-05-26 21:37:41"
             ],
             {
              "frame": {
               "duration": 0,
               "redraw": true
              },
              "fromcurrent": true,
              "mode": "immediate",
              "transition": {
               "duration": 0,
               "easing": "linear"
              }
             }
            ],
            "label": "2022-05-26 21:37:41",
            "method": "animate"
           },
           {
            "args": [
             [
              "2022-05-26 21:37:52"
             ],
             {
              "frame": {
               "duration": 0,
               "redraw": true
              },
              "fromcurrent": true,
              "mode": "immediate",
              "transition": {
               "duration": 0,
               "easing": "linear"
              }
             }
            ],
            "label": "2022-05-26 21:37:52",
            "method": "animate"
           },
           {
            "args": [
             [
              "2022-05-26 21:38:03"
             ],
             {
              "frame": {
               "duration": 0,
               "redraw": true
              },
              "fromcurrent": true,
              "mode": "immediate",
              "transition": {
               "duration": 0,
               "easing": "linear"
              }
             }
            ],
            "label": "2022-05-26 21:38:03",
            "method": "animate"
           },
           {
            "args": [
             [
              "2022-05-26 21:38:14"
             ],
             {
              "frame": {
               "duration": 0,
               "redraw": true
              },
              "fromcurrent": true,
              "mode": "immediate",
              "transition": {
               "duration": 0,
               "easing": "linear"
              }
             }
            ],
            "label": "2022-05-26 21:38:14",
            "method": "animate"
           },
           {
            "args": [
             [
              "2022-05-26 21:38:25"
             ],
             {
              "frame": {
               "duration": 0,
               "redraw": true
              },
              "fromcurrent": true,
              "mode": "immediate",
              "transition": {
               "duration": 0,
               "easing": "linear"
              }
             }
            ],
            "label": "2022-05-26 21:38:25",
            "method": "animate"
           },
           {
            "args": [
             [
              "2022-05-26 21:38:36"
             ],
             {
              "frame": {
               "duration": 0,
               "redraw": true
              },
              "fromcurrent": true,
              "mode": "immediate",
              "transition": {
               "duration": 0,
               "easing": "linear"
              }
             }
            ],
            "label": "2022-05-26 21:38:36",
            "method": "animate"
           },
           {
            "args": [
             [
              "2022-05-26 21:38:47"
             ],
             {
              "frame": {
               "duration": 0,
               "redraw": true
              },
              "fromcurrent": true,
              "mode": "immediate",
              "transition": {
               "duration": 0,
               "easing": "linear"
              }
             }
            ],
            "label": "2022-05-26 21:38:47",
            "method": "animate"
           },
           {
            "args": [
             [
              "2022-05-26 21:38:58"
             ],
             {
              "frame": {
               "duration": 0,
               "redraw": true
              },
              "fromcurrent": true,
              "mode": "immediate",
              "transition": {
               "duration": 0,
               "easing": "linear"
              }
             }
            ],
            "label": "2022-05-26 21:38:58",
            "method": "animate"
           },
           {
            "args": [
             [
              "2022-05-26 21:39:09"
             ],
             {
              "frame": {
               "duration": 0,
               "redraw": true
              },
              "fromcurrent": true,
              "mode": "immediate",
              "transition": {
               "duration": 0,
               "easing": "linear"
              }
             }
            ],
            "label": "2022-05-26 21:39:09",
            "method": "animate"
           },
           {
            "args": [
             [
              "2022-05-26 21:39:20"
             ],
             {
              "frame": {
               "duration": 0,
               "redraw": true
              },
              "fromcurrent": true,
              "mode": "immediate",
              "transition": {
               "duration": 0,
               "easing": "linear"
              }
             }
            ],
            "label": "2022-05-26 21:39:20",
            "method": "animate"
           },
           {
            "args": [
             [
              "2022-05-26 21:39:31"
             ],
             {
              "frame": {
               "duration": 0,
               "redraw": true
              },
              "fromcurrent": true,
              "mode": "immediate",
              "transition": {
               "duration": 0,
               "easing": "linear"
              }
             }
            ],
            "label": "2022-05-26 21:39:31",
            "method": "animate"
           },
           {
            "args": [
             [
              "2022-05-26 21:39:42"
             ],
             {
              "frame": {
               "duration": 0,
               "redraw": true
              },
              "fromcurrent": true,
              "mode": "immediate",
              "transition": {
               "duration": 0,
               "easing": "linear"
              }
             }
            ],
            "label": "2022-05-26 21:39:42",
            "method": "animate"
           },
           {
            "args": [
             [
              "2022-05-26 21:39:53"
             ],
             {
              "frame": {
               "duration": 0,
               "redraw": true
              },
              "fromcurrent": true,
              "mode": "immediate",
              "transition": {
               "duration": 0,
               "easing": "linear"
              }
             }
            ],
            "label": "2022-05-26 21:39:53",
            "method": "animate"
           },
           {
            "args": [
             [
              "2022-05-26 21:40:04"
             ],
             {
              "frame": {
               "duration": 0,
               "redraw": true
              },
              "fromcurrent": true,
              "mode": "immediate",
              "transition": {
               "duration": 0,
               "easing": "linear"
              }
             }
            ],
            "label": "2022-05-26 21:40:04",
            "method": "animate"
           },
           {
            "args": [
             [
              "2022-05-26 21:40:15"
             ],
             {
              "frame": {
               "duration": 0,
               "redraw": true
              },
              "fromcurrent": true,
              "mode": "immediate",
              "transition": {
               "duration": 0,
               "easing": "linear"
              }
             }
            ],
            "label": "2022-05-26 21:40:15",
            "method": "animate"
           },
           {
            "args": [
             [
              "2022-05-26 21:40:26"
             ],
             {
              "frame": {
               "duration": 0,
               "redraw": true
              },
              "fromcurrent": true,
              "mode": "immediate",
              "transition": {
               "duration": 0,
               "easing": "linear"
              }
             }
            ],
            "label": "2022-05-26 21:40:26",
            "method": "animate"
           },
           {
            "args": [
             [
              "2022-05-26 21:40:37"
             ],
             {
              "frame": {
               "duration": 0,
               "redraw": true
              },
              "fromcurrent": true,
              "mode": "immediate",
              "transition": {
               "duration": 0,
               "easing": "linear"
              }
             }
            ],
            "label": "2022-05-26 21:40:37",
            "method": "animate"
           },
           {
            "args": [
             [
              "2022-05-26 21:40:48"
             ],
             {
              "frame": {
               "duration": 0,
               "redraw": true
              },
              "fromcurrent": true,
              "mode": "immediate",
              "transition": {
               "duration": 0,
               "easing": "linear"
              }
             }
            ],
            "label": "2022-05-26 21:40:48",
            "method": "animate"
           },
           {
            "args": [
             [
              "2022-05-26 21:40:59"
             ],
             {
              "frame": {
               "duration": 0,
               "redraw": true
              },
              "fromcurrent": true,
              "mode": "immediate",
              "transition": {
               "duration": 0,
               "easing": "linear"
              }
             }
            ],
            "label": "2022-05-26 21:40:59",
            "method": "animate"
           }
          ],
          "x": 0.1,
          "xanchor": "left",
          "y": 0,
          "yanchor": "top"
         }
        ],
        "template": {
         "data": {
          "bar": [
           {
            "error_x": {
             "color": "#2a3f5f"
            },
            "error_y": {
             "color": "#2a3f5f"
            },
            "marker": {
             "line": {
              "color": "#E5ECF6",
              "width": 0.5
             },
             "pattern": {
              "fillmode": "overlay",
              "size": 10,
              "solidity": 0.2
             }
            },
            "type": "bar"
           }
          ],
          "barpolar": [
           {
            "marker": {
             "line": {
              "color": "#E5ECF6",
              "width": 0.5
             },
             "pattern": {
              "fillmode": "overlay",
              "size": 10,
              "solidity": 0.2
             }
            },
            "type": "barpolar"
           }
          ],
          "carpet": [
           {
            "aaxis": {
             "endlinecolor": "#2a3f5f",
             "gridcolor": "white",
             "linecolor": "white",
             "minorgridcolor": "white",
             "startlinecolor": "#2a3f5f"
            },
            "baxis": {
             "endlinecolor": "#2a3f5f",
             "gridcolor": "white",
             "linecolor": "white",
             "minorgridcolor": "white",
             "startlinecolor": "#2a3f5f"
            },
            "type": "carpet"
           }
          ],
          "choropleth": [
           {
            "colorbar": {
             "outlinewidth": 0,
             "ticks": ""
            },
            "type": "choropleth"
           }
          ],
          "contour": [
           {
            "colorbar": {
             "outlinewidth": 0,
             "ticks": ""
            },
            "colorscale": [
             [
              0,
              "#0d0887"
             ],
             [
              0.1111111111111111,
              "#46039f"
             ],
             [
              0.2222222222222222,
              "#7201a8"
             ],
             [
              0.3333333333333333,
              "#9c179e"
             ],
             [
              0.4444444444444444,
              "#bd3786"
             ],
             [
              0.5555555555555556,
              "#d8576b"
             ],
             [
              0.6666666666666666,
              "#ed7953"
             ],
             [
              0.7777777777777778,
              "#fb9f3a"
             ],
             [
              0.8888888888888888,
              "#fdca26"
             ],
             [
              1,
              "#f0f921"
             ]
            ],
            "type": "contour"
           }
          ],
          "contourcarpet": [
           {
            "colorbar": {
             "outlinewidth": 0,
             "ticks": ""
            },
            "type": "contourcarpet"
           }
          ],
          "heatmap": [
           {
            "colorbar": {
             "outlinewidth": 0,
             "ticks": ""
            },
            "colorscale": [
             [
              0,
              "#0d0887"
             ],
             [
              0.1111111111111111,
              "#46039f"
             ],
             [
              0.2222222222222222,
              "#7201a8"
             ],
             [
              0.3333333333333333,
              "#9c179e"
             ],
             [
              0.4444444444444444,
              "#bd3786"
             ],
             [
              0.5555555555555556,
              "#d8576b"
             ],
             [
              0.6666666666666666,
              "#ed7953"
             ],
             [
              0.7777777777777778,
              "#fb9f3a"
             ],
             [
              0.8888888888888888,
              "#fdca26"
             ],
             [
              1,
              "#f0f921"
             ]
            ],
            "type": "heatmap"
           }
          ],
          "heatmapgl": [
           {
            "colorbar": {
             "outlinewidth": 0,
             "ticks": ""
            },
            "colorscale": [
             [
              0,
              "#0d0887"
             ],
             [
              0.1111111111111111,
              "#46039f"
             ],
             [
              0.2222222222222222,
              "#7201a8"
             ],
             [
              0.3333333333333333,
              "#9c179e"
             ],
             [
              0.4444444444444444,
              "#bd3786"
             ],
             [
              0.5555555555555556,
              "#d8576b"
             ],
             [
              0.6666666666666666,
              "#ed7953"
             ],
             [
              0.7777777777777778,
              "#fb9f3a"
             ],
             [
              0.8888888888888888,
              "#fdca26"
             ],
             [
              1,
              "#f0f921"
             ]
            ],
            "type": "heatmapgl"
           }
          ],
          "histogram": [
           {
            "marker": {
             "pattern": {
              "fillmode": "overlay",
              "size": 10,
              "solidity": 0.2
             }
            },
            "type": "histogram"
           }
          ],
          "histogram2d": [
           {
            "colorbar": {
             "outlinewidth": 0,
             "ticks": ""
            },
            "colorscale": [
             [
              0,
              "#0d0887"
             ],
             [
              0.1111111111111111,
              "#46039f"
             ],
             [
              0.2222222222222222,
              "#7201a8"
             ],
             [
              0.3333333333333333,
              "#9c179e"
             ],
             [
              0.4444444444444444,
              "#bd3786"
             ],
             [
              0.5555555555555556,
              "#d8576b"
             ],
             [
              0.6666666666666666,
              "#ed7953"
             ],
             [
              0.7777777777777778,
              "#fb9f3a"
             ],
             [
              0.8888888888888888,
              "#fdca26"
             ],
             [
              1,
              "#f0f921"
             ]
            ],
            "type": "histogram2d"
           }
          ],
          "histogram2dcontour": [
           {
            "colorbar": {
             "outlinewidth": 0,
             "ticks": ""
            },
            "colorscale": [
             [
              0,
              "#0d0887"
             ],
             [
              0.1111111111111111,
              "#46039f"
             ],
             [
              0.2222222222222222,
              "#7201a8"
             ],
             [
              0.3333333333333333,
              "#9c179e"
             ],
             [
              0.4444444444444444,
              "#bd3786"
             ],
             [
              0.5555555555555556,
              "#d8576b"
             ],
             [
              0.6666666666666666,
              "#ed7953"
             ],
             [
              0.7777777777777778,
              "#fb9f3a"
             ],
             [
              0.8888888888888888,
              "#fdca26"
             ],
             [
              1,
              "#f0f921"
             ]
            ],
            "type": "histogram2dcontour"
           }
          ],
          "mesh3d": [
           {
            "colorbar": {
             "outlinewidth": 0,
             "ticks": ""
            },
            "type": "mesh3d"
           }
          ],
          "parcoords": [
           {
            "line": {
             "colorbar": {
              "outlinewidth": 0,
              "ticks": ""
             }
            },
            "type": "parcoords"
           }
          ],
          "pie": [
           {
            "automargin": true,
            "type": "pie"
           }
          ],
          "scatter": [
           {
            "fillpattern": {
             "fillmode": "overlay",
             "size": 10,
             "solidity": 0.2
            },
            "type": "scatter"
           }
          ],
          "scatter3d": [
           {
            "line": {
             "colorbar": {
              "outlinewidth": 0,
              "ticks": ""
             }
            },
            "marker": {
             "colorbar": {
              "outlinewidth": 0,
              "ticks": ""
             }
            },
            "type": "scatter3d"
           }
          ],
          "scattercarpet": [
           {
            "marker": {
             "colorbar": {
              "outlinewidth": 0,
              "ticks": ""
             }
            },
            "type": "scattercarpet"
           }
          ],
          "scattergeo": [
           {
            "marker": {
             "colorbar": {
              "outlinewidth": 0,
              "ticks": ""
             }
            },
            "type": "scattergeo"
           }
          ],
          "scattergl": [
           {
            "marker": {
             "colorbar": {
              "outlinewidth": 0,
              "ticks": ""
             }
            },
            "type": "scattergl"
           }
          ],
          "scattermapbox": [
           {
            "marker": {
             "colorbar": {
              "outlinewidth": 0,
              "ticks": ""
             }
            },
            "type": "scattermapbox"
           }
          ],
          "scatterpolar": [
           {
            "marker": {
             "colorbar": {
              "outlinewidth": 0,
              "ticks": ""
             }
            },
            "type": "scatterpolar"
           }
          ],
          "scatterpolargl": [
           {
            "marker": {
             "colorbar": {
              "outlinewidth": 0,
              "ticks": ""
             }
            },
            "type": "scatterpolargl"
           }
          ],
          "scatterternary": [
           {
            "marker": {
             "colorbar": {
              "outlinewidth": 0,
              "ticks": ""
             }
            },
            "type": "scatterternary"
           }
          ],
          "surface": [
           {
            "colorbar": {
             "outlinewidth": 0,
             "ticks": ""
            },
            "colorscale": [
             [
              0,
              "#0d0887"
             ],
             [
              0.1111111111111111,
              "#46039f"
             ],
             [
              0.2222222222222222,
              "#7201a8"
             ],
             [
              0.3333333333333333,
              "#9c179e"
             ],
             [
              0.4444444444444444,
              "#bd3786"
             ],
             [
              0.5555555555555556,
              "#d8576b"
             ],
             [
              0.6666666666666666,
              "#ed7953"
             ],
             [
              0.7777777777777778,
              "#fb9f3a"
             ],
             [
              0.8888888888888888,
              "#fdca26"
             ],
             [
              1,
              "#f0f921"
             ]
            ],
            "type": "surface"
           }
          ],
          "table": [
           {
            "cells": {
             "fill": {
              "color": "#EBF0F8"
             },
             "line": {
              "color": "white"
             }
            },
            "header": {
             "fill": {
              "color": "#C8D4E3"
             },
             "line": {
              "color": "white"
             }
            },
            "type": "table"
           }
          ]
         },
         "layout": {
          "annotationdefaults": {
           "arrowcolor": "#2a3f5f",
           "arrowhead": 0,
           "arrowwidth": 1
          },
          "autotypenumbers": "strict",
          "coloraxis": {
           "colorbar": {
            "outlinewidth": 0,
            "ticks": ""
           }
          },
          "colorscale": {
           "diverging": [
            [
             0,
             "#8e0152"
            ],
            [
             0.1,
             "#c51b7d"
            ],
            [
             0.2,
             "#de77ae"
            ],
            [
             0.3,
             "#f1b6da"
            ],
            [
             0.4,
             "#fde0ef"
            ],
            [
             0.5,
             "#f7f7f7"
            ],
            [
             0.6,
             "#e6f5d0"
            ],
            [
             0.7,
             "#b8e186"
            ],
            [
             0.8,
             "#7fbc41"
            ],
            [
             0.9,
             "#4d9221"
            ],
            [
             1,
             "#276419"
            ]
           ],
           "sequential": [
            [
             0,
             "#0d0887"
            ],
            [
             0.1111111111111111,
             "#46039f"
            ],
            [
             0.2222222222222222,
             "#7201a8"
            ],
            [
             0.3333333333333333,
             "#9c179e"
            ],
            [
             0.4444444444444444,
             "#bd3786"
            ],
            [
             0.5555555555555556,
             "#d8576b"
            ],
            [
             0.6666666666666666,
             "#ed7953"
            ],
            [
             0.7777777777777778,
             "#fb9f3a"
            ],
            [
             0.8888888888888888,
             "#fdca26"
            ],
            [
             1,
             "#f0f921"
            ]
           ],
           "sequentialminus": [
            [
             0,
             "#0d0887"
            ],
            [
             0.1111111111111111,
             "#46039f"
            ],
            [
             0.2222222222222222,
             "#7201a8"
            ],
            [
             0.3333333333333333,
             "#9c179e"
            ],
            [
             0.4444444444444444,
             "#bd3786"
            ],
            [
             0.5555555555555556,
             "#d8576b"
            ],
            [
             0.6666666666666666,
             "#ed7953"
            ],
            [
             0.7777777777777778,
             "#fb9f3a"
            ],
            [
             0.8888888888888888,
             "#fdca26"
            ],
            [
             1,
             "#f0f921"
            ]
           ]
          },
          "colorway": [
           "#636efa",
           "#EF553B",
           "#00cc96",
           "#ab63fa",
           "#FFA15A",
           "#19d3f3",
           "#FF6692",
           "#B6E880",
           "#FF97FF",
           "#FECB52"
          ],
          "font": {
           "color": "#2a3f5f"
          },
          "geo": {
           "bgcolor": "white",
           "lakecolor": "white",
           "landcolor": "#E5ECF6",
           "showlakes": true,
           "showland": true,
           "subunitcolor": "white"
          },
          "hoverlabel": {
           "align": "left"
          },
          "hovermode": "closest",
          "mapbox": {
           "style": "light"
          },
          "paper_bgcolor": "white",
          "plot_bgcolor": "#E5ECF6",
          "polar": {
           "angularaxis": {
            "gridcolor": "white",
            "linecolor": "white",
            "ticks": ""
           },
           "bgcolor": "#E5ECF6",
           "radialaxis": {
            "gridcolor": "white",
            "linecolor": "white",
            "ticks": ""
           }
          },
          "scene": {
           "xaxis": {
            "backgroundcolor": "#E5ECF6",
            "gridcolor": "white",
            "gridwidth": 2,
            "linecolor": "white",
            "showbackground": true,
            "ticks": "",
            "zerolinecolor": "white"
           },
           "yaxis": {
            "backgroundcolor": "#E5ECF6",
            "gridcolor": "white",
            "gridwidth": 2,
            "linecolor": "white",
            "showbackground": true,
            "ticks": "",
            "zerolinecolor": "white"
           },
           "zaxis": {
            "backgroundcolor": "#E5ECF6",
            "gridcolor": "white",
            "gridwidth": 2,
            "linecolor": "white",
            "showbackground": true,
            "ticks": "",
            "zerolinecolor": "white"
           }
          },
          "shapedefaults": {
           "line": {
            "color": "#2a3f5f"
           }
          },
          "ternary": {
           "aaxis": {
            "gridcolor": "white",
            "linecolor": "white",
            "ticks": ""
           },
           "baxis": {
            "gridcolor": "white",
            "linecolor": "white",
            "ticks": ""
           },
           "bgcolor": "#E5ECF6",
           "caxis": {
            "gridcolor": "white",
            "linecolor": "white",
            "ticks": ""
           }
          },
          "title": {
           "x": 0.05
          },
          "xaxis": {
           "automargin": true,
           "gridcolor": "white",
           "linecolor": "white",
           "ticks": "",
           "title": {
            "standoff": 15
           },
           "zerolinecolor": "white",
           "zerolinewidth": 2
          },
          "yaxis": {
           "automargin": true,
           "gridcolor": "white",
           "linecolor": "white",
           "ticks": "",
           "title": {
            "standoff": 15
           },
           "zerolinecolor": "white",
           "zerolinewidth": 2
          }
         }
        },
        "updatemenus": [
         {
          "buttons": [
           {
            "args": [
             null,
             {
              "frame": {
               "duration": 500,
               "redraw": true
              },
              "fromcurrent": true,
              "mode": "immediate",
              "transition": {
               "duration": 500,
               "easing": "linear"
              }
             }
            ],
            "label": "&#9654;",
            "method": "animate"
           },
           {
            "args": [
             [
              null
             ],
             {
              "frame": {
               "duration": 0,
               "redraw": true
              },
              "fromcurrent": true,
              "mode": "immediate",
              "transition": {
               "duration": 0,
               "easing": "linear"
              }
             }
            ],
            "label": "&#9724;",
            "method": "animate"
           }
          ],
          "direction": "left",
          "pad": {
           "r": 10,
           "t": 70
          },
          "showactive": false,
          "type": "buttons",
          "x": 0.1,
          "xanchor": "right",
          "y": 0,
          "yanchor": "top"
         }
        ]
       }
      }
     },
     "metadata": {},
     "output_type": "display_data"
    }
   ],
   "source": [
    "# Plot results\n",
    "\n",
    "from attitude_planning.visualization.scanlines import animate_sim_lla\n",
    "\n",
    "animate_sim_lla(simulation)"
   ]
  }
 ],
 "metadata": {
  "kernelspec": {
   "display_name": ".venv",
   "language": "python",
   "name": "python3"
  },
  "language_info": {
   "codemirror_mode": {
    "name": "ipython",
    "version": 3
   },
   "file_extension": ".py",
   "mimetype": "text/x-python",
   "name": "python",
   "nbconvert_exporter": "python",
   "pygments_lexer": "ipython3",
   "version": "3.9.6"
  }
 },
 "nbformat": 4,
 "nbformat_minor": 2
}
