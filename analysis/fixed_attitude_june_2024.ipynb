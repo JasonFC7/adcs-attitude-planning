{
 "cells": [
  {
   "cell_type": "markdown",
   "metadata": {},
   "source": [
    "### Fixed Attitude Analysis\n",
    "\n",
    "# Overview\n",
    "\n",
    "Analysis of using fine pointing mode of the ADCS 10m for imaging passes\n",
    "\n",
    "# Next Steps\n",
    "\n",
    "- Update MOI matrix and surface area"
   ]
  },
  {
   "cell_type": "code",
   "execution_count": 2,
   "metadata": {},
   "outputs": [],
   "source": [
    "import sys\n",
    "sys.path.insert(0, '../')"
   ]
  },
  {
   "cell_type": "code",
   "execution_count": 4,
   "metadata": {},
   "outputs": [
    {
     "name": "stdout",
     "output_type": "stream",
     "text": [
      "Progress: 100% [==========]Request failed with status code 500\n",
      "<html>\n",
      "  <head>\n",
      "    <title>Internal Server Error</title>\n",
      "  </head>\n",
      "  <body>\n",
      "    <h1><p>Internal Server Error</p></h1>\n",
      "    \n",
      "  </body>\n",
      "</html>\n",
      "\n"
     ]
    },
    {
     "ename": "NameError",
     "evalue": "name 'exit' is not defined",
     "output_type": "error",
     "traceback": [
      "\u001b[0;31m---------------------------------------------------------------------------\u001b[0m",
      "\u001b[0;31mNameError\u001b[0m                                 Traceback (most recent call last)",
      "Cell \u001b[0;32mIn[4], line 12\u001b[0m\n\u001b[1;32m     10\u001b[0m config\u001b[38;5;241m.\u001b[39mstep_size \u001b[38;5;241m=\u001b[39m \u001b[38;5;241m0.01\u001b[39m\n\u001b[1;32m     11\u001b[0m sim \u001b[38;5;241m=\u001b[39m TensorTechSimulation(config)\n\u001b[0;32m---> 12\u001b[0m \u001b[43msim\u001b[49m\u001b[38;5;241;43m.\u001b[39;49m\u001b[43mrun\u001b[49m\u001b[43m(\u001b[49m\u001b[43m)\u001b[49m\n\u001b[1;32m     13\u001b[0m sim\u001b[38;5;241m.\u001b[39msave(\u001b[38;5;124m\"\u001b[39m\u001b[38;5;124mfixed_attitude_idr_july_2024.json\u001b[39m\u001b[38;5;124m\"\u001b[39m)\n",
      "File \u001b[0;32m~/Projects/UTAT/adcs-attitude-planning/analysis/../attitude_planning/tools/simulator.py:180\u001b[0m, in \u001b[0;36mTensorTechSimulation.run\u001b[0;34m(self)\u001b[0m\n\u001b[1;32m    178\u001b[0m \u001b[38;5;28mself\u001b[39m\u001b[38;5;241m.\u001b[39m__init_session()\n\u001b[1;32m    179\u001b[0m \u001b[38;5;28mself\u001b[39m\u001b[38;5;241m.\u001b[39m__wait_until_done()\n\u001b[0;32m--> 180\u001b[0m \u001b[38;5;28;43mself\u001b[39;49m\u001b[38;5;241;43m.\u001b[39;49m\u001b[43m__get_result\u001b[49m\u001b[43m(\u001b[49m\u001b[43m)\u001b[49m\n\u001b[1;32m    181\u001b[0m \u001b[38;5;28mself\u001b[39m\u001b[38;5;241m.\u001b[39m__get_all_orbit_points(\u001b[38;5;28mself\u001b[39m\u001b[38;5;241m.\u001b[39msimulation_config\u001b[38;5;241m.\u001b[39mtle_1, \u001b[38;5;28mself\u001b[39m\u001b[38;5;241m.\u001b[39msimulation_config\u001b[38;5;241m.\u001b[39mtle_2)\n",
      "File \u001b[0;32m~/Projects/UTAT/adcs-attitude-planning/analysis/../attitude_planning/tools/simulator.py:144\u001b[0m, in \u001b[0;36mTensorTechSimulation.__get_result\u001b[0;34m(self)\u001b[0m\n\u001b[1;32m    143\u001b[0m \u001b[38;5;28;01mdef\u001b[39;00m \u001b[38;5;21m__get_result\u001b[39m(\u001b[38;5;28mself\u001b[39m):\n\u001b[0;32m--> 144\u001b[0m     response \u001b[38;5;241m=\u001b[39m \u001b[38;5;28;43mself\u001b[39;49m\u001b[38;5;241;43m.\u001b[39;49m\u001b[43m__make_request\u001b[49m\u001b[43m(\u001b[49m\u001b[38;5;124;43m\"\u001b[39;49m\u001b[38;5;124;43mresult\u001b[39;49m\u001b[38;5;124;43m\"\u001b[39;49m\u001b[43m,\u001b[49m\u001b[43m \u001b[49m\u001b[38;5;124;43m\"\u001b[39;49m\u001b[38;5;124;43mGET\u001b[39;49m\u001b[38;5;124;43m\"\u001b[39;49m\u001b[43m)\u001b[49m\n\u001b[1;32m    145\u001b[0m     dataTypes \u001b[38;5;241m=\u001b[39m [\u001b[38;5;124m\"\u001b[39m\u001b[38;5;124momegaData\u001b[39m\u001b[38;5;124m\"\u001b[39m, \u001b[38;5;124m\"\u001b[39m\u001b[38;5;124mmrpData\u001b[39m\u001b[38;5;124m\"\u001b[39m, \u001b[38;5;124m\"\u001b[39m\u001b[38;5;124mdipoleData\u001b[39m\u001b[38;5;124m\"\u001b[39m, \u001b[38;5;124m\"\u001b[39m\u001b[38;5;124mgimbalAngData\u001b[39m\u001b[38;5;124m\"\u001b[39m, \u001b[38;5;124m\"\u001b[39m\u001b[38;5;124mgimbalVecData\u001b[39m\u001b[38;5;124m\"\u001b[39m, \u001b[38;5;124m\"\u001b[39m\u001b[38;5;124mwheelAccData\u001b[39m\u001b[38;5;124m\"\u001b[39m, \u001b[38;5;124m\"\u001b[39m\u001b[38;5;124mwheelVecData\u001b[39m\u001b[38;5;124m\"\u001b[39m, \u001b[38;5;124m\"\u001b[39m\u001b[38;5;124mattitudeErrorData\u001b[39m\u001b[38;5;124m\"\u001b[39m, \u001b[38;5;124m\"\u001b[39m\u001b[38;5;124mdesiredTorqueData\u001b[39m\u001b[38;5;124m\"\u001b[39m]\n\u001b[1;32m    146\u001b[0m     res \u001b[38;5;241m=\u001b[39m {}\n",
      "File \u001b[0;32m~/Projects/UTAT/adcs-attitude-planning/analysis/../attitude_planning/tools/simulator.py:111\u001b[0m, in \u001b[0;36mTensorTechSimulation.__make_request\u001b[0;34m(self, path, method, payload, vital)\u001b[0m\n\u001b[1;32m    109\u001b[0m     \u001b[38;5;28mprint\u001b[39m(\u001b[38;5;124mf\u001b[39m\u001b[38;5;124m\"\u001b[39m\u001b[38;5;124mRequest failed with status code \u001b[39m\u001b[38;5;132;01m{\u001b[39;00mresponse\u001b[38;5;241m.\u001b[39mstatus_code\u001b[38;5;132;01m}\u001b[39;00m\u001b[38;5;124m\"\u001b[39m)\n\u001b[1;32m    110\u001b[0m     \u001b[38;5;28mprint\u001b[39m(response\u001b[38;5;241m.\u001b[39mtext)\n\u001b[0;32m--> 111\u001b[0m     \u001b[43mexit\u001b[49m(\u001b[38;5;241m1\u001b[39m)\n\u001b[1;32m    113\u001b[0m \u001b[38;5;28;01mreturn\u001b[39;00m response\n",
      "\u001b[0;31mNameError\u001b[0m: name 'exit' is not defined"
     ]
    }
   ],
   "source": [
    "from attitude_planning.tools.simulator import TensorTechSimulation, SimulatonConfig, Maneuver, AlignmentAxis\n",
    "\n",
    "MANEUVER = Maneuver.FINE_POINTING\n",
    "ALIGN = AlignmentAxis.POS_Z\n",
    "SIMULATION_TIME = 30\n",
    "QUAT = [\"0.966\", \"0.259\", \"0.0\", \"0.0\"] # +30 deg on X axis\n",
    "\n",
    "config = SimulatonConfig(\"idr\", MANEUVER, SIMULATION_TIME, ALIGN)\n",
    "config.fine_cmd = QUAT\n",
    "config.step_size = 0.01\n",
    "sim = TensorTechSimulation(config)\n",
    "sim.run()\n",
    "sim.save(\"fixed_attitude_idr_july_2024.json\")\n"
   ]
  },
  {
   "cell_type": "code",
   "execution_count": 5,
   "metadata": {},
   "outputs": [
    {
     "name": "stdout",
     "output_type": "stream",
     "text": [
      "177735af-016a-4839-b90d-bd6a9cd8d619\n"
     ]
    }
   ],
   "source": [
    "print(sim.session)"
   ]
  },
  {
   "cell_type": "code",
   "execution_count": 4,
   "metadata": {},
   "outputs": [],
   "source": [
    "from attitude_planning.classes.simulation import Simulation\n",
    "\n",
    "simulation = Simulation.from_tensor_tech_sim(sim)\n",
    "simulation.derive_data()"
   ]
  },
  {
   "cell_type": "code",
   "execution_count": 5,
   "metadata": {},
   "outputs": [
    {
     "data": {
      "application/vnd.plotly.v1+json": {
       "config": {
        "plotlyServerURL": "https://plot.ly"
       },
       "data": [
        {
         "hovertemplate": "date=2022-05-26 21:11:10<br>lat=%{lat}<br>lon=%{lon}<extra></extra>",
         "lat": [
          -4.22706603476726
         ],
         "legendgroup": "",
         "lon": [
          -158.28299355460462
         ],
         "marker": {
          "color": "fuchsia",
          "size": 12
         },
         "mode": "markers",
         "name": "",
         "showlegend": false,
         "subplot": "mapbox",
         "type": "scattermapbox"
        }
       ],
       "frames": [
        {
         "data": [
          {
           "hovertemplate": "date=2022-05-26 21:11:10<br>lat=%{lat}<br>lon=%{lon}<extra></extra>",
           "lat": [
            -4.22706603476726
           ],
           "legendgroup": "",
           "lon": [
            -158.28299355460462
           ],
           "marker": {
            "color": "fuchsia"
           },
           "mode": "markers",
           "name": "",
           "showlegend": false,
           "subplot": "mapbox",
           "type": "scattermapbox"
          }
         ],
         "name": "2022-05-26 21:11:10"
        },
        {
         "data": [
          {
           "hovertemplate": "date=2022-05-26 21:11:11<br>lat=%{lat}<br>lon=%{lon}<extra></extra>",
           "lat": [
            -3.620816345420262
           ],
           "legendgroup": "",
           "lon": [
            -157.26462675115548
           ],
           "marker": {
            "color": "fuchsia"
           },
           "mode": "markers",
           "name": "",
           "showlegend": false,
           "subplot": "mapbox",
           "type": "scattermapbox"
          }
         ],
         "name": "2022-05-26 21:11:11"
        },
        {
         "data": [
          {
           "hovertemplate": "date=2022-05-26 21:11:12<br>lat=%{lat}<br>lon=%{lon}<extra></extra>",
           "lat": [
            -3.1461995428609577
           ],
           "legendgroup": "",
           "lon": [
            -156.32452983672238
           ],
           "marker": {
            "color": "fuchsia"
           },
           "mode": "markers",
           "name": "",
           "showlegend": false,
           "subplot": "mapbox",
           "type": "scattermapbox"
          }
         ],
         "name": "2022-05-26 21:11:12"
        },
        {
         "data": [
          {
           "hovertemplate": "date=2022-05-26 21:11:13<br>lat=%{lat}<br>lon=%{lon}<extra></extra>",
           "lat": [
            -2.818860817780069
           ],
           "legendgroup": "",
           "lon": [
            -155.45483996988065
           ],
           "marker": {
            "color": "fuchsia"
           },
           "mode": "markers",
           "name": "",
           "showlegend": false,
           "subplot": "mapbox",
           "type": "scattermapbox"
          }
         ],
         "name": "2022-05-26 21:11:13"
        },
        {
         "data": [
          {
           "hovertemplate": "date=2022-05-26 21:11:14<br>lat=%{lat}<br>lon=%{lon}<extra></extra>",
           "lat": [
            -2.648360724853452
           ],
           "legendgroup": "",
           "lon": [
            -154.6293141524843
           ],
           "marker": {
            "color": "fuchsia"
           },
           "mode": "markers",
           "name": "",
           "showlegend": false,
           "subplot": "mapbox",
           "type": "scattermapbox"
          }
         ],
         "name": "2022-05-26 21:11:14"
        },
        {
         "data": [
          {
           "hovertemplate": "date=2022-05-26 21:11:15<br>lat=%{lat}<br>lon=%{lon}<extra></extra>",
           "lat": [
            -2.6564072635107983
           ],
           "legendgroup": "",
           "lon": [
            -153.814441659125
           ],
           "marker": {
            "color": "fuchsia"
           },
           "mode": "markers",
           "name": "",
           "showlegend": false,
           "subplot": "mapbox",
           "type": "scattermapbox"
          }
         ],
         "name": "2022-05-26 21:11:15"
        },
        {
         "data": [
          {
           "hovertemplate": "date=2022-05-26 21:11:16<br>lat=%{lat}<br>lon=%{lon}<extra></extra>",
           "lat": [
            -2.8938979443839647
           ],
           "legendgroup": "",
           "lon": [
            -152.97033258391238
           ],
           "marker": {
            "color": "fuchsia"
           },
           "mode": "markers",
           "name": "",
           "showlegend": false,
           "subplot": "mapbox",
           "type": "scattermapbox"
          }
         ],
         "name": "2022-05-26 21:11:16"
        },
        {
         "data": [
          {
           "hovertemplate": "date=2022-05-26 21:11:17<br>lat=%{lat}<br>lon=%{lon}<extra></extra>",
           "lat": [
            -3.4692039312329
           ],
           "legendgroup": "",
           "lon": [
            -152.0455248070436
           ],
           "marker": {
            "color": "fuchsia"
           },
           "mode": "markers",
           "name": "",
           "showlegend": false,
           "subplot": "mapbox",
           "type": "scattermapbox"
          }
         ],
         "name": "2022-05-26 21:11:17"
        },
        {
         "data": [
          {
           "hovertemplate": "date=2022-05-26 21:11:18<br>lat=%{lat}<br>lon=%{lon}<extra></extra>",
           "lat": [
            -4.614982910141723
           ],
           "legendgroup": "",
           "lon": [
            -150.95957082453594
           ],
           "marker": {
            "color": "fuchsia"
           },
           "mode": "markers",
           "name": "",
           "showlegend": false,
           "subplot": "mapbox",
           "type": "scattermapbox"
          }
         ],
         "name": "2022-05-26 21:11:18"
        },
        {
         "data": [
          {
           "hovertemplate": "date=2022-05-26 21:11:29<br>lat=%{lat}<br>lon=%{lon}<extra></extra>",
           "lat": [
            -3.5784014020954595
           ],
           "legendgroup": "",
           "lon": [
            -157.51499043736905
           ],
           "marker": {
            "color": "fuchsia"
           },
           "mode": "markers",
           "name": "",
           "showlegend": false,
           "subplot": "mapbox",
           "type": "scattermapbox"
          }
         ],
         "name": "2022-05-26 21:11:29"
        },
        {
         "data": [
          {
           "hovertemplate": "date=2022-05-26 21:11:30<br>lat=%{lat}<br>lon=%{lon}<extra></extra>",
           "lat": [
            -1.7675867387233604
           ],
           "legendgroup": "",
           "lon": [
            -157.00799201994224
           ],
           "marker": {
            "color": "fuchsia"
           },
           "mode": "markers",
           "name": "",
           "showlegend": false,
           "subplot": "mapbox",
           "type": "scattermapbox"
          }
         ],
         "name": "2022-05-26 21:11:30"
        },
        {
         "data": [
          {
           "hovertemplate": "date=2022-05-26 21:11:31<br>lat=%{lat}<br>lon=%{lon}<extra></extra>",
           "lat": [
            -0.44837987549079583
           ],
           "legendgroup": "",
           "lon": [
            -156.56023269920675
           ],
           "marker": {
            "color": "fuchsia"
           },
           "mode": "markers",
           "name": "",
           "showlegend": false,
           "subplot": "mapbox",
           "type": "scattermapbox"
          }
         ],
         "name": "2022-05-26 21:11:31"
        },
        {
         "data": [
          {
           "hovertemplate": "date=2022-05-26 21:11:32<br>lat=%{lat}<br>lon=%{lon}<extra></extra>",
           "lat": [
            0.5872537743895
           ],
           "legendgroup": "",
           "lon": [
            -156.14887483250672
           ],
           "marker": {
            "color": "fuchsia"
           },
           "mode": "markers",
           "name": "",
           "showlegend": false,
           "subplot": "mapbox",
           "type": "scattermapbox"
          }
         ],
         "name": "2022-05-26 21:11:32"
        },
        {
         "data": [
          {
           "hovertemplate": "date=2022-05-26 21:11:33<br>lat=%{lat}<br>lon=%{lon}<extra></extra>",
           "lat": [
            1.4482001843681291
           ],
           "legendgroup": "",
           "lon": [
            -155.76224615533215
           ],
           "marker": {
            "color": "fuchsia"
           },
           "mode": "markers",
           "name": "",
           "showlegend": false,
           "subplot": "mapbox",
           "type": "scattermapbox"
          }
         ],
         "name": "2022-05-26 21:11:33"
        },
        {
         "data": [
          {
           "hovertemplate": "date=2022-05-26 21:11:34<br>lat=%{lat}<br>lon=%{lon}<extra></extra>",
           "lat": [
            2.19881671715136
           ],
           "legendgroup": "",
           "lon": [
            -155.3929225827828
           ],
           "marker": {
            "color": "fuchsia"
           },
           "mode": "markers",
           "name": "",
           "showlegend": false,
           "subplot": "mapbox",
           "type": "scattermapbox"
          }
         ],
         "name": "2022-05-26 21:11:34"
        },
        {
         "data": [
          {
           "hovertemplate": "date=2022-05-26 21:11:35<br>lat=%{lat}<br>lon=%{lon}<extra></extra>",
           "lat": [
            2.880774342896396
           ],
           "legendgroup": "",
           "lon": [
            -155.03608890017844
           ],
           "marker": {
            "color": "fuchsia"
           },
           "mode": "markers",
           "name": "",
           "showlegend": false,
           "subplot": "mapbox",
           "type": "scattermapbox"
          }
         ],
         "name": "2022-05-26 21:11:35"
        },
        {
         "data": [
          {
           "hovertemplate": "date=2022-05-26 21:11:36<br>lat=%{lat}<br>lon=%{lon}<extra></extra>",
           "lat": [
            3.523392716622078
           ],
           "legendgroup": "",
           "lon": [
            -154.68914085802786
           ],
           "marker": {
            "color": "fuchsia"
           },
           "mode": "markers",
           "name": "",
           "showlegend": false,
           "subplot": "mapbox",
           "type": "scattermapbox"
          }
         ],
         "name": "2022-05-26 21:11:36"
        },
        {
         "data": [
          {
           "hovertemplate": "date=2022-05-26 21:11:37<br>lat=%{lat}<br>lon=%{lon}<extra></extra>",
           "lat": [
            4.149029388856337
           ],
           "legendgroup": "",
           "lon": [
            -154.3517981273694
           ],
           "marker": {
            "color": "fuchsia"
           },
           "mode": "markers",
           "name": "",
           "showlegend": false,
           "subplot": "mapbox",
           "type": "scattermapbox"
          }
         ],
         "name": "2022-05-26 21:11:37"
        },
        {
         "data": [
          {
           "hovertemplate": "date=2022-05-26 21:11:38<br>lat=%{lat}<br>lon=%{lon}<extra></extra>",
           "lat": [
            4.775289431614432
           ],
           "legendgroup": "",
           "lon": [
            -154.0256080292766
           ],
           "marker": {
            "color": "fuchsia"
           },
           "mode": "markers",
           "name": "",
           "showlegend": false,
           "subplot": "mapbox",
           "type": "scattermapbox"
          }
         ],
         "name": "2022-05-26 21:11:38"
        },
        {
         "data": [
          {
           "hovertemplate": "date=2022-05-26 21:11:39<br>lat=%{lat}<br>lon=%{lon}<extra></extra>",
           "lat": [
            5.417253354994975
           ],
           "legendgroup": "",
           "lon": [
            -153.71520175056168
           ],
           "marker": {
            "color": "fuchsia"
           },
           "mode": "markers",
           "name": "",
           "showlegend": false,
           "subplot": "mapbox",
           "type": "scattermapbox"
          }
         ],
         "name": "2022-05-26 21:11:39"
        },
        {
         "data": [
          {
           "hovertemplate": "date=2022-05-26 21:11:40<br>lat=%{lat}<br>lon=%{lon}<extra></extra>",
           "lat": [
            6.089110374840672
           ],
           "legendgroup": "",
           "lon": [
            -153.42969121842088
           ],
           "marker": {
            "color": "fuchsia"
           },
           "mode": "markers",
           "name": "",
           "showlegend": false,
           "subplot": "mapbox",
           "type": "scattermapbox"
          }
         ],
         "name": "2022-05-26 21:11:40"
        },
        {
         "data": [
          {
           "hovertemplate": "date=2022-05-26 21:11:41<br>lat=%{lat}<br>lon=%{lon}<extra></extra>",
           "lat": [
            6.8038144381698675
           ],
           "legendgroup": "",
           "lon": [
            -153.18249033134182
           ],
           "marker": {
            "color": "fuchsia"
           },
           "mode": "markers",
           "name": "",
           "showlegend": false,
           "subplot": "mapbox",
           "type": "scattermapbox"
          }
         ],
         "name": "2022-05-26 21:11:41"
        },
        {
         "data": [
          {
           "hovertemplate": "date=2022-05-26 21:11:42<br>lat=%{lat}<br>lon=%{lon}<extra></extra>",
           "lat": [
            7.573039232001129
           ],
           "legendgroup": "",
           "lon": [
            -152.9915947956115
           ],
           "marker": {
            "color": "fuchsia"
           },
           "mode": "markers",
           "name": "",
           "showlegend": false,
           "subplot": "mapbox",
           "type": "scattermapbox"
          }
         ],
         "name": "2022-05-26 21:11:42"
        },
        {
         "data": [
          {
           "hovertemplate": "date=2022-05-26 21:11:43<br>lat=%{lat}<br>lon=%{lon}<extra></extra>",
           "lat": [
            8.407293415626944
           ],
           "legendgroup": "",
           "lon": [
            -152.87930730849692
           ],
           "marker": {
            "color": "fuchsia"
           },
           "mode": "markers",
           "name": "",
           "showlegend": false,
           "subplot": "mapbox",
           "type": "scattermapbox"
          }
         ],
         "name": "2022-05-26 21:11:43"
        },
        {
         "data": [
          {
           "hovertemplate": "date=2022-05-26 21:11:44<br>lat=%{lat}<br>lon=%{lon}<extra></extra>",
           "lat": [
            9.316723797416397
           ],
           "legendgroup": "",
           "lon": [
            -152.87140867039727
           ],
           "marker": {
            "color": "fuchsia"
           },
           "mode": "markers",
           "name": "",
           "showlegend": false,
           "subplot": "mapbox",
           "type": "scattermapbox"
          }
         ],
         "name": "2022-05-26 21:11:44"
        }
       ],
       "layout": {
        "geo": {
         "center": {
          "lat": 1.0911931055074886,
          "lon": -154.69223051425143
         }
        },
        "legend": {
         "tracegroupgap": 0
        },
        "mapbox": {
         "center": {
          "lat": 1.0911931055074886,
          "lon": -154.69223051425143
         },
         "domain": {
          "x": [
           0,
           1
          ],
          "y": [
           0,
           1
          ]
         },
         "style": "open-street-map",
         "zoom": 3
        },
        "margin": {
         "b": 0,
         "l": 0,
         "r": 0,
         "t": 0
        },
        "sliders": [
         {
          "active": 0,
          "currentvalue": {
           "prefix": "date="
          },
          "len": 0.9,
          "pad": {
           "b": 10,
           "t": 60
          },
          "steps": [
           {
            "args": [
             [
              "2022-05-26 21:11:10"
             ],
             {
              "frame": {
               "duration": 0,
               "redraw": true
              },
              "fromcurrent": true,
              "mode": "immediate",
              "transition": {
               "duration": 0,
               "easing": "linear"
              }
             }
            ],
            "label": "2022-05-26 21:11:10",
            "method": "animate"
           },
           {
            "args": [
             [
              "2022-05-26 21:11:11"
             ],
             {
              "frame": {
               "duration": 0,
               "redraw": true
              },
              "fromcurrent": true,
              "mode": "immediate",
              "transition": {
               "duration": 0,
               "easing": "linear"
              }
             }
            ],
            "label": "2022-05-26 21:11:11",
            "method": "animate"
           },
           {
            "args": [
             [
              "2022-05-26 21:11:12"
             ],
             {
              "frame": {
               "duration": 0,
               "redraw": true
              },
              "fromcurrent": true,
              "mode": "immediate",
              "transition": {
               "duration": 0,
               "easing": "linear"
              }
             }
            ],
            "label": "2022-05-26 21:11:12",
            "method": "animate"
           },
           {
            "args": [
             [
              "2022-05-26 21:11:13"
             ],
             {
              "frame": {
               "duration": 0,
               "redraw": true
              },
              "fromcurrent": true,
              "mode": "immediate",
              "transition": {
               "duration": 0,
               "easing": "linear"
              }
             }
            ],
            "label": "2022-05-26 21:11:13",
            "method": "animate"
           },
           {
            "args": [
             [
              "2022-05-26 21:11:14"
             ],
             {
              "frame": {
               "duration": 0,
               "redraw": true
              },
              "fromcurrent": true,
              "mode": "immediate",
              "transition": {
               "duration": 0,
               "easing": "linear"
              }
             }
            ],
            "label": "2022-05-26 21:11:14",
            "method": "animate"
           },
           {
            "args": [
             [
              "2022-05-26 21:11:15"
             ],
             {
              "frame": {
               "duration": 0,
               "redraw": true
              },
              "fromcurrent": true,
              "mode": "immediate",
              "transition": {
               "duration": 0,
               "easing": "linear"
              }
             }
            ],
            "label": "2022-05-26 21:11:15",
            "method": "animate"
           },
           {
            "args": [
             [
              "2022-05-26 21:11:16"
             ],
             {
              "frame": {
               "duration": 0,
               "redraw": true
              },
              "fromcurrent": true,
              "mode": "immediate",
              "transition": {
               "duration": 0,
               "easing": "linear"
              }
             }
            ],
            "label": "2022-05-26 21:11:16",
            "method": "animate"
           },
           {
            "args": [
             [
              "2022-05-26 21:11:17"
             ],
             {
              "frame": {
               "duration": 0,
               "redraw": true
              },
              "fromcurrent": true,
              "mode": "immediate",
              "transition": {
               "duration": 0,
               "easing": "linear"
              }
             }
            ],
            "label": "2022-05-26 21:11:17",
            "method": "animate"
           },
           {
            "args": [
             [
              "2022-05-26 21:11:18"
             ],
             {
              "frame": {
               "duration": 0,
               "redraw": true
              },
              "fromcurrent": true,
              "mode": "immediate",
              "transition": {
               "duration": 0,
               "easing": "linear"
              }
             }
            ],
            "label": "2022-05-26 21:11:18",
            "method": "animate"
           },
           {
            "args": [
             [
              "2022-05-26 21:11:29"
             ],
             {
              "frame": {
               "duration": 0,
               "redraw": true
              },
              "fromcurrent": true,
              "mode": "immediate",
              "transition": {
               "duration": 0,
               "easing": "linear"
              }
             }
            ],
            "label": "2022-05-26 21:11:29",
            "method": "animate"
           },
           {
            "args": [
             [
              "2022-05-26 21:11:30"
             ],
             {
              "frame": {
               "duration": 0,
               "redraw": true
              },
              "fromcurrent": true,
              "mode": "immediate",
              "transition": {
               "duration": 0,
               "easing": "linear"
              }
             }
            ],
            "label": "2022-05-26 21:11:30",
            "method": "animate"
           },
           {
            "args": [
             [
              "2022-05-26 21:11:31"
             ],
             {
              "frame": {
               "duration": 0,
               "redraw": true
              },
              "fromcurrent": true,
              "mode": "immediate",
              "transition": {
               "duration": 0,
               "easing": "linear"
              }
             }
            ],
            "label": "2022-05-26 21:11:31",
            "method": "animate"
           },
           {
            "args": [
             [
              "2022-05-26 21:11:32"
             ],
             {
              "frame": {
               "duration": 0,
               "redraw": true
              },
              "fromcurrent": true,
              "mode": "immediate",
              "transition": {
               "duration": 0,
               "easing": "linear"
              }
             }
            ],
            "label": "2022-05-26 21:11:32",
            "method": "animate"
           },
           {
            "args": [
             [
              "2022-05-26 21:11:33"
             ],
             {
              "frame": {
               "duration": 0,
               "redraw": true
              },
              "fromcurrent": true,
              "mode": "immediate",
              "transition": {
               "duration": 0,
               "easing": "linear"
              }
             }
            ],
            "label": "2022-05-26 21:11:33",
            "method": "animate"
           },
           {
            "args": [
             [
              "2022-05-26 21:11:34"
             ],
             {
              "frame": {
               "duration": 0,
               "redraw": true
              },
              "fromcurrent": true,
              "mode": "immediate",
              "transition": {
               "duration": 0,
               "easing": "linear"
              }
             }
            ],
            "label": "2022-05-26 21:11:34",
            "method": "animate"
           },
           {
            "args": [
             [
              "2022-05-26 21:11:35"
             ],
             {
              "frame": {
               "duration": 0,
               "redraw": true
              },
              "fromcurrent": true,
              "mode": "immediate",
              "transition": {
               "duration": 0,
               "easing": "linear"
              }
             }
            ],
            "label": "2022-05-26 21:11:35",
            "method": "animate"
           },
           {
            "args": [
             [
              "2022-05-26 21:11:36"
             ],
             {
              "frame": {
               "duration": 0,
               "redraw": true
              },
              "fromcurrent": true,
              "mode": "immediate",
              "transition": {
               "duration": 0,
               "easing": "linear"
              }
             }
            ],
            "label": "2022-05-26 21:11:36",
            "method": "animate"
           },
           {
            "args": [
             [
              "2022-05-26 21:11:37"
             ],
             {
              "frame": {
               "duration": 0,
               "redraw": true
              },
              "fromcurrent": true,
              "mode": "immediate",
              "transition": {
               "duration": 0,
               "easing": "linear"
              }
             }
            ],
            "label": "2022-05-26 21:11:37",
            "method": "animate"
           },
           {
            "args": [
             [
              "2022-05-26 21:11:38"
             ],
             {
              "frame": {
               "duration": 0,
               "redraw": true
              },
              "fromcurrent": true,
              "mode": "immediate",
              "transition": {
               "duration": 0,
               "easing": "linear"
              }
             }
            ],
            "label": "2022-05-26 21:11:38",
            "method": "animate"
           },
           {
            "args": [
             [
              "2022-05-26 21:11:39"
             ],
             {
              "frame": {
               "duration": 0,
               "redraw": true
              },
              "fromcurrent": true,
              "mode": "immediate",
              "transition": {
               "duration": 0,
               "easing": "linear"
              }
             }
            ],
            "label": "2022-05-26 21:11:39",
            "method": "animate"
           },
           {
            "args": [
             [
              "2022-05-26 21:11:40"
             ],
             {
              "frame": {
               "duration": 0,
               "redraw": true
              },
              "fromcurrent": true,
              "mode": "immediate",
              "transition": {
               "duration": 0,
               "easing": "linear"
              }
             }
            ],
            "label": "2022-05-26 21:11:40",
            "method": "animate"
           },
           {
            "args": [
             [
              "2022-05-26 21:11:41"
             ],
             {
              "frame": {
               "duration": 0,
               "redraw": true
              },
              "fromcurrent": true,
              "mode": "immediate",
              "transition": {
               "duration": 0,
               "easing": "linear"
              }
             }
            ],
            "label": "2022-05-26 21:11:41",
            "method": "animate"
           },
           {
            "args": [
             [
              "2022-05-26 21:11:42"
             ],
             {
              "frame": {
               "duration": 0,
               "redraw": true
              },
              "fromcurrent": true,
              "mode": "immediate",
              "transition": {
               "duration": 0,
               "easing": "linear"
              }
             }
            ],
            "label": "2022-05-26 21:11:42",
            "method": "animate"
           },
           {
            "args": [
             [
              "2022-05-26 21:11:43"
             ],
             {
              "frame": {
               "duration": 0,
               "redraw": true
              },
              "fromcurrent": true,
              "mode": "immediate",
              "transition": {
               "duration": 0,
               "easing": "linear"
              }
             }
            ],
            "label": "2022-05-26 21:11:43",
            "method": "animate"
           },
           {
            "args": [
             [
              "2022-05-26 21:11:44"
             ],
             {
              "frame": {
               "duration": 0,
               "redraw": true
              },
              "fromcurrent": true,
              "mode": "immediate",
              "transition": {
               "duration": 0,
               "easing": "linear"
              }
             }
            ],
            "label": "2022-05-26 21:11:44",
            "method": "animate"
           }
          ],
          "x": 0.1,
          "xanchor": "left",
          "y": 0,
          "yanchor": "top"
         }
        ],
        "template": {
         "data": {
          "bar": [
           {
            "error_x": {
             "color": "#2a3f5f"
            },
            "error_y": {
             "color": "#2a3f5f"
            },
            "marker": {
             "line": {
              "color": "#E5ECF6",
              "width": 0.5
             },
             "pattern": {
              "fillmode": "overlay",
              "size": 10,
              "solidity": 0.2
             }
            },
            "type": "bar"
           }
          ],
          "barpolar": [
           {
            "marker": {
             "line": {
              "color": "#E5ECF6",
              "width": 0.5
             },
             "pattern": {
              "fillmode": "overlay",
              "size": 10,
              "solidity": 0.2
             }
            },
            "type": "barpolar"
           }
          ],
          "carpet": [
           {
            "aaxis": {
             "endlinecolor": "#2a3f5f",
             "gridcolor": "white",
             "linecolor": "white",
             "minorgridcolor": "white",
             "startlinecolor": "#2a3f5f"
            },
            "baxis": {
             "endlinecolor": "#2a3f5f",
             "gridcolor": "white",
             "linecolor": "white",
             "minorgridcolor": "white",
             "startlinecolor": "#2a3f5f"
            },
            "type": "carpet"
           }
          ],
          "choropleth": [
           {
            "colorbar": {
             "outlinewidth": 0,
             "ticks": ""
            },
            "type": "choropleth"
           }
          ],
          "contour": [
           {
            "colorbar": {
             "outlinewidth": 0,
             "ticks": ""
            },
            "colorscale": [
             [
              0,
              "#0d0887"
             ],
             [
              0.1111111111111111,
              "#46039f"
             ],
             [
              0.2222222222222222,
              "#7201a8"
             ],
             [
              0.3333333333333333,
              "#9c179e"
             ],
             [
              0.4444444444444444,
              "#bd3786"
             ],
             [
              0.5555555555555556,
              "#d8576b"
             ],
             [
              0.6666666666666666,
              "#ed7953"
             ],
             [
              0.7777777777777778,
              "#fb9f3a"
             ],
             [
              0.8888888888888888,
              "#fdca26"
             ],
             [
              1,
              "#f0f921"
             ]
            ],
            "type": "contour"
           }
          ],
          "contourcarpet": [
           {
            "colorbar": {
             "outlinewidth": 0,
             "ticks": ""
            },
            "type": "contourcarpet"
           }
          ],
          "heatmap": [
           {
            "colorbar": {
             "outlinewidth": 0,
             "ticks": ""
            },
            "colorscale": [
             [
              0,
              "#0d0887"
             ],
             [
              0.1111111111111111,
              "#46039f"
             ],
             [
              0.2222222222222222,
              "#7201a8"
             ],
             [
              0.3333333333333333,
              "#9c179e"
             ],
             [
              0.4444444444444444,
              "#bd3786"
             ],
             [
              0.5555555555555556,
              "#d8576b"
             ],
             [
              0.6666666666666666,
              "#ed7953"
             ],
             [
              0.7777777777777778,
              "#fb9f3a"
             ],
             [
              0.8888888888888888,
              "#fdca26"
             ],
             [
              1,
              "#f0f921"
             ]
            ],
            "type": "heatmap"
           }
          ],
          "heatmapgl": [
           {
            "colorbar": {
             "outlinewidth": 0,
             "ticks": ""
            },
            "colorscale": [
             [
              0,
              "#0d0887"
             ],
             [
              0.1111111111111111,
              "#46039f"
             ],
             [
              0.2222222222222222,
              "#7201a8"
             ],
             [
              0.3333333333333333,
              "#9c179e"
             ],
             [
              0.4444444444444444,
              "#bd3786"
             ],
             [
              0.5555555555555556,
              "#d8576b"
             ],
             [
              0.6666666666666666,
              "#ed7953"
             ],
             [
              0.7777777777777778,
              "#fb9f3a"
             ],
             [
              0.8888888888888888,
              "#fdca26"
             ],
             [
              1,
              "#f0f921"
             ]
            ],
            "type": "heatmapgl"
           }
          ],
          "histogram": [
           {
            "marker": {
             "pattern": {
              "fillmode": "overlay",
              "size": 10,
              "solidity": 0.2
             }
            },
            "type": "histogram"
           }
          ],
          "histogram2d": [
           {
            "colorbar": {
             "outlinewidth": 0,
             "ticks": ""
            },
            "colorscale": [
             [
              0,
              "#0d0887"
             ],
             [
              0.1111111111111111,
              "#46039f"
             ],
             [
              0.2222222222222222,
              "#7201a8"
             ],
             [
              0.3333333333333333,
              "#9c179e"
             ],
             [
              0.4444444444444444,
              "#bd3786"
             ],
             [
              0.5555555555555556,
              "#d8576b"
             ],
             [
              0.6666666666666666,
              "#ed7953"
             ],
             [
              0.7777777777777778,
              "#fb9f3a"
             ],
             [
              0.8888888888888888,
              "#fdca26"
             ],
             [
              1,
              "#f0f921"
             ]
            ],
            "type": "histogram2d"
           }
          ],
          "histogram2dcontour": [
           {
            "colorbar": {
             "outlinewidth": 0,
             "ticks": ""
            },
            "colorscale": [
             [
              0,
              "#0d0887"
             ],
             [
              0.1111111111111111,
              "#46039f"
             ],
             [
              0.2222222222222222,
              "#7201a8"
             ],
             [
              0.3333333333333333,
              "#9c179e"
             ],
             [
              0.4444444444444444,
              "#bd3786"
             ],
             [
              0.5555555555555556,
              "#d8576b"
             ],
             [
              0.6666666666666666,
              "#ed7953"
             ],
             [
              0.7777777777777778,
              "#fb9f3a"
             ],
             [
              0.8888888888888888,
              "#fdca26"
             ],
             [
              1,
              "#f0f921"
             ]
            ],
            "type": "histogram2dcontour"
           }
          ],
          "mesh3d": [
           {
            "colorbar": {
             "outlinewidth": 0,
             "ticks": ""
            },
            "type": "mesh3d"
           }
          ],
          "parcoords": [
           {
            "line": {
             "colorbar": {
              "outlinewidth": 0,
              "ticks": ""
             }
            },
            "type": "parcoords"
           }
          ],
          "pie": [
           {
            "automargin": true,
            "type": "pie"
           }
          ],
          "scatter": [
           {
            "fillpattern": {
             "fillmode": "overlay",
             "size": 10,
             "solidity": 0.2
            },
            "type": "scatter"
           }
          ],
          "scatter3d": [
           {
            "line": {
             "colorbar": {
              "outlinewidth": 0,
              "ticks": ""
             }
            },
            "marker": {
             "colorbar": {
              "outlinewidth": 0,
              "ticks": ""
             }
            },
            "type": "scatter3d"
           }
          ],
          "scattercarpet": [
           {
            "marker": {
             "colorbar": {
              "outlinewidth": 0,
              "ticks": ""
             }
            },
            "type": "scattercarpet"
           }
          ],
          "scattergeo": [
           {
            "marker": {
             "colorbar": {
              "outlinewidth": 0,
              "ticks": ""
             }
            },
            "type": "scattergeo"
           }
          ],
          "scattergl": [
           {
            "marker": {
             "colorbar": {
              "outlinewidth": 0,
              "ticks": ""
             }
            },
            "type": "scattergl"
           }
          ],
          "scattermapbox": [
           {
            "marker": {
             "colorbar": {
              "outlinewidth": 0,
              "ticks": ""
             }
            },
            "type": "scattermapbox"
           }
          ],
          "scatterpolar": [
           {
            "marker": {
             "colorbar": {
              "outlinewidth": 0,
              "ticks": ""
             }
            },
            "type": "scatterpolar"
           }
          ],
          "scatterpolargl": [
           {
            "marker": {
             "colorbar": {
              "outlinewidth": 0,
              "ticks": ""
             }
            },
            "type": "scatterpolargl"
           }
          ],
          "scatterternary": [
           {
            "marker": {
             "colorbar": {
              "outlinewidth": 0,
              "ticks": ""
             }
            },
            "type": "scatterternary"
           }
          ],
          "surface": [
           {
            "colorbar": {
             "outlinewidth": 0,
             "ticks": ""
            },
            "colorscale": [
             [
              0,
              "#0d0887"
             ],
             [
              0.1111111111111111,
              "#46039f"
             ],
             [
              0.2222222222222222,
              "#7201a8"
             ],
             [
              0.3333333333333333,
              "#9c179e"
             ],
             [
              0.4444444444444444,
              "#bd3786"
             ],
             [
              0.5555555555555556,
              "#d8576b"
             ],
             [
              0.6666666666666666,
              "#ed7953"
             ],
             [
              0.7777777777777778,
              "#fb9f3a"
             ],
             [
              0.8888888888888888,
              "#fdca26"
             ],
             [
              1,
              "#f0f921"
             ]
            ],
            "type": "surface"
           }
          ],
          "table": [
           {
            "cells": {
             "fill": {
              "color": "#EBF0F8"
             },
             "line": {
              "color": "white"
             }
            },
            "header": {
             "fill": {
              "color": "#C8D4E3"
             },
             "line": {
              "color": "white"
             }
            },
            "type": "table"
           }
          ]
         },
         "layout": {
          "annotationdefaults": {
           "arrowcolor": "#2a3f5f",
           "arrowhead": 0,
           "arrowwidth": 1
          },
          "autotypenumbers": "strict",
          "coloraxis": {
           "colorbar": {
            "outlinewidth": 0,
            "ticks": ""
           }
          },
          "colorscale": {
           "diverging": [
            [
             0,
             "#8e0152"
            ],
            [
             0.1,
             "#c51b7d"
            ],
            [
             0.2,
             "#de77ae"
            ],
            [
             0.3,
             "#f1b6da"
            ],
            [
             0.4,
             "#fde0ef"
            ],
            [
             0.5,
             "#f7f7f7"
            ],
            [
             0.6,
             "#e6f5d0"
            ],
            [
             0.7,
             "#b8e186"
            ],
            [
             0.8,
             "#7fbc41"
            ],
            [
             0.9,
             "#4d9221"
            ],
            [
             1,
             "#276419"
            ]
           ],
           "sequential": [
            [
             0,
             "#0d0887"
            ],
            [
             0.1111111111111111,
             "#46039f"
            ],
            [
             0.2222222222222222,
             "#7201a8"
            ],
            [
             0.3333333333333333,
             "#9c179e"
            ],
            [
             0.4444444444444444,
             "#bd3786"
            ],
            [
             0.5555555555555556,
             "#d8576b"
            ],
            [
             0.6666666666666666,
             "#ed7953"
            ],
            [
             0.7777777777777778,
             "#fb9f3a"
            ],
            [
             0.8888888888888888,
             "#fdca26"
            ],
            [
             1,
             "#f0f921"
            ]
           ],
           "sequentialminus": [
            [
             0,
             "#0d0887"
            ],
            [
             0.1111111111111111,
             "#46039f"
            ],
            [
             0.2222222222222222,
             "#7201a8"
            ],
            [
             0.3333333333333333,
             "#9c179e"
            ],
            [
             0.4444444444444444,
             "#bd3786"
            ],
            [
             0.5555555555555556,
             "#d8576b"
            ],
            [
             0.6666666666666666,
             "#ed7953"
            ],
            [
             0.7777777777777778,
             "#fb9f3a"
            ],
            [
             0.8888888888888888,
             "#fdca26"
            ],
            [
             1,
             "#f0f921"
            ]
           ]
          },
          "colorway": [
           "#636efa",
           "#EF553B",
           "#00cc96",
           "#ab63fa",
           "#FFA15A",
           "#19d3f3",
           "#FF6692",
           "#B6E880",
           "#FF97FF",
           "#FECB52"
          ],
          "font": {
           "color": "#2a3f5f"
          },
          "geo": {
           "bgcolor": "white",
           "lakecolor": "white",
           "landcolor": "#E5ECF6",
           "showlakes": true,
           "showland": true,
           "subunitcolor": "white"
          },
          "hoverlabel": {
           "align": "left"
          },
          "hovermode": "closest",
          "mapbox": {
           "style": "light"
          },
          "paper_bgcolor": "white",
          "plot_bgcolor": "#E5ECF6",
          "polar": {
           "angularaxis": {
            "gridcolor": "white",
            "linecolor": "white",
            "ticks": ""
           },
           "bgcolor": "#E5ECF6",
           "radialaxis": {
            "gridcolor": "white",
            "linecolor": "white",
            "ticks": ""
           }
          },
          "scene": {
           "xaxis": {
            "backgroundcolor": "#E5ECF6",
            "gridcolor": "white",
            "gridwidth": 2,
            "linecolor": "white",
            "showbackground": true,
            "ticks": "",
            "zerolinecolor": "white"
           },
           "yaxis": {
            "backgroundcolor": "#E5ECF6",
            "gridcolor": "white",
            "gridwidth": 2,
            "linecolor": "white",
            "showbackground": true,
            "ticks": "",
            "zerolinecolor": "white"
           },
           "zaxis": {
            "backgroundcolor": "#E5ECF6",
            "gridcolor": "white",
            "gridwidth": 2,
            "linecolor": "white",
            "showbackground": true,
            "ticks": "",
            "zerolinecolor": "white"
           }
          },
          "shapedefaults": {
           "line": {
            "color": "#2a3f5f"
           }
          },
          "ternary": {
           "aaxis": {
            "gridcolor": "white",
            "linecolor": "white",
            "ticks": ""
           },
           "baxis": {
            "gridcolor": "white",
            "linecolor": "white",
            "ticks": ""
           },
           "bgcolor": "#E5ECF6",
           "caxis": {
            "gridcolor": "white",
            "linecolor": "white",
            "ticks": ""
           }
          },
          "title": {
           "x": 0.05
          },
          "xaxis": {
           "automargin": true,
           "gridcolor": "white",
           "linecolor": "white",
           "ticks": "",
           "title": {
            "standoff": 15
           },
           "zerolinecolor": "white",
           "zerolinewidth": 2
          },
          "yaxis": {
           "automargin": true,
           "gridcolor": "white",
           "linecolor": "white",
           "ticks": "",
           "title": {
            "standoff": 15
           },
           "zerolinecolor": "white",
           "zerolinewidth": 2
          }
         }
        },
        "updatemenus": [
         {
          "buttons": [
           {
            "args": [
             null,
             {
              "frame": {
               "duration": 500,
               "redraw": true
              },
              "fromcurrent": true,
              "mode": "immediate",
              "transition": {
               "duration": 500,
               "easing": "linear"
              }
             }
            ],
            "label": "&#9654;",
            "method": "animate"
           },
           {
            "args": [
             [
              null
             ],
             {
              "frame": {
               "duration": 0,
               "redraw": true
              },
              "fromcurrent": true,
              "mode": "immediate",
              "transition": {
               "duration": 0,
               "easing": "linear"
              }
             }
            ],
            "label": "&#9724;",
            "method": "animate"
           }
          ],
          "direction": "left",
          "pad": {
           "r": 10,
           "t": 70
          },
          "showactive": false,
          "type": "buttons",
          "x": 0.1,
          "xanchor": "right",
          "y": 0,
          "yanchor": "top"
         }
        ]
       }
      }
     },
     "metadata": {},
     "output_type": "display_data"
    }
   ],
   "source": [
    "# Plot results\n",
    "\n",
    "from attitude_planning.visualization.scanlines import animate_sim_lla\n",
    "\n",
    "animate_sim_lla(simulation)"
   ]
  },
  {
   "cell_type": "code",
   "execution_count": 6,
   "metadata": {},
   "outputs": [
    {
     "name": "stdout",
     "output_type": "stream",
     "text": [
      "[(datetime.datetime(2022, 5, 26, 21, 11, 10), 77.32314630928087), (datetime.datetime(2022, 5, 26, 21, 11, 11), 70.7673318366179), (datetime.datetime(2022, 5, 26, 21, 11, 12), 62.982127603870204), (datetime.datetime(2022, 5, 26, 21, 11, 13), 54.09128798470896), (datetime.datetime(2022, 5, 26, 21, 11, 14), 44.20301514232543), (datetime.datetime(2022, 5, 26, 21, 11, 15), 33.44355799424143), (datetime.datetime(2022, 5, 26, 21, 11, 16), 22.006388448632215), (datetime.datetime(2022, 5, 26, 21, 11, 17), 10.205310812268788), (datetime.datetime(2022, 5, 26, 21, 11, 18), -1.503466174614156), (datetime.datetime(2022, 5, 26, 21, 11, 29), 35.90341752171055), (datetime.datetime(2022, 5, 26, 21, 11, 30), 38.68063669558531), (datetime.datetime(2022, 5, 26, 21, 11, 31), 38.8548634574025), (datetime.datetime(2022, 5, 26, 21, 11, 32), 37.56477313725078), (datetime.datetime(2022, 5, 26, 21, 11, 33), 35.398156525242996), (datetime.datetime(2022, 5, 26, 21, 11, 34), 32.68327965941069), (datetime.datetime(2022, 5, 26, 21, 11, 35), 29.627828904246652), (datetime.datetime(2022, 5, 26, 21, 11, 36), 26.38598865819721), (datetime.datetime(2022, 5, 26, 21, 11, 37), 23.092533413262426), (datetime.datetime(2022, 5, 26, 21, 11, 38), 19.87002228376444), (datetime.datetime(2022, 5, 26, 21, 11, 39), 16.842664429957647), (datetime.datetime(2022, 5, 26, 21, 11, 40), 14.143389648054454), (datetime.datetime(2022, 5, 26, 21, 11, 41), 11.900373145703902), (datetime.datetime(2022, 5, 26, 21, 11, 42), 10.230205421983902), (datetime.datetime(2022, 5, 26, 21, 11, 43), 9.232009399429067), (datetime.datetime(2022, 5, 26, 21, 11, 44), 8.983329044487965)]\n"
     ]
    },
    {
     "data": {
      "image/png": "[encoded data removed]",
      "text/plain": [
       "<Figure size 640x480 with 1 Axes>"
      ]
     },
     "metadata": {},
     "output_type": "display_data"
    }
   ],
   "source": [
    "from attitude_planning.visualization.quantity import plot_quantity, Quantity\n",
    "\n",
    "plot_quantity(simulation, Quantity.SCANLINE_ROTATION)"
   ]
  },
  {
   "cell_type": "code",
   "execution_count": 7,
   "metadata": {},
   "outputs": [
    {
     "name": "stdout",
     "output_type": "stream",
     "text": [
      "[(datetime.datetime(2022, 5, 26, 21, 11, 11), 131475.1218923555), (datetime.datetime(2022, 5, 26, 21, 11, 12), 116911.43702372814), (datetime.datetime(2022, 5, 26, 21, 11, 13), 103236.50679098172), (datetime.datetime(2022, 5, 26, 21, 11, 14), 93709.34505216456), (datetime.datetime(2022, 5, 26, 21, 11, 15), 90619.02619264158), (datetime.datetime(2022, 5, 26, 21, 11, 16), 97460.94801933996), (datetime.datetime(2022, 5, 26, 21, 11, 17), 120884.2547971929), (datetime.datetime(2022, 5, 26, 21, 11, 18), 174911.841721897), (datetime.datetime(2022, 5, 26, 21, 11, 30), 208018.9206995113), (datetime.datetime(2022, 5, 26, 21, 11, 31), 154148.50667152854), (datetime.datetime(2022, 5, 26, 21, 11, 32), 123330.55498888463), (datetime.datetime(2022, 5, 26, 21, 11, 33), 104472.90089561846), (datetime.datetime(2022, 5, 26, 21, 11, 34), 92614.81235758307), (datetime.datetime(2022, 5, 26, 21, 11, 35), 85212.79822883161), (datetime.datetime(2022, 5, 26, 21, 11, 36), 80848.31295460186), (datetime.datetime(2022, 5, 26, 21, 11, 37), 78677.44108316652), (datetime.datetime(2022, 5, 26, 21, 11, 38), 78143.93640671181), (datetime.datetime(2022, 5, 26, 21, 11, 39), 78893.93309782559), (datetime.datetime(2022, 5, 26, 21, 11, 40), 80747.70180841461), (datetime.datetime(2022, 5, 26, 21, 11, 41), 83634.63633801961), (datetime.datetime(2022, 5, 26, 21, 11, 42), 87643.76439549153), (datetime.datetime(2022, 5, 26, 21, 11, 43), 93091.71362692499), (datetime.datetime(2022, 5, 26, 21, 11, 44), 100587.34830289632)]\n"
     ]
    },
    {
     "data": {
      "image/png": "[encoded data removed]",
      "text/plain": [
       "<Figure size 640x480 with 1 Axes>"
      ]
     },
     "metadata": {},
     "output_type": "display_data"
    }
   ],
   "source": [
    "plot_quantity(simulation, Quantity.SCANLINE_INTERVAL)"
   ]
  }
 ],
 "metadata": {
  "kernelspec": {
   "display_name": ".venv",
   "language": "python",
   "name": "python3"
  },
  "language_info": {
   "codemirror_mode": {
    "name": "ipython",
    "version": 3
   },
   "file_extension": ".py",
   "mimetype": "text/x-python",
   "name": "python",
   "nbconvert_exporter": "python",
   "pygments_lexer": "ipython3",
   "version": "3.9.6"
  }
 },
 "nbformat": 4,
 "nbformat_minor": 2
}
