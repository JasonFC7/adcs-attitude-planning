{
 "cells": [
  {
   "cell_type": "markdown",
   "metadata": {},
   "source": [
    "### Fixed Attitude Analysis\n",
    "\n",
    "# Overview\n",
    "\n",
    "Analysis of using fine pointing mode of the ADCS 10m for imaging passes\n",
    "\n",
    "# Next Steps\n",
    "\n",
    "- Update MOI matrix and surface area"
   ]
  },
  {
   "cell_type": "code",
   "execution_count": 1,
   "metadata": {},
   "outputs": [],
   "source": [
    "import sys\n",
    "sys.path.insert(0, '../')"
   ]
  },
  {
   "cell_type": "code",
   "execution_count": 2,
   "metadata": {},
   "outputs": [
    {
     "name": "stderr",
     "output_type": "stream",
     "text": [
      "/Users/connorwilson/Projects/UTAT/adcs-attitude-planning/.venv/lib/python3.9/site-packages/urllib3/__init__.py:35: NotOpenSSLWarning: urllib3 v2 only supports OpenSSL 1.1.1+, currently the 'ssl' module is compiled with 'LibreSSL 2.8.3'. See: https://github.com/urllib3/urllib3/issues/3020\n",
      "  warnings.warn(\n"
     ]
    }
   ],
   "source": [
    "from attitude_planning.tools.simulator import TensorTechSimulation, SimulatonConfig, Maneuver, AlignmentAxis\n",
    "\n",
    "# MANEUVER = Maneuver.FINE_POINTING\n",
    "# ALIGN = AlignmentAxis.POS_Z\n",
    "# SIMULATION_TIME = 30\n",
    "# QUAT = [\"0.966\", \"0.259\", \"0.0\", \"0.0\"] # +30 deg on X axis\n",
    "\n",
    "# config = SimulatonConfig(\"Fixed Attitude June 2024\", MANEUVER, SIMULATION_TIME, ALIGN)\n",
    "# config.fine_cmd = QUAT\n",
    "# sim = TensorTechSimulation(config)\n",
    "# sim.run()\n",
    "# sim.save(\"fine_pointing_june_2024.json\")\n",
    "\n",
    "sim = TensorTechSimulation.from_file(\"fine_pointing_june_2024.json\")"
   ]
  },
  {
   "cell_type": "code",
   "execution_count": 3,
   "metadata": {},
   "outputs": [],
   "source": [
    "from attitude_planning.classes.simulation import Simulation\n",
    "\n",
    "simulation = Simulation.from_tensor_tech_sim(sim)\n",
    "simulation.derive_data()"
   ]
  },
  {
   "cell_type": "code",
   "execution_count": 4,
   "metadata": {},
   "outputs": [
    {
     "data": {
      "application/vnd.plotly.v1+json": {
       "config": {
        "plotlyServerURL": "https://plot.ly"
       },
       "data": [
        {
         "hovertemplate": "date=2022-05-26 21:11:17<br>lat=%{lat}<br>lon=%{lon}<extra></extra>",
         "lat": [
          -3.884262058942255
         ],
         "legendgroup": "",
         "lon": [
          -151.52562606500203
         ],
         "marker": {
          "color": "fuchsia",
          "size": 12
         },
         "mode": "markers",
         "name": "",
         "showlegend": false,
         "subplot": "mapbox",
         "type": "scattermapbox"
        }
       ],
       "frames": [
        {
         "data": [
          {
           "hovertemplate": "date=2022-05-26 21:11:17<br>lat=%{lat}<br>lon=%{lon}<extra></extra>",
           "lat": [
            -3.884262058942255
           ],
           "legendgroup": "",
           "lon": [
            -151.52562606500203
           ],
           "marker": {
            "color": "fuchsia"
           },
           "mode": "markers",
           "name": "",
           "showlegend": false,
           "subplot": "mapbox",
           "type": "scattermapbox"
          }
         ],
         "name": "2022-05-26 21:11:17"
        },
        {
         "data": [
          {
           "hovertemplate": "date=2022-05-26 21:11:28<br>lat=%{lat}<br>lon=%{lon}<extra></extra>",
           "lat": [
            -4.709227842477509
           ],
           "legendgroup": "",
           "lon": [
            -157.07431390502228
           ],
           "marker": {
            "color": "fuchsia"
           },
           "mode": "markers",
           "name": "",
           "showlegend": false,
           "subplot": "mapbox",
           "type": "scattermapbox"
          }
         ],
         "name": "2022-05-26 21:11:28"
        },
        {
         "data": [
          {
           "hovertemplate": "date=2022-05-26 21:11:39<br>lat=%{lat}<br>lon=%{lon}<extra></extra>",
           "lat": [
            4.894236684886754
           ],
           "legendgroup": "",
           "lon": [
            -153.81700440138394
           ],
           "marker": {
            "color": "fuchsia"
           },
           "mode": "markers",
           "name": "",
           "showlegend": false,
           "subplot": "mapbox",
           "type": "scattermapbox"
          }
         ],
         "name": "2022-05-26 21:11:39"
        },
        {
         "data": [
          {
           "hovertemplate": "date=2022-05-26 21:11:50<br>lat=%{lat}<br>lon=%{lon}<extra></extra>",
           "lat": [
            10.090562834438607
           ],
           "legendgroup": "",
           "lon": [
            -154.5753751459467
           ],
           "marker": {
            "color": "fuchsia"
           },
           "mode": "markers",
           "name": "",
           "showlegend": false,
           "subplot": "mapbox",
           "type": "scattermapbox"
          }
         ],
         "name": "2022-05-26 21:11:50"
        },
        {
         "data": [
          {
           "hovertemplate": "date=2022-05-26 21:12:12<br>lat=%{lat}<br>lon=%{lon}<extra></extra>",
           "lat": [
            5.851592884243286
           ],
           "legendgroup": "",
           "lon": [
            -160.74786366508926
           ],
           "marker": {
            "color": "fuchsia"
           },
           "mode": "markers",
           "name": "",
           "showlegend": false,
           "subplot": "mapbox",
           "type": "scattermapbox"
          }
         ],
         "name": "2022-05-26 21:12:12"
        },
        {
         "data": [
          {
           "hovertemplate": "date=2022-05-26 21:12:23<br>lat=%{lat}<br>lon=%{lon}<extra></extra>",
           "lat": [
            3.621055822470499
           ],
           "legendgroup": "",
           "lon": [
            -154.95151334125552
           ],
           "marker": {
            "color": "fuchsia"
           },
           "mode": "markers",
           "name": "",
           "showlegend": false,
           "subplot": "mapbox",
           "type": "scattermapbox"
          }
         ],
         "name": "2022-05-26 21:12:23"
        },
        {
         "data": [
          {
           "hovertemplate": "date=2022-05-26 21:12:34<br>lat=%{lat}<br>lon=%{lon}<extra></extra>",
           "lat": [
            4.243331964440921
           ],
           "legendgroup": "",
           "lon": [
            -152.39979126736648
           ],
           "marker": {
            "color": "fuchsia"
           },
           "mode": "markers",
           "name": "",
           "showlegend": false,
           "subplot": "mapbox",
           "type": "scattermapbox"
          }
         ],
         "name": "2022-05-26 21:12:34"
        },
        {
         "data": [
          {
           "hovertemplate": "date=2022-05-26 21:12:45<br>lat=%{lat}<br>lon=%{lon}<extra></extra>",
           "lat": [
            7.636035396373815
           ],
           "legendgroup": "",
           "lon": [
            -153.79007362377263
           ],
           "marker": {
            "color": "fuchsia"
           },
           "mode": "markers",
           "name": "",
           "showlegend": false,
           "subplot": "mapbox",
           "type": "scattermapbox"
          }
         ],
         "name": "2022-05-26 21:12:45"
        },
        {
         "data": [
          {
           "hovertemplate": "date=2022-05-26 21:12:56<br>lat=%{lat}<br>lon=%{lon}<extra></extra>",
           "lat": [
            12.953156774036978
           ],
           "legendgroup": "",
           "lon": [
            -153.1926984685237
           ],
           "marker": {
            "color": "fuchsia"
           },
           "mode": "markers",
           "name": "",
           "showlegend": false,
           "subplot": "mapbox",
           "type": "scattermapbox"
          }
         ],
         "name": "2022-05-26 21:12:56"
        },
        {
         "data": [
          {
           "hovertemplate": "date=2022-05-26 21:13:07<br>lat=%{lat}<br>lon=%{lon}<extra></extra>",
           "lat": [
            11.319883998327553
           ],
           "legendgroup": "",
           "lon": [
            -155.09182976046586
           ],
           "marker": {
            "color": "fuchsia"
           },
           "mode": "markers",
           "name": "",
           "showlegend": false,
           "subplot": "mapbox",
           "type": "scattermapbox"
          }
         ],
         "name": "2022-05-26 21:13:07"
        },
        {
         "data": [
          {
           "hovertemplate": "date=2022-05-26 21:13:18<br>lat=%{lat}<br>lon=%{lon}<extra></extra>",
           "lat": [
            10.994971353149698
           ],
           "legendgroup": "",
           "lon": [
            -156.1299725476358
           ],
           "marker": {
            "color": "fuchsia"
           },
           "mode": "markers",
           "name": "",
           "showlegend": false,
           "subplot": "mapbox",
           "type": "scattermapbox"
          }
         ],
         "name": "2022-05-26 21:13:18"
        },
        {
         "data": [
          {
           "hovertemplate": "date=2022-05-26 21:13:29<br>lat=%{lat}<br>lon=%{lon}<extra></extra>",
           "lat": [
            10.60156445589891
           ],
           "legendgroup": "",
           "lon": [
            -155.93838011018482
           ],
           "marker": {
            "color": "fuchsia"
           },
           "mode": "markers",
           "name": "",
           "showlegend": false,
           "subplot": "mapbox",
           "type": "scattermapbox"
          }
         ],
         "name": "2022-05-26 21:13:29"
        },
        {
         "data": [
          {
           "hovertemplate": "date=2022-05-26 21:13:40<br>lat=%{lat}<br>lon=%{lon}<extra></extra>",
           "lat": [
            11.093504560036656
           ],
           "legendgroup": "",
           "lon": [
            -155.87013296300736
           ],
           "marker": {
            "color": "fuchsia"
           },
           "mode": "markers",
           "name": "",
           "showlegend": false,
           "subplot": "mapbox",
           "type": "scattermapbox"
          }
         ],
         "name": "2022-05-26 21:13:40"
        },
        {
         "data": [
          {
           "hovertemplate": "date=2022-05-26 21:13:51<br>lat=%{lat}<br>lon=%{lon}<extra></extra>",
           "lat": [
            9.797360801238522
           ],
           "legendgroup": "",
           "lon": [
            -154.29622128726763
           ],
           "marker": {
            "color": "fuchsia"
           },
           "mode": "markers",
           "name": "",
           "showlegend": false,
           "subplot": "mapbox",
           "type": "scattermapbox"
          }
         ],
         "name": "2022-05-26 21:13:51"
        },
        {
         "data": [
          {
           "hovertemplate": "date=2022-05-26 21:14:02<br>lat=%{lat}<br>lon=%{lon}<extra></extra>",
           "lat": [
            8.835571444135807
           ],
           "legendgroup": "",
           "lon": [
            -152.65619869824528
           ],
           "marker": {
            "color": "fuchsia"
           },
           "mode": "markers",
           "name": "",
           "showlegend": false,
           "subplot": "mapbox",
           "type": "scattermapbox"
          }
         ],
         "name": "2022-05-26 21:14:02"
        },
        {
         "data": [
          {
           "hovertemplate": "date=2022-05-26 21:14:13<br>lat=%{lat}<br>lon=%{lon}<extra></extra>",
           "lat": [
            7.630738503147588
           ],
           "legendgroup": "",
           "lon": [
            -153.2169088216905
           ],
           "marker": {
            "color": "fuchsia"
           },
           "mode": "markers",
           "name": "",
           "showlegend": false,
           "subplot": "mapbox",
           "type": "scattermapbox"
          }
         ],
         "name": "2022-05-26 21:14:13"
        },
        {
         "data": [
          {
           "hovertemplate": "date=2022-05-26 21:14:24<br>lat=%{lat}<br>lon=%{lon}<extra></extra>",
           "lat": [
            11.69020656278722
           ],
           "legendgroup": "",
           "lon": [
            -154.68501275472767
           ],
           "marker": {
            "color": "fuchsia"
           },
           "mode": "markers",
           "name": "",
           "showlegend": false,
           "subplot": "mapbox",
           "type": "scattermapbox"
          }
         ],
         "name": "2022-05-26 21:14:24"
        },
        {
         "data": [
          {
           "hovertemplate": "date=2022-05-26 21:14:35<br>lat=%{lat}<br>lon=%{lon}<extra></extra>",
           "lat": [
            14.080182308408856
           ],
           "legendgroup": "",
           "lon": [
            -154.65548678635733
           ],
           "marker": {
            "color": "fuchsia"
           },
           "mode": "markers",
           "name": "",
           "showlegend": false,
           "subplot": "mapbox",
           "type": "scattermapbox"
          }
         ],
         "name": "2022-05-26 21:14:35"
        },
        {
         "data": [
          {
           "hovertemplate": "date=2022-05-26 21:14:46<br>lat=%{lat}<br>lon=%{lon}<extra></extra>",
           "lat": [
            15.152763612100841
           ],
           "legendgroup": "",
           "lon": [
            -155.00928057463716
           ],
           "marker": {
            "color": "fuchsia"
           },
           "mode": "markers",
           "name": "",
           "showlegend": false,
           "subplot": "mapbox",
           "type": "scattermapbox"
          }
         ],
         "name": "2022-05-26 21:14:46"
        },
        {
         "data": [
          {
           "hovertemplate": "date=2022-05-26 21:14:57<br>lat=%{lat}<br>lon=%{lon}<extra></extra>",
           "lat": [
            15.215014093820997
           ],
           "legendgroup": "",
           "lon": [
            -155.5258556823901
           ],
           "marker": {
            "color": "fuchsia"
           },
           "mode": "markers",
           "name": "",
           "showlegend": false,
           "subplot": "mapbox",
           "type": "scattermapbox"
          }
         ],
         "name": "2022-05-26 21:14:57"
        },
        {
         "data": [
          {
           "hovertemplate": "date=2022-05-26 21:15:08<br>lat=%{lat}<br>lon=%{lon}<extra></extra>",
           "lat": [
            15.260472130940059
           ],
           "legendgroup": "",
           "lon": [
            -155.59003678292356
           ],
           "marker": {
            "color": "fuchsia"
           },
           "mode": "markers",
           "name": "",
           "showlegend": false,
           "subplot": "mapbox",
           "type": "scattermapbox"
          }
         ],
         "name": "2022-05-26 21:15:08"
        },
        {
         "data": [
          {
           "hovertemplate": "date=2022-05-26 21:15:19<br>lat=%{lat}<br>lon=%{lon}<extra></extra>",
           "lat": [
            15.730041905003008
           ],
           "legendgroup": "",
           "lon": [
            -155.5142873410003
           ],
           "marker": {
            "color": "fuchsia"
           },
           "mode": "markers",
           "name": "",
           "showlegend": false,
           "subplot": "mapbox",
           "type": "scattermapbox"
          }
         ],
         "name": "2022-05-26 21:15:19"
        },
        {
         "data": [
          {
           "hovertemplate": "date=2022-05-26 21:15:30<br>lat=%{lat}<br>lon=%{lon}<extra></extra>",
           "lat": [
            16.1587433253832
           ],
           "legendgroup": "",
           "lon": [
            -155.49394572108363
           ],
           "marker": {
            "color": "fuchsia"
           },
           "mode": "markers",
           "name": "",
           "showlegend": false,
           "subplot": "mapbox",
           "type": "scattermapbox"
          }
         ],
         "name": "2022-05-26 21:15:30"
        },
        {
         "data": [
          {
           "hovertemplate": "date=2022-05-26 21:15:41<br>lat=%{lat}<br>lon=%{lon}<extra></extra>",
           "lat": [
            16.692294453106538
           ],
           "legendgroup": "",
           "lon": [
            -155.62143367083863
           ],
           "marker": {
            "color": "fuchsia"
           },
           "mode": "markers",
           "name": "",
           "showlegend": false,
           "subplot": "mapbox",
           "type": "scattermapbox"
          }
         ],
         "name": "2022-05-26 21:15:41"
        },
        {
         "data": [
          {
           "hovertemplate": "date=2022-05-26 21:15:52<br>lat=%{lat}<br>lon=%{lon}<extra></extra>",
           "lat": [
            17.537127453821572
           ],
           "legendgroup": "",
           "lon": [
            -155.92051040625128
           ],
           "marker": {
            "color": "fuchsia"
           },
           "mode": "markers",
           "name": "",
           "showlegend": false,
           "subplot": "mapbox",
           "type": "scattermapbox"
          }
         ],
         "name": "2022-05-26 21:15:52"
        },
        {
         "data": [
          {
           "hovertemplate": "date=2022-05-26 21:16:03<br>lat=%{lat}<br>lon=%{lon}<extra></extra>",
           "lat": [
            18.516110889704255
           ],
           "legendgroup": "",
           "lon": [
            -156.20689624468667
           ],
           "marker": {
            "color": "fuchsia"
           },
           "mode": "markers",
           "name": "",
           "showlegend": false,
           "subplot": "mapbox",
           "type": "scattermapbox"
          }
         ],
         "name": "2022-05-26 21:16:03"
        },
        {
         "data": [
          {
           "hovertemplate": "date=2022-05-26 21:16:14<br>lat=%{lat}<br>lon=%{lon}<extra></extra>",
           "lat": [
            19.436356738271254
           ],
           "legendgroup": "",
           "lon": [
            -156.34946024802792
           ],
           "marker": {
            "color": "fuchsia"
           },
           "mode": "markers",
           "name": "",
           "showlegend": false,
           "subplot": "mapbox",
           "type": "scattermapbox"
          }
         ],
         "name": "2022-05-26 21:16:14"
        },
        {
         "data": [
          {
           "hovertemplate": "date=2022-05-26 21:16:25<br>lat=%{lat}<br>lon=%{lon}<extra></extra>",
           "lat": [
            20.20424533415671
           ],
           "legendgroup": "",
           "lon": [
            -156.30832275848692
           ],
           "marker": {
            "color": "fuchsia"
           },
           "mode": "markers",
           "name": "",
           "showlegend": false,
           "subplot": "mapbox",
           "type": "scattermapbox"
          }
         ],
         "name": "2022-05-26 21:16:25"
        },
        {
         "data": [
          {
           "hovertemplate": "date=2022-05-26 21:16:36<br>lat=%{lat}<br>lon=%{lon}<extra></extra>",
           "lat": [
            20.85738500566027
           ],
           "legendgroup": "",
           "lon": [
            -156.1197649042794
           ],
           "marker": {
            "color": "fuchsia"
           },
           "mode": "markers",
           "name": "",
           "showlegend": false,
           "subplot": "mapbox",
           "type": "scattermapbox"
          }
         ],
         "name": "2022-05-26 21:16:36"
        },
        {
         "data": [
          {
           "hovertemplate": "date=2022-05-26 21:16:47<br>lat=%{lat}<br>lon=%{lon}<extra></extra>",
           "lat": [
            21.472135398887573
           ],
           "legendgroup": "",
           "lon": [
            -155.92638145436945
           ],
           "marker": {
            "color": "fuchsia"
           },
           "mode": "markers",
           "name": "",
           "showlegend": false,
           "subplot": "mapbox",
           "type": "scattermapbox"
          }
         ],
         "name": "2022-05-26 21:16:47"
        },
        {
         "data": [
          {
           "hovertemplate": "date=2022-05-26 21:16:58<br>lat=%{lat}<br>lon=%{lon}<extra></extra>",
           "lat": [
            22.03596483598973
           ],
           "legendgroup": "",
           "lon": [
            -155.82184216862953
           ],
           "marker": {
            "color": "fuchsia"
           },
           "mode": "markers",
           "name": "",
           "showlegend": false,
           "subplot": "mapbox",
           "type": "scattermapbox"
          }
         ],
         "name": "2022-05-26 21:16:58"
        },
        {
         "data": [
          {
           "hovertemplate": "date=2022-05-26 21:17:09<br>lat=%{lat}<br>lon=%{lon}<extra></extra>",
           "lat": [
            22.641396490499382
           ],
           "legendgroup": "",
           "lon": [
            -155.83948608935643
           ],
           "marker": {
            "color": "fuchsia"
           },
           "mode": "markers",
           "name": "",
           "showlegend": false,
           "subplot": "mapbox",
           "type": "scattermapbox"
          }
         ],
         "name": "2022-05-26 21:17:09"
        },
        {
         "data": [
          {
           "hovertemplate": "date=2022-05-26 21:17:20<br>lat=%{lat}<br>lon=%{lon}<extra></extra>",
           "lat": [
            23.345294523403957
           ],
           "legendgroup": "",
           "lon": [
            -156.00684335829166
           ],
           "marker": {
            "color": "fuchsia"
           },
           "mode": "markers",
           "name": "",
           "showlegend": false,
           "subplot": "mapbox",
           "type": "scattermapbox"
          }
         ],
         "name": "2022-05-26 21:17:20"
        },
        {
         "data": [
          {
           "hovertemplate": "date=2022-05-26 21:17:31<br>lat=%{lat}<br>lon=%{lon}<extra></extra>",
           "lat": [
            24.09537085716465
           ],
           "legendgroup": "",
           "lon": [
            -156.3093712421528
           ],
           "marker": {
            "color": "fuchsia"
           },
           "mode": "markers",
           "name": "",
           "showlegend": false,
           "subplot": "mapbox",
           "type": "scattermapbox"
          }
         ],
         "name": "2022-05-26 21:17:31"
        },
        {
         "data": [
          {
           "hovertemplate": "date=2022-05-26 21:17:42<br>lat=%{lat}<br>lon=%{lon}<extra></extra>",
           "lat": [
            24.820969497683137
           ],
           "legendgroup": "",
           "lon": [
            -156.63730439738046
           ],
           "marker": {
            "color": "fuchsia"
           },
           "mode": "markers",
           "name": "",
           "showlegend": false,
           "subplot": "mapbox",
           "type": "scattermapbox"
          }
         ],
         "name": "2022-05-26 21:17:42"
        },
        {
         "data": [
          {
           "hovertemplate": "date=2022-05-26 21:17:53<br>lat=%{lat}<br>lon=%{lon}<extra></extra>",
           "lat": [
            25.542463772355116
           ],
           "legendgroup": "",
           "lon": [
            -156.88413377850125
           ],
           "marker": {
            "color": "fuchsia"
           },
           "mode": "markers",
           "name": "",
           "showlegend": false,
           "subplot": "mapbox",
           "type": "scattermapbox"
          }
         ],
         "name": "2022-05-26 21:17:53"
        },
        {
         "data": [
          {
           "hovertemplate": "date=2022-05-26 21:18:04<br>lat=%{lat}<br>lon=%{lon}<extra></extra>",
           "lat": [
            26.259192720530642
           ],
           "legendgroup": "",
           "lon": [
            -157.01373081916506
           ],
           "marker": {
            "color": "fuchsia"
           },
           "mode": "markers",
           "name": "",
           "showlegend": false,
           "subplot": "mapbox",
           "type": "scattermapbox"
          }
         ],
         "name": "2022-05-26 21:18:04"
        },
        {
         "data": [
          {
           "hovertemplate": "date=2022-05-26 21:18:15<br>lat=%{lat}<br>lon=%{lon}<extra></extra>",
           "lat": [
            26.954444349954674
           ],
           "legendgroup": "",
           "lon": [
            -157.0568120319763
           ],
           "marker": {
            "color": "fuchsia"
           },
           "mode": "markers",
           "name": "",
           "showlegend": false,
           "subplot": "mapbox",
           "type": "scattermapbox"
          }
         ],
         "name": "2022-05-26 21:18:15"
        },
        {
         "data": [
          {
           "hovertemplate": "date=2022-05-26 21:18:26<br>lat=%{lat}<br>lon=%{lon}<extra></extra>",
           "lat": [
            27.6367139070087
           ],
           "legendgroup": "",
           "lon": [
            -157.07026317636513
           ],
           "marker": {
            "color": "fuchsia"
           },
           "mode": "markers",
           "name": "",
           "showlegend": false,
           "subplot": "mapbox",
           "type": "scattermapbox"
          }
         ],
         "name": "2022-05-26 21:18:26"
        },
        {
         "data": [
          {
           "hovertemplate": "date=2022-05-26 21:18:37<br>lat=%{lat}<br>lon=%{lon}<extra></extra>",
           "lat": [
            28.31397675661568
           ],
           "legendgroup": "",
           "lon": [
            -157.10822921136807
           ],
           "marker": {
            "color": "fuchsia"
           },
           "mode": "markers",
           "name": "",
           "showlegend": false,
           "subplot": "mapbox",
           "type": "scattermapbox"
          }
         ],
         "name": "2022-05-26 21:18:37"
        },
        {
         "data": [
          {
           "hovertemplate": "date=2022-05-26 21:18:48<br>lat=%{lat}<br>lon=%{lon}<extra></extra>",
           "lat": [
            28.991659930448524
           ],
           "legendgroup": "",
           "lon": [
            -157.19978116982148
           ],
           "marker": {
            "color": "fuchsia"
           },
           "mode": "markers",
           "name": "",
           "showlegend": false,
           "subplot": "mapbox",
           "type": "scattermapbox"
          }
         ],
         "name": "2022-05-26 21:18:48"
        },
        {
         "data": [
          {
           "hovertemplate": "date=2022-05-26 21:18:59<br>lat=%{lat}<br>lon=%{lon}<extra></extra>",
           "lat": [
            29.67864663129941
           ],
           "legendgroup": "",
           "lon": [
            -157.34075219170828
           ],
           "marker": {
            "color": "fuchsia"
           },
           "mode": "markers",
           "name": "",
           "showlegend": false,
           "subplot": "mapbox",
           "type": "scattermapbox"
          }
         ],
         "name": "2022-05-26 21:18:59"
        },
        {
         "data": [
          {
           "hovertemplate": "date=2022-05-26 21:19:10<br>lat=%{lat}<br>lon=%{lon}<extra></extra>",
           "lat": [
            30.37186874835204
           ],
           "legendgroup": "",
           "lon": [
            -157.50898954449323
           ],
           "marker": {
            "color": "fuchsia"
           },
           "mode": "markers",
           "name": "",
           "showlegend": false,
           "subplot": "mapbox",
           "type": "scattermapbox"
          }
         ],
         "name": "2022-05-26 21:19:10"
        },
        {
         "data": [
          {
           "hovertemplate": "date=2022-05-26 21:19:21<br>lat=%{lat}<br>lon=%{lon}<extra></extra>",
           "lat": [
            31.069540916780753
           ],
           "legendgroup": "",
           "lon": [
            -157.67698075303926
           ],
           "marker": {
            "color": "fuchsia"
           },
           "mode": "markers",
           "name": "",
           "showlegend": false,
           "subplot": "mapbox",
           "type": "scattermapbox"
          }
         ],
         "name": "2022-05-26 21:19:21"
        },
        {
         "data": [
          {
           "hovertemplate": "date=2022-05-26 21:19:32<br>lat=%{lat}<br>lon=%{lon}<extra></extra>",
           "lat": [
            31.76432741671056
           ],
           "legendgroup": "",
           "lon": [
            -157.82766661489396
           ],
           "marker": {
            "color": "fuchsia"
           },
           "mode": "markers",
           "name": "",
           "showlegend": false,
           "subplot": "mapbox",
           "type": "scattermapbox"
          }
         ],
         "name": "2022-05-26 21:19:32"
        },
        {
         "data": [
          {
           "hovertemplate": "date=2022-05-26 21:19:43<br>lat=%{lat}<br>lon=%{lon}<extra></extra>",
           "lat": [
            32.458206427969095
           ],
           "legendgroup": "",
           "lon": [
            -157.95535268224518
           ],
           "marker": {
            "color": "fuchsia"
           },
           "mode": "markers",
           "name": "",
           "showlegend": false,
           "subplot": "mapbox",
           "type": "scattermapbox"
          }
         ],
         "name": "2022-05-26 21:19:43"
        },
        {
         "data": [
          {
           "hovertemplate": "date=2022-05-26 21:19:54<br>lat=%{lat}<br>lon=%{lon}<extra></extra>",
           "lat": [
            33.150233603286566
           ],
           "legendgroup": "",
           "lon": [
            -158.067608534955
           ],
           "marker": {
            "color": "fuchsia"
           },
           "mode": "markers",
           "name": "",
           "showlegend": false,
           "subplot": "mapbox",
           "type": "scattermapbox"
          }
         ],
         "name": "2022-05-26 21:19:54"
        },
        {
         "data": [
          {
           "hovertemplate": "date=2022-05-26 21:20:05<br>lat=%{lat}<br>lon=%{lon}<extra></extra>",
           "lat": [
            33.84173849654213
           ],
           "legendgroup": "",
           "lon": [
            -158.17645405159857
           ],
           "marker": {
            "color": "fuchsia"
           },
           "mode": "markers",
           "name": "",
           "showlegend": false,
           "subplot": "mapbox",
           "type": "scattermapbox"
          }
         ],
         "name": "2022-05-26 21:20:05"
        },
        {
         "data": [
          {
           "hovertemplate": "date=2022-05-26 21:20:16<br>lat=%{lat}<br>lon=%{lon}<extra></extra>",
           "lat": [
            34.523805407305886
           ],
           "legendgroup": "",
           "lon": [
            -158.2966694205221
           ],
           "marker": {
            "color": "fuchsia"
           },
           "mode": "markers",
           "name": "",
           "showlegend": false,
           "subplot": "mapbox",
           "type": "scattermapbox"
          }
         ],
         "name": "2022-05-26 21:20:16"
        },
        {
         "data": [
          {
           "hovertemplate": "date=2022-05-26 21:20:27<br>lat=%{lat}<br>lon=%{lon}<extra></extra>",
           "lat": [
            35.212376703667495
           ],
           "legendgroup": "",
           "lon": [
            -158.42840901755693
           ],
           "marker": {
            "color": "fuchsia"
           },
           "mode": "markers",
           "name": "",
           "showlegend": false,
           "subplot": "mapbox",
           "type": "scattermapbox"
          }
         ],
         "name": "2022-05-26 21:20:27"
        },
        {
         "data": [
          {
           "hovertemplate": "date=2022-05-26 21:20:38<br>lat=%{lat}<br>lon=%{lon}<extra></extra>",
           "lat": [
            35.904055657083084
           ],
           "legendgroup": "",
           "lon": [
            -158.57120642406574
           ],
           "marker": {
            "color": "fuchsia"
           },
           "mode": "markers",
           "name": "",
           "showlegend": false,
           "subplot": "mapbox",
           "type": "scattermapbox"
          }
         ],
         "name": "2022-05-26 21:20:38"
        },
        {
         "data": [
          {
           "hovertemplate": "date=2022-05-26 21:20:49<br>lat=%{lat}<br>lon=%{lon}<extra></extra>",
           "lat": [
            36.59236579089702
           ],
           "legendgroup": "",
           "lon": [
            -158.72217850140555
           ],
           "marker": {
            "color": "fuchsia"
           },
           "mode": "markers",
           "name": "",
           "showlegend": false,
           "subplot": "mapbox",
           "type": "scattermapbox"
          }
         ],
         "name": "2022-05-26 21:20:49"
        },
        {
         "data": [
          {
           "hovertemplate": "date=2022-05-26 21:21:00<br>lat=%{lat}<br>lon=%{lon}<extra></extra>",
           "lat": [
            37.27941119778701
           ],
           "legendgroup": "",
           "lon": [
            -158.87518110881192
           ],
           "marker": {
            "color": "fuchsia"
           },
           "mode": "markers",
           "name": "",
           "showlegend": false,
           "subplot": "mapbox",
           "type": "scattermapbox"
          }
         ],
         "name": "2022-05-26 21:21:00"
        },
        {
         "data": [
          {
           "hovertemplate": "date=2022-05-26 21:21:11<br>lat=%{lat}<br>lon=%{lon}<extra></extra>",
           "lat": [
            37.971935301656465
           ],
           "legendgroup": "",
           "lon": [
            -159.02426723068305
           ],
           "marker": {
            "color": "fuchsia"
           },
           "mode": "markers",
           "name": "",
           "showlegend": false,
           "subplot": "mapbox",
           "type": "scattermapbox"
          }
         ],
         "name": "2022-05-26 21:21:11"
        },
        {
         "data": [
          {
           "hovertemplate": "date=2022-05-26 21:21:22<br>lat=%{lat}<br>lon=%{lon}<extra></extra>",
           "lat": [
            38.65855082403991
           ],
           "legendgroup": "",
           "lon": [
            -159.17288504303076
           ],
           "marker": {
            "color": "fuchsia"
           },
           "mode": "markers",
           "name": "",
           "showlegend": false,
           "subplot": "mapbox",
           "type": "scattermapbox"
          }
         ],
         "name": "2022-05-26 21:21:22"
        },
        {
         "data": [
          {
           "hovertemplate": "date=2022-05-26 21:21:33<br>lat=%{lat}<br>lon=%{lon}<extra></extra>",
           "lat": [
            39.34621607681298
           ],
           "legendgroup": "",
           "lon": [
            -159.32055595802402
           ],
           "marker": {
            "color": "fuchsia"
           },
           "mode": "markers",
           "name": "",
           "showlegend": false,
           "subplot": "mapbox",
           "type": "scattermapbox"
          }
         ],
         "name": "2022-05-26 21:21:33"
        },
        {
         "data": [
          {
           "hovertemplate": "date=2022-05-26 21:21:44<br>lat=%{lat}<br>lon=%{lon}<extra></extra>",
           "lat": [
            40.03285375155368
           ],
           "legendgroup": "",
           "lon": [
            -159.47082375420217
           ],
           "marker": {
            "color": "fuchsia"
           },
           "mode": "markers",
           "name": "",
           "showlegend": false,
           "subplot": "mapbox",
           "type": "scattermapbox"
          }
         ],
         "name": "2022-05-26 21:21:44"
        },
        {
         "data": [
          {
           "hovertemplate": "date=2022-05-26 21:21:55<br>lat=%{lat}<br>lon=%{lon}<extra></extra>",
           "lat": [
            40.72147754553286
           ],
           "legendgroup": "",
           "lon": [
            -159.62481326717156
           ],
           "marker": {
            "color": "fuchsia"
           },
           "mode": "markers",
           "name": "",
           "showlegend": false,
           "subplot": "mapbox",
           "type": "scattermapbox"
          }
         ],
         "name": "2022-05-26 21:21:55"
        },
        {
         "data": [
          {
           "hovertemplate": "date=2022-05-26 21:22:06<br>lat=%{lat}<br>lon=%{lon}<extra></extra>",
           "lat": [
            41.4086118817687
           ],
           "legendgroup": "",
           "lon": [
            -159.78446538773855
           ],
           "marker": {
            "color": "fuchsia"
           },
           "mode": "markers",
           "name": "",
           "showlegend": false,
           "subplot": "mapbox",
           "type": "scattermapbox"
          }
         ],
         "name": "2022-05-26 21:22:06"
        },
        {
         "data": [
          {
           "hovertemplate": "date=2022-05-26 21:22:17<br>lat=%{lat}<br>lon=%{lon}<extra></extra>",
           "lat": [
            42.095808671936545
           ],
           "legendgroup": "",
           "lon": [
            -159.94885637722317
           ],
           "marker": {
            "color": "fuchsia"
           },
           "mode": "markers",
           "name": "",
           "showlegend": false,
           "subplot": "mapbox",
           "type": "scattermapbox"
          }
         ],
         "name": "2022-05-26 21:22:17"
        },
        {
         "data": [
          {
           "hovertemplate": "date=2022-05-26 21:22:28<br>lat=%{lat}<br>lon=%{lon}<extra></extra>",
           "lat": [
            42.78388722996281
           ],
           "legendgroup": "",
           "lon": [
            -160.11695632451108
           ],
           "marker": {
            "color": "fuchsia"
           },
           "mode": "markers",
           "name": "",
           "showlegend": false,
           "subplot": "mapbox",
           "type": "scattermapbox"
          }
         ],
         "name": "2022-05-26 21:22:28"
        },
        {
         "data": [
          {
           "hovertemplate": "date=2022-05-26 21:22:39<br>lat=%{lat}<br>lon=%{lon}<extra></extra>",
           "lat": [
            43.46690199195497
           ],
           "legendgroup": "",
           "lon": [
            -160.2908203319868
           ],
           "marker": {
            "color": "fuchsia"
           },
           "mode": "markers",
           "name": "",
           "showlegend": false,
           "subplot": "mapbox",
           "type": "scattermapbox"
          }
         ],
         "name": "2022-05-26 21:22:39"
        },
        {
         "data": [
          {
           "hovertemplate": "date=2022-05-26 21:22:50<br>lat=%{lat}<br>lon=%{lon}<extra></extra>",
           "lat": [
            44.152627734448075
           ],
           "legendgroup": "",
           "lon": [
            -160.46696306998692
           ],
           "marker": {
            "color": "fuchsia"
           },
           "mode": "markers",
           "name": "",
           "showlegend": false,
           "subplot": "mapbox",
           "type": "scattermapbox"
          }
         ],
         "name": "2022-05-26 21:22:50"
        },
        {
         "data": [
          {
           "hovertemplate": "date=2022-05-26 21:23:01<br>lat=%{lat}<br>lon=%{lon}<extra></extra>",
           "lat": [
            44.840172115386224
           ],
           "legendgroup": "",
           "lon": [
            -160.6452928920474
           ],
           "marker": {
            "color": "fuchsia"
           },
           "mode": "markers",
           "name": "",
           "showlegend": false,
           "subplot": "mapbox",
           "type": "scattermapbox"
          }
         ],
         "name": "2022-05-26 21:23:01"
        },
        {
         "data": [
          {
           "hovertemplate": "date=2022-05-26 21:23:12<br>lat=%{lat}<br>lon=%{lon}<extra></extra>",
           "lat": [
            45.52372656188589
           ],
           "legendgroup": "",
           "lon": [
            -160.82838030726995
           ],
           "marker": {
            "color": "fuchsia"
           },
           "mode": "markers",
           "name": "",
           "showlegend": false,
           "subplot": "mapbox",
           "type": "scattermapbox"
          }
         ],
         "name": "2022-05-26 21:23:12"
        },
        {
         "data": [
          {
           "hovertemplate": "date=2022-05-26 21:23:23<br>lat=%{lat}<br>lon=%{lon}<extra></extra>",
           "lat": [
            46.20822421507834
           ],
           "legendgroup": "",
           "lon": [
            -161.01488906301896
           ],
           "marker": {
            "color": "fuchsia"
           },
           "mode": "markers",
           "name": "",
           "showlegend": false,
           "subplot": "mapbox",
           "type": "scattermapbox"
          }
         ],
         "name": "2022-05-26 21:23:23"
        },
        {
         "data": [
          {
           "hovertemplate": "date=2022-05-26 21:23:34<br>lat=%{lat}<br>lon=%{lon}<extra></extra>",
           "lat": [
            46.89356414780074
           ],
           "legendgroup": "",
           "lon": [
            -161.20559129530872
           ],
           "marker": {
            "color": "fuchsia"
           },
           "mode": "markers",
           "name": "",
           "showlegend": false,
           "subplot": "mapbox",
           "type": "scattermapbox"
          }
         ],
         "name": "2022-05-26 21:23:34"
        },
        {
         "data": [
          {
           "hovertemplate": "date=2022-05-26 21:23:45<br>lat=%{lat}<br>lon=%{lon}<extra></extra>",
           "lat": [
            47.57653848611773
           ],
           "legendgroup": "",
           "lon": [
            -161.40228742001278
           ],
           "marker": {
            "color": "fuchsia"
           },
           "mode": "markers",
           "name": "",
           "showlegend": false,
           "subplot": "mapbox",
           "type": "scattermapbox"
          }
         ],
         "name": "2022-05-26 21:23:45"
        },
        {
         "data": [
          {
           "hovertemplate": "date=2022-05-26 21:23:56<br>lat=%{lat}<br>lon=%{lon}<extra></extra>",
           "lat": [
            48.2592176948397
           ],
           "legendgroup": "",
           "lon": [
            -161.60451510943275
           ],
           "marker": {
            "color": "fuchsia"
           },
           "mode": "markers",
           "name": "",
           "showlegend": false,
           "subplot": "mapbox",
           "type": "scattermapbox"
          }
         ],
         "name": "2022-05-26 21:23:56"
        },
        {
         "data": [
          {
           "hovertemplate": "date=2022-05-26 21:24:07<br>lat=%{lat}<br>lon=%{lon}<extra></extra>",
           "lat": [
            48.94259227544119
           ],
           "legendgroup": "",
           "lon": [
            -161.81201914374333
           ],
           "marker": {
            "color": "fuchsia"
           },
           "mode": "markers",
           "name": "",
           "showlegend": false,
           "subplot": "mapbox",
           "type": "scattermapbox"
          }
         ],
         "name": "2022-05-26 21:24:07"
        },
        {
         "data": [
          {
           "hovertemplate": "date=2022-05-26 21:24:18<br>lat=%{lat}<br>lon=%{lon}<extra></extra>",
           "lat": [
            49.623529756986926
           ],
           "legendgroup": "",
           "lon": [
            -162.02605765193022
           ],
           "marker": {
            "color": "fuchsia"
           },
           "mode": "markers",
           "name": "",
           "showlegend": false,
           "subplot": "mapbox",
           "type": "scattermapbox"
          }
         ],
         "name": "2022-05-26 21:24:18"
        },
        {
         "data": [
          {
           "hovertemplate": "date=2022-05-26 21:24:29<br>lat=%{lat}<br>lon=%{lon}<extra></extra>",
           "lat": [
            50.30479597029733
           ],
           "legendgroup": "",
           "lon": [
            -162.24576922051634
           ],
           "marker": {
            "color": "fuchsia"
           },
           "mode": "markers",
           "name": "",
           "showlegend": false,
           "subplot": "mapbox",
           "type": "scattermapbox"
          }
         ],
         "name": "2022-05-26 21:24:29"
        },
        {
         "data": [
          {
           "hovertemplate": "date=2022-05-26 21:24:40<br>lat=%{lat}<br>lon=%{lon}<extra></extra>",
           "lat": [
            50.987384942898174
           ],
           "legendgroup": "",
           "lon": [
            -162.47065299241302
           ],
           "marker": {
            "color": "fuchsia"
           },
           "mode": "markers",
           "name": "",
           "showlegend": false,
           "subplot": "mapbox",
           "type": "scattermapbox"
          }
         ],
         "name": "2022-05-26 21:24:40"
        },
        {
         "data": [
          {
           "hovertemplate": "date=2022-05-26 21:24:51<br>lat=%{lat}<br>lon=%{lon}<extra></extra>",
           "lat": [
            51.666867896299244
           ],
           "legendgroup": "",
           "lon": [
            -162.70337745097774
           ],
           "marker": {
            "color": "fuchsia"
           },
           "mode": "markers",
           "name": "",
           "showlegend": false,
           "subplot": "mapbox",
           "type": "scattermapbox"
          }
         ],
         "name": "2022-05-26 21:24:51"
        },
        {
         "data": [
          {
           "hovertemplate": "date=2022-05-26 21:25:02<br>lat=%{lat}<br>lon=%{lon}<extra></extra>",
           "lat": [
            52.34675461928061
           ],
           "legendgroup": "",
           "lon": [
            -162.94269651865935
           ],
           "marker": {
            "color": "fuchsia"
           },
           "mode": "markers",
           "name": "",
           "showlegend": false,
           "subplot": "mapbox",
           "type": "scattermapbox"
          }
         ],
         "name": "2022-05-26 21:25:02"
        },
        {
         "data": [
          {
           "hovertemplate": "date=2022-05-26 21:25:13<br>lat=%{lat}<br>lon=%{lon}<extra></extra>",
           "lat": [
            53.027205154315425
           ],
           "legendgroup": "",
           "lon": [
            -163.18843113584435
           ],
           "marker": {
            "color": "fuchsia"
           },
           "mode": "markers",
           "name": "",
           "showlegend": false,
           "subplot": "mapbox",
           "type": "scattermapbox"
          }
         ],
         "name": "2022-05-26 21:25:13"
        },
        {
         "data": [
          {
           "hovertemplate": "date=2022-05-26 21:25:24<br>lat=%{lat}<br>lon=%{lon}<extra></extra>",
           "lat": [
            53.706172177991654
           ],
           "legendgroup": "",
           "lon": [
            -163.44205472403397
           ],
           "marker": {
            "color": "fuchsia"
           },
           "mode": "markers",
           "name": "",
           "showlegend": false,
           "subplot": "mapbox",
           "type": "scattermapbox"
          }
         ],
         "name": "2022-05-26 21:25:24"
        },
        {
         "data": [
          {
           "hovertemplate": "date=2022-05-26 21:25:35<br>lat=%{lat}<br>lon=%{lon}<extra></extra>",
           "lat": [
            54.3846781294587
           ],
           "legendgroup": "",
           "lon": [
            -163.70378013834056
           ],
           "marker": {
            "color": "fuchsia"
           },
           "mode": "markers",
           "name": "",
           "showlegend": false,
           "subplot": "mapbox",
           "type": "scattermapbox"
          }
         ],
         "name": "2022-05-26 21:25:35"
        },
        {
         "data": [
          {
           "hovertemplate": "date=2022-05-26 21:25:46<br>lat=%{lat}<br>lon=%{lon}<extra></extra>",
           "lat": [
            55.063245624852456
           ],
           "legendgroup": "",
           "lon": [
            -163.97426850006428
           ],
           "marker": {
            "color": "fuchsia"
           },
           "mode": "markers",
           "name": "",
           "showlegend": false,
           "subplot": "mapbox",
           "type": "scattermapbox"
          }
         ],
         "name": "2022-05-26 21:25:46"
        },
        {
         "data": [
          {
           "hovertemplate": "date=2022-05-26 21:25:57<br>lat=%{lat}<br>lon=%{lon}<extra></extra>",
           "lat": [
            55.73642017326362
           ],
           "legendgroup": "",
           "lon": [
            -164.25648034359156
           ],
           "marker": {
            "color": "fuchsia"
           },
           "mode": "markers",
           "name": "",
           "showlegend": false,
           "subplot": "mapbox",
           "type": "scattermapbox"
          }
         ],
         "name": "2022-05-26 21:25:57"
        },
        {
         "data": [
          {
           "hovertemplate": "date=2022-05-26 21:26:08<br>lat=%{lat}<br>lon=%{lon}<extra></extra>",
           "lat": [
            56.414613692980886
           ],
           "legendgroup": "",
           "lon": [
            -164.5456060297387
           ],
           "marker": {
            "color": "fuchsia"
           },
           "mode": "markers",
           "name": "",
           "showlegend": false,
           "subplot": "mapbox",
           "type": "scattermapbox"
          }
         ],
         "name": "2022-05-26 21:26:08"
        },
        {
         "data": [
          {
           "hovertemplate": "date=2022-05-26 21:26:19<br>lat=%{lat}<br>lon=%{lon}<extra></extra>",
           "lat": [
            57.09024377632374
           ],
           "legendgroup": "",
           "lon": [
            -164.84589750199999
           ],
           "marker": {
            "color": "fuchsia"
           },
           "mode": "markers",
           "name": "",
           "showlegend": false,
           "subplot": "mapbox",
           "type": "scattermapbox"
          }
         ],
         "name": "2022-05-26 21:26:19"
        },
        {
         "data": [
          {
           "hovertemplate": "date=2022-05-26 21:26:30<br>lat=%{lat}<br>lon=%{lon}<extra></extra>",
           "lat": [
            57.76395608456759
           ],
           "legendgroup": "",
           "lon": [
            -165.15755652481735
           ],
           "marker": {
            "color": "fuchsia"
           },
           "mode": "markers",
           "name": "",
           "showlegend": false,
           "subplot": "mapbox",
           "type": "scattermapbox"
          }
         ],
         "name": "2022-05-26 21:26:30"
        },
        {
         "data": [
          {
           "hovertemplate": "date=2022-05-26 21:26:41<br>lat=%{lat}<br>lon=%{lon}<extra></extra>",
           "lat": [
            58.43772408385119
           ],
           "legendgroup": "",
           "lon": [
            -165.48059938182766
           ],
           "marker": {
            "color": "fuchsia"
           },
           "mode": "markers",
           "name": "",
           "showlegend": false,
           "subplot": "mapbox",
           "type": "scattermapbox"
          }
         ],
         "name": "2022-05-26 21:26:41"
        },
        {
         "data": [
          {
           "hovertemplate": "date=2022-05-26 21:26:52<br>lat=%{lat}<br>lon=%{lon}<extra></extra>",
           "lat": [
            59.11106724820029
           ],
           "legendgroup": "",
           "lon": [
            -165.81599767975348
           ],
           "marker": {
            "color": "fuchsia"
           },
           "mode": "markers",
           "name": "",
           "showlegend": false,
           "subplot": "mapbox",
           "type": "scattermapbox"
          }
         ],
         "name": "2022-05-26 21:26:52"
        },
        {
         "data": [
          {
           "hovertemplate": "date=2022-05-26 21:27:03<br>lat=%{lat}<br>lon=%{lon}<extra></extra>",
           "lat": [
            59.78347235161355
           ],
           "legendgroup": "",
           "lon": [
            -166.16463919460858
           ],
           "marker": {
            "color": "fuchsia"
           },
           "mode": "markers",
           "name": "",
           "showlegend": false,
           "subplot": "mapbox",
           "type": "scattermapbox"
          }
         ],
         "name": "2022-05-26 21:27:03"
        },
        {
         "data": [
          {
           "hovertemplate": "date=2022-05-26 21:27:14<br>lat=%{lat}<br>lon=%{lon}<extra></extra>",
           "lat": [
            60.45336962623886
           ],
           "legendgroup": "",
           "lon": [
            -166.52806527466726
           ],
           "marker": {
            "color": "fuchsia"
           },
           "mode": "markers",
           "name": "",
           "showlegend": false,
           "subplot": "mapbox",
           "type": "scattermapbox"
          }
         ],
         "name": "2022-05-26 21:27:14"
        },
        {
         "data": [
          {
           "hovertemplate": "date=2022-05-26 21:27:25<br>lat=%{lat}<br>lon=%{lon}<extra></extra>",
           "lat": [
            61.12190744872199
           ],
           "legendgroup": "",
           "lon": [
            -166.9065556631579
           ],
           "marker": {
            "color": "fuchsia"
           },
           "mode": "markers",
           "name": "",
           "showlegend": false,
           "subplot": "mapbox",
           "type": "scattermapbox"
          }
         ],
         "name": "2022-05-26 21:27:25"
        },
        {
         "data": [
          {
           "hovertemplate": "date=2022-05-26 21:27:36<br>lat=%{lat}<br>lon=%{lon}<extra></extra>",
           "lat": [
            61.791268520791974
           ],
           "legendgroup": "",
           "lon": [
            -167.30034963314856
           ],
           "marker": {
            "color": "fuchsia"
           },
           "mode": "markers",
           "name": "",
           "showlegend": false,
           "subplot": "mapbox",
           "type": "scattermapbox"
          }
         ],
         "name": "2022-05-26 21:27:36"
        },
        {
         "data": [
          {
           "hovertemplate": "date=2022-05-26 21:27:47<br>lat=%{lat}<br>lon=%{lon}<extra></extra>",
           "lat": [
            62.45874564929966
           ],
           "legendgroup": "",
           "lon": [
            -167.71202985476944
           ],
           "marker": {
            "color": "fuchsia"
           },
           "mode": "markers",
           "name": "",
           "showlegend": false,
           "subplot": "mapbox",
           "type": "scattermapbox"
          }
         ],
         "name": "2022-05-26 21:27:47"
        },
        {
         "data": [
          {
           "hovertemplate": "date=2022-05-26 21:27:58<br>lat=%{lat}<br>lon=%{lon}<extra></extra>",
           "lat": [
            63.12288739479703
           ],
           "legendgroup": "",
           "lon": [
            -168.14302908107356
           ],
           "marker": {
            "color": "fuchsia"
           },
           "mode": "markers",
           "name": "",
           "showlegend": false,
           "subplot": "mapbox",
           "type": "scattermapbox"
          }
         ],
         "name": "2022-05-26 21:27:58"
        },
        {
         "data": [
          {
           "hovertemplate": "date=2022-05-26 21:28:09<br>lat=%{lat}<br>lon=%{lon}<extra></extra>",
           "lat": [
            63.788844202788205
           ],
           "legendgroup": "",
           "lon": [
            -168.59282480928832
           ],
           "marker": {
            "color": "fuchsia"
           },
           "mode": "markers",
           "name": "",
           "showlegend": false,
           "subplot": "mapbox",
           "type": "scattermapbox"
          }
         ],
         "name": "2022-05-26 21:28:09"
        },
        {
         "data": [
          {
           "hovertemplate": "date=2022-05-26 21:28:20<br>lat=%{lat}<br>lon=%{lon}<extra></extra>",
           "lat": [
            64.44868940835616
           ],
           "legendgroup": "",
           "lon": [
            -169.06644972481595
           ],
           "marker": {
            "color": "fuchsia"
           },
           "mode": "markers",
           "name": "",
           "showlegend": false,
           "subplot": "mapbox",
           "type": "scattermapbox"
          }
         ],
         "name": "2022-05-26 21:28:20"
        },
        {
         "data": [
          {
           "hovertemplate": "date=2022-05-26 21:28:31<br>lat=%{lat}<br>lon=%{lon}<extra></extra>",
           "lat": [
            65.10938895089134
           ],
           "legendgroup": "",
           "lon": [
            -169.56157403519234
           ],
           "marker": {
            "color": "fuchsia"
           },
           "mode": "markers",
           "name": "",
           "showlegend": false,
           "subplot": "mapbox",
           "type": "scattermapbox"
          }
         ],
         "name": "2022-05-26 21:28:31"
        },
        {
         "data": [
          {
           "hovertemplate": "date=2022-05-26 21:28:42<br>lat=%{lat}<br>lon=%{lon}<extra></extra>",
           "lat": [
            65.77080907642473
           ],
           "legendgroup": "",
           "lon": [
            -170.0808606569315
           ],
           "marker": {
            "color": "fuchsia"
           },
           "mode": "markers",
           "name": "",
           "showlegend": false,
           "subplot": "mapbox",
           "type": "scattermapbox"
          }
         ],
         "name": "2022-05-26 21:28:42"
        },
        {
         "data": [
          {
           "hovertemplate": "date=2022-05-26 21:28:53<br>lat=%{lat}<br>lon=%{lon}<extra></extra>",
           "lat": [
            66.4283605052682
           ],
           "legendgroup": "",
           "lon": [
            -170.6281627452426
           ],
           "marker": {
            "color": "fuchsia"
           },
           "mode": "markers",
           "name": "",
           "showlegend": false,
           "subplot": "mapbox",
           "type": "scattermapbox"
          }
         ],
         "name": "2022-05-26 21:28:53"
        },
        {
         "data": [
          {
           "hovertemplate": "date=2022-05-26 21:29:04<br>lat=%{lat}<br>lon=%{lon}<extra></extra>",
           "lat": [
            67.08277512286377
           ],
           "legendgroup": "",
           "lon": [
            -171.20578650362
           ],
           "marker": {
            "color": "fuchsia"
           },
           "mode": "markers",
           "name": "",
           "showlegend": false,
           "subplot": "mapbox",
           "type": "scattermapbox"
          }
         ],
         "name": "2022-05-26 21:29:04"
        },
        {
         "data": [
          {
           "hovertemplate": "date=2022-05-26 21:29:15<br>lat=%{lat}<br>lon=%{lon}<extra></extra>",
           "lat": [
            67.73537396724726
           ],
           "legendgroup": "",
           "lon": [
            -171.8150217017516
           ],
           "marker": {
            "color": "fuchsia"
           },
           "mode": "markers",
           "name": "",
           "showlegend": false,
           "subplot": "mapbox",
           "type": "scattermapbox"
          }
         ],
         "name": "2022-05-26 21:29:15"
        },
        {
         "data": [
          {
           "hovertemplate": "date=2022-05-26 21:29:26<br>lat=%{lat}<br>lon=%{lon}<extra></extra>",
           "lat": [
            68.38795459076174
           ],
           "legendgroup": "",
           "lon": [
            -172.4581629850718
           ],
           "marker": {
            "color": "fuchsia"
           },
           "mode": "markers",
           "name": "",
           "showlegend": false,
           "subplot": "mapbox",
           "type": "scattermapbox"
          }
         ],
         "name": "2022-05-26 21:29:26"
        },
        {
         "data": [
          {
           "hovertemplate": "date=2022-05-26 21:29:37<br>lat=%{lat}<br>lon=%{lon}<extra></extra>",
           "lat": [
            69.03377977291977
           ],
           "legendgroup": "",
           "lon": [
            -173.1404977409251
           ],
           "marker": {
            "color": "fuchsia"
           },
           "mode": "markers",
           "name": "",
           "showlegend": false,
           "subplot": "mapbox",
           "type": "scattermapbox"
          }
         ],
         "name": "2022-05-26 21:29:37"
        },
        {
         "data": [
          {
           "hovertemplate": "date=2022-05-26 21:29:48<br>lat=%{lat}<br>lon=%{lon}<extra></extra>",
           "lat": [
            69.6785224449349
           ],
           "legendgroup": "",
           "lon": [
            -173.8625053419504
           ],
           "marker": {
            "color": "fuchsia"
           },
           "mode": "markers",
           "name": "",
           "showlegend": false,
           "subplot": "mapbox",
           "type": "scattermapbox"
          }
         ],
         "name": "2022-05-26 21:29:48"
        },
        {
         "data": [
          {
           "hovertemplate": "date=2022-05-26 21:29:59<br>lat=%{lat}<br>lon=%{lon}<extra></extra>",
           "lat": [
            70.31986845023117
           ],
           "legendgroup": "",
           "lon": [
            -174.6291917306113
           ],
           "marker": {
            "color": "fuchsia"
           },
           "mode": "markers",
           "name": "",
           "showlegend": false,
           "subplot": "mapbox",
           "type": "scattermapbox"
          }
         ],
         "name": "2022-05-26 21:29:59"
        },
        {
         "data": [
          {
           "hovertemplate": "date=2022-05-26 21:30:10<br>lat=%{lat}<br>lon=%{lon}<extra></extra>",
           "lat": [
            70.95699496650047
           ],
           "legendgroup": "",
           "lon": [
            -175.44499607313128
           ],
           "marker": {
            "color": "fuchsia"
           },
           "mode": "markers",
           "name": "",
           "showlegend": false,
           "subplot": "mapbox",
           "type": "scattermapbox"
          }
         ],
         "name": "2022-05-26 21:30:10"
        },
        {
         "data": [
          {
           "hovertemplate": "date=2022-05-26 21:30:21<br>lat=%{lat}<br>lon=%{lon}<extra></extra>",
           "lat": [
            71.59223150924245
           ],
           "legendgroup": "",
           "lon": [
            -176.31448696575333
           ],
           "marker": {
            "color": "fuchsia"
           },
           "mode": "markers",
           "name": "",
           "showlegend": false,
           "subplot": "mapbox",
           "type": "scattermapbox"
          }
         ],
         "name": "2022-05-26 21:30:21"
        },
        {
         "data": [
          {
           "hovertemplate": "date=2022-05-26 21:30:32<br>lat=%{lat}<br>lon=%{lon}<extra></extra>",
           "lat": [
            72.22201530553677
           ],
           "legendgroup": "",
           "lon": [
            -177.2444049008988
           ],
           "marker": {
            "color": "fuchsia"
           },
           "mode": "markers",
           "name": "",
           "showlegend": false,
           "subplot": "mapbox",
           "type": "scattermapbox"
          }
         ],
         "name": "2022-05-26 21:30:32"
        },
        {
         "data": [
          {
           "hovertemplate": "date=2022-05-26 21:30:43<br>lat=%{lat}<br>lon=%{lon}<extra></extra>",
           "lat": [
            72.84895424425198
           ],
           "legendgroup": "",
           "lon": [
            -178.2414983744647
           ],
           "marker": {
            "color": "fuchsia"
           },
           "mode": "markers",
           "name": "",
           "showlegend": false,
           "subplot": "mapbox",
           "type": "scattermapbox"
          }
         ],
         "name": "2022-05-26 21:30:43"
        },
        {
         "data": [
          {
           "hovertemplate": "date=2022-05-26 21:30:54<br>lat=%{lat}<br>lon=%{lon}<extra></extra>",
           "lat": [
            73.46597261269484
           ],
           "legendgroup": "",
           "lon": [
            -179.31149892547236
           ],
           "marker": {
            "color": "fuchsia"
           },
           "mode": "markers",
           "name": "",
           "showlegend": false,
           "subplot": "mapbox",
           "type": "scattermapbox"
          }
         ],
         "name": "2022-05-26 21:30:54"
        },
        {
         "data": [
          {
           "hovertemplate": "date=2022-05-26 21:31:05<br>lat=%{lat}<br>lon=%{lon}<extra></extra>",
           "lat": [
            74.08147127487871
           ],
           "legendgroup": "",
           "lon": [
            179.53936219891625
           ],
           "marker": {
            "color": "fuchsia"
           },
           "mode": "markers",
           "name": "",
           "showlegend": false,
           "subplot": "mapbox",
           "type": "scattermapbox"
          }
         ],
         "name": "2022-05-26 21:31:05"
        },
        {
         "data": [
          {
           "hovertemplate": "date=2022-05-26 21:31:16<br>lat=%{lat}<br>lon=%{lon}<extra></extra>",
           "lat": [
            74.68906480310251
           ],
           "legendgroup": "",
           "lon": [
            178.30211517901535
           ],
           "marker": {
            "color": "fuchsia"
           },
           "mode": "markers",
           "name": "",
           "showlegend": false,
           "subplot": "mapbox",
           "type": "scattermapbox"
          }
         ],
         "name": "2022-05-26 21:31:16"
        },
        {
         "data": [
          {
           "hovertemplate": "date=2022-05-26 21:31:27<br>lat=%{lat}<br>lon=%{lon}<extra></extra>",
           "lat": [
            75.28876942097534
           ],
           "legendgroup": "",
           "lon": [
            176.9675295930642
           ],
           "marker": {
            "color": "fuchsia"
           },
           "mode": "markers",
           "name": "",
           "showlegend": false,
           "subplot": "mapbox",
           "type": "scattermapbox"
          }
         ],
         "name": "2022-05-26 21:31:27"
        },
        {
         "data": [
          {
           "hovertemplate": "date=2022-05-26 21:31:38<br>lat=%{lat}<br>lon=%{lon}<extra></extra>",
           "lat": [
            75.88056266175408
           ],
           "legendgroup": "",
           "lon": [
            175.5223681051232
           ],
           "marker": {
            "color": "fuchsia"
           },
           "mode": "markers",
           "name": "",
           "showlegend": false,
           "subplot": "mapbox",
           "type": "scattermapbox"
          }
         ],
         "name": "2022-05-26 21:31:38"
        },
        {
         "data": [
          {
           "hovertemplate": "date=2022-05-26 21:31:49<br>lat=%{lat}<br>lon=%{lon}<extra></extra>",
           "lat": [
            76.4615629781806
           ],
           "legendgroup": "",
           "lon": [
            173.95560920026227
           ],
           "marker": {
            "color": "fuchsia"
           },
           "mode": "markers",
           "name": "",
           "showlegend": false,
           "subplot": "mapbox",
           "type": "scattermapbox"
          }
         ],
         "name": "2022-05-26 21:31:49"
        },
        {
         "data": [
          {
           "hovertemplate": "date=2022-05-26 21:32:00<br>lat=%{lat}<br>lon=%{lon}<extra></extra>",
           "lat": [
            77.03463447932945
           ],
           "legendgroup": "",
           "lon": [
            172.2501397241694
           ],
           "marker": {
            "color": "fuchsia"
           },
           "mode": "markers",
           "name": "",
           "showlegend": false,
           "subplot": "mapbox",
           "type": "scattermapbox"
          }
         ],
         "name": "2022-05-26 21:32:00"
        },
        {
         "data": [
          {
           "hovertemplate": "date=2022-05-26 21:32:11<br>lat=%{lat}<br>lon=%{lon}<extra></extra>",
           "lat": [
            77.59426027050868
           ],
           "legendgroup": "",
           "lon": [
            170.38994967136358
           ],
           "marker": {
            "color": "fuchsia"
           },
           "mode": "markers",
           "name": "",
           "showlegend": false,
           "subplot": "mapbox",
           "type": "scattermapbox"
          }
         ],
         "name": "2022-05-26 21:32:11"
        },
        {
         "data": [
          {
           "hovertemplate": "date=2022-05-26 21:32:22<br>lat=%{lat}<br>lon=%{lon}<extra></extra>",
           "lat": [
            78.14005984836945
           ],
           "legendgroup": "",
           "lon": [
            168.3582495352874
           ],
           "marker": {
            "color": "fuchsia"
           },
           "mode": "markers",
           "name": "",
           "showlegend": false,
           "subplot": "mapbox",
           "type": "scattermapbox"
          }
         ],
         "name": "2022-05-26 21:32:22"
        },
        {
         "data": [
          {
           "hovertemplate": "date=2022-05-26 21:32:33<br>lat=%{lat}<br>lon=%{lon}<extra></extra>",
           "lat": [
            78.66904813045585
           ],
           "legendgroup": "",
           "lon": [
            166.13955912264063
           ],
           "marker": {
            "color": "fuchsia"
           },
           "mode": "markers",
           "name": "",
           "showlegend": false,
           "subplot": "mapbox",
           "type": "scattermapbox"
          }
         ],
         "name": "2022-05-26 21:32:33"
        },
        {
         "data": [
          {
           "hovertemplate": "date=2022-05-26 21:32:44<br>lat=%{lat}<br>lon=%{lon}<extra></extra>",
           "lat": [
            79.18194554277586
           ],
           "legendgroup": "",
           "lon": [
            163.7099300197729
           ],
           "marker": {
            "color": "fuchsia"
           },
           "mode": "markers",
           "name": "",
           "showlegend": false,
           "subplot": "mapbox",
           "type": "scattermapbox"
          }
         ],
         "name": "2022-05-26 21:32:44"
        },
        {
         "data": [
          {
           "hovertemplate": "date=2022-05-26 21:32:55<br>lat=%{lat}<br>lon=%{lon}<extra></extra>",
           "lat": [
            79.67081510080943
           ],
           "legendgroup": "",
           "lon": [
            161.05425705698383
           ],
           "marker": {
            "color": "fuchsia"
           },
           "mode": "markers",
           "name": "",
           "showlegend": false,
           "subplot": "mapbox",
           "type": "scattermapbox"
          }
         ],
         "name": "2022-05-26 21:32:55"
        },
        {
         "data": [
          {
           "hovertemplate": "date=2022-05-26 21:33:06<br>lat=%{lat}<br>lon=%{lon}<extra></extra>",
           "lat": [
            80.13800079174896
           ],
           "legendgroup": "",
           "lon": [
            158.14175797747066
           ],
           "marker": {
            "color": "fuchsia"
           },
           "mode": "markers",
           "name": "",
           "showlegend": false,
           "subplot": "mapbox",
           "type": "scattermapbox"
          }
         ],
         "name": "2022-05-26 21:33:06"
        },
        {
         "data": [
          {
           "hovertemplate": "date=2022-05-26 21:33:17<br>lat=%{lat}<br>lon=%{lon}<extra></extra>",
           "lat": [
            80.57638390589224
           ],
           "legendgroup": "",
           "lon": [
            154.95660696056729
           ],
           "marker": {
            "color": "fuchsia"
           },
           "mode": "markers",
           "name": "",
           "showlegend": false,
           "subplot": "mapbox",
           "type": "scattermapbox"
          }
         ],
         "name": "2022-05-26 21:33:17"
        },
        {
         "data": [
          {
           "hovertemplate": "date=2022-05-26 21:33:28<br>lat=%{lat}<br>lon=%{lon}<extra></extra>",
           "lat": [
            80.98574839133352
           ],
           "legendgroup": "",
           "lon": [
            151.46418785422188
           ],
           "marker": {
            "color": "fuchsia"
           },
           "mode": "markers",
           "name": "",
           "showlegend": false,
           "subplot": "mapbox",
           "type": "scattermapbox"
          }
         ],
         "name": "2022-05-26 21:33:28"
        },
        {
         "data": [
          {
           "hovertemplate": "date=2022-05-26 21:33:39<br>lat=%{lat}<br>lon=%{lon}<extra></extra>",
           "lat": [
            81.3586555136258
           ],
           "legendgroup": "",
           "lon": [
            147.65739244653633
           ],
           "marker": {
            "color": "fuchsia"
           },
           "mode": "markers",
           "name": "",
           "showlegend": false,
           "subplot": "mapbox",
           "type": "scattermapbox"
          }
         ],
         "name": "2022-05-26 21:33:39"
        },
        {
         "data": [
          {
           "hovertemplate": "date=2022-05-26 21:33:50<br>lat=%{lat}<br>lon=%{lon}<extra></extra>",
           "lat": [
            81.69027641773025
           ],
           "legendgroup": "",
           "lon": [
            143.52903763607276
           ],
           "marker": {
            "color": "fuchsia"
           },
           "mode": "markers",
           "name": "",
           "showlegend": false,
           "subplot": "mapbox",
           "type": "scattermapbox"
          }
         ],
         "name": "2022-05-26 21:33:50"
        },
        {
         "data": [
          {
           "hovertemplate": "date=2022-05-26 21:34:01<br>lat=%{lat}<br>lon=%{lon}<extra></extra>",
           "lat": [
            81.97524881911362
           ],
           "legendgroup": "",
           "lon": [
            139.08850587812427
           ],
           "marker": {
            "color": "fuchsia"
           },
           "mode": "markers",
           "name": "",
           "showlegend": false,
           "subplot": "mapbox",
           "type": "scattermapbox"
          }
         ],
         "name": "2022-05-26 21:34:01"
        },
        {
         "data": [
          {
           "hovertemplate": "date=2022-05-26 21:34:12<br>lat=%{lat}<br>lon=%{lon}<extra></extra>",
           "lat": [
            82.2080774833504
           ],
           "legendgroup": "",
           "lon": [
            134.36875731572675
           ],
           "marker": {
            "color": "fuchsia"
           },
           "mode": "markers",
           "name": "",
           "showlegend": false,
           "subplot": "mapbox",
           "type": "scattermapbox"
          }
         ],
         "name": "2022-05-26 21:34:12"
        },
        {
         "data": [
          {
           "hovertemplate": "date=2022-05-26 21:34:23<br>lat=%{lat}<br>lon=%{lon}<extra></extra>",
           "lat": [
            82.38784894032395
           ],
           "legendgroup": "",
           "lon": [
            129.3836593522522
           ],
           "marker": {
            "color": "fuchsia"
           },
           "mode": "markers",
           "name": "",
           "showlegend": false,
           "subplot": "mapbox",
           "type": "scattermapbox"
          }
         ],
         "name": "2022-05-26 21:34:23"
        },
        {
         "data": [
          {
           "hovertemplate": "date=2022-05-26 21:34:34<br>lat=%{lat}<br>lon=%{lon}<extra></extra>",
           "lat": [
            82.50884647379868
           ],
           "legendgroup": "",
           "lon": [
            124.19198283405885
           ],
           "marker": {
            "color": "fuchsia"
           },
           "mode": "markers",
           "name": "",
           "showlegend": false,
           "subplot": "mapbox",
           "type": "scattermapbox"
          }
         ],
         "name": "2022-05-26 21:34:34"
        },
        {
         "data": [
          {
           "hovertemplate": "date=2022-05-26 21:34:45<br>lat=%{lat}<br>lon=%{lon}<extra></extra>",
           "lat": [
            82.56687770254128
           ],
           "legendgroup": "",
           "lon": [
            118.8760564807511
           ],
           "marker": {
            "color": "fuchsia"
           },
           "mode": "markers",
           "name": "",
           "showlegend": false,
           "subplot": "mapbox",
           "type": "scattermapbox"
          }
         ],
         "name": "2022-05-26 21:34:45"
        },
        {
         "data": [
          {
           "hovertemplate": "date=2022-05-26 21:34:56<br>lat=%{lat}<br>lon=%{lon}<extra></extra>",
           "lat": [
            82.56010443236039
           ],
           "legendgroup": "",
           "lon": [
            113.53533171726266
           ],
           "marker": {
            "color": "fuchsia"
           },
           "mode": "markers",
           "name": "",
           "showlegend": false,
           "subplot": "mapbox",
           "type": "scattermapbox"
          }
         ],
         "name": "2022-05-26 21:34:56"
        },
        {
         "data": [
          {
           "hovertemplate": "date=2022-05-26 21:35:07<br>lat=%{lat}<br>lon=%{lon}<extra></extra>",
           "lat": [
            82.49018778007694
           ],
           "legendgroup": "",
           "lon": [
            108.22761071012756
           ],
           "marker": {
            "color": "fuchsia"
           },
           "mode": "markers",
           "name": "",
           "showlegend": false,
           "subplot": "mapbox",
           "type": "scattermapbox"
          }
         ],
         "name": "2022-05-26 21:35:07"
        },
        {
         "data": [
          {
           "hovertemplate": "date=2022-05-26 21:35:18<br>lat=%{lat}<br>lon=%{lon}<extra></extra>",
           "lat": [
            82.35774086650447
           ],
           "legendgroup": "",
           "lon": [
            103.07209294509946
           ],
           "marker": {
            "color": "fuchsia"
           },
           "mode": "markers",
           "name": "",
           "showlegend": false,
           "subplot": "mapbox",
           "type": "scattermapbox"
          }
         ],
         "name": "2022-05-26 21:35:18"
        },
        {
         "data": [
          {
           "hovertemplate": "date=2022-05-26 21:35:29<br>lat=%{lat}<br>lon=%{lon}<extra></extra>",
           "lat": [
            82.1667765540804
           ],
           "legendgroup": "",
           "lon": [
            98.15904451184649
           ],
           "marker": {
            "color": "fuchsia"
           },
           "mode": "markers",
           "name": "",
           "showlegend": false,
           "subplot": "mapbox",
           "type": "scattermapbox"
          }
         ],
         "name": "2022-05-26 21:35:29"
        },
        {
         "data": [
          {
           "hovertemplate": "date=2022-05-26 21:35:40<br>lat=%{lat}<br>lon=%{lon}<extra></extra>",
           "lat": [
            81.92267214344605
           ],
           "legendgroup": "",
           "lon": [
            93.48041080090564
           ],
           "marker": {
            "color": "fuchsia"
           },
           "mode": "markers",
           "name": "",
           "showlegend": false,
           "subplot": "mapbox",
           "type": "scattermapbox"
          }
         ],
         "name": "2022-05-26 21:35:40"
        },
        {
         "data": [
          {
           "hovertemplate": "date=2022-05-26 21:35:51<br>lat=%{lat}<br>lon=%{lon}<extra></extra>",
           "lat": [
            81.62870355396754
           ],
           "legendgroup": "",
           "lon": [
            89.10322284511328
           ],
           "marker": {
            "color": "fuchsia"
           },
           "mode": "markers",
           "name": "",
           "showlegend": false,
           "subplot": "mapbox",
           "type": "scattermapbox"
          }
         ],
         "name": "2022-05-26 21:35:51"
        },
        {
         "data": [
          {
           "hovertemplate": "date=2022-05-26 21:36:02<br>lat=%{lat}<br>lon=%{lon}<extra></extra>",
           "lat": [
            81.28976575384344
           ],
           "legendgroup": "",
           "lon": [
            85.04102463859131
           ],
           "marker": {
            "color": "fuchsia"
           },
           "mode": "markers",
           "name": "",
           "showlegend": false,
           "subplot": "mapbox",
           "type": "scattermapbox"
          }
         ],
         "name": "2022-05-26 21:36:02"
        },
        {
         "data": [
          {
           "hovertemplate": "date=2022-05-26 21:36:13<br>lat=%{lat}<br>lon=%{lon}<extra></extra>",
           "lat": [
            80.90948181745891
           ],
           "legendgroup": "",
           "lon": [
            81.2777583919443
           ],
           "marker": {
            "color": "fuchsia"
           },
           "mode": "markers",
           "name": "",
           "showlegend": false,
           "subplot": "mapbox",
           "type": "scattermapbox"
          }
         ],
         "name": "2022-05-26 21:36:13"
        },
        {
         "data": [
          {
           "hovertemplate": "date=2022-05-26 21:36:24<br>lat=%{lat}<br>lon=%{lon}<extra></extra>",
           "lat": [
            80.49446717656933
           ],
           "legendgroup": "",
           "lon": [
            77.85715809224442
           ],
           "marker": {
            "color": "fuchsia"
           },
           "mode": "markers",
           "name": "",
           "showlegend": false,
           "subplot": "mapbox",
           "type": "scattermapbox"
          }
         ],
         "name": "2022-05-26 21:36:24"
        },
        {
         "data": [
          {
           "hovertemplate": "date=2022-05-26 21:36:35<br>lat=%{lat}<br>lon=%{lon}<extra></extra>",
           "lat": [
            80.04953204639321
           ],
           "legendgroup": "",
           "lon": [
            74.7298087489485
           ],
           "marker": {
            "color": "fuchsia"
           },
           "mode": "markers",
           "name": "",
           "showlegend": false,
           "subplot": "mapbox",
           "type": "scattermapbox"
          }
         ],
         "name": "2022-05-26 21:36:35"
        },
        {
         "data": [
          {
           "hovertemplate": "date=2022-05-26 21:36:46<br>lat=%{lat}<br>lon=%{lon}<extra></extra>",
           "lat": [
            79.57816451480844
           ],
           "legendgroup": "",
           "lon": [
            71.86536378866269
           ],
           "marker": {
            "color": "fuchsia"
           },
           "mode": "markers",
           "name": "",
           "showlegend": false,
           "subplot": "mapbox",
           "type": "scattermapbox"
          }
         ],
         "name": "2022-05-26 21:36:46"
        },
        {
         "data": [
          {
           "hovertemplate": "date=2022-05-26 21:36:57<br>lat=%{lat}<br>lon=%{lon}<extra></extra>",
           "lat": [
            79.08324343312779
           ],
           "legendgroup": "",
           "lon": [
            69.24669688194089
           ],
           "marker": {
            "color": "fuchsia"
           },
           "mode": "markers",
           "name": "",
           "showlegend": false,
           "subplot": "mapbox",
           "type": "scattermapbox"
          }
         ],
         "name": "2022-05-26 21:36:57"
        },
        {
         "data": [
          {
           "hovertemplate": "date=2022-05-26 21:37:08<br>lat=%{lat}<br>lon=%{lon}<extra></extra>",
           "lat": [
            78.56765721700401
           ],
           "legendgroup": "",
           "lon": [
            66.8564963819489
           ],
           "marker": {
            "color": "fuchsia"
           },
           "mode": "markers",
           "name": "",
           "showlegend": false,
           "subplot": "mapbox",
           "type": "scattermapbox"
          }
         ],
         "name": "2022-05-26 21:37:08"
        },
        {
         "data": [
          {
           "hovertemplate": "date=2022-05-26 21:37:19<br>lat=%{lat}<br>lon=%{lon}<extra></extra>",
           "lat": [
            78.03450535206953
           ],
           "legendgroup": "",
           "lon": [
            64.67704246288592
           ],
           "marker": {
            "color": "fuchsia"
           },
           "mode": "markers",
           "name": "",
           "showlegend": false,
           "subplot": "mapbox",
           "type": "scattermapbox"
          }
         ],
         "name": "2022-05-26 21:37:19"
        },
        {
         "data": [
          {
           "hovertemplate": "date=2022-05-26 21:37:30<br>lat=%{lat}<br>lon=%{lon}<extra></extra>",
           "lat": [
            77.48656233104224
           ],
           "legendgroup": "",
           "lon": [
            62.68901619069202
           ],
           "marker": {
            "color": "fuchsia"
           },
           "mode": "markers",
           "name": "",
           "showlegend": false,
           "subplot": "mapbox",
           "type": "scattermapbox"
          }
         ],
         "name": "2022-05-26 21:37:30"
        },
        {
         "data": [
          {
           "hovertemplate": "date=2022-05-26 21:37:41<br>lat=%{lat}<br>lon=%{lon}<extra></extra>",
           "lat": [
            76.92575428934647
           ],
           "legendgroup": "",
           "lon": [
            60.86857382742362
           ],
           "marker": {
            "color": "fuchsia"
           },
           "mode": "markers",
           "name": "",
           "showlegend": false,
           "subplot": "mapbox",
           "type": "scattermapbox"
          }
         ],
         "name": "2022-05-26 21:37:41"
        },
        {
         "data": [
          {
           "hovertemplate": "date=2022-05-26 21:37:52<br>lat=%{lat}<br>lon=%{lon}<extra></extra>",
           "lat": [
            76.3528791099529
           ],
           "legendgroup": "",
           "lon": [
            59.19233726498128
           ],
           "marker": {
            "color": "fuchsia"
           },
           "mode": "markers",
           "name": "",
           "showlegend": false,
           "subplot": "mapbox",
           "type": "scattermapbox"
          }
         ],
         "name": "2022-05-26 21:37:52"
        },
        {
         "data": [
          {
           "hovertemplate": "date=2022-05-26 21:38:03<br>lat=%{lat}<br>lon=%{lon}<extra></extra>",
           "lat": [
            75.76930972474214
           ],
           "legendgroup": "",
           "lon": [
            57.64751892791278
           ],
           "marker": {
            "color": "fuchsia"
           },
           "mode": "markers",
           "name": "",
           "showlegend": false,
           "subplot": "mapbox",
           "type": "scattermapbox"
          }
         ],
         "name": "2022-05-26 21:38:03"
        },
        {
         "data": [
          {
           "hovertemplate": "date=2022-05-26 21:38:14<br>lat=%{lat}<br>lon=%{lon}<extra></extra>",
           "lat": [
            75.17614861060343
           ],
           "legendgroup": "",
           "lon": [
            56.22271928801017
           ],
           "marker": {
            "color": "fuchsia"
           },
           "mode": "markers",
           "name": "",
           "showlegend": false,
           "subplot": "mapbox",
           "type": "scattermapbox"
          }
         ],
         "name": "2022-05-26 21:38:14"
        },
        {
         "data": [
          {
           "hovertemplate": "date=2022-05-26 21:38:25<br>lat=%{lat}<br>lon=%{lon}<extra></extra>",
           "lat": [
            74.57656297776326
           ],
           "legendgroup": "",
           "lon": [
            54.91412874339749
           ],
           "marker": {
            "color": "fuchsia"
           },
           "mode": "markers",
           "name": "",
           "showlegend": false,
           "subplot": "mapbox",
           "type": "scattermapbox"
          }
         ],
         "name": "2022-05-26 21:38:25"
        },
        {
         "data": [
          {
           "hovertemplate": "date=2022-05-26 21:38:36<br>lat=%{lat}<br>lon=%{lon}<extra></extra>",
           "lat": [
            73.96824644028196
           ],
           "legendgroup": "",
           "lon": [
            53.69358523106039
           ],
           "marker": {
            "color": "fuchsia"
           },
           "mode": "markers",
           "name": "",
           "showlegend": false,
           "subplot": "mapbox",
           "type": "scattermapbox"
          }
         ],
         "name": "2022-05-26 21:38:36"
        },
        {
         "data": [
          {
           "hovertemplate": "date=2022-05-26 21:38:47<br>lat=%{lat}<br>lon=%{lon}<extra></extra>",
           "lat": [
            73.35281638724824
           ],
           "legendgroup": "",
           "lon": [
            52.5586487029983
           ],
           "marker": {
            "color": "fuchsia"
           },
           "mode": "markers",
           "name": "",
           "showlegend": false,
           "subplot": "mapbox",
           "type": "scattermapbox"
          }
         ],
         "name": "2022-05-26 21:38:47"
        },
        {
         "data": [
          {
           "hovertemplate": "date=2022-05-26 21:38:58<br>lat=%{lat}<br>lon=%{lon}<extra></extra>",
           "lat": [
            72.733756531781
           ],
           "legendgroup": "",
           "lon": [
            51.51077423147387
           ],
           "marker": {
            "color": "fuchsia"
           },
           "mode": "markers",
           "name": "",
           "showlegend": false,
           "subplot": "mapbox",
           "type": "scattermapbox"
          }
         ],
         "name": "2022-05-26 21:38:58"
        },
        {
         "data": [
          {
           "hovertemplate": "date=2022-05-26 21:39:09<br>lat=%{lat}<br>lon=%{lon}<extra></extra>",
           "lat": [
            72.10896582209357
           ],
           "legendgroup": "",
           "lon": [
            50.52954925984875
           ],
           "marker": {
            "color": "fuchsia"
           },
           "mode": "markers",
           "name": "",
           "showlegend": false,
           "subplot": "mapbox",
           "type": "scattermapbox"
          }
         ],
         "name": "2022-05-26 21:39:09"
        },
        {
         "data": [
          {
           "hovertemplate": "date=2022-05-26 21:39:20<br>lat=%{lat}<br>lon=%{lon}<extra></extra>",
           "lat": [
            71.47866200856004
           ],
           "legendgroup": "",
           "lon": [
            49.608127231974635
           ],
           "marker": {
            "color": "fuchsia"
           },
           "mode": "markers",
           "name": "",
           "showlegend": false,
           "subplot": "mapbox",
           "type": "scattermapbox"
          }
         ],
         "name": "2022-05-26 21:39:20"
        },
        {
         "data": [
          {
           "hovertemplate": "date=2022-05-26 21:39:31<br>lat=%{lat}<br>lon=%{lon}<extra></extra>",
           "lat": [
            70.84448500165333
           ],
           "legendgroup": "",
           "lon": [
            48.74691251906738
           ],
           "marker": {
            "color": "fuchsia"
           },
           "mode": "markers",
           "name": "",
           "showlegend": false,
           "subplot": "mapbox",
           "type": "scattermapbox"
          }
         ],
         "name": "2022-05-26 21:39:31"
        },
        {
         "data": [
          {
           "hovertemplate": "date=2022-05-26 21:39:42<br>lat=%{lat}<br>lon=%{lon}<extra></extra>",
           "lat": [
            70.20700539533122
           ],
           "legendgroup": "",
           "lon": [
            47.94140867865881
           ],
           "marker": {
            "color": "fuchsia"
           },
           "mode": "markers",
           "name": "",
           "showlegend": false,
           "subplot": "mapbox",
           "type": "scattermapbox"
          }
         ],
         "name": "2022-05-26 21:39:42"
        },
        {
         "data": [
          {
           "hovertemplate": "date=2022-05-26 21:39:53<br>lat=%{lat}<br>lon=%{lon}<extra></extra>",
           "lat": [
            69.56564452804017
           ],
           "legendgroup": "",
           "lon": [
            47.18524115685682
           ],
           "marker": {
            "color": "fuchsia"
           },
           "mode": "markers",
           "name": "",
           "showlegend": false,
           "subplot": "mapbox",
           "type": "scattermapbox"
          }
         ],
         "name": "2022-05-26 21:39:53"
        },
        {
         "data": [
          {
           "hovertemplate": "date=2022-05-26 21:40:04<br>lat=%{lat}<br>lon=%{lon}<extra></extra>",
           "lat": [
            68.92081870742074
           ],
           "legendgroup": "",
           "lon": [
            46.472679858968725
           ],
           "marker": {
            "color": "fuchsia"
           },
           "mode": "markers",
           "name": "",
           "showlegend": false,
           "subplot": "mapbox",
           "type": "scattermapbox"
          }
         ],
         "name": "2022-05-26 21:40:04"
        },
        {
         "data": [
          {
           "hovertemplate": "date=2022-05-26 21:40:15<br>lat=%{lat}<br>lon=%{lon}<extra></extra>",
           "lat": [
            68.27269347196952
           ],
           "legendgroup": "",
           "lon": [
            45.800155612516576
           ],
           "marker": {
            "color": "fuchsia"
           },
           "mode": "markers",
           "name": "",
           "showlegend": false,
           "subplot": "mapbox",
           "type": "scattermapbox"
          }
         ],
         "name": "2022-05-26 21:40:15"
        },
        {
         "data": [
          {
           "hovertemplate": "date=2022-05-26 21:40:26<br>lat=%{lat}<br>lon=%{lon}<extra></extra>",
           "lat": [
            67.62321690488642
           ],
           "legendgroup": "",
           "lon": [
            45.16580278559938
           ],
           "marker": {
            "color": "fuchsia"
           },
           "mode": "markers",
           "name": "",
           "showlegend": false,
           "subplot": "mapbox",
           "type": "scattermapbox"
          }
         ],
         "name": "2022-05-26 21:40:26"
        },
        {
         "data": [
          {
           "hovertemplate": "date=2022-05-26 21:40:37<br>lat=%{lat}<br>lon=%{lon}<extra></extra>",
           "lat": [
            66.96990765640712
           ],
           "legendgroup": "",
           "lon": [
            44.561185969439585
           ],
           "marker": {
            "color": "fuchsia"
           },
           "mode": "markers",
           "name": "",
           "showlegend": false,
           "subplot": "mapbox",
           "type": "scattermapbox"
          }
         ],
         "name": "2022-05-26 21:40:37"
        },
        {
         "data": [
          {
           "hovertemplate": "date=2022-05-26 21:40:48<br>lat=%{lat}<br>lon=%{lon}<extra></extra>",
           "lat": [
            66.316134492508
           ],
           "legendgroup": "",
           "lon": [
            43.99219760032745
           ],
           "marker": {
            "color": "fuchsia"
           },
           "mode": "markers",
           "name": "",
           "showlegend": false,
           "subplot": "mapbox",
           "type": "scattermapbox"
          }
         ],
         "name": "2022-05-26 21:40:48"
        },
        {
         "data": [
          {
           "hovertemplate": "date=2022-05-26 21:40:59<br>lat=%{lat}<br>lon=%{lon}<extra></extra>",
           "lat": [
            65.6602753491243
           ],
           "legendgroup": "",
           "lon": [
            43.45206204214197
           ],
           "marker": {
            "color": "fuchsia"
           },
           "mode": "markers",
           "name": "",
           "showlegend": false,
           "subplot": "mapbox",
           "type": "scattermapbox"
          }
         ],
         "name": "2022-05-26 21:40:59"
        }
       ],
       "layout": {
        "geo": {
         "center": {
          "lat": 51.124308276049504,
          "lon": -72.36884767403345
         }
        },
        "legend": {
         "tracegroupgap": 0
        },
        "mapbox": {
         "center": {
          "lat": 51.124308276049504,
          "lon": -72.36884767403345
         },
         "domain": {
          "x": [
           0,
           1
          ],
          "y": [
           0,
           1
          ]
         },
         "style": "open-street-map",
         "zoom": 3
        },
        "margin": {
         "b": 0,
         "l": 0,
         "r": 0,
         "t": 0
        },
        "sliders": [
         {
          "active": 0,
          "currentvalue": {
           "prefix": "date="
          },
          "len": 0.9,
          "pad": {
           "b": 10,
           "t": 60
          },
          "steps": [
           {
            "args": [
             [
              "2022-05-26 21:11:17"
             ],
             {
              "frame": {
               "duration": 0,
               "redraw": true
              },
              "fromcurrent": true,
              "mode": "immediate",
              "transition": {
               "duration": 0,
               "easing": "linear"
              }
             }
            ],
            "label": "2022-05-26 21:11:17",
            "method": "animate"
           },
           {
            "args": [
             [
              "2022-05-26 21:11:28"
             ],
             {
              "frame": {
               "duration": 0,
               "redraw": true
              },
              "fromcurrent": true,
              "mode": "immediate",
              "transition": {
               "duration": 0,
               "easing": "linear"
              }
             }
            ],
            "label": "2022-05-26 21:11:28",
            "method": "animate"
           },
           {
            "args": [
             [
              "2022-05-26 21:11:39"
             ],
             {
              "frame": {
               "duration": 0,
               "redraw": true
              },
              "fromcurrent": true,
              "mode": "immediate",
              "transition": {
               "duration": 0,
               "easing": "linear"
              }
             }
            ],
            "label": "2022-05-26 21:11:39",
            "method": "animate"
           },
           {
            "args": [
             [
              "2022-05-26 21:11:50"
             ],
             {
              "frame": {
               "duration": 0,
               "redraw": true
              },
              "fromcurrent": true,
              "mode": "immediate",
              "transition": {
               "duration": 0,
               "easing": "linear"
              }
             }
            ],
            "label": "2022-05-26 21:11:50",
            "method": "animate"
           },
           {
            "args": [
             [
              "2022-05-26 21:12:12"
             ],
             {
              "frame": {
               "duration": 0,
               "redraw": true
              },
              "fromcurrent": true,
              "mode": "immediate",
              "transition": {
               "duration": 0,
               "easing": "linear"
              }
             }
            ],
            "label": "2022-05-26 21:12:12",
            "method": "animate"
           },
           {
            "args": [
             [
              "2022-05-26 21:12:23"
             ],
             {
              "frame": {
               "duration": 0,
               "redraw": true
              },
              "fromcurrent": true,
              "mode": "immediate",
              "transition": {
               "duration": 0,
               "easing": "linear"
              }
             }
            ],
            "label": "2022-05-26 21:12:23",
            "method": "animate"
           },
           {
            "args": [
             [
              "2022-05-26 21:12:34"
             ],
             {
              "frame": {
               "duration": 0,
               "redraw": true
              },
              "fromcurrent": true,
              "mode": "immediate",
              "transition": {
               "duration": 0,
               "easing": "linear"
              }
             }
            ],
            "label": "2022-05-26 21:12:34",
            "method": "animate"
           },
           {
            "args": [
             [
              "2022-05-26 21:12:45"
             ],
             {
              "frame": {
               "duration": 0,
               "redraw": true
              },
              "fromcurrent": true,
              "mode": "immediate",
              "transition": {
               "duration": 0,
               "easing": "linear"
              }
             }
            ],
            "label": "2022-05-26 21:12:45",
            "method": "animate"
           },
           {
            "args": [
             [
              "2022-05-26 21:12:56"
             ],
             {
              "frame": {
               "duration": 0,
               "redraw": true
              },
              "fromcurrent": true,
              "mode": "immediate",
              "transition": {
               "duration": 0,
               "easing": "linear"
              }
             }
            ],
            "label": "2022-05-26 21:12:56",
            "method": "animate"
           },
           {
            "args": [
             [
              "2022-05-26 21:13:07"
             ],
             {
              "frame": {
               "duration": 0,
               "redraw": true
              },
              "fromcurrent": true,
              "mode": "immediate",
              "transition": {
               "duration": 0,
               "easing": "linear"
              }
             }
            ],
            "label": "2022-05-26 21:13:07",
            "method": "animate"
           },
           {
            "args": [
             [
              "2022-05-26 21:13:18"
             ],
             {
              "frame": {
               "duration": 0,
               "redraw": true
              },
              "fromcurrent": true,
              "mode": "immediate",
              "transition": {
               "duration": 0,
               "easing": "linear"
              }
             }
            ],
            "label": "2022-05-26 21:13:18",
            "method": "animate"
           },
           {
            "args": [
             [
              "2022-05-26 21:13:29"
             ],
             {
              "frame": {
               "duration": 0,
               "redraw": true
              },
              "fromcurrent": true,
              "mode": "immediate",
              "transition": {
               "duration": 0,
               "easing": "linear"
              }
             }
            ],
            "label": "2022-05-26 21:13:29",
            "method": "animate"
           },
           {
            "args": [
             [
              "2022-05-26 21:13:40"
             ],
             {
              "frame": {
               "duration": 0,
               "redraw": true
              },
              "fromcurrent": true,
              "mode": "immediate",
              "transition": {
               "duration": 0,
               "easing": "linear"
              }
             }
            ],
            "label": "2022-05-26 21:13:40",
            "method": "animate"
           },
           {
            "args": [
             [
              "2022-05-26 21:13:51"
             ],
             {
              "frame": {
               "duration": 0,
               "redraw": true
              },
              "fromcurrent": true,
              "mode": "immediate",
              "transition": {
               "duration": 0,
               "easing": "linear"
              }
             }
            ],
            "label": "2022-05-26 21:13:51",
            "method": "animate"
           },
           {
            "args": [
             [
              "2022-05-26 21:14:02"
             ],
             {
              "frame": {
               "duration": 0,
               "redraw": true
              },
              "fromcurrent": true,
              "mode": "immediate",
              "transition": {
               "duration": 0,
               "easing": "linear"
              }
             }
            ],
            "label": "2022-05-26 21:14:02",
            "method": "animate"
           },
           {
            "args": [
             [
              "2022-05-26 21:14:13"
             ],
             {
              "frame": {
               "duration": 0,
               "redraw": true
              },
              "fromcurrent": true,
              "mode": "immediate",
              "transition": {
               "duration": 0,
               "easing": "linear"
              }
             }
            ],
            "label": "2022-05-26 21:14:13",
            "method": "animate"
           },
           {
            "args": [
             [
              "2022-05-26 21:14:24"
             ],
             {
              "frame": {
               "duration": 0,
               "redraw": true
              },
              "fromcurrent": true,
              "mode": "immediate",
              "transition": {
               "duration": 0,
               "easing": "linear"
              }
             }
            ],
            "label": "2022-05-26 21:14:24",
            "method": "animate"
           },
           {
            "args": [
             [
              "2022-05-26 21:14:35"
             ],
             {
              "frame": {
               "duration": 0,
               "redraw": true
              },
              "fromcurrent": true,
              "mode": "immediate",
              "transition": {
               "duration": 0,
               "easing": "linear"
              }
             }
            ],
            "label": "2022-05-26 21:14:35",
            "method": "animate"
           },
           {
            "args": [
             [
              "2022-05-26 21:14:46"
             ],
             {
              "frame": {
               "duration": 0,
               "redraw": true
              },
              "fromcurrent": true,
              "mode": "immediate",
              "transition": {
               "duration": 0,
               "easing": "linear"
              }
             }
            ],
            "label": "2022-05-26 21:14:46",
            "method": "animate"
           },
           {
            "args": [
             [
              "2022-05-26 21:14:57"
             ],
             {
              "frame": {
               "duration": 0,
               "redraw": true
              },
              "fromcurrent": true,
              "mode": "immediate",
              "transition": {
               "duration": 0,
               "easing": "linear"
              }
             }
            ],
            "label": "2022-05-26 21:14:57",
            "method": "animate"
           },
           {
            "args": [
             [
              "2022-05-26 21:15:08"
             ],
             {
              "frame": {
               "duration": 0,
               "redraw": true
              },
              "fromcurrent": true,
              "mode": "immediate",
              "transition": {
               "duration": 0,
               "easing": "linear"
              }
             }
            ],
            "label": "2022-05-26 21:15:08",
            "method": "animate"
           },
           {
            "args": [
             [
              "2022-05-26 21:15:19"
             ],
             {
              "frame": {
               "duration": 0,
               "redraw": true
              },
              "fromcurrent": true,
              "mode": "immediate",
              "transition": {
               "duration": 0,
               "easing": "linear"
              }
             }
            ],
            "label": "2022-05-26 21:15:19",
            "method": "animate"
           },
           {
            "args": [
             [
              "2022-05-26 21:15:30"
             ],
             {
              "frame": {
               "duration": 0,
               "redraw": true
              },
              "fromcurrent": true,
              "mode": "immediate",
              "transition": {
               "duration": 0,
               "easing": "linear"
              }
             }
            ],
            "label": "2022-05-26 21:15:30",
            "method": "animate"
           },
           {
            "args": [
             [
              "2022-05-26 21:15:41"
             ],
             {
              "frame": {
               "duration": 0,
               "redraw": true
              },
              "fromcurrent": true,
              "mode": "immediate",
              "transition": {
               "duration": 0,
               "easing": "linear"
              }
             }
            ],
            "label": "2022-05-26 21:15:41",
            "method": "animate"
           },
           {
            "args": [
             [
              "2022-05-26 21:15:52"
             ],
             {
              "frame": {
               "duration": 0,
               "redraw": true
              },
              "fromcurrent": true,
              "mode": "immediate",
              "transition": {
               "duration": 0,
               "easing": "linear"
              }
             }
            ],
            "label": "2022-05-26 21:15:52",
            "method": "animate"
           },
           {
            "args": [
             [
              "2022-05-26 21:16:03"
             ],
             {
              "frame": {
               "duration": 0,
               "redraw": true
              },
              "fromcurrent": true,
              "mode": "immediate",
              "transition": {
               "duration": 0,
               "easing": "linear"
              }
             }
            ],
            "label": "2022-05-26 21:16:03",
            "method": "animate"
           },
           {
            "args": [
             [
              "2022-05-26 21:16:14"
             ],
             {
              "frame": {
               "duration": 0,
               "redraw": true
              },
              "fromcurrent": true,
              "mode": "immediate",
              "transition": {
               "duration": 0,
               "easing": "linear"
              }
             }
            ],
            "label": "2022-05-26 21:16:14",
            "method": "animate"
           },
           {
            "args": [
             [
              "2022-05-26 21:16:25"
             ],
             {
              "frame": {
               "duration": 0,
               "redraw": true
              },
              "fromcurrent": true,
              "mode": "immediate",
              "transition": {
               "duration": 0,
               "easing": "linear"
              }
             }
            ],
            "label": "2022-05-26 21:16:25",
            "method": "animate"
           },
           {
            "args": [
             [
              "2022-05-26 21:16:36"
             ],
             {
              "frame": {
               "duration": 0,
               "redraw": true
              },
              "fromcurrent": true,
              "mode": "immediate",
              "transition": {
               "duration": 0,
               "easing": "linear"
              }
             }
            ],
            "label": "2022-05-26 21:16:36",
            "method": "animate"
           },
           {
            "args": [
             [
              "2022-05-26 21:16:47"
             ],
             {
              "frame": {
               "duration": 0,
               "redraw": true
              },
              "fromcurrent": true,
              "mode": "immediate",
              "transition": {
               "duration": 0,
               "easing": "linear"
              }
             }
            ],
            "label": "2022-05-26 21:16:47",
            "method": "animate"
           },
           {
            "args": [
             [
              "2022-05-26 21:16:58"
             ],
             {
              "frame": {
               "duration": 0,
               "redraw": true
              },
              "fromcurrent": true,
              "mode": "immediate",
              "transition": {
               "duration": 0,
               "easing": "linear"
              }
             }
            ],
            "label": "2022-05-26 21:16:58",
            "method": "animate"
           },
           {
            "args": [
             [
              "2022-05-26 21:17:09"
             ],
             {
              "frame": {
               "duration": 0,
               "redraw": true
              },
              "fromcurrent": true,
              "mode": "immediate",
              "transition": {
               "duration": 0,
               "easing": "linear"
              }
             }
            ],
            "label": "2022-05-26 21:17:09",
            "method": "animate"
           },
           {
            "args": [
             [
              "2022-05-26 21:17:20"
             ],
             {
              "frame": {
               "duration": 0,
               "redraw": true
              },
              "fromcurrent": true,
              "mode": "immediate",
              "transition": {
               "duration": 0,
               "easing": "linear"
              }
             }
            ],
            "label": "2022-05-26 21:17:20",
            "method": "animate"
           },
           {
            "args": [
             [
              "2022-05-26 21:17:31"
             ],
             {
              "frame": {
               "duration": 0,
               "redraw": true
              },
              "fromcurrent": true,
              "mode": "immediate",
              "transition": {
               "duration": 0,
               "easing": "linear"
              }
             }
            ],
            "label": "2022-05-26 21:17:31",
            "method": "animate"
           },
           {
            "args": [
             [
              "2022-05-26 21:17:42"
             ],
             {
              "frame": {
               "duration": 0,
               "redraw": true
              },
              "fromcurrent": true,
              "mode": "immediate",
              "transition": {
               "duration": 0,
               "easing": "linear"
              }
             }
            ],
            "label": "2022-05-26 21:17:42",
            "method": "animate"
           },
           {
            "args": [
             [
              "2022-05-26 21:17:53"
             ],
             {
              "frame": {
               "duration": 0,
               "redraw": true
              },
              "fromcurrent": true,
              "mode": "immediate",
              "transition": {
               "duration": 0,
               "easing": "linear"
              }
             }
            ],
            "label": "2022-05-26 21:17:53",
            "method": "animate"
           },
           {
            "args": [
             [
              "2022-05-26 21:18:04"
             ],
             {
              "frame": {
               "duration": 0,
               "redraw": true
              },
              "fromcurrent": true,
              "mode": "immediate",
              "transition": {
               "duration": 0,
               "easing": "linear"
              }
             }
            ],
            "label": "2022-05-26 21:18:04",
            "method": "animate"
           },
           {
            "args": [
             [
              "2022-05-26 21:18:15"
             ],
             {
              "frame": {
               "duration": 0,
               "redraw": true
              },
              "fromcurrent": true,
              "mode": "immediate",
              "transition": {
               "duration": 0,
               "easing": "linear"
              }
             }
            ],
            "label": "2022-05-26 21:18:15",
            "method": "animate"
           },
           {
            "args": [
             [
              "2022-05-26 21:18:26"
             ],
             {
              "frame": {
               "duration": 0,
               "redraw": true
              },
              "fromcurrent": true,
              "mode": "immediate",
              "transition": {
               "duration": 0,
               "easing": "linear"
              }
             }
            ],
            "label": "2022-05-26 21:18:26",
            "method": "animate"
           },
           {
            "args": [
             [
              "2022-05-26 21:18:37"
             ],
             {
              "frame": {
               "duration": 0,
               "redraw": true
              },
              "fromcurrent": true,
              "mode": "immediate",
              "transition": {
               "duration": 0,
               "easing": "linear"
              }
             }
            ],
            "label": "2022-05-26 21:18:37",
            "method": "animate"
           },
           {
            "args": [
             [
              "2022-05-26 21:18:48"
             ],
             {
              "frame": {
               "duration": 0,
               "redraw": true
              },
              "fromcurrent": true,
              "mode": "immediate",
              "transition": {
               "duration": 0,
               "easing": "linear"
              }
             }
            ],
            "label": "2022-05-26 21:18:48",
            "method": "animate"
           },
           {
            "args": [
             [
              "2022-05-26 21:18:59"
             ],
             {
              "frame": {
               "duration": 0,
               "redraw": true
              },
              "fromcurrent": true,
              "mode": "immediate",
              "transition": {
               "duration": 0,
               "easing": "linear"
              }
             }
            ],
            "label": "2022-05-26 21:18:59",
            "method": "animate"
           },
           {
            "args": [
             [
              "2022-05-26 21:19:10"
             ],
             {
              "frame": {
               "duration": 0,
               "redraw": true
              },
              "fromcurrent": true,
              "mode": "immediate",
              "transition": {
               "duration": 0,
               "easing": "linear"
              }
             }
            ],
            "label": "2022-05-26 21:19:10",
            "method": "animate"
           },
           {
            "args": [
             [
              "2022-05-26 21:19:21"
             ],
             {
              "frame": {
               "duration": 0,
               "redraw": true
              },
              "fromcurrent": true,
              "mode": "immediate",
              "transition": {
               "duration": 0,
               "easing": "linear"
              }
             }
            ],
            "label": "2022-05-26 21:19:21",
            "method": "animate"
           },
           {
            "args": [
             [
              "2022-05-26 21:19:32"
             ],
             {
              "frame": {
               "duration": 0,
               "redraw": true
              },
              "fromcurrent": true,
              "mode": "immediate",
              "transition": {
               "duration": 0,
               "easing": "linear"
              }
             }
            ],
            "label": "2022-05-26 21:19:32",
            "method": "animate"
           },
           {
            "args": [
             [
              "2022-05-26 21:19:43"
             ],
             {
              "frame": {
               "duration": 0,
               "redraw": true
              },
              "fromcurrent": true,
              "mode": "immediate",
              "transition": {
               "duration": 0,
               "easing": "linear"
              }
             }
            ],
            "label": "2022-05-26 21:19:43",
            "method": "animate"
           },
           {
            "args": [
             [
              "2022-05-26 21:19:54"
             ],
             {
              "frame": {
               "duration": 0,
               "redraw": true
              },
              "fromcurrent": true,
              "mode": "immediate",
              "transition": {
               "duration": 0,
               "easing": "linear"
              }
             }
            ],
            "label": "2022-05-26 21:19:54",
            "method": "animate"
           },
           {
            "args": [
             [
              "2022-05-26 21:20:05"
             ],
             {
              "frame": {
               "duration": 0,
               "redraw": true
              },
              "fromcurrent": true,
              "mode": "immediate",
              "transition": {
               "duration": 0,
               "easing": "linear"
              }
             }
            ],
            "label": "2022-05-26 21:20:05",
            "method": "animate"
           },
           {
            "args": [
             [
              "2022-05-26 21:20:16"
             ],
             {
              "frame": {
               "duration": 0,
               "redraw": true
              },
              "fromcurrent": true,
              "mode": "immediate",
              "transition": {
               "duration": 0,
               "easing": "linear"
              }
             }
            ],
            "label": "2022-05-26 21:20:16",
            "method": "animate"
           },
           {
            "args": [
             [
              "2022-05-26 21:20:27"
             ],
             {
              "frame": {
               "duration": 0,
               "redraw": true
              },
              "fromcurrent": true,
              "mode": "immediate",
              "transition": {
               "duration": 0,
               "easing": "linear"
              }
             }
            ],
            "label": "2022-05-26 21:20:27",
            "method": "animate"
           },
           {
            "args": [
             [
              "2022-05-26 21:20:38"
             ],
             {
              "frame": {
               "duration": 0,
               "redraw": true
              },
              "fromcurrent": true,
              "mode": "immediate",
              "transition": {
               "duration": 0,
               "easing": "linear"
              }
             }
            ],
            "label": "2022-05-26 21:20:38",
            "method": "animate"
           },
           {
            "args": [
             [
              "2022-05-26 21:20:49"
             ],
             {
              "frame": {
               "duration": 0,
               "redraw": true
              },
              "fromcurrent": true,
              "mode": "immediate",
              "transition": {
               "duration": 0,
               "easing": "linear"
              }
             }
            ],
            "label": "2022-05-26 21:20:49",
            "method": "animate"
           },
           {
            "args": [
             [
              "2022-05-26 21:21:00"
             ],
             {
              "frame": {
               "duration": 0,
               "redraw": true
              },
              "fromcurrent": true,
              "mode": "immediate",
              "transition": {
               "duration": 0,
               "easing": "linear"
              }
             }
            ],
            "label": "2022-05-26 21:21:00",
            "method": "animate"
           },
           {
            "args": [
             [
              "2022-05-26 21:21:11"
             ],
             {
              "frame": {
               "duration": 0,
               "redraw": true
              },
              "fromcurrent": true,
              "mode": "immediate",
              "transition": {
               "duration": 0,
               "easing": "linear"
              }
             }
            ],
            "label": "2022-05-26 21:21:11",
            "method": "animate"
           },
           {
            "args": [
             [
              "2022-05-26 21:21:22"
             ],
             {
              "frame": {
               "duration": 0,
               "redraw": true
              },
              "fromcurrent": true,
              "mode": "immediate",
              "transition": {
               "duration": 0,
               "easing": "linear"
              }
             }
            ],
            "label": "2022-05-26 21:21:22",
            "method": "animate"
           },
           {
            "args": [
             [
              "2022-05-26 21:21:33"
             ],
             {
              "frame": {
               "duration": 0,
               "redraw": true
              },
              "fromcurrent": true,
              "mode": "immediate",
              "transition": {
               "duration": 0,
               "easing": "linear"
              }
             }
            ],
            "label": "2022-05-26 21:21:33",
            "method": "animate"
           },
           {
            "args": [
             [
              "2022-05-26 21:21:44"
             ],
             {
              "frame": {
               "duration": 0,
               "redraw": true
              },
              "fromcurrent": true,
              "mode": "immediate",
              "transition": {
               "duration": 0,
               "easing": "linear"
              }
             }
            ],
            "label": "2022-05-26 21:21:44",
            "method": "animate"
           },
           {
            "args": [
             [
              "2022-05-26 21:21:55"
             ],
             {
              "frame": {
               "duration": 0,
               "redraw": true
              },
              "fromcurrent": true,
              "mode": "immediate",
              "transition": {
               "duration": 0,
               "easing": "linear"
              }
             }
            ],
            "label": "2022-05-26 21:21:55",
            "method": "animate"
           },
           {
            "args": [
             [
              "2022-05-26 21:22:06"
             ],
             {
              "frame": {
               "duration": 0,
               "redraw": true
              },
              "fromcurrent": true,
              "mode": "immediate",
              "transition": {
               "duration": 0,
               "easing": "linear"
              }
             }
            ],
            "label": "2022-05-26 21:22:06",
            "method": "animate"
           },
           {
            "args": [
             [
              "2022-05-26 21:22:17"
             ],
             {
              "frame": {
               "duration": 0,
               "redraw": true
              },
              "fromcurrent": true,
              "mode": "immediate",
              "transition": {
               "duration": 0,
               "easing": "linear"
              }
             }
            ],
            "label": "2022-05-26 21:22:17",
            "method": "animate"
           },
           {
            "args": [
             [
              "2022-05-26 21:22:28"
             ],
             {
              "frame": {
               "duration": 0,
               "redraw": true
              },
              "fromcurrent": true,
              "mode": "immediate",
              "transition": {
               "duration": 0,
               "easing": "linear"
              }
             }
            ],
            "label": "2022-05-26 21:22:28",
            "method": "animate"
           },
           {
            "args": [
             [
              "2022-05-26 21:22:39"
             ],
             {
              "frame": {
               "duration": 0,
               "redraw": true
              },
              "fromcurrent": true,
              "mode": "immediate",
              "transition": {
               "duration": 0,
               "easing": "linear"
              }
             }
            ],
            "label": "2022-05-26 21:22:39",
            "method": "animate"
           },
           {
            "args": [
             [
              "2022-05-26 21:22:50"
             ],
             {
              "frame": {
               "duration": 0,
               "redraw": true
              },
              "fromcurrent": true,
              "mode": "immediate",
              "transition": {
               "duration": 0,
               "easing": "linear"
              }
             }
            ],
            "label": "2022-05-26 21:22:50",
            "method": "animate"
           },
           {
            "args": [
             [
              "2022-05-26 21:23:01"
             ],
             {
              "frame": {
               "duration": 0,
               "redraw": true
              },
              "fromcurrent": true,
              "mode": "immediate",
              "transition": {
               "duration": 0,
               "easing": "linear"
              }
             }
            ],
            "label": "2022-05-26 21:23:01",
            "method": "animate"
           },
           {
            "args": [
             [
              "2022-05-26 21:23:12"
             ],
             {
              "frame": {
               "duration": 0,
               "redraw": true
              },
              "fromcurrent": true,
              "mode": "immediate",
              "transition": {
               "duration": 0,
               "easing": "linear"
              }
             }
            ],
            "label": "2022-05-26 21:23:12",
            "method": "animate"
           },
           {
            "args": [
             [
              "2022-05-26 21:23:23"
             ],
             {
              "frame": {
               "duration": 0,
               "redraw": true
              },
              "fromcurrent": true,
              "mode": "immediate",
              "transition": {
               "duration": 0,
               "easing": "linear"
              }
             }
            ],
            "label": "2022-05-26 21:23:23",
            "method": "animate"
           },
           {
            "args": [
             [
              "2022-05-26 21:23:34"
             ],
             {
              "frame": {
               "duration": 0,
               "redraw": true
              },
              "fromcurrent": true,
              "mode": "immediate",
              "transition": {
               "duration": 0,
               "easing": "linear"
              }
             }
            ],
            "label": "2022-05-26 21:23:34",
            "method": "animate"
           },
           {
            "args": [
             [
              "2022-05-26 21:23:45"
             ],
             {
              "frame": {
               "duration": 0,
               "redraw": true
              },
              "fromcurrent": true,
              "mode": "immediate",
              "transition": {
               "duration": 0,
               "easing": "linear"
              }
             }
            ],
            "label": "2022-05-26 21:23:45",
            "method": "animate"
           },
           {
            "args": [
             [
              "2022-05-26 21:23:56"
             ],
             {
              "frame": {
               "duration": 0,
               "redraw": true
              },
              "fromcurrent": true,
              "mode": "immediate",
              "transition": {
               "duration": 0,
               "easing": "linear"
              }
             }
            ],
            "label": "2022-05-26 21:23:56",
            "method": "animate"
           },
           {
            "args": [
             [
              "2022-05-26 21:24:07"
             ],
             {
              "frame": {
               "duration": 0,
               "redraw": true
              },
              "fromcurrent": true,
              "mode": "immediate",
              "transition": {
               "duration": 0,
               "easing": "linear"
              }
             }
            ],
            "label": "2022-05-26 21:24:07",
            "method": "animate"
           },
           {
            "args": [
             [
              "2022-05-26 21:24:18"
             ],
             {
              "frame": {
               "duration": 0,
               "redraw": true
              },
              "fromcurrent": true,
              "mode": "immediate",
              "transition": {
               "duration": 0,
               "easing": "linear"
              }
             }
            ],
            "label": "2022-05-26 21:24:18",
            "method": "animate"
           },
           {
            "args": [
             [
              "2022-05-26 21:24:29"
             ],
             {
              "frame": {
               "duration": 0,
               "redraw": true
              },
              "fromcurrent": true,
              "mode": "immediate",
              "transition": {
               "duration": 0,
               "easing": "linear"
              }
             }
            ],
            "label": "2022-05-26 21:24:29",
            "method": "animate"
           },
           {
            "args": [
             [
              "2022-05-26 21:24:40"
             ],
             {
              "frame": {
               "duration": 0,
               "redraw": true
              },
              "fromcurrent": true,
              "mode": "immediate",
              "transition": {
               "duration": 0,
               "easing": "linear"
              }
             }
            ],
            "label": "2022-05-26 21:24:40",
            "method": "animate"
           },
           {
            "args": [
             [
              "2022-05-26 21:24:51"
             ],
             {
              "frame": {
               "duration": 0,
               "redraw": true
              },
              "fromcurrent": true,
              "mode": "immediate",
              "transition": {
               "duration": 0,
               "easing": "linear"
              }
             }
            ],
            "label": "2022-05-26 21:24:51",
            "method": "animate"
           },
           {
            "args": [
             [
              "2022-05-26 21:25:02"
             ],
             {
              "frame": {
               "duration": 0,
               "redraw": true
              },
              "fromcurrent": true,
              "mode": "immediate",
              "transition": {
               "duration": 0,
               "easing": "linear"
              }
             }
            ],
            "label": "2022-05-26 21:25:02",
            "method": "animate"
           },
           {
            "args": [
             [
              "2022-05-26 21:25:13"
             ],
             {
              "frame": {
               "duration": 0,
               "redraw": true
              },
              "fromcurrent": true,
              "mode": "immediate",
              "transition": {
               "duration": 0,
               "easing": "linear"
              }
             }
            ],
            "label": "2022-05-26 21:25:13",
            "method": "animate"
           },
           {
            "args": [
             [
              "2022-05-26 21:25:24"
             ],
             {
              "frame": {
               "duration": 0,
               "redraw": true
              },
              "fromcurrent": true,
              "mode": "immediate",
              "transition": {
               "duration": 0,
               "easing": "linear"
              }
             }
            ],
            "label": "2022-05-26 21:25:24",
            "method": "animate"
           },
           {
            "args": [
             [
              "2022-05-26 21:25:35"
             ],
             {
              "frame": {
               "duration": 0,
               "redraw": true
              },
              "fromcurrent": true,
              "mode": "immediate",
              "transition": {
               "duration": 0,
               "easing": "linear"
              }
             }
            ],
            "label": "2022-05-26 21:25:35",
            "method": "animate"
           },
           {
            "args": [
             [
              "2022-05-26 21:25:46"
             ],
             {
              "frame": {
               "duration": 0,
               "redraw": true
              },
              "fromcurrent": true,
              "mode": "immediate",
              "transition": {
               "duration": 0,
               "easing": "linear"
              }
             }
            ],
            "label": "2022-05-26 21:25:46",
            "method": "animate"
           },
           {
            "args": [
             [
              "2022-05-26 21:25:57"
             ],
             {
              "frame": {
               "duration": 0,
               "redraw": true
              },
              "fromcurrent": true,
              "mode": "immediate",
              "transition": {
               "duration": 0,
               "easing": "linear"
              }
             }
            ],
            "label": "2022-05-26 21:25:57",
            "method": "animate"
           },
           {
            "args": [
             [
              "2022-05-26 21:26:08"
             ],
             {
              "frame": {
               "duration": 0,
               "redraw": true
              },
              "fromcurrent": true,
              "mode": "immediate",
              "transition": {
               "duration": 0,
               "easing": "linear"
              }
             }
            ],
            "label": "2022-05-26 21:26:08",
            "method": "animate"
           },
           {
            "args": [
             [
              "2022-05-26 21:26:19"
             ],
             {
              "frame": {
               "duration": 0,
               "redraw": true
              },
              "fromcurrent": true,
              "mode": "immediate",
              "transition": {
               "duration": 0,
               "easing": "linear"
              }
             }
            ],
            "label": "2022-05-26 21:26:19",
            "method": "animate"
           },
           {
            "args": [
             [
              "2022-05-26 21:26:30"
             ],
             {
              "frame": {
               "duration": 0,
               "redraw": true
              },
              "fromcurrent": true,
              "mode": "immediate",
              "transition": {
               "duration": 0,
               "easing": "linear"
              }
             }
            ],
            "label": "2022-05-26 21:26:30",
            "method": "animate"
           },
           {
            "args": [
             [
              "2022-05-26 21:26:41"
             ],
             {
              "frame": {
               "duration": 0,
               "redraw": true
              },
              "fromcurrent": true,
              "mode": "immediate",
              "transition": {
               "duration": 0,
               "easing": "linear"
              }
             }
            ],
            "label": "2022-05-26 21:26:41",
            "method": "animate"
           },
           {
            "args": [
             [
              "2022-05-26 21:26:52"
             ],
             {
              "frame": {
               "duration": 0,
               "redraw": true
              },
              "fromcurrent": true,
              "mode": "immediate",
              "transition": {
               "duration": 0,
               "easing": "linear"
              }
             }
            ],
            "label": "2022-05-26 21:26:52",
            "method": "animate"
           },
           {
            "args": [
             [
              "2022-05-26 21:27:03"
             ],
             {
              "frame": {
               "duration": 0,
               "redraw": true
              },
              "fromcurrent": true,
              "mode": "immediate",
              "transition": {
               "duration": 0,
               "easing": "linear"
              }
             }
            ],
            "label": "2022-05-26 21:27:03",
            "method": "animate"
           },
           {
            "args": [
             [
              "2022-05-26 21:27:14"
             ],
             {
              "frame": {
               "duration": 0,
               "redraw": true
              },
              "fromcurrent": true,
              "mode": "immediate",
              "transition": {
               "duration": 0,
               "easing": "linear"
              }
             }
            ],
            "label": "2022-05-26 21:27:14",
            "method": "animate"
           },
           {
            "args": [
             [
              "2022-05-26 21:27:25"
             ],
             {
              "frame": {
               "duration": 0,
               "redraw": true
              },
              "fromcurrent": true,
              "mode": "immediate",
              "transition": {
               "duration": 0,
               "easing": "linear"
              }
             }
            ],
            "label": "2022-05-26 21:27:25",
            "method": "animate"
           },
           {
            "args": [
             [
              "2022-05-26 21:27:36"
             ],
             {
              "frame": {
               "duration": 0,
               "redraw": true
              },
              "fromcurrent": true,
              "mode": "immediate",
              "transition": {
               "duration": 0,
               "easing": "linear"
              }
             }
            ],
            "label": "2022-05-26 21:27:36",
            "method": "animate"
           },
           {
            "args": [
             [
              "2022-05-26 21:27:47"
             ],
             {
              "frame": {
               "duration": 0,
               "redraw": true
              },
              "fromcurrent": true,
              "mode": "immediate",
              "transition": {
               "duration": 0,
               "easing": "linear"
              }
             }
            ],
            "label": "2022-05-26 21:27:47",
            "method": "animate"
           },
           {
            "args": [
             [
              "2022-05-26 21:27:58"
             ],
             {
              "frame": {
               "duration": 0,
               "redraw": true
              },
              "fromcurrent": true,
              "mode": "immediate",
              "transition": {
               "duration": 0,
               "easing": "linear"
              }
             }
            ],
            "label": "2022-05-26 21:27:58",
            "method": "animate"
           },
           {
            "args": [
             [
              "2022-05-26 21:28:09"
             ],
             {
              "frame": {
               "duration": 0,
               "redraw": true
              },
              "fromcurrent": true,
              "mode": "immediate",
              "transition": {
               "duration": 0,
               "easing": "linear"
              }
             }
            ],
            "label": "2022-05-26 21:28:09",
            "method": "animate"
           },
           {
            "args": [
             [
              "2022-05-26 21:28:20"
             ],
             {
              "frame": {
               "duration": 0,
               "redraw": true
              },
              "fromcurrent": true,
              "mode": "immediate",
              "transition": {
               "duration": 0,
               "easing": "linear"
              }
             }
            ],
            "label": "2022-05-26 21:28:20",
            "method": "animate"
           },
           {
            "args": [
             [
              "2022-05-26 21:28:31"
             ],
             {
              "frame": {
               "duration": 0,
               "redraw": true
              },
              "fromcurrent": true,
              "mode": "immediate",
              "transition": {
               "duration": 0,
               "easing": "linear"
              }
             }
            ],
            "label": "2022-05-26 21:28:31",
            "method": "animate"
           },
           {
            "args": [
             [
              "2022-05-26 21:28:42"
             ],
             {
              "frame": {
               "duration": 0,
               "redraw": true
              },
              "fromcurrent": true,
              "mode": "immediate",
              "transition": {
               "duration": 0,
               "easing": "linear"
              }
             }
            ],
            "label": "2022-05-26 21:28:42",
            "method": "animate"
           },
           {
            "args": [
             [
              "2022-05-26 21:28:53"
             ],
             {
              "frame": {
               "duration": 0,
               "redraw": true
              },
              "fromcurrent": true,
              "mode": "immediate",
              "transition": {
               "duration": 0,
               "easing": "linear"
              }
             }
            ],
            "label": "2022-05-26 21:28:53",
            "method": "animate"
           },
           {
            "args": [
             [
              "2022-05-26 21:29:04"
             ],
             {
              "frame": {
               "duration": 0,
               "redraw": true
              },
              "fromcurrent": true,
              "mode": "immediate",
              "transition": {
               "duration": 0,
               "easing": "linear"
              }
             }
            ],
            "label": "2022-05-26 21:29:04",
            "method": "animate"
           },
           {
            "args": [
             [
              "2022-05-26 21:29:15"
             ],
             {
              "frame": {
               "duration": 0,
               "redraw": true
              },
              "fromcurrent": true,
              "mode": "immediate",
              "transition": {
               "duration": 0,
               "easing": "linear"
              }
             }
            ],
            "label": "2022-05-26 21:29:15",
            "method": "animate"
           },
           {
            "args": [
             [
              "2022-05-26 21:29:26"
             ],
             {
              "frame": {
               "duration": 0,
               "redraw": true
              },
              "fromcurrent": true,
              "mode": "immediate",
              "transition": {
               "duration": 0,
               "easing": "linear"
              }
             }
            ],
            "label": "2022-05-26 21:29:26",
            "method": "animate"
           },
           {
            "args": [
             [
              "2022-05-26 21:29:37"
             ],
             {
              "frame": {
               "duration": 0,
               "redraw": true
              },
              "fromcurrent": true,
              "mode": "immediate",
              "transition": {
               "duration": 0,
               "easing": "linear"
              }
             }
            ],
            "label": "2022-05-26 21:29:37",
            "method": "animate"
           },
           {
            "args": [
             [
              "2022-05-26 21:29:48"
             ],
             {
              "frame": {
               "duration": 0,
               "redraw": true
              },
              "fromcurrent": true,
              "mode": "immediate",
              "transition": {
               "duration": 0,
               "easing": "linear"
              }
             }
            ],
            "label": "2022-05-26 21:29:48",
            "method": "animate"
           },
           {
            "args": [
             [
              "2022-05-26 21:29:59"
             ],
             {
              "frame": {
               "duration": 0,
               "redraw": true
              },
              "fromcurrent": true,
              "mode": "immediate",
              "transition": {
               "duration": 0,
               "easing": "linear"
              }
             }
            ],
            "label": "2022-05-26 21:29:59",
            "method": "animate"
           },
           {
            "args": [
             [
              "2022-05-26 21:30:10"
             ],
             {
              "frame": {
               "duration": 0,
               "redraw": true
              },
              "fromcurrent": true,
              "mode": "immediate",
              "transition": {
               "duration": 0,
               "easing": "linear"
              }
             }
            ],
            "label": "2022-05-26 21:30:10",
            "method": "animate"
           },
           {
            "args": [
             [
              "2022-05-26 21:30:21"
             ],
             {
              "frame": {
               "duration": 0,
               "redraw": true
              },
              "fromcurrent": true,
              "mode": "immediate",
              "transition": {
               "duration": 0,
               "easing": "linear"
              }
             }
            ],
            "label": "2022-05-26 21:30:21",
            "method": "animate"
           },
           {
            "args": [
             [
              "2022-05-26 21:30:32"
             ],
             {
              "frame": {
               "duration": 0,
               "redraw": true
              },
              "fromcurrent": true,
              "mode": "immediate",
              "transition": {
               "duration": 0,
               "easing": "linear"
              }
             }
            ],
            "label": "2022-05-26 21:30:32",
            "method": "animate"
           },
           {
            "args": [
             [
              "2022-05-26 21:30:43"
             ],
             {
              "frame": {
               "duration": 0,
               "redraw": true
              },
              "fromcurrent": true,
              "mode": "immediate",
              "transition": {
               "duration": 0,
               "easing": "linear"
              }
             }
            ],
            "label": "2022-05-26 21:30:43",
            "method": "animate"
           },
           {
            "args": [
             [
              "2022-05-26 21:30:54"
             ],
             {
              "frame": {
               "duration": 0,
               "redraw": true
              },
              "fromcurrent": true,
              "mode": "immediate",
              "transition": {
               "duration": 0,
               "easing": "linear"
              }
             }
            ],
            "label": "2022-05-26 21:30:54",
            "method": "animate"
           },
           {
            "args": [
             [
              "2022-05-26 21:31:05"
             ],
             {
              "frame": {
               "duration": 0,
               "redraw": true
              },
              "fromcurrent": true,
              "mode": "immediate",
              "transition": {
               "duration": 0,
               "easing": "linear"
              }
             }
            ],
            "label": "2022-05-26 21:31:05",
            "method": "animate"
           },
           {
            "args": [
             [
              "2022-05-26 21:31:16"
             ],
             {
              "frame": {
               "duration": 0,
               "redraw": true
              },
              "fromcurrent": true,
              "mode": "immediate",
              "transition": {
               "duration": 0,
               "easing": "linear"
              }
             }
            ],
            "label": "2022-05-26 21:31:16",
            "method": "animate"
           },
           {
            "args": [
             [
              "2022-05-26 21:31:27"
             ],
             {
              "frame": {
               "duration": 0,
               "redraw": true
              },
              "fromcurrent": true,
              "mode": "immediate",
              "transition": {
               "duration": 0,
               "easing": "linear"
              }
             }
            ],
            "label": "2022-05-26 21:31:27",
            "method": "animate"
           },
           {
            "args": [
             [
              "2022-05-26 21:31:38"
             ],
             {
              "frame": {
               "duration": 0,
               "redraw": true
              },
              "fromcurrent": true,
              "mode": "immediate",
              "transition": {
               "duration": 0,
               "easing": "linear"
              }
             }
            ],
            "label": "2022-05-26 21:31:38",
            "method": "animate"
           },
           {
            "args": [
             [
              "2022-05-26 21:31:49"
             ],
             {
              "frame": {
               "duration": 0,
               "redraw": true
              },
              "fromcurrent": true,
              "mode": "immediate",
              "transition": {
               "duration": 0,
               "easing": "linear"
              }
             }
            ],
            "label": "2022-05-26 21:31:49",
            "method": "animate"
           },
           {
            "args": [
             [
              "2022-05-26 21:32:00"
             ],
             {
              "frame": {
               "duration": 0,
               "redraw": true
              },
              "fromcurrent": true,
              "mode": "immediate",
              "transition": {
               "duration": 0,
               "easing": "linear"
              }
             }
            ],
            "label": "2022-05-26 21:32:00",
            "method": "animate"
           },
           {
            "args": [
             [
              "2022-05-26 21:32:11"
             ],
             {
              "frame": {
               "duration": 0,
               "redraw": true
              },
              "fromcurrent": true,
              "mode": "immediate",
              "transition": {
               "duration": 0,
               "easing": "linear"
              }
             }
            ],
            "label": "2022-05-26 21:32:11",
            "method": "animate"
           },
           {
            "args": [
             [
              "2022-05-26 21:32:22"
             ],
             {
              "frame": {
               "duration": 0,
               "redraw": true
              },
              "fromcurrent": true,
              "mode": "immediate",
              "transition": {
               "duration": 0,
               "easing": "linear"
              }
             }
            ],
            "label": "2022-05-26 21:32:22",
            "method": "animate"
           },
           {
            "args": [
             [
              "2022-05-26 21:32:33"
             ],
             {
              "frame": {
               "duration": 0,
               "redraw": true
              },
              "fromcurrent": true,
              "mode": "immediate",
              "transition": {
               "duration": 0,
               "easing": "linear"
              }
             }
            ],
            "label": "2022-05-26 21:32:33",
            "method": "animate"
           },
           {
            "args": [
             [
              "2022-05-26 21:32:44"
             ],
             {
              "frame": {
               "duration": 0,
               "redraw": true
              },
              "fromcurrent": true,
              "mode": "immediate",
              "transition": {
               "duration": 0,
               "easing": "linear"
              }
             }
            ],
            "label": "2022-05-26 21:32:44",
            "method": "animate"
           },
           {
            "args": [
             [
              "2022-05-26 21:32:55"
             ],
             {
              "frame": {
               "duration": 0,
               "redraw": true
              },
              "fromcurrent": true,
              "mode": "immediate",
              "transition": {
               "duration": 0,
               "easing": "linear"
              }
             }
            ],
            "label": "2022-05-26 21:32:55",
            "method": "animate"
           },
           {
            "args": [
             [
              "2022-05-26 21:33:06"
             ],
             {
              "frame": {
               "duration": 0,
               "redraw": true
              },
              "fromcurrent": true,
              "mode": "immediate",
              "transition": {
               "duration": 0,
               "easing": "linear"
              }
             }
            ],
            "label": "2022-05-26 21:33:06",
            "method": "animate"
           },
           {
            "args": [
             [
              "2022-05-26 21:33:17"
             ],
             {
              "frame": {
               "duration": 0,
               "redraw": true
              },
              "fromcurrent": true,
              "mode": "immediate",
              "transition": {
               "duration": 0,
               "easing": "linear"
              }
             }
            ],
            "label": "2022-05-26 21:33:17",
            "method": "animate"
           },
           {
            "args": [
             [
              "2022-05-26 21:33:28"
             ],
             {
              "frame": {
               "duration": 0,
               "redraw": true
              },
              "fromcurrent": true,
              "mode": "immediate",
              "transition": {
               "duration": 0,
               "easing": "linear"
              }
             }
            ],
            "label": "2022-05-26 21:33:28",
            "method": "animate"
           },
           {
            "args": [
             [
              "2022-05-26 21:33:39"
             ],
             {
              "frame": {
               "duration": 0,
               "redraw": true
              },
              "fromcurrent": true,
              "mode": "immediate",
              "transition": {
               "duration": 0,
               "easing": "linear"
              }
             }
            ],
            "label": "2022-05-26 21:33:39",
            "method": "animate"
           },
           {
            "args": [
             [
              "2022-05-26 21:33:50"
             ],
             {
              "frame": {
               "duration": 0,
               "redraw": true
              },
              "fromcurrent": true,
              "mode": "immediate",
              "transition": {
               "duration": 0,
               "easing": "linear"
              }
             }
            ],
            "label": "2022-05-26 21:33:50",
            "method": "animate"
           },
           {
            "args": [
             [
              "2022-05-26 21:34:01"
             ],
             {
              "frame": {
               "duration": 0,
               "redraw": true
              },
              "fromcurrent": true,
              "mode": "immediate",
              "transition": {
               "duration": 0,
               "easing": "linear"
              }
             }
            ],
            "label": "2022-05-26 21:34:01",
            "method": "animate"
           },
           {
            "args": [
             [
              "2022-05-26 21:34:12"
             ],
             {
              "frame": {
               "duration": 0,
               "redraw": true
              },
              "fromcurrent": true,
              "mode": "immediate",
              "transition": {
               "duration": 0,
               "easing": "linear"
              }
             }
            ],
            "label": "2022-05-26 21:34:12",
            "method": "animate"
           },
           {
            "args": [
             [
              "2022-05-26 21:34:23"
             ],
             {
              "frame": {
               "duration": 0,
               "redraw": true
              },
              "fromcurrent": true,
              "mode": "immediate",
              "transition": {
               "duration": 0,
               "easing": "linear"
              }
             }
            ],
            "label": "2022-05-26 21:34:23",
            "method": "animate"
           },
           {
            "args": [
             [
              "2022-05-26 21:34:34"
             ],
             {
              "frame": {
               "duration": 0,
               "redraw": true
              },
              "fromcurrent": true,
              "mode": "immediate",
              "transition": {
               "duration": 0,
               "easing": "linear"
              }
             }
            ],
            "label": "2022-05-26 21:34:34",
            "method": "animate"
           },
           {
            "args": [
             [
              "2022-05-26 21:34:45"
             ],
             {
              "frame": {
               "duration": 0,
               "redraw": true
              },
              "fromcurrent": true,
              "mode": "immediate",
              "transition": {
               "duration": 0,
               "easing": "linear"
              }
             }
            ],
            "label": "2022-05-26 21:34:45",
            "method": "animate"
           },
           {
            "args": [
             [
              "2022-05-26 21:34:56"
             ],
             {
              "frame": {
               "duration": 0,
               "redraw": true
              },
              "fromcurrent": true,
              "mode": "immediate",
              "transition": {
               "duration": 0,
               "easing": "linear"
              }
             }
            ],
            "label": "2022-05-26 21:34:56",
            "method": "animate"
           },
           {
            "args": [
             [
              "2022-05-26 21:35:07"
             ],
             {
              "frame": {
               "duration": 0,
               "redraw": true
              },
              "fromcurrent": true,
              "mode": "immediate",
              "transition": {
               "duration": 0,
               "easing": "linear"
              }
             }
            ],
            "label": "2022-05-26 21:35:07",
            "method": "animate"
           },
           {
            "args": [
             [
              "2022-05-26 21:35:18"
             ],
             {
              "frame": {
               "duration": 0,
               "redraw": true
              },
              "fromcurrent": true,
              "mode": "immediate",
              "transition": {
               "duration": 0,
               "easing": "linear"
              }
             }
            ],
            "label": "2022-05-26 21:35:18",
            "method": "animate"
           },
           {
            "args": [
             [
              "2022-05-26 21:35:29"
             ],
             {
              "frame": {
               "duration": 0,
               "redraw": true
              },
              "fromcurrent": true,
              "mode": "immediate",
              "transition": {
               "duration": 0,
               "easing": "linear"
              }
             }
            ],
            "label": "2022-05-26 21:35:29",
            "method": "animate"
           },
           {
            "args": [
             [
              "2022-05-26 21:35:40"
             ],
             {
              "frame": {
               "duration": 0,
               "redraw": true
              },
              "fromcurrent": true,
              "mode": "immediate",
              "transition": {
               "duration": 0,
               "easing": "linear"
              }
             }
            ],
            "label": "2022-05-26 21:35:40",
            "method": "animate"
           },
           {
            "args": [
             [
              "2022-05-26 21:35:51"
             ],
             {
              "frame": {
               "duration": 0,
               "redraw": true
              },
              "fromcurrent": true,
              "mode": "immediate",
              "transition": {
               "duration": 0,
               "easing": "linear"
              }
             }
            ],
            "label": "2022-05-26 21:35:51",
            "method": "animate"
           },
           {
            "args": [
             [
              "2022-05-26 21:36:02"
             ],
             {
              "frame": {
               "duration": 0,
               "redraw": true
              },
              "fromcurrent": true,
              "mode": "immediate",
              "transition": {
               "duration": 0,
               "easing": "linear"
              }
             }
            ],
            "label": "2022-05-26 21:36:02",
            "method": "animate"
           },
           {
            "args": [
             [
              "2022-05-26 21:36:13"
             ],
             {
              "frame": {
               "duration": 0,
               "redraw": true
              },
              "fromcurrent": true,
              "mode": "immediate",
              "transition": {
               "duration": 0,
               "easing": "linear"
              }
             }
            ],
            "label": "2022-05-26 21:36:13",
            "method": "animate"
           },
           {
            "args": [
             [
              "2022-05-26 21:36:24"
             ],
             {
              "frame": {
               "duration": 0,
               "redraw": true
              },
              "fromcurrent": true,
              "mode": "immediate",
              "transition": {
               "duration": 0,
               "easing": "linear"
              }
             }
            ],
            "label": "2022-05-26 21:36:24",
            "method": "animate"
           },
           {
            "args": [
             [
              "2022-05-26 21:36:35"
             ],
             {
              "frame": {
               "duration": 0,
               "redraw": true
              },
              "fromcurrent": true,
              "mode": "immediate",
              "transition": {
               "duration": 0,
               "easing": "linear"
              }
             }
            ],
            "label": "2022-05-26 21:36:35",
            "method": "animate"
           },
           {
            "args": [
             [
              "2022-05-26 21:36:46"
             ],
             {
              "frame": {
               "duration": 0,
               "redraw": true
              },
              "fromcurrent": true,
              "mode": "immediate",
              "transition": {
               "duration": 0,
               "easing": "linear"
              }
             }
            ],
            "label": "2022-05-26 21:36:46",
            "method": "animate"
           },
           {
            "args": [
             [
              "2022-05-26 21:36:57"
             ],
             {
              "frame": {
               "duration": 0,
               "redraw": true
              },
              "fromcurrent": true,
              "mode": "immediate",
              "transition": {
               "duration": 0,
               "easing": "linear"
              }
             }
            ],
            "label": "2022-05-26 21:36:57",
            "method": "animate"
           },
           {
            "args": [
             [
              "2022-05-26 21:37:08"
             ],
             {
              "frame": {
               "duration": 0,
               "redraw": true
              },
              "fromcurrent": true,
              "mode": "immediate",
              "transition": {
               "duration": 0,
               "easing": "linear"
              }
             }
            ],
            "label": "2022-05-26 21:37:08",
            "method": "animate"
           },
           {
            "args": [
             [
              "2022-05-26 21:37:19"
             ],
             {
              "frame": {
               "duration": 0,
               "redraw": true
              },
              "fromcurrent": true,
              "mode": "immediate",
              "transition": {
               "duration": 0,
               "easing": "linear"
              }
             }
            ],
            "label": "2022-05-26 21:37:19",
            "method": "animate"
           },
           {
            "args": [
             [
              "2022-05-26 21:37:30"
             ],
             {
              "frame": {
               "duration": 0,
               "redraw": true
              },
              "fromcurrent": true,
              "mode": "immediate",
              "transition": {
               "duration": 0,
               "easing": "linear"
              }
             }
            ],
            "label": "2022-05-26 21:37:30",
            "method": "animate"
           },
           {
            "args": [
             [
              "2022-05-26 21:37:41"
             ],
             {
              "frame": {
               "duration": 0,
               "redraw": true
              },
              "fromcurrent": true,
              "mode": "immediate",
              "transition": {
               "duration": 0,
               "easing": "linear"
              }
             }
            ],
            "label": "2022-05-26 21:37:41",
            "method": "animate"
           },
           {
            "args": [
             [
              "2022-05-26 21:37:52"
             ],
             {
              "frame": {
               "duration": 0,
               "redraw": true
              },
              "fromcurrent": true,
              "mode": "immediate",
              "transition": {
               "duration": 0,
               "easing": "linear"
              }
             }
            ],
            "label": "2022-05-26 21:37:52",
            "method": "animate"
           },
           {
            "args": [
             [
              "2022-05-26 21:38:03"
             ],
             {
              "frame": {
               "duration": 0,
               "redraw": true
              },
              "fromcurrent": true,
              "mode": "immediate",
              "transition": {
               "duration": 0,
               "easing": "linear"
              }
             }
            ],
            "label": "2022-05-26 21:38:03",
            "method": "animate"
           },
           {
            "args": [
             [
              "2022-05-26 21:38:14"
             ],
             {
              "frame": {
               "duration": 0,
               "redraw": true
              },
              "fromcurrent": true,
              "mode": "immediate",
              "transition": {
               "duration": 0,
               "easing": "linear"
              }
             }
            ],
            "label": "2022-05-26 21:38:14",
            "method": "animate"
           },
           {
            "args": [
             [
              "2022-05-26 21:38:25"
             ],
             {
              "frame": {
               "duration": 0,
               "redraw": true
              },
              "fromcurrent": true,
              "mode": "immediate",
              "transition": {
               "duration": 0,
               "easing": "linear"
              }
             }
            ],
            "label": "2022-05-26 21:38:25",
            "method": "animate"
           },
           {
            "args": [
             [
              "2022-05-26 21:38:36"
             ],
             {
              "frame": {
               "duration": 0,
               "redraw": true
              },
              "fromcurrent": true,
              "mode": "immediate",
              "transition": {
               "duration": 0,
               "easing": "linear"
              }
             }
            ],
            "label": "2022-05-26 21:38:36",
            "method": "animate"
           },
           {
            "args": [
             [
              "2022-05-26 21:38:47"
             ],
             {
              "frame": {
               "duration": 0,
               "redraw": true
              },
              "fromcurrent": true,
              "mode": "immediate",
              "transition": {
               "duration": 0,
               "easing": "linear"
              }
             }
            ],
            "label": "2022-05-26 21:38:47",
            "method": "animate"
           },
           {
            "args": [
             [
              "2022-05-26 21:38:58"
             ],
             {
              "frame": {
               "duration": 0,
               "redraw": true
              },
              "fromcurrent": true,
              "mode": "immediate",
              "transition": {
               "duration": 0,
               "easing": "linear"
              }
             }
            ],
            "label": "2022-05-26 21:38:58",
            "method": "animate"
           },
           {
            "args": [
             [
              "2022-05-26 21:39:09"
             ],
             {
              "frame": {
               "duration": 0,
               "redraw": true
              },
              "fromcurrent": true,
              "mode": "immediate",
              "transition": {
               "duration": 0,
               "easing": "linear"
              }
             }
            ],
            "label": "2022-05-26 21:39:09",
            "method": "animate"
           },
           {
            "args": [
             [
              "2022-05-26 21:39:20"
             ],
             {
              "frame": {
               "duration": 0,
               "redraw": true
              },
              "fromcurrent": true,
              "mode": "immediate",
              "transition": {
               "duration": 0,
               "easing": "linear"
              }
             }
            ],
            "label": "2022-05-26 21:39:20",
            "method": "animate"
           },
           {
            "args": [
             [
              "2022-05-26 21:39:31"
             ],
             {
              "frame": {
               "duration": 0,
               "redraw": true
              },
              "fromcurrent": true,
              "mode": "immediate",
              "transition": {
               "duration": 0,
               "easing": "linear"
              }
             }
            ],
            "label": "2022-05-26 21:39:31",
            "method": "animate"
           },
           {
            "args": [
             [
              "2022-05-26 21:39:42"
             ],
             {
              "frame": {
               "duration": 0,
               "redraw": true
              },
              "fromcurrent": true,
              "mode": "immediate",
              "transition": {
               "duration": 0,
               "easing": "linear"
              }
             }
            ],
            "label": "2022-05-26 21:39:42",
            "method": "animate"
           },
           {
            "args": [
             [
              "2022-05-26 21:39:53"
             ],
             {
              "frame": {
               "duration": 0,
               "redraw": true
              },
              "fromcurrent": true,
              "mode": "immediate",
              "transition": {
               "duration": 0,
               "easing": "linear"
              }
             }
            ],
            "label": "2022-05-26 21:39:53",
            "method": "animate"
           },
           {
            "args": [
             [
              "2022-05-26 21:40:04"
             ],
             {
              "frame": {
               "duration": 0,
               "redraw": true
              },
              "fromcurrent": true,
              "mode": "immediate",
              "transition": {
               "duration": 0,
               "easing": "linear"
              }
             }
            ],
            "label": "2022-05-26 21:40:04",
            "method": "animate"
           },
           {
            "args": [
             [
              "2022-05-26 21:40:15"
             ],
             {
              "frame": {
               "duration": 0,
               "redraw": true
              },
              "fromcurrent": true,
              "mode": "immediate",
              "transition": {
               "duration": 0,
               "easing": "linear"
              }
             }
            ],
            "label": "2022-05-26 21:40:15",
            "method": "animate"
           },
           {
            "args": [
             [
              "2022-05-26 21:40:26"
             ],
             {
              "frame": {
               "duration": 0,
               "redraw": true
              },
              "fromcurrent": true,
              "mode": "immediate",
              "transition": {
               "duration": 0,
               "easing": "linear"
              }
             }
            ],
            "label": "2022-05-26 21:40:26",
            "method": "animate"
           },
           {
            "args": [
             [
              "2022-05-26 21:40:37"
             ],
             {
              "frame": {
               "duration": 0,
               "redraw": true
              },
              "fromcurrent": true,
              "mode": "immediate",
              "transition": {
               "duration": 0,
               "easing": "linear"
              }
             }
            ],
            "label": "2022-05-26 21:40:37",
            "method": "animate"
           },
           {
            "args": [
             [
              "2022-05-26 21:40:48"
             ],
             {
              "frame": {
               "duration": 0,
               "redraw": true
              },
              "fromcurrent": true,
              "mode": "immediate",
              "transition": {
               "duration": 0,
               "easing": "linear"
              }
             }
            ],
            "label": "2022-05-26 21:40:48",
            "method": "animate"
           },
           {
            "args": [
             [
              "2022-05-26 21:40:59"
             ],
             {
              "frame": {
               "duration": 0,
               "redraw": true
              },
              "fromcurrent": true,
              "mode": "immediate",
              "transition": {
               "duration": 0,
               "easing": "linear"
              }
             }
            ],
            "label": "2022-05-26 21:40:59",
            "method": "animate"
           }
          ],
          "x": 0.1,
          "xanchor": "left",
          "y": 0,
          "yanchor": "top"
         }
        ],
        "template": {
         "data": {
          "bar": [
           {
            "error_x": {
             "color": "#2a3f5f"
            },
            "error_y": {
             "color": "#2a3f5f"
            },
            "marker": {
             "line": {
              "color": "#E5ECF6",
              "width": 0.5
             },
             "pattern": {
              "fillmode": "overlay",
              "size": 10,
              "solidity": 0.2
             }
            },
            "type": "bar"
           }
          ],
          "barpolar": [
           {
            "marker": {
             "line": {
              "color": "#E5ECF6",
              "width": 0.5
             },
             "pattern": {
              "fillmode": "overlay",
              "size": 10,
              "solidity": 0.2
             }
            },
            "type": "barpolar"
           }
          ],
          "carpet": [
           {
            "aaxis": {
             "endlinecolor": "#2a3f5f",
             "gridcolor": "white",
             "linecolor": "white",
             "minorgridcolor": "white",
             "startlinecolor": "#2a3f5f"
            },
            "baxis": {
             "endlinecolor": "#2a3f5f",
             "gridcolor": "white",
             "linecolor": "white",
             "minorgridcolor": "white",
             "startlinecolor": "#2a3f5f"
            },
            "type": "carpet"
           }
          ],
          "choropleth": [
           {
            "colorbar": {
             "outlinewidth": 0,
             "ticks": ""
            },
            "type": "choropleth"
           }
          ],
          "contour": [
           {
            "colorbar": {
             "outlinewidth": 0,
             "ticks": ""
            },
            "colorscale": [
             [
              0,
              "#0d0887"
             ],
             [
              0.1111111111111111,
              "#46039f"
             ],
             [
              0.2222222222222222,
              "#7201a8"
             ],
             [
              0.3333333333333333,
              "#9c179e"
             ],
             [
              0.4444444444444444,
              "#bd3786"
             ],
             [
              0.5555555555555556,
              "#d8576b"
             ],
             [
              0.6666666666666666,
              "#ed7953"
             ],
             [
              0.7777777777777778,
              "#fb9f3a"
             ],
             [
              0.8888888888888888,
              "#fdca26"
             ],
             [
              1,
              "#f0f921"
             ]
            ],
            "type": "contour"
           }
          ],
          "contourcarpet": [
           {
            "colorbar": {
             "outlinewidth": 0,
             "ticks": ""
            },
            "type": "contourcarpet"
           }
          ],
          "heatmap": [
           {
            "colorbar": {
             "outlinewidth": 0,
             "ticks": ""
            },
            "colorscale": [
             [
              0,
              "#0d0887"
             ],
             [
              0.1111111111111111,
              "#46039f"
             ],
             [
              0.2222222222222222,
              "#7201a8"
             ],
             [
              0.3333333333333333,
              "#9c179e"
             ],
             [
              0.4444444444444444,
              "#bd3786"
             ],
             [
              0.5555555555555556,
              "#d8576b"
             ],
             [
              0.6666666666666666,
              "#ed7953"
             ],
             [
              0.7777777777777778,
              "#fb9f3a"
             ],
             [
              0.8888888888888888,
              "#fdca26"
             ],
             [
              1,
              "#f0f921"
             ]
            ],
            "type": "heatmap"
           }
          ],
          "heatmapgl": [
           {
            "colorbar": {
             "outlinewidth": 0,
             "ticks": ""
            },
            "colorscale": [
             [
              0,
              "#0d0887"
             ],
             [
              0.1111111111111111,
              "#46039f"
             ],
             [
              0.2222222222222222,
              "#7201a8"
             ],
             [
              0.3333333333333333,
              "#9c179e"
             ],
             [
              0.4444444444444444,
              "#bd3786"
             ],
             [
              0.5555555555555556,
              "#d8576b"
             ],
             [
              0.6666666666666666,
              "#ed7953"
             ],
             [
              0.7777777777777778,
              "#fb9f3a"
             ],
             [
              0.8888888888888888,
              "#fdca26"
             ],
             [
              1,
              "#f0f921"
             ]
            ],
            "type": "heatmapgl"
           }
          ],
          "histogram": [
           {
            "marker": {
             "pattern": {
              "fillmode": "overlay",
              "size": 10,
              "solidity": 0.2
             }
            },
            "type": "histogram"
           }
          ],
          "histogram2d": [
           {
            "colorbar": {
             "outlinewidth": 0,
             "ticks": ""
            },
            "colorscale": [
             [
              0,
              "#0d0887"
             ],
             [
              0.1111111111111111,
              "#46039f"
             ],
             [
              0.2222222222222222,
              "#7201a8"
             ],
             [
              0.3333333333333333,
              "#9c179e"
             ],
             [
              0.4444444444444444,
              "#bd3786"
             ],
             [
              0.5555555555555556,
              "#d8576b"
             ],
             [
              0.6666666666666666,
              "#ed7953"
             ],
             [
              0.7777777777777778,
              "#fb9f3a"
             ],
             [
              0.8888888888888888,
              "#fdca26"
             ],
             [
              1,
              "#f0f921"
             ]
            ],
            "type": "histogram2d"
           }
          ],
          "histogram2dcontour": [
           {
            "colorbar": {
             "outlinewidth": 0,
             "ticks": ""
            },
            "colorscale": [
             [
              0,
              "#0d0887"
             ],
             [
              0.1111111111111111,
              "#46039f"
             ],
             [
              0.2222222222222222,
              "#7201a8"
             ],
             [
              0.3333333333333333,
              "#9c179e"
             ],
             [
              0.4444444444444444,
              "#bd3786"
             ],
             [
              0.5555555555555556,
              "#d8576b"
             ],
             [
              0.6666666666666666,
              "#ed7953"
             ],
             [
              0.7777777777777778,
              "#fb9f3a"
             ],
             [
              0.8888888888888888,
              "#fdca26"
             ],
             [
              1,
              "#f0f921"
             ]
            ],
            "type": "histogram2dcontour"
           }
          ],
          "mesh3d": [
           {
            "colorbar": {
             "outlinewidth": 0,
             "ticks": ""
            },
            "type": "mesh3d"
           }
          ],
          "parcoords": [
           {
            "line": {
             "colorbar": {
              "outlinewidth": 0,
              "ticks": ""
             }
            },
            "type": "parcoords"
           }
          ],
          "pie": [
           {
            "automargin": true,
            "type": "pie"
           }
          ],
          "scatter": [
           {
            "fillpattern": {
             "fillmode": "overlay",
             "size": 10,
             "solidity": 0.2
            },
            "type": "scatter"
           }
          ],
          "scatter3d": [
           {
            "line": {
             "colorbar": {
              "outlinewidth": 0,
              "ticks": ""
             }
            },
            "marker": {
             "colorbar": {
              "outlinewidth": 0,
              "ticks": ""
             }
            },
            "type": "scatter3d"
           }
          ],
          "scattercarpet": [
           {
            "marker": {
             "colorbar": {
              "outlinewidth": 0,
              "ticks": ""
             }
            },
            "type": "scattercarpet"
           }
          ],
          "scattergeo": [
           {
            "marker": {
             "colorbar": {
              "outlinewidth": 0,
              "ticks": ""
             }
            },
            "type": "scattergeo"
           }
          ],
          "scattergl": [
           {
            "marker": {
             "colorbar": {
              "outlinewidth": 0,
              "ticks": ""
             }
            },
            "type": "scattergl"
           }
          ],
          "scattermapbox": [
           {
            "marker": {
             "colorbar": {
              "outlinewidth": 0,
              "ticks": ""
             }
            },
            "type": "scattermapbox"
           }
          ],
          "scatterpolar": [
           {
            "marker": {
             "colorbar": {
              "outlinewidth": 0,
              "ticks": ""
             }
            },
            "type": "scatterpolar"
           }
          ],
          "scatterpolargl": [
           {
            "marker": {
             "colorbar": {
              "outlinewidth": 0,
              "ticks": ""
             }
            },
            "type": "scatterpolargl"
           }
          ],
          "scatterternary": [
           {
            "marker": {
             "colorbar": {
              "outlinewidth": 0,
              "ticks": ""
             }
            },
            "type": "scatterternary"
           }
          ],
          "surface": [
           {
            "colorbar": {
             "outlinewidth": 0,
             "ticks": ""
            },
            "colorscale": [
             [
              0,
              "#0d0887"
             ],
             [
              0.1111111111111111,
              "#46039f"
             ],
             [
              0.2222222222222222,
              "#7201a8"
             ],
             [
              0.3333333333333333,
              "#9c179e"
             ],
             [
              0.4444444444444444,
              "#bd3786"
             ],
             [
              0.5555555555555556,
              "#d8576b"
             ],
             [
              0.6666666666666666,
              "#ed7953"
             ],
             [
              0.7777777777777778,
              "#fb9f3a"
             ],
             [
              0.8888888888888888,
              "#fdca26"
             ],
             [
              1,
              "#f0f921"
             ]
            ],
            "type": "surface"
           }
          ],
          "table": [
           {
            "cells": {
             "fill": {
              "color": "#EBF0F8"
             },
             "line": {
              "color": "white"
             }
            },
            "header": {
             "fill": {
              "color": "#C8D4E3"
             },
             "line": {
              "color": "white"
             }
            },
            "type": "table"
           }
          ]
         },
         "layout": {
          "annotationdefaults": {
           "arrowcolor": "#2a3f5f",
           "arrowhead": 0,
           "arrowwidth": 1
          },
          "autotypenumbers": "strict",
          "coloraxis": {
           "colorbar": {
            "outlinewidth": 0,
            "ticks": ""
           }
          },
          "colorscale": {
           "diverging": [
            [
             0,
             "#8e0152"
            ],
            [
             0.1,
             "#c51b7d"
            ],
            [
             0.2,
             "#de77ae"
            ],
            [
             0.3,
             "#f1b6da"
            ],
            [
             0.4,
             "#fde0ef"
            ],
            [
             0.5,
             "#f7f7f7"
            ],
            [
             0.6,
             "#e6f5d0"
            ],
            [
             0.7,
             "#b8e186"
            ],
            [
             0.8,
             "#7fbc41"
            ],
            [
             0.9,
             "#4d9221"
            ],
            [
             1,
             "#276419"
            ]
           ],
           "sequential": [
            [
             0,
             "#0d0887"
            ],
            [
             0.1111111111111111,
             "#46039f"
            ],
            [
             0.2222222222222222,
             "#7201a8"
            ],
            [
             0.3333333333333333,
             "#9c179e"
            ],
            [
             0.4444444444444444,
             "#bd3786"
            ],
            [
             0.5555555555555556,
             "#d8576b"
            ],
            [
             0.6666666666666666,
             "#ed7953"
            ],
            [
             0.7777777777777778,
             "#fb9f3a"
            ],
            [
             0.8888888888888888,
             "#fdca26"
            ],
            [
             1,
             "#f0f921"
            ]
           ],
           "sequentialminus": [
            [
             0,
             "#0d0887"
            ],
            [
             0.1111111111111111,
             "#46039f"
            ],
            [
             0.2222222222222222,
             "#7201a8"
            ],
            [
             0.3333333333333333,
             "#9c179e"
            ],
            [
             0.4444444444444444,
             "#bd3786"
            ],
            [
             0.5555555555555556,
             "#d8576b"
            ],
            [
             0.6666666666666666,
             "#ed7953"
            ],
            [
             0.7777777777777778,
             "#fb9f3a"
            ],
            [
             0.8888888888888888,
             "#fdca26"
            ],
            [
             1,
             "#f0f921"
            ]
           ]
          },
          "colorway": [
           "#636efa",
           "#EF553B",
           "#00cc96",
           "#ab63fa",
           "#FFA15A",
           "#19d3f3",
           "#FF6692",
           "#B6E880",
           "#FF97FF",
           "#FECB52"
          ],
          "font": {
           "color": "#2a3f5f"
          },
          "geo": {
           "bgcolor": "white",
           "lakecolor": "white",
           "landcolor": "#E5ECF6",
           "showlakes": true,
           "showland": true,
           "subunitcolor": "white"
          },
          "hoverlabel": {
           "align": "left"
          },
          "hovermode": "closest",
          "mapbox": {
           "style": "light"
          },
          "paper_bgcolor": "white",
          "plot_bgcolor": "#E5ECF6",
          "polar": {
           "angularaxis": {
            "gridcolor": "white",
            "linecolor": "white",
            "ticks": ""
           },
           "bgcolor": "#E5ECF6",
           "radialaxis": {
            "gridcolor": "white",
            "linecolor": "white",
            "ticks": ""
           }
          },
          "scene": {
           "xaxis": {
            "backgroundcolor": "#E5ECF6",
            "gridcolor": "white",
            "gridwidth": 2,
            "linecolor": "white",
            "showbackground": true,
            "ticks": "",
            "zerolinecolor": "white"
           },
           "yaxis": {
            "backgroundcolor": "#E5ECF6",
            "gridcolor": "white",
            "gridwidth": 2,
            "linecolor": "white",
            "showbackground": true,
            "ticks": "",
            "zerolinecolor": "white"
           },
           "zaxis": {
            "backgroundcolor": "#E5ECF6",
            "gridcolor": "white",
            "gridwidth": 2,
            "linecolor": "white",
            "showbackground": true,
            "ticks": "",
            "zerolinecolor": "white"
           }
          },
          "shapedefaults": {
           "line": {
            "color": "#2a3f5f"
           }
          },
          "ternary": {
           "aaxis": {
            "gridcolor": "white",
            "linecolor": "white",
            "ticks": ""
           },
           "baxis": {
            "gridcolor": "white",
            "linecolor": "white",
            "ticks": ""
           },
           "bgcolor": "#E5ECF6",
           "caxis": {
            "gridcolor": "white",
            "linecolor": "white",
            "ticks": ""
           }
          },
          "title": {
           "x": 0.05
          },
          "xaxis": {
           "automargin": true,
           "gridcolor": "white",
           "linecolor": "white",
           "ticks": "",
           "title": {
            "standoff": 15
           },
           "zerolinecolor": "white",
           "zerolinewidth": 2
          },
          "yaxis": {
           "automargin": true,
           "gridcolor": "white",
           "linecolor": "white",
           "ticks": "",
           "title": {
            "standoff": 15
           },
           "zerolinecolor": "white",
           "zerolinewidth": 2
          }
         }
        },
        "updatemenus": [
         {
          "buttons": [
           {
            "args": [
             null,
             {
              "frame": {
               "duration": 500,
               "redraw": true
              },
              "fromcurrent": true,
              "mode": "immediate",
              "transition": {
               "duration": 500,
               "easing": "linear"
              }
             }
            ],
            "label": "&#9654;",
            "method": "animate"
           },
           {
            "args": [
             [
              null
             ],
             {
              "frame": {
               "duration": 0,
               "redraw": true
              },
              "fromcurrent": true,
              "mode": "immediate",
              "transition": {
               "duration": 0,
               "easing": "linear"
              }
             }
            ],
            "label": "&#9724;",
            "method": "animate"
           }
          ],
          "direction": "left",
          "pad": {
           "r": 10,
           "t": 70
          },
          "showactive": false,
          "type": "buttons",
          "x": 0.1,
          "xanchor": "right",
          "y": 0,
          "yanchor": "top"
         }
        ]
       }
      }
     },
     "metadata": {},
     "output_type": "display_data"
    }
   ],
   "source": [
    "# Plot results\n",
    "\n",
    "from attitude_planning.visualization.scanlines import animate_sim_lla\n",
    "\n",
    "animate_sim_lla(simulation)"
   ]
  },
  {
   "cell_type": "code",
   "execution_count": 7,
   "metadata": {},
   "outputs": [
    {
     "name": "stdout",
     "output_type": "stream",
     "text": [
      "[(datetime.datetime(2022, 5, 26, 21, 11, 17), 4.663290364323794), (datetime.datetime(2022, 5, 26, 21, 11, 28), 23.69711212110106), (datetime.datetime(2022, 5, 26, 21, 11, 39), 16.27059592918263), (datetime.datetime(2022, 5, 26, 21, 11, 50), 16.943510544213254), (datetime.datetime(2022, 5, 26, 21, 12, 12), 57.57496996008977), (datetime.datetime(2022, 5, 26, 21, 12, 23), 30.68694197261281), (datetime.datetime(2022, 5, 26, 21, 12, 34), -1.5051558802453695), (datetime.datetime(2022, 5, 26, 21, 12, 45), 5.198224342168949), (datetime.datetime(2022, 5, 26, 21, 12, 56), -12.547196816149869), (datetime.datetime(2022, 5, 26, 21, 13, 7), 21.362647815057596), (datetime.datetime(2022, 5, 26, 21, 13, 18), 26.003934415059483), (datetime.datetime(2022, 5, 26, 21, 13, 29), 14.382509065479953), (datetime.datetime(2022, 5, 26, 21, 13, 40), 19.12910480610364), (datetime.datetime(2022, 5, 26, 21, 13, 51), 14.979784856004997), (datetime.datetime(2022, 5, 26, 21, 14, 2), -5.174153533958555), (datetime.datetime(2022, 5, 26, 21, 14, 13), -20.46349925698231), (datetime.datetime(2022, 5, 26, 21, 14, 24), -8.379648143386108), (datetime.datetime(2022, 5, 26, 21, 14, 35), -7.938321013077855), (datetime.datetime(2022, 5, 26, 21, 14, 46), -5.363364746274518), (datetime.datetime(2022, 5, 26, 21, 14, 57), -0.22029960826941003), (datetime.datetime(2022, 5, 26, 21, 15, 8), 3.1687342413183432), (datetime.datetime(2022, 5, 26, 21, 15, 19), 6.588329612148429), (datetime.datetime(2022, 5, 26, 21, 15, 30), 8.356974250003649), (datetime.datetime(2022, 5, 26, 21, 15, 41), 8.493928207965862), (datetime.datetime(2022, 5, 26, 21, 15, 52), 8.612129011988824), (datetime.datetime(2022, 5, 26, 21, 16, 3), 7.661137280567866), (datetime.datetime(2022, 5, 26, 21, 16, 14), 5.196423894677292), (datetime.datetime(2022, 5, 26, 21, 16, 25), 1.4387009020198038), (datetime.datetime(2022, 5, 26, 21, 16, 36), -3.012004992320441), (datetime.datetime(2022, 5, 26, 21, 16, 47), -6.4544666362669), (datetime.datetime(2022, 5, 26, 21, 16, 58), -8.298993487075148), (datetime.datetime(2022, 5, 26, 21, 17, 9), -8.549333209570483), (datetime.datetime(2022, 5, 26, 21, 17, 20), -7.14973920340403), (datetime.datetime(2022, 5, 26, 21, 17, 31), -4.524014127191109), (datetime.datetime(2022, 5, 26, 21, 17, 42), -2.1006831525121674), (datetime.datetime(2022, 5, 26, 21, 17, 53), -0.8572807583784893), (datetime.datetime(2022, 5, 26, 21, 18, 4), -0.9716393126553645), (datetime.datetime(2022, 5, 26, 21, 18, 15), -1.9716401151636955), (datetime.datetime(2022, 5, 26, 21, 18, 26), -3.1331010584560905), (datetime.datetime(2022, 5, 26, 21, 18, 37), -3.878773057078116), (datetime.datetime(2022, 5, 26, 21, 18, 48), -3.994076933791778), (datetime.datetime(2022, 5, 26, 21, 18, 59), -3.603037001629878), (datetime.datetime(2022, 5, 26, 21, 19, 10), -3.019159590619539), (datetime.datetime(2022, 5, 26, 21, 19, 21), -2.5538876173085407), (datetime.datetime(2022, 5, 26, 21, 19, 32), -2.3545455264015516), (datetime.datetime(2022, 5, 26, 21, 19, 43), -2.4155691050335606), (datetime.datetime(2022, 5, 26, 21, 19, 54), -2.6280478598373858), (datetime.datetime(2022, 5, 26, 21, 20, 5), -2.839997473553676), (datetime.datetime(2022, 5, 26, 21, 20, 16), -2.939961172484427), (datetime.datetime(2022, 5, 26, 21, 20, 27), -2.910641422264141), (datetime.datetime(2022, 5, 26, 21, 20, 38), -2.793211057534811), (datetime.datetime(2022, 5, 26, 21, 20, 49), -2.6490916369203865), (datetime.datetime(2022, 5, 26, 21, 21), -2.535235234671787), (datetime.datetime(2022, 5, 26, 21, 21, 11), -2.4901149107181944), (datetime.datetime(2022, 5, 26, 21, 21, 22), -2.493295007247138), (datetime.datetime(2022, 5, 26, 21, 21, 33), -2.520213480830407), (datetime.datetime(2022, 5, 26, 21, 21, 44), -2.540509750672878), (datetime.datetime(2022, 5, 26, 21, 21, 55), -2.5428903738241364), (datetime.datetime(2022, 5, 26, 21, 22, 6), -2.512604524514275), (datetime.datetime(2022, 5, 26, 21, 22, 17), -2.453499498467017), (datetime.datetime(2022, 5, 26, 21, 22, 28), -2.3945396520704505), (datetime.datetime(2022, 5, 26, 21, 22, 39), -2.358364262917865), (datetime.datetime(2022, 5, 26, 21, 22, 50), -2.350499335235994), (datetime.datetime(2022, 5, 26, 21, 23, 1), -2.3505077358755226), (datetime.datetime(2022, 5, 26, 21, 23, 12), -2.339372449912182), (datetime.datetime(2022, 5, 26, 21, 23, 23), -2.3163937116508797), (datetime.datetime(2022, 5, 26, 21, 23, 34), -2.284039267285372), (datetime.datetime(2022, 5, 26, 21, 23, 45), -2.2457917295255334), (datetime.datetime(2022, 5, 26, 21, 23, 56), -2.2094345076401503), (datetime.datetime(2022, 5, 26, 21, 24, 7), -2.1795640922869204), (datetime.datetime(2022, 5, 26, 21, 24, 18), -2.154446095057486), (datetime.datetime(2022, 5, 26, 21, 24, 29), -2.139236836249278), (datetime.datetime(2022, 5, 26, 21, 24, 40), -2.1230024322693115), (datetime.datetime(2022, 5, 26, 21, 24, 51), -2.1139430134988135), (datetime.datetime(2022, 5, 26, 21, 25, 2), -2.108932920526009), (datetime.datetime(2022, 5, 26, 21, 25, 13), -2.087953413729051), (datetime.datetime(2022, 5, 26, 21, 25, 24), -2.0520479434858854), (datetime.datetime(2022, 5, 26, 21, 25, 35), -2.016461535565099), (datetime.datetime(2022, 5, 26, 21, 25, 46), -1.9946042102218295), (datetime.datetime(2022, 5, 26, 21, 25, 57), -1.9819274680681935), (datetime.datetime(2022, 5, 26, 21, 26, 8), -1.9620453116570278), (datetime.datetime(2022, 5, 26, 21, 26, 19), -1.940318775306788), (datetime.datetime(2022, 5, 26, 21, 26, 30), -1.9187397680027263), (datetime.datetime(2022, 5, 26, 21, 26, 41), -1.9024735220581315), (datetime.datetime(2022, 5, 26, 21, 26, 52), -1.8886181005371199), (datetime.datetime(2022, 5, 26, 21, 27, 3), -1.870293094671326), (datetime.datetime(2022, 5, 26, 21, 27, 14), -1.8485262389817307), (datetime.datetime(2022, 5, 26, 21, 27, 25), -1.8259054409673952), (datetime.datetime(2022, 5, 26, 21, 27, 36), -1.8028790027338903), (datetime.datetime(2022, 5, 26, 21, 27, 47), -1.7823943623746565), (datetime.datetime(2022, 5, 26, 21, 27, 58), -1.7570814072447491), (datetime.datetime(2022, 5, 26, 21, 28, 9), -1.7375072332517032), (datetime.datetime(2022, 5, 26, 21, 28, 20), -1.7274929497933584), (datetime.datetime(2022, 5, 26, 21, 28, 31), -1.7113878012233743), (datetime.datetime(2022, 5, 26, 21, 28, 42), -1.6901655925450432), (datetime.datetime(2022, 5, 26, 21, 28, 53), -1.6622708305487148), (datetime.datetime(2022, 5, 26, 21, 29, 4), -1.6475183169060732), (datetime.datetime(2022, 5, 26, 21, 29, 15), -1.6361015926691862), (datetime.datetime(2022, 5, 26, 21, 29, 26), -1.6235879745390809), (datetime.datetime(2022, 5, 26, 21, 29, 37), -1.608776892929119), (datetime.datetime(2022, 5, 26, 21, 29, 48), -1.586932072216111), (datetime.datetime(2022, 5, 26, 21, 29, 59), -1.563140638924324), (datetime.datetime(2022, 5, 26, 21, 30, 10), -1.5446509761577565), (datetime.datetime(2022, 5, 26, 21, 30, 21), -1.5229993735898673), (datetime.datetime(2022, 5, 26, 21, 30, 32), -1.504796663468112), (datetime.datetime(2022, 5, 26, 21, 30, 43), -1.500542454644963), (datetime.datetime(2022, 5, 26, 21, 30, 54), -1.4965398381303086), (datetime.datetime(2022, 5, 26, 21, 31, 5), -1.4843953755688353), (datetime.datetime(2022, 5, 26, 21, 31, 16), -1.458602048247511), (datetime.datetime(2022, 5, 26, 21, 31, 27), -1.4237152392090864), (datetime.datetime(2022, 5, 26, 21, 31, 38), -1.3987010986144517), (datetime.datetime(2022, 5, 26, 21, 31, 49), -1.3765825079273544), (datetime.datetime(2022, 5, 26, 21, 32), -1.3568911302728328), (datetime.datetime(2022, 5, 26, 21, 32, 11), -1.358928030038812), (datetime.datetime(2022, 5, 26, 21, 32, 22), -1.3666264306132772), (datetime.datetime(2022, 5, 26, 21, 32, 33), -1.3592415501749364), (datetime.datetime(2022, 5, 26, 21, 32, 44), -1.3339389431616295), (datetime.datetime(2022, 5, 26, 21, 32, 55), -1.308788565333559), (datetime.datetime(2022, 5, 26, 21, 33, 6), -1.2786801493958693), (datetime.datetime(2022, 5, 26, 21, 33, 17), -1.2588661186333314), (datetime.datetime(2022, 5, 26, 21, 33, 28), -1.249186249256286), (datetime.datetime(2022, 5, 26, 21, 33, 39), -1.2343006402111354), (datetime.datetime(2022, 5, 26, 21, 33, 50), -1.2261646872263066), (datetime.datetime(2022, 5, 26, 21, 34, 1), -1.2153644284994203), (datetime.datetime(2022, 5, 26, 21, 34, 12), -1.202987727939917), (datetime.datetime(2022, 5, 26, 21, 34, 23), -1.18308462597447), (datetime.datetime(2022, 5, 26, 21, 34, 34), -1.166724766084046), (datetime.datetime(2022, 5, 26, 21, 34, 45), -1.154409382801545), (datetime.datetime(2022, 5, 26, 21, 34, 56), -1.152808141932621), (datetime.datetime(2022, 5, 26, 21, 35, 7), -1.1545837600321227), (datetime.datetime(2022, 5, 26, 21, 35, 18), -1.1462020665437078), (datetime.datetime(2022, 5, 26, 21, 35, 29), -1.1283223744552286), (datetime.datetime(2022, 5, 26, 21, 35, 40), -1.1108402233318513), (datetime.datetime(2022, 5, 26, 21, 35, 51), -1.0960399419296962), (datetime.datetime(2022, 5, 26, 21, 36, 2), -1.0814819666810624), (datetime.datetime(2022, 5, 26, 21, 36, 13), -1.0662378086247284), (datetime.datetime(2022, 5, 26, 21, 36, 24), -1.059957830128059), (datetime.datetime(2022, 5, 26, 21, 36, 35), -1.0411671399155018), (datetime.datetime(2022, 5, 26, 21, 36, 46), -1.0096621226914508), (datetime.datetime(2022, 5, 26, 21, 36, 57), -0.9917056503591417), (datetime.datetime(2022, 5, 26, 21, 37, 8), -0.975568111105967), (datetime.datetime(2022, 5, 26, 21, 37, 19), -0.9561500775675377), (datetime.datetime(2022, 5, 26, 21, 37, 30), -0.9429520222389645), (datetime.datetime(2022, 5, 26, 21, 37, 41), -0.9390500959631002), (datetime.datetime(2022, 5, 26, 21, 37, 52), -0.9344234836208982), (datetime.datetime(2022, 5, 26, 21, 38, 3), -0.9255374495940522), (datetime.datetime(2022, 5, 26, 21, 38, 14), -0.9180581924853437), (datetime.datetime(2022, 5, 26, 21, 38, 25), -0.917308687289349), (datetime.datetime(2022, 5, 26, 21, 38, 36), -0.9079159186509242), (datetime.datetime(2022, 5, 26, 21, 38, 47), -0.8901871174533112), (datetime.datetime(2022, 5, 26, 21, 38, 58), -0.8803338363559352), (datetime.datetime(2022, 5, 26, 21, 39, 9), -0.8648034437604303), (datetime.datetime(2022, 5, 26, 21, 39, 20), -0.830699494917216), (datetime.datetime(2022, 5, 26, 21, 39, 31), -0.801796532207633), (datetime.datetime(2022, 5, 26, 21, 39, 42), -0.7884905482211338), (datetime.datetime(2022, 5, 26, 21, 39, 53), -0.7954813924992574), (datetime.datetime(2022, 5, 26, 21, 40, 4), -0.7975312100134928), (datetime.datetime(2022, 5, 26, 21, 40, 15), -0.7978732019872189), (datetime.datetime(2022, 5, 26, 21, 40, 26), -0.773992251182273), (datetime.datetime(2022, 5, 26, 21, 40, 37), -0.7452254473360251), (datetime.datetime(2022, 5, 26, 21, 40, 48), -0.7345011385178395), (datetime.datetime(2022, 5, 26, 21, 40, 59), -0.7427491537455411)]\n"
     ]
    },
    {
     "data": {
      "image/png": "[encoded data removed]",
      "text/plain": [
       "<Figure size 640x480 with 1 Axes>"
      ]
     },
     "metadata": {},
     "output_type": "display_data"
    }
   ],
   "source": [
    "from attitude_planning.visualization.quantity import plot_quantity, Quantity\n",
    "\n",
    "plot_quantity(simulation, Quantity.SCANLINE_ROTATION)"
   ]
  },
  {
   "cell_type": "code",
   "execution_count": 8,
   "metadata": {},
   "outputs": [
    {
     "name": "stdout",
     "output_type": "stream",
     "text": [
      "[(datetime.datetime(2022, 5, 26, 21, 11, 28), 622664.7416455856), (datetime.datetime(2022, 5, 26, 21, 11, 39), 1121985.0162489233), (datetime.datetime(2022, 5, 26, 21, 11, 50), 580741.6847553037), (datetime.datetime(2022, 5, 26, 21, 12, 23), 688700.2932417649), (datetime.datetime(2022, 5, 26, 21, 12, 34), 291625.1268404873), (datetime.datetime(2022, 5, 26, 21, 12, 45), 405531.5656655451), (datetime.datetime(2022, 5, 26, 21, 12, 56), 591755.6235842337), (datetime.datetime(2022, 5, 26, 21, 13, 7), 274540.6898389236), (datetime.datetime(2022, 5, 26, 21, 13, 18), 118954.60420644353), (datetime.datetime(2022, 5, 26, 21, 13, 29), 48297.630499410625), (datetime.datetime(2022, 5, 26, 21, 13, 40), 54924.573855963), (datetime.datetime(2022, 5, 26, 21, 13, 51), 224160.29151466987), (datetime.datetime(2022, 5, 26, 21, 14, 2), 209231.76327568726), (datetime.datetime(2022, 5, 26, 21, 14, 13), 146875.1714551201), (datetime.datetime(2022, 5, 26, 21, 14, 24), 477024.3407845947), (datetime.datetime(2022, 5, 26, 21, 14, 35), 264421.61856204935), (datetime.datetime(2022, 5, 26, 21, 14, 46), 124646.91378413237), (datetime.datetime(2022, 5, 26, 21, 14, 57), 55935.848241681204), (datetime.datetime(2022, 5, 26, 21, 15, 8), 8534.753542999337), (datetime.datetime(2022, 5, 26, 21, 15, 19), 52591.43215395743), (datetime.datetime(2022, 5, 26, 21, 15, 30), 47489.25822848672), (datetime.datetime(2022, 5, 26, 21, 15, 41), 60594.12692558013), (datetime.datetime(2022, 5, 26, 21, 15, 52), 98766.86759920575), (datetime.datetime(2022, 5, 26, 21, 16, 3), 112518.00063469488), (datetime.datetime(2022, 5, 26, 21, 16, 14), 102964.02847518469), (datetime.datetime(2022, 5, 26, 21, 16, 25), 85116.03343096511), (datetime.datetime(2022, 5, 26, 21, 16, 36), 74936.01912460166), (datetime.datetime(2022, 5, 26, 21, 16, 47), 70965.90628524634), (datetime.datetime(2022, 5, 26, 21, 16, 58), 63360.67748219391), (datetime.datetime(2022, 5, 26, 21, 17, 9), 67067.03422037995), (datetime.datetime(2022, 5, 26, 21, 17, 20), 79818.5314586171), (datetime.datetime(2022, 5, 26, 21, 17, 31), 88616.82213288119), (datetime.datetime(2022, 5, 26, 21, 17, 42), 86976.5387107032), (datetime.datetime(2022, 5, 26, 21, 17, 53), 83707.07730040958), (datetime.datetime(2022, 5, 26, 21, 18, 4), 80458.71209087403), (datetime.datetime(2022, 5, 26, 21, 18, 15), 77151.46138735961), (datetime.datetime(2022, 5, 26, 21, 18, 26), 75612.78415746802), (datetime.datetime(2022, 5, 26, 21, 18, 37), 75146.52123996153), (datetime.datetime(2022, 5, 26, 21, 18, 48), 75639.07390572246), (datetime.datetime(2022, 5, 26, 21, 18, 59), 77367.59559229838), (datetime.datetime(2022, 5, 26, 21, 19, 10), 78540.52085841866), (datetime.datetime(2022, 5, 26, 21, 19, 21), 79003.07458594245), (datetime.datetime(2022, 5, 26, 21, 19, 32), 78356.72009741093), (datetime.datetime(2022, 5, 26, 21, 19, 43), 77881.34647190585), (datetime.datetime(2022, 5, 26, 21, 19, 54), 77463.28837860045), (datetime.datetime(2022, 5, 26, 21, 20, 5), 77361.16243781547), (datetime.datetime(2022, 5, 26, 21, 20, 16), 76466.05999896732), (datetime.datetime(2022, 5, 26, 21, 20, 27), 77332.69013258695), (datetime.datetime(2022, 5, 26, 21, 20, 38), 77826.71799163357), (datetime.datetime(2022, 5, 26, 21, 20, 49), 77573.36686395021), (datetime.datetime(2022, 5, 26, 21, 21), 77454.59066817704), (datetime.datetime(2022, 5, 26, 21, 21, 11), 77981.40277660922), (datetime.datetime(2022, 5, 26, 21, 21, 22), 77316.2735908706), (datetime.datetime(2022, 5, 26, 21, 21, 33), 77405.75907678032), (datetime.datetime(2022, 5, 26, 21, 21, 44), 77318.44656702458), (datetime.datetime(2022, 5, 26, 21, 21, 55), 77576.20336591481), (datetime.datetime(2022, 5, 26, 21, 22, 6), 77480.67369630418), (datetime.datetime(2022, 5, 26, 21, 22, 17), 77540.80339048937), (datetime.datetime(2022, 5, 26, 21, 22, 28), 77674.27476257131), (datetime.datetime(2022, 5, 26, 21, 22, 39), 77187.32556039198), (datetime.datetime(2022, 5, 26, 21, 22, 50), 77496.91606093658), (datetime.datetime(2022, 5, 26, 21, 23, 1), 77706.572786451), (datetime.datetime(2022, 5, 26, 21, 23, 12), 77317.90125222209), (datetime.datetime(2022, 5, 26, 21, 23, 23), 77447.093872987), (datetime.datetime(2022, 5, 26, 21, 23, 34), 77574.84294525489), (datetime.datetime(2022, 5, 26, 21, 23, 45), 77376.8951306531), (datetime.datetime(2022, 5, 26, 21, 23, 56), 77396.470566406), (datetime.datetime(2022, 5, 26, 21, 24, 7), 77518.31048706915), (datetime.datetime(2022, 5, 26, 21, 24, 18), 77315.05471976183), (datetime.datetime(2022, 5, 26, 21, 24, 29), 77398.4050131872), (datetime.datetime(2022, 5, 26, 21, 24, 40), 77580.20892728322), (datetime.datetime(2022, 5, 26, 21, 24, 51), 77316.29758641242), (datetime.datetime(2022, 5, 26, 21, 25, 2), 77413.52336509494), (datetime.datetime(2022, 5, 26, 21, 25, 13), 77522.52365553271), (datetime.datetime(2022, 5, 26, 21, 25, 24), 77427.31464891687), (datetime.datetime(2022, 5, 26, 21, 25, 35), 77443.02817359289), (datetime.datetime(2022, 5, 26, 21, 25, 46), 77521.41258785254), (datetime.datetime(2022, 5, 26, 21, 25, 57), 77048.24223496245), (datetime.datetime(2022, 5, 26, 21, 26, 8), 77628.71802047516), (datetime.datetime(2022, 5, 26, 21, 26, 19), 77445.17900387541), (datetime.datetime(2022, 5, 26, 21, 26, 30), 77330.16048175158), (datetime.datetime(2022, 5, 26, 21, 26, 41), 77423.52039708113), (datetime.datetime(2022, 5, 26, 21, 26, 52), 77473.31404504088), (datetime.datetime(2022, 5, 26, 21, 27, 3), 77474.51633405247), (datetime.datetime(2022, 5, 26, 21, 27, 14), 77322.78391196617), (datetime.datetime(2022, 5, 26, 21, 27, 25), 77291.94206173028), (datetime.datetime(2022, 5, 26, 21, 27, 36), 77490.92336707997), (datetime.datetime(2022, 5, 26, 21, 27, 47), 77428.24876490491), (datetime.datetime(2022, 5, 26, 21, 27, 58), 77222.59523675153), (datetime.datetime(2022, 5, 26, 21, 28, 9), 77549.43132538971), (datetime.datetime(2022, 5, 26, 21, 28, 20), 77093.3505373417), (datetime.datetime(2022, 5, 26, 21, 28, 31), 77333.45991258306), (datetime.datetime(2022, 5, 26, 21, 28, 42), 77583.1782525731), (datetime.datetime(2022, 5, 26, 21, 28, 53), 77387.61188288595), (datetime.datetime(2022, 5, 26, 21, 29, 4), 77288.24941452082), (datetime.datetime(2022, 5, 26, 21, 29, 15), 77329.4044867948), (datetime.datetime(2022, 5, 26, 21, 29, 26), 77571.5135265273), (datetime.datetime(2022, 5, 26, 21, 29, 37), 77164.78774103455), (datetime.datetime(2022, 5, 26, 21, 29, 48), 77333.49839472174), (datetime.datetime(2022, 5, 26, 21, 29, 59), 77307.00013380447), (datetime.datetime(2022, 5, 26, 21, 30, 10), 77230.95030789367), (datetime.datetime(2022, 5, 26, 21, 30, 21), 77426.16586998783), (datetime.datetime(2022, 5, 26, 21, 30, 32), 77317.46354749592), (datetime.datetime(2022, 5, 26, 21, 30, 43), 77528.76654659031), (datetime.datetime(2022, 5, 26, 21, 30, 54), 77068.2891523973), (datetime.datetime(2022, 5, 26, 21, 31, 5), 77485.06728683347), (datetime.datetime(2022, 5, 26, 21, 31, 16), 77338.48330164466), (datetime.datetime(2022, 5, 26, 21, 31, 27), 77265.85769837332), (datetime.datetime(2022, 5, 26, 21, 31, 38), 77311.47730794197), (datetime.datetime(2022, 5, 26, 21, 31, 49), 77165.39655373666), (datetime.datetime(2022, 5, 26, 21, 32), 77445.79290448679), (datetime.datetime(2022, 5, 26, 21, 32, 11), 77351.48900966879), (datetime.datetime(2022, 5, 26, 21, 32, 22), 77368.89927359365), (datetime.datetime(2022, 5, 26, 21, 32, 33), 77246.51282847817), (datetime.datetime(2022, 5, 26, 21, 32, 44), 77421.87960935937), (datetime.datetime(2022, 5, 26, 21, 32, 55), 77067.55530989576), (datetime.datetime(2022, 5, 26, 21, 33, 6), 77264.9747567699), (datetime.datetime(2022, 5, 26, 21, 33, 17), 77097.5088567502), (datetime.datetime(2022, 5, 26, 21, 33, 28), 77403.50619022205), (datetime.datetime(2022, 5, 26, 21, 33, 39), 77381.29266990308), (datetime.datetime(2022, 5, 26, 21, 33, 50), 77368.03620287815), (datetime.datetime(2022, 5, 26, 21, 34, 1), 77283.79638108975), (datetime.datetime(2022, 5, 26, 21, 34, 12), 77021.03814324322), (datetime.datetime(2022, 5, 26, 21, 34, 23), 77245.57246948977), (datetime.datetime(2022, 5, 26, 21, 34, 34), 77364.3371113653), (datetime.datetime(2022, 5, 26, 21, 34, 45), 77351.61807010003), (datetime.datetime(2022, 5, 26, 21, 34, 56), 77178.81352577051), (datetime.datetime(2022, 5, 26, 21, 35, 7), 77485.29284721588), (datetime.datetime(2022, 5, 26, 21, 35, 18), 77315.31379958372), (datetime.datetime(2022, 5, 26, 21, 35, 29), 76869.23865248481), (datetime.datetime(2022, 5, 26, 21, 35, 40), 77260.40132321736), (datetime.datetime(2022, 5, 26, 21, 35, 51), 77229.17560761674), (datetime.datetime(2022, 5, 26, 21, 36, 2), 77258.04267602296), (datetime.datetime(2022, 5, 26, 21, 36, 13), 77643.24040956801), (datetime.datetime(2022, 5, 26, 21, 36, 24), 77165.33450295101), (datetime.datetime(2022, 5, 26, 21, 36, 35), 77127.68791171796), (datetime.datetime(2022, 5, 26, 21, 36, 46), 77256.09976601851), (datetime.datetime(2022, 5, 26, 21, 36, 57), 77352.32569495456), (datetime.datetime(2022, 5, 26, 21, 37, 8), 77383.92606315081), (datetime.datetime(2022, 5, 26, 21, 37, 19), 77314.1824003135), (datetime.datetime(2022, 5, 26, 21, 37, 30), 77176.97664120037), (datetime.datetime(2022, 5, 26, 21, 37, 41), 77106.12336565374), (datetime.datetime(2022, 5, 26, 21, 37, 52), 77201.17946744632), (datetime.datetime(2022, 5, 26, 21, 38, 3), 77263.72566700632), (datetime.datetime(2022, 5, 26, 21, 38, 14), 77304.30938615516), (datetime.datetime(2022, 5, 26, 21, 38, 25), 77017.82890041322), (datetime.datetime(2022, 5, 26, 21, 38, 36), 77291.95717613141), (datetime.datetime(2022, 5, 26, 21, 38, 47), 77383.9914746099), (datetime.datetime(2022, 5, 26, 21, 38, 58), 77051.7748812203), (datetime.datetime(2022, 5, 26, 21, 39, 9), 77172.49242891403), (datetime.datetime(2022, 5, 26, 21, 39, 20), 77327.28688066803), (datetime.datetime(2022, 5, 26, 21, 39, 31), 77270.05559796291), (datetime.datetime(2022, 5, 26, 21, 39, 42), 77182.82344147902), (datetime.datetime(2022, 5, 26, 21, 39, 53), 77215.05148788364), (datetime.datetime(2022, 5, 26, 21, 40, 4), 77258.78144266766), (datetime.datetime(2022, 5, 26, 21, 40, 15), 77311.46633780864), (datetime.datetime(2022, 5, 26, 21, 40, 26), 77164.07173733137), (datetime.datetime(2022, 5, 26, 21, 40, 37), 77377.45347420959), (datetime.datetime(2022, 5, 26, 21, 40, 48), 77132.49509211723), (datetime.datetime(2022, 5, 26, 21, 40, 59), 77138.51909756321)]\n"
     ]
    },
    {
     "data": {
      "image/png": "[encoded data removed]",
      "text/plain": [
       "<Figure size 640x480 with 1 Axes>"
      ]
     },
     "metadata": {},
     "output_type": "display_data"
    }
   ],
   "source": [
    "plot_quantity(simulation, Quantity.SCANLINE_INTERVAL)"
   ]
  }
 ],
 "metadata": {
  "kernelspec": {
   "display_name": ".venv",
   "language": "python",
   "name": "python3"
  },
  "language_info": {
   "codemirror_mode": {
    "name": "ipython",
    "version": 3
   },
   "file_extension": ".py",
   "mimetype": "text/x-python",
   "name": "python",
   "nbconvert_exporter": "python",
   "pygments_lexer": "ipython3",
   "version": "3.9.6"
  }
 },
 "nbformat": 4,
 "nbformat_minor": 2
}
